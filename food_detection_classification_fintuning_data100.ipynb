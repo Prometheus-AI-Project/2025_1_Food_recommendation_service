{
  "nbformat": 4,
  "nbformat_minor": 0,
  "metadata": {
    "colab": {
      "provenance": [],
      "gpuType": "T4"
    },
    "kernelspec": {
      "name": "python3",
      "display_name": "Python 3"
    },
    "language_info": {
      "name": "python"
    },
    "accelerator": "GPU"
  },
  "cells": [
    {
      "cell_type": "code",
      "execution_count": 1,
      "metadata": {
        "colab": {
          "base_uri": "https://localhost:8080/"
        },
        "id": "atXc5gZKaQ-5",
        "outputId": "76fcb948-4a31-42b0-c919-4ad520de61a4"
      },
      "outputs": [
        {
          "output_type": "stream",
          "name": "stdout",
          "text": [
            "\u001b[2K   \u001b[90m━━━━━━━━━━━━━━━━━━━━━━━━━━━━━━━━━━━━━━━━\u001b[0m \u001b[32m1.0/1.0 MB\u001b[0m \u001b[31m27.1 MB/s\u001b[0m eta \u001b[36m0:00:00\u001b[0m\n",
            "\u001b[2K   \u001b[90m━━━━━━━━━━━━━━━━━━━━━━━━━━━━━━━━━━━━━━━━\u001b[0m \u001b[32m363.4/363.4 MB\u001b[0m \u001b[31m4.5 MB/s\u001b[0m eta \u001b[36m0:00:00\u001b[0m\n",
            "\u001b[2K   \u001b[90m━━━━━━━━━━━━━━━━━━━━━━━━━━━━━━━━━━━━━━━━\u001b[0m \u001b[32m13.8/13.8 MB\u001b[0m \u001b[31m120.2 MB/s\u001b[0m eta \u001b[36m0:00:00\u001b[0m\n",
            "\u001b[2K   \u001b[90m━━━━━━━━━━━━━━━━━━━━━━━━━━━━━━━━━━━━━━━━\u001b[0m \u001b[32m24.6/24.6 MB\u001b[0m \u001b[31m95.6 MB/s\u001b[0m eta \u001b[36m0:00:00\u001b[0m\n",
            "\u001b[2K   \u001b[90m━━━━━━━━━━━━━━━━━━━━━━━━━━━━━━━━━━━━━━━━\u001b[0m \u001b[32m883.7/883.7 kB\u001b[0m \u001b[31m55.0 MB/s\u001b[0m eta \u001b[36m0:00:00\u001b[0m\n",
            "\u001b[2K   \u001b[90m━━━━━━━━━━━━━━━━━━━━━━━━━━━━━━━━━━━━━━━━\u001b[0m \u001b[32m664.8/664.8 MB\u001b[0m \u001b[31m2.3 MB/s\u001b[0m eta \u001b[36m0:00:00\u001b[0m\n",
            "\u001b[2K   \u001b[90m━━━━━━━━━━━━━━━━━━━━━━━━━━━━━━━━━━━━━━━━\u001b[0m \u001b[32m211.5/211.5 MB\u001b[0m \u001b[31m4.7 MB/s\u001b[0m eta \u001b[36m0:00:00\u001b[0m\n",
            "\u001b[2K   \u001b[90m━━━━━━━━━━━━━━━━━━━━━━━━━━━━━━━━━━━━━━━━\u001b[0m \u001b[32m56.3/56.3 MB\u001b[0m \u001b[31m14.8 MB/s\u001b[0m eta \u001b[36m0:00:00\u001b[0m\n",
            "\u001b[2K   \u001b[90m━━━━━━━━━━━━━━━━━━━━━━━━━━━━━━━━━━━━━━━━\u001b[0m \u001b[32m127.9/127.9 MB\u001b[0m \u001b[31m7.3 MB/s\u001b[0m eta \u001b[36m0:00:00\u001b[0m\n",
            "\u001b[2K   \u001b[90m━━━━━━━━━━━━━━━━━━━━━━━━━━━━━━━━━━━━━━━━\u001b[0m \u001b[32m207.5/207.5 MB\u001b[0m \u001b[31m6.4 MB/s\u001b[0m eta \u001b[36m0:00:00\u001b[0m\n",
            "\u001b[2K   \u001b[90m━━━━━━━━━━━━━━━━━━━━━━━━━━━━━━━━━━━━━━━━\u001b[0m \u001b[32m21.1/21.1 MB\u001b[0m \u001b[31m108.4 MB/s\u001b[0m eta \u001b[36m0:00:00\u001b[0m\n",
            "\u001b[?25h  Preparing metadata (setup.py) ... \u001b[?25l\u001b[?25hdone\n",
            "\u001b[2K   \u001b[90m━━━━━━━━━━━━━━━━━━━━━━━━━━━━━━━━━━━━━━━━\u001b[0m \u001b[32m44.8/44.8 kB\u001b[0m \u001b[31m2.6 MB/s\u001b[0m eta \u001b[36m0:00:00\u001b[0m\n",
            "\u001b[?25h  Building wheel for clip (setup.py) ... \u001b[?25l\u001b[?25hdone\n"
          ]
        }
      ],
      "source": [
        "# 필수 라이브러리 설치\n",
        "!pip install --quiet ultralytics transformers torch torchvision scikit-learn pillow\n",
        "!pip install --quiet ftfy regex tqdm git+https://github.com/openai/CLIP.git\n"
      ]
    },
    {
      "cell_type": "code",
      "source": [
        "# 1) Google Drive 마운트\n",
        "from google.colab import drive\n",
        "drive.mount('/content/drive', force_remount=True)\n",
        "\n",
        "import os, shutil\n",
        "from concurrent.futures import ThreadPoolExecutor\n",
        "from ultralytics import YOLO\n",
        "import zipfile"
      ],
      "metadata": {
        "colab": {
          "base_uri": "https://localhost:8080/"
        },
        "id": "QdxQ_csygKNU",
        "outputId": "e3533f73-9df8-49ce-9f5a-591c3c084186"
      },
      "execution_count": 2,
      "outputs": [
        {
          "output_type": "stream",
          "name": "stdout",
          "text": [
            "Mounted at /content/drive\n",
            "Creating new Ultralytics Settings v0.0.6 file ✅ \n",
            "View Ultralytics Settings with 'yolo settings' or at '/root/.config/Ultralytics/settings.json'\n",
            "Update Settings with 'yolo settings key=value', i.e. 'yolo settings runs_dir=path/to/dir'. For help see https://docs.ultralytics.com/quickstart/#ultralytics-settings.\n"
          ]
        }
      ]
    },
    {
      "cell_type": "code",
      "source": [
        "# ─── 경로 설정 ───────────────────────────────────────────────────────\n",
        "zip_path    = '/content/drive/MyDrive/prometheus/Archive(2).zip'\n",
        "extract_dir = '/content/data_extracted'\n",
        "dataset_dir = '/content/dataset'\n",
        "train_img   = os.path.join(dataset_dir, 'images/train')\n",
        "train_lbl   = os.path.join(dataset_dir, 'labels/train')\n",
        "test_img    = os.path.join(dataset_dir, 'images/test')"
      ],
      "metadata": {
        "id": "WmDdyeajgL-L"
      },
      "execution_count": 3,
      "outputs": []
    },
    {
      "cell_type": "code",
      "source": [
        "# ─── 기존 데이터 제거 후 디렉토리 재생성 ──────────────────────────────\n",
        "shutil.rmtree(dataset_dir, ignore_errors=True)\n",
        "shutil.rmtree(extract_dir, ignore_errors=True)\n",
        "os.makedirs(train_img, exist_ok=True)\n",
        "os.makedirs(train_lbl, exist_ok=True)\n",
        "os.makedirs(test_img, exist_ok=True)"
      ],
      "metadata": {
        "id": "o15jz2UpmSL9"
      },
      "execution_count": 4,
      "outputs": []
    },
    {
      "cell_type": "code",
      "source": [
        "# 3) ZIP 압축 해제\n",
        "with zipfile.ZipFile(zip_path, 'r') as z:\n",
        "    z.extractall(extract_dir)\n"
      ],
      "metadata": {
        "id": "zelPGHRAgMxv"
      },
      "execution_count": 5,
      "outputs": []
    },
    {
      "cell_type": "code",
      "source": [
        "# ─── 1) 클래스 루트 자동 감지 ─────────────────────────────────────────\n",
        "subdirs = [\n",
        "    d for d in os.listdir(extract_dir)\n",
        "    if os.path.isdir(os.path.join(extract_dir, d))\n",
        "]\n",
        "if len(subdirs) == 1:\n",
        "    class_root = os.path.join(extract_dir, subdirs[0])\n",
        "else:\n",
        "    class_root = extract_dir\n",
        "\n",
        "# ─── 2) 실제 클래스 디렉터리 로드 ────────────────────────────────────\n",
        "class_dirs = sorted([\n",
        "    d for d in os.listdir(class_root)\n",
        "    if os.path.isdir(os.path.join(class_root, d))\n",
        "])\n",
        "print(\"클래스 개수:\", len(class_dirs))\n"
      ],
      "metadata": {
        "colab": {
          "base_uri": "https://localhost:8080/"
        },
        "id": "EeaC9I8HgO2T",
        "outputId": "0d9274c3-56d1-4a38-a1ce-81807e0c73c6"
      },
      "execution_count": 6,
      "outputs": [
        {
          "output_type": "stream",
          "name": "stdout",
          "text": [
            "클래스 개수: 98\n"
          ]
        }
      ]
    },
    {
      "cell_type": "code",
      "source": [
        "def find_deepest_folder(folder):\n",
        "    while True:\n",
        "        subdirs = [\n",
        "            d for d in os.listdir(folder)\n",
        "            if os.path.isdir(os.path.join(folder, d)) and not d.startswith('.')\n",
        "        ]\n",
        "        if len(subdirs) == 1:\n",
        "            folder = os.path.join(folder, subdirs[0])\n",
        "        else:\n",
        "            break\n",
        "    return folder\n",
        "\n",
        "# 그 다음 라벨 개수 분석\n",
        "from collections import defaultdict\n",
        "\n",
        "label_count = defaultdict(int)\n",
        "\n",
        "for cls in class_dirs:\n",
        "    cls_folder = find_deepest_folder(os.path.join(class_root, cls))\n",
        "    files = os.listdir(cls_folder)\n",
        "    txts = [f for f in files if f.endswith('.txt')]\n",
        "    label_count[cls] = len(txts)\n",
        "\n",
        "# 출력\n",
        "print(\"⚠️ 클래스별 라벨 수 요약:\")\n",
        "for cls, count in sorted(label_count.items(), key=lambda x: x[1]):\n",
        "    print(f\"{cls}: {count}개\")\n",
        "\n",
        "total = sum(label_count.values())\n",
        "avg = total / len(label_count)\n",
        "print(f\"\\n총 라벨 수: {total}개, 클래스당 평균: {avg:.2f}개\")\n"
      ],
      "metadata": {
        "colab": {
          "base_uri": "https://localhost:8080/"
        },
        "id": "wwTmL3zwsQWO",
        "outputId": "e1a60499-fcb5-4a66-da4f-878153124ac0"
      },
      "execution_count": 14,
      "outputs": [
        {
          "output_type": "stream",
          "name": "stdout",
          "text": [
            "⚠️ 클래스별 라벨 수 요약:\n",
            "Sweet rice drink: 100개\n",
            "Pollack Jjigae: 101개\n",
            "Pumpkin pancake: 101개\n",
            "Seasoned chicken: 101개\n",
            "Spicy fermented skate salad: 101개\n",
            "Young radish kimchi: 101개\n",
            "Korean Meat Patties: 102개\n",
            "Pork back-bone stew: 102개\n",
            "Potato pancake: 102개\n",
            "Pumpkin porridge: 102개\n",
            "Rice cake-Dumpling soup: 102개\n",
            "Rice skewers: 102개\n",
            "Scallion Pancake: 102개\n",
            "Seasoned bean sprouts: 102개\n",
            "Seasoned cockle clams: 102개\n",
            "Seasoned soybean sprouts: 102개\n",
            "Short rib soup: 102개\n",
            "Shredded daikon: 102개\n",
            "Sliced boiled meat: 102개\n",
            "Sliced radish kimchi: 102개\n",
            "Soft tofu stew: 102개\n",
            "Soy Sauce Marinated Crab: 102개\n",
            "Soy braised soybeans: 102개\n",
            "Soybean noodle soup: 102개\n",
            "Soybean paste soup: 102개\n",
            "Soybean paste stew: 102개\n",
            "Spicy Braised Chicken: 102개\n",
            "Spicy Braised Seafood: 102개\n",
            "Spicy Marinated Crab: 102개\n",
            "Spicy chicken soup: 102개\n",
            "Spicy fish stew: 102개\n",
            "Spicy raw fish salad: 102개\n",
            "Spicy rice cake: 102개\n",
            "Spicy seafood noodle soup: 102개\n",
            "Spicy stir fried pork: 102개\n",
            "Steamed eggs: 102개\n",
            "Stir fried anchovies: 102개\n",
            "Stir fried eggplant: 102개\n",
            "Stir fried fish cake: 102개\n",
            "Stir fried glass noodles: 102개\n",
            "Stir fried sausage: 102개\n",
            "Stir fried seaweed stems: 102개\n",
            "Stir fried shredded squid: 102개\n",
            "Stir fried spicy seasoned dried squid: 102개\n",
            "Stir fried zucchini: 102개\n",
            "Stir-fried chili peppers: 102개\n",
            "Stir-fried shredded potatoes: 102개\n",
            "Sttir fried dried shrimp: 102개\n",
            "Sundae sausage: 102개\n",
            "Sweet rice balls: 102개\n",
            "Tofu with kimchi: 102개\n",
            "White kimchi: 102개\n",
            "Young radish noddle soup: 102개\n",
            "Honey rice cake: 103개\n",
            "Knife-cut noodle soup: 103개\n",
            "Korean braised chicken: 103개\n",
            "Korean crescent rice cakes: 103개\n",
            "Korean sweet rice with nuts: 103개\n",
            "Korean traditional cookie: 103개\n",
            "Loach soup: 103개\n",
            "Ox bone soup: 103개\n",
            "Pickled Perilla Leaves: 103개\n",
            "Abalone porridge: 104개\n",
            "Braised kimchi: 104개\n",
            "Honey cookie: 104개\n",
            "Kimchi Jiggae: 104개\n",
            "Kimchi pancake: 104개\n",
            "Korean rolled omelette: 104개\n",
            "Mixed Cold Noodles: 104개\n",
            "Pig feet: 104개\n",
            "Seasoned fernbrake: 104개\n",
            "Acorn jelly salad: 105개\n",
            "Bean sprouts soup: 105개\n",
            "Black Bean Noodles: 105개\n",
            "Boiled pork wrap: 105개\n",
            "Braised Tofu: 105개\n",
            "Fried peppers: 105개\n",
            "Hot spicy meat stew: 105개\n",
            "Beef tripe hot pot: 106개\n",
            "Buckwheat noodles: 106개\n",
            "Cabbage kimchi: 106개\n",
            "Chewy noodles: 106개\n",
            "Cold Noodle Soup: 106개\n",
            "Egg soup: 106개\n",
            "Fried egg: 106개\n",
            "Fried shrimp: 106개\n",
            "Fried squid: 106개\n",
            "Hand-pulled Dough Soup: 106개\n",
            "Braised Cutlassfish: 107개\n",
            "Braised short ribs: 107개\n",
            "Dumplings: 107개\n",
            "Feast noodles: 107개\n",
            "Fish Pancakes: 107개\n",
            "Fried chicken: 107개\n",
            "Ginseng chicken soup: 107개\n",
            "Braised Mackerel: 108개\n",
            "Braised Saury: 108개\n",
            "Braised potato dish: 108개\n",
            "\n",
            "총 라벨 수: 10130개, 클래스당 평균: 103.37개\n"
          ]
        }
      ]
    },
    {
      "cell_type": "code",
      "source": [
        "# 클래스 디렉토리 내 실제 이미지 파일이 들어있는 폴더 추적\n",
        "def find_deepest_folder(folder):\n",
        "    # 예: Abalone porridge → Abalone porridge/Abalone porridge → jpg 파일 존재\n",
        "    while True:\n",
        "        sub = os.listdir(folder)\n",
        "        subdirs = [f for f in sub if os.path.isdir(os.path.join(folder, f)) and not f.startswith('.')]\n",
        "        if len(subdirs) == 1:\n",
        "            folder = os.path.join(folder, subdirs[0])\n",
        "        else:\n",
        "            break\n",
        "    return folder\n",
        "\n",
        "# ─── 클래스별 이미지/레이블 정리 (100장만 학습용) ─────────────────────\n",
        "with ThreadPoolExecutor(max_workers=8) as ex:\n",
        "    for cls in class_dirs:\n",
        "        raw_folder = os.path.join(class_root, cls)\n",
        "        cls_folder = find_deepest_folder(raw_folder)  # 이중 폴더 처리\n",
        "\n",
        "        files = sorted(os.listdir(cls_folder))\n",
        "\n",
        "        # 모든 .jpg와 .txt 쌍 수집\n",
        "        paired = [(f, f[:-4] + '.txt') for f in files if f.endswith('.jpg') and f[:-4] + '.txt' in files]\n",
        "\n",
        "        learned = set()\n",
        "        for img, txt in paired:  # ✅ 변경된 부분: 모든 레이블 이미지 사용\n",
        "            learned.add(img)\n",
        "            src_img = os.path.join(cls_folder, img)\n",
        "            src_lbl = os.path.join(cls_folder, txt)\n",
        "            dst_img = os.path.join(train_img, f'{cls}_{img}')\n",
        "            dst_lbl = os.path.join(train_lbl, f'{cls}_{txt}')\n",
        "            ex.submit(shutil.copy, src_img, dst_img)\n",
        "            ex.submit(shutil.copy, src_lbl, dst_lbl)\n",
        "\n",
        "        # 나머지 .jpg → 테스트 이미지로 복사\n",
        "        for f in files:\n",
        "            if f.endswith('.jpg') and f not in learned:\n",
        "                src = os.path.join(cls_folder, f)\n",
        "                dst = os.path.join(test_img, f'{cls}_{f}')\n",
        "                ex.submit(shutil.copy, src, dst)\n",
        "\n",
        "# ─── 개수 확인 ────────────────────────────────────────────────────────\n",
        "print(\"▶ 학습용 이미지 수:\", len(os.listdir(train_img)))\n",
        "print(\"▶ 학습용 라벨 수 :\", len(os.listdir(train_lbl)))\n",
        "print(\"▶ 테스트 이미지 수:\", len(os.listdir(test_img)))"
      ],
      "metadata": {
        "colab": {
          "base_uri": "https://localhost:8080/"
        },
        "id": "XCogb5TEmXQc",
        "outputId": "24647faa-a0e8-43bd-f841-245f80a6d7a2"
      },
      "execution_count": 15,
      "outputs": [
        {
          "output_type": "stream",
          "name": "stdout",
          "text": [
            "▶ 학습용 이미지 수: 9265\n",
            "▶ 학습용 라벨 수 : 9265\n",
            "▶ 테스트 이미지 수: 18674\n"
          ]
        }
      ]
    },
    {
      "cell_type": "code",
      "source": [
        "# dataset.yaml 생성 (YOLOv8 학습 설정)\n",
        "yaml_path = '/content/dataset.yaml'\n",
        "with open(yaml_path, 'w') as f:\n",
        "    f.write(f\"\"\"\n",
        "path: /content/dataset\n",
        "train: images/train\n",
        "val: images/train\n",
        "names: [{\", \".join(f'\"{cls}\"' for cls in class_dirs)}]\n",
        "\"\"\")\n",
        "\n",
        "print(f\"✅ dataset.yaml 생성 완료 → {yaml_path}\")\n"
      ],
      "metadata": {
        "id": "oBGryRgLgRCg",
        "colab": {
          "base_uri": "https://localhost:8080/"
        },
        "outputId": "5790b69b-5588-47a0-f635-dd60db48598c"
      },
      "execution_count": null,
      "outputs": [
        {
          "output_type": "stream",
          "name": "stdout",
          "text": [
            "✅ dataset.yaml 생성 완료 → /content/dataset.yaml\n"
          ]
        }
      ]
    },
    {
      "cell_type": "code",
      "source": [
        "!ls /content | grep dataset.yaml\n"
      ],
      "metadata": {
        "colab": {
          "base_uri": "https://localhost:8080/"
        },
        "id": "rq45Zva54Po7",
        "outputId": "42df9b0d-04a2-4bed-9cb0-fc5d51c57def"
      },
      "execution_count": null,
      "outputs": [
        {
          "output_type": "stream",
          "name": "stdout",
          "text": [
            "dataset.yaml\n"
          ]
        }
      ]
    },
    {
      "cell_type": "code",
      "source": [
        "from ultralytics import YOLO\n",
        "import os\n",
        "\n",
        "# 모델 초기화 (사전학습된 yolov8s 사용)\n",
        "model = YOLO('yolov8s.pt')\n",
        "\n",
        "# 클래스 이름 등록 (dataset.yaml과 일치)\n",
        "model.model.names = class_dirs\n",
        "\n",
        "# 경로 설정\n",
        "drive_root = '/content/drive/MyDrive/prometheus'\n",
        "\n",
        "# 모델 훈련\n",
        "results = model.train(\n",
        "    data='/content/dataset.yaml',         # ✅ yaml 경로 정확히 지정\n",
        "    epochs=100,\n",
        "    imgsz=640,\n",
        "    batch=32,\n",
        "    lr0=0.001,\n",
        "    lrf=0.2,\n",
        "    cos_lr=True,\n",
        "    augment=True,\n",
        "    mosaic=1.0,\n",
        "    mixup=0.2,\n",
        "    copy_paste=0.3,\n",
        "    auto_augment='albumentations',\n",
        "    patience=30,\n",
        "    val=True,\n",
        "    split=0.15,                           # 학습 이미지 중 15%는 validation\n",
        "    project=os.path.join(drive_root, 'models'),\n",
        "    name='yolov8_all_labeled'             # ✅ 이름도 \"100 labels\" → \"all labeled\"로 더 정확하게 변경\n",
        ")\n",
        "\n",
        "# 완료 메시지 출력\n",
        "print(\"✅ Training complete. Weights saved to:\")\n",
        "print(os.path.join(drive_root, 'models/yolov8_all_labeled/weights/best.pt'))\n"
      ],
      "metadata": {
        "colab": {
          "base_uri": "https://localhost:8080/"
        },
        "id": "-zeLlq93gSdW",
        "outputId": "0cc57389-ce13-4da7-c150-39eeedc9b523"
      },
      "execution_count": null,
      "outputs": [
        {
          "metadata": {
            "tags": null
          },
          "name": "stdout",
          "output_type": "stream",
          "text": [
            "Ultralytics 8.3.155 🚀 Python-3.11.13 torch-2.6.0+cu124 CUDA:0 (Tesla T4, 15095MiB)\n",
            "\u001b[34m\u001b[1mengine/trainer: \u001b[0magnostic_nms=False, amp=True, augment=True, auto_augment=albumentations, batch=32, bgr=0.0, box=7.5, cache=False, cfg=None, classes=None, close_mosaic=10, cls=0.5, conf=None, copy_paste=0.3, copy_paste_mode=flip, cos_lr=True, cutmix=0.0, data=/content/dataset.yaml, degrees=0.0, deterministic=True, device=None, dfl=1.5, dnn=False, dropout=0.0, dynamic=False, embed=None, epochs=100, erasing=0.4, exist_ok=False, fliplr=0.5, flipud=0.0, format=torchscript, fraction=1.0, freeze=None, half=False, hsv_h=0.015, hsv_s=0.7, hsv_v=0.4, imgsz=640, int8=False, iou=0.7, keras=False, kobj=1.0, line_width=None, lr0=0.001, lrf=0.2, mask_ratio=4, max_det=300, mixup=0.2, mode=train, model=yolov8s.pt, momentum=0.937, mosaic=1.0, multi_scale=False, name=yolov8_all_labeled2, nbs=64, nms=False, opset=None, optimize=False, optimizer=auto, overlap_mask=True, patience=30, perspective=0.0, plots=True, pose=12.0, pretrained=True, profile=False, project=/content/drive/MyDrive/prometheus/models, rect=False, resume=False, retina_masks=False, save=True, save_conf=False, save_crop=False, save_dir=/content/drive/MyDrive/prometheus/models/yolov8_all_labeled2, save_frames=False, save_json=False, save_period=-1, save_txt=False, scale=0.5, seed=0, shear=0.0, show=False, show_boxes=True, show_conf=True, show_labels=True, simplify=True, single_cls=False, source=None, split=0.15, stream_buffer=False, task=detect, time=None, tracker=botsort.yaml, translate=0.1, val=True, verbose=True, vid_stride=1, visualize=False, warmup_bias_lr=0.1, warmup_epochs=3.0, warmup_momentum=0.8, weight_decay=0.0005, workers=8, workspace=None\n",
            "Downloading https://ultralytics.com/assets/Arial.ttf to '/root/.config/Ultralytics/Arial.ttf'...\n"
          ]
        },
        {
          "metadata": {
            "tags": null
          },
          "name": "stderr",
          "output_type": "stream",
          "text": [
            "100%|██████████| 755k/755k [00:00<00:00, 93.9MB/s]"
          ]
        },
        {
          "metadata": {
            "tags": null
          },
          "name": "stdout",
          "output_type": "stream",
          "text": [
            "Overriding model.yaml nc=80 with nc=98\n",
            "\n",
            "                   from  n    params  module                                       arguments                     \n",
            "  0                  -1  1       928  ultralytics.nn.modules.conv.Conv             [3, 32, 3, 2]                 \n",
            "  1                  -1  1     18560  ultralytics.nn.modules.conv.Conv             [32, 64, 3, 2]                \n",
            "  2                  -1  1     29056  ultralytics.nn.modules.block.C2f             [64, 64, 1, True]             \n",
            "  3                  -1  1     73984  ultralytics.nn.modules.conv.Conv             [64, 128, 3, 2]               \n",
            "  4                  -1  2    197632  ultralytics.nn.modules.block.C2f             [128, 128, 2, True]           \n",
            "  5                  -1  1    295424  ultralytics.nn.modules.conv.Conv             [128, 256, 3, 2]              \n",
            "  6                  -1  2    788480  ultralytics.nn.modules.block.C2f             [256, 256, 2, True]           \n",
            "  7                  -1  1   1180672  ultralytics.nn.modules.conv.Conv             [256, 512, 3, 2]              \n",
            "  8                  -1  1   1838080  ultralytics.nn.modules.block.C2f             [512, 512, 1, True]           \n",
            "  9                  -1  1    656896  ultralytics.nn.modules.block.SPPF            [512, 512, 5]                 \n",
            " 10                  -1  1         0  torch.nn.modules.upsampling.Upsample         [None, 2, 'nearest']          \n",
            " 11             [-1, 6]  1         0  ultralytics.nn.modules.conv.Concat           [1]                           \n",
            " 12                  -1  1    591360  ultralytics.nn.modules.block.C2f             [768, 256, 1]                 \n",
            " 13                  -1  1         0  torch.nn.modules.upsampling.Upsample         [None, 2, 'nearest']          \n",
            " 14             [-1, 4]  1         0  ultralytics.nn.modules.conv.Concat           [1]                           \n",
            " 15                  -1  1    148224  ultralytics.nn.modules.block.C2f             [384, 128, 1]                 \n",
            " 16                  -1  1    147712  ultralytics.nn.modules.conv.Conv             [128, 128, 3, 2]              \n",
            " 17            [-1, 12]  1         0  ultralytics.nn.modules.conv.Concat           [1]                           \n",
            " 18                  -1  1    493056  ultralytics.nn.modules.block.C2f             [384, 256, 1]                 \n",
            " 19                  -1  1    590336  ultralytics.nn.modules.conv.Conv             [256, 256, 3, 2]              \n",
            " 20             [-1, 9]  1         0  ultralytics.nn.modules.conv.Concat           [1]                           \n",
            " 21                  -1  1   1969152  ultralytics.nn.modules.block.C2f             [768, 512, 1]                 \n"
          ]
        },
        {
          "metadata": {
            "tags": null
          },
          "name": "stderr",
          "output_type": "stream",
          "text": [
            "\n"
          ]
        },
        {
          "metadata": {
            "tags": null
          },
          "name": "stdout",
          "output_type": "stream",
          "text": [
            " 22        [15, 18, 21]  1   2153974  ultralytics.nn.modules.head.Detect           [98, [128, 256, 512]]         \n",
            "Model summary: 129 layers, 11,173,526 parameters, 11,173,510 gradients, 28.9 GFLOPs\n",
            "\n",
            "Transferred 349/355 items from pretrained weights\n",
            "Freezing layer 'model.22.dfl.conv.weight'\n",
            "\u001b[34m\u001b[1mAMP: \u001b[0mrunning Automatic Mixed Precision (AMP) checks...\n",
            "Downloading https://github.com/ultralytics/assets/releases/download/v8.3.0/yolo11n.pt to 'yolo11n.pt'...\n"
          ]
        },
        {
          "metadata": {
            "tags": null
          },
          "name": "stderr",
          "output_type": "stream",
          "text": [
            "100%|██████████| 5.35M/5.35M [00:00<00:00, 344MB/s]\n"
          ]
        },
        {
          "metadata": {
            "tags": null
          },
          "name": "stdout",
          "output_type": "stream",
          "text": [
            "\u001b[34m\u001b[1mAMP: \u001b[0mchecks passed ✅\n",
            "\u001b[34m\u001b[1mtrain: \u001b[0mFast image access ✅ (ping: 0.0±0.0 ms, read: 663.5±588.2 MB/s, size: 328.1 KB)\n"
          ]
        },
        {
          "metadata": {
            "tags": null
          },
          "name": "stderr",
          "output_type": "stream",
          "text": [
            "\u001b[34m\u001b[1mtrain: \u001b[0mScanning /content/dataset/labels/train... 9232 images, 31 backgrounds, 33 corrupt: 100%|██████████| 9265/9265 [00:19<00:00, 482.96it/s] "
          ]
        },
        {
          "metadata": {
            "tags": null
          },
          "name": "stdout",
          "output_type": "stream",
          "text": [
            "\u001b[34m\u001b[1mtrain: \u001b[0m/content/dataset/images/train/Acorn jelly salad_Img_064_0229.jpg: corrupt JPEG restored and saved\n",
            "\u001b[34m\u001b[1mtrain: \u001b[0m/content/dataset/images/train/Acorn jelly salad_Img_064_0254.jpg: corrupt JPEG restored and saved\n",
            "\u001b[34m\u001b[1mtrain: \u001b[0m/content/dataset/images/train/Acorn jelly salad_Img_064_0256.jpg: corrupt JPEG restored and saved\n",
            "\u001b[34m\u001b[1mtrain: \u001b[0m/content/dataset/images/train/Acorn jelly salad_Img_064_0264.jpg: corrupt JPEG restored and saved\n",
            "\u001b[34m\u001b[1mtrain: \u001b[0m/content/dataset/images/train/Acorn jelly salad_Img_064_0283.jpg: corrupt JPEG restored and saved\n",
            "\u001b[34m\u001b[1mtrain: \u001b[0m/content/dataset/images/train/Bean sprouts soup_Img_021_0026.jpg: corrupt JPEG restored and saved\n",
            "\u001b[34m\u001b[1mtrain: \u001b[0m/content/dataset/images/train/Bean sprouts soup_Img_021_0255.jpg: corrupt JPEG restored and saved\n",
            "\u001b[34m\u001b[1mtrain: \u001b[0m/content/dataset/images/train/Bean sprouts soup_Img_021_0269.jpg: corrupt JPEG restored and saved\n",
            "\u001b[34m\u001b[1mtrain: \u001b[0m/content/dataset/images/train/Black Bean Noodles_Img_057_0021.jpg: corrupt JPEG restored and saved\n",
            "\u001b[34m\u001b[1mtrain: \u001b[0m/content/dataset/images/train/Black Bean Noodles_Img_057_0251.jpg: ignoring corrupt image/label: invalid image format GIF. Supported formats are:\n",
            "images: {'webp', 'bmp', 'png', 'jpeg', 'mpo', 'pfm', 'tiff', 'jpg', 'heic', 'dng', 'tif'}\n",
            "videos: {'mov', 'mkv', 'mpeg', 'm4v', 'gif', 'mp4', 'webm', 'mpg', 'avi', 'ts', 'wmv', 'asf'}\n",
            "\u001b[34m\u001b[1mtrain: \u001b[0m/content/dataset/images/train/Boiled pork wrap_Img_129_0230.jpg: corrupt JPEG restored and saved\n",
            "\u001b[34m\u001b[1mtrain: \u001b[0m/content/dataset/images/train/Boiled pork wrap_Img_129_0252.jpg: corrupt JPEG restored and saved\n",
            "\u001b[34m\u001b[1mtrain: \u001b[0m/content/dataset/images/train/Boiled pork wrap_Img_129_0264.jpg: corrupt JPEG restored and saved\n",
            "\u001b[34m\u001b[1mtrain: \u001b[0m/content/dataset/images/train/Boiled pork wrap_Img_129_0273.jpg: corrupt JPEG restored and saved\n",
            "\u001b[34m\u001b[1mtrain: \u001b[0m/content/dataset/images/train/Boiled pork wrap_Img_129_0279.jpg: corrupt JPEG restored and saved\n",
            "\u001b[34m\u001b[1mtrain: \u001b[0m/content/dataset/images/train/Braised Cutlassfish_Img_106_0238.jpg: ignoring corrupt image/label: invalid image format GIF. Supported formats are:\n",
            "images: {'webp', 'bmp', 'png', 'jpeg', 'mpo', 'pfm', 'tiff', 'jpg', 'heic', 'dng', 'tif'}\n",
            "videos: {'mov', 'mkv', 'mpeg', 'm4v', 'gif', 'mp4', 'webm', 'mpg', 'avi', 'ts', 'wmv', 'asf'}\n",
            "\u001b[34m\u001b[1mtrain: \u001b[0m/content/dataset/images/train/Braised Cutlassfish_Img_106_0246.jpg: ignoring corrupt image/label: invalid image format GIF. Supported formats are:\n",
            "images: {'webp', 'bmp', 'png', 'jpeg', 'mpo', 'pfm', 'tiff', 'jpg', 'heic', 'dng', 'tif'}\n",
            "videos: {'mov', 'mkv', 'mpeg', 'm4v', 'gif', 'mp4', 'webm', 'mpg', 'avi', 'ts', 'wmv', 'asf'}\n",
            "\u001b[34m\u001b[1mtrain: \u001b[0m/content/dataset/images/train/Braised Mackerel_Img_108_0009.jpg: corrupt JPEG restored and saved\n",
            "\u001b[34m\u001b[1mtrain: \u001b[0m/content/dataset/images/train/Braised Tofu_Img_110_0011.jpg: corrupt JPEG restored and saved\n",
            "\u001b[34m\u001b[1mtrain: \u001b[0m/content/dataset/images/train/Braised Tofu_Img_110_0266.jpg: corrupt JPEG restored and saved\n",
            "\u001b[34m\u001b[1mtrain: \u001b[0m/content/dataset/images/train/Braised kimchi_Img_126_0247.jpg: corrupt JPEG restored and saved\n",
            "\u001b[34m\u001b[1mtrain: \u001b[0m/content/dataset/images/train/Braised kimchi_Img_126_0278.jpg: ignoring corrupt image/label: invalid image format GIF. Supported formats are:\n",
            "images: {'webp', 'bmp', 'png', 'jpeg', 'mpo', 'pfm', 'tiff', 'jpg', 'heic', 'dng', 'tif'}\n",
            "videos: {'mov', 'mkv', 'mpeg', 'm4v', 'gif', 'mp4', 'webm', 'mpg', 'avi', 'ts', 'wmv', 'asf'}\n",
            "\u001b[34m\u001b[1mtrain: \u001b[0m/content/dataset/images/train/Braised kimchi_Img_126_0282.jpg: ignoring corrupt image/label: invalid image format GIF. Supported formats are:\n",
            "images: {'webp', 'bmp', 'png', 'jpeg', 'mpo', 'pfm', 'tiff', 'jpg', 'heic', 'dng', 'tif'}\n",
            "videos: {'mov', 'mkv', 'mpeg', 'm4v', 'gif', 'mp4', 'webm', 'mpg', 'avi', 'ts', 'wmv', 'asf'}\n",
            "\u001b[34m\u001b[1mtrain: \u001b[0m/content/dataset/images/train/Braised kimchi_Img_126_0290.jpg: ignoring corrupt image/label: invalid image format GIF. Supported formats are:\n",
            "images: {'webp', 'bmp', 'png', 'jpeg', 'mpo', 'pfm', 'tiff', 'jpg', 'heic', 'dng', 'tif'}\n",
            "videos: {'mov', 'mkv', 'mpeg', 'm4v', 'gif', 'mp4', 'webm', 'mpg', 'avi', 'ts', 'wmv', 'asf'}\n",
            "\u001b[34m\u001b[1mtrain: \u001b[0m/content/dataset/images/train/Braised short ribs_Img_124_0028.jpg: ignoring corrupt image/label: invalid image format GIF. Supported formats are:\n",
            "images: {'webp', 'bmp', 'png', 'jpeg', 'mpo', 'pfm', 'tiff', 'jpg', 'heic', 'dng', 'tif'}\n",
            "videos: {'mov', 'mkv', 'mpeg', 'm4v', 'gif', 'mp4', 'webm', 'mpg', 'avi', 'ts', 'wmv', 'asf'}\n",
            "\u001b[34m\u001b[1mtrain: \u001b[0m/content/dataset/images/train/Braised short ribs_Img_124_0237.jpg: corrupt JPEG restored and saved\n",
            "\u001b[34m\u001b[1mtrain: \u001b[0m/content/dataset/images/train/Braised short ribs_Img_124_0252.jpg: corrupt JPEG restored and saved\n",
            "\u001b[34m\u001b[1mtrain: \u001b[0m/content/dataset/images/train/Braised short ribs_Img_124_0254.jpg: corrupt JPEG restored and saved\n",
            "\u001b[34m\u001b[1mtrain: \u001b[0m/content/dataset/images/train/Braised short ribs_Img_124_0261.jpg: corrupt JPEG restored and saved\n",
            "\u001b[34m\u001b[1mtrain: \u001b[0m/content/dataset/images/train/Braised short ribs_Img_124_0296.jpg: corrupt JPEG restored and saved\n",
            "\u001b[34m\u001b[1mtrain: \u001b[0m/content/dataset/images/train/Buckwheat noodles_Img_051_0246.jpg: corrupt JPEG restored and saved\n",
            "\u001b[34m\u001b[1mtrain: \u001b[0m/content/dataset/images/train/Buckwheat noodles_Img_051_0258.jpg: corrupt JPEG restored and saved\n",
            "\u001b[34m\u001b[1mtrain: \u001b[0m/content/dataset/images/train/Buckwheat noodles_Img_051_0288.jpg: corrupt JPEG restored and saved\n",
            "\u001b[34m\u001b[1mtrain: \u001b[0m/content/dataset/images/train/Cabbage kimchi_Img_033_0226.jpg: corrupt JPEG restored and saved\n",
            "\u001b[34m\u001b[1mtrain: \u001b[0m/content/dataset/images/train/Cabbage kimchi_Img_033_0289.jpg: ignoring corrupt image/label: invalid image format GIF. Supported formats are:\n",
            "images: {'webp', 'bmp', 'png', 'jpeg', 'mpo', 'pfm', 'tiff', 'jpg', 'heic', 'dng', 'tif'}\n",
            "videos: {'mov', 'mkv', 'mpeg', 'm4v', 'gif', 'mp4', 'webm', 'mpg', 'avi', 'ts', 'wmv', 'asf'}\n",
            "\u001b[34m\u001b[1mtrain: \u001b[0m/content/dataset/images/train/Cold Noodle Soup_Img_052_0010.jpg: corrupt JPEG restored and saved\n",
            "\u001b[34m\u001b[1mtrain: \u001b[0m/content/dataset/images/train/Cold Noodle Soup_Img_052_0257.jpg: corrupt JPEG restored and saved\n",
            "\u001b[34m\u001b[1mtrain: \u001b[0m/content/dataset/images/train/Cold Noodle Soup_Img_052_0270.jpg: ignoring corrupt image/label: invalid image format GIF. Supported formats are:\n",
            "images: {'webp', 'bmp', 'png', 'jpeg', 'mpo', 'pfm', 'tiff', 'jpg', 'heic', 'dng', 'tif'}\n",
            "videos: {'mov', 'mkv', 'mpeg', 'm4v', 'gif', 'mp4', 'webm', 'mpg', 'avi', 'ts', 'wmv', 'asf'}\n",
            "\u001b[34m\u001b[1mtrain: \u001b[0m/content/dataset/images/train/Cold Noodle Soup_Img_052_0278.jpg: ignoring corrupt image/label: invalid image format GIF. Supported formats are:\n",
            "images: {'webp', 'bmp', 'png', 'jpeg', 'mpo', 'pfm', 'tiff', 'jpg', 'heic', 'dng', 'tif'}\n",
            "videos: {'mov', 'mkv', 'mpeg', 'm4v', 'gif', 'mp4', 'webm', 'mpg', 'avi', 'ts', 'wmv', 'asf'}\n",
            "\u001b[34m\u001b[1mtrain: \u001b[0m/content/dataset/images/train/Feast noodles_Img_056_0026.jpg: corrupt JPEG restored and saved\n",
            "\u001b[34m\u001b[1mtrain: \u001b[0m/content/dataset/images/train/Fish Pancakes_Img_102_0024.jpg: corrupt JPEG restored and saved\n",
            "\u001b[34m\u001b[1mtrain: \u001b[0m/content/dataset/images/train/Fish Pancakes_Img_102_0231.jpg: corrupt JPEG restored and saved\n",
            "\u001b[34m\u001b[1mtrain: \u001b[0m/content/dataset/images/train/Fish Pancakes_Img_102_0242.jpg: corrupt JPEG restored and saved\n",
            "\u001b[34m\u001b[1mtrain: \u001b[0m/content/dataset/images/train/Fish Pancakes_Img_102_0264.jpg: corrupt JPEG restored and saved\n",
            "\u001b[34m\u001b[1mtrain: \u001b[0m/content/dataset/images/train/Fish Pancakes_Img_102_0296.jpg: corrupt JPEG restored and saved\n",
            "\u001b[34m\u001b[1mtrain: \u001b[0m/content/dataset/images/train/Fried chicken_Img_028_0019.jpg: corrupt JPEG restored and saved\n",
            "\u001b[34m\u001b[1mtrain: \u001b[0m/content/dataset/images/train/Fried chicken_Img_028_0241.jpg: corrupt JPEG restored and saved\n",
            "\u001b[34m\u001b[1mtrain: \u001b[0m/content/dataset/images/train/Fried chicken_Img_028_0247.jpg: corrupt JPEG restored and saved\n",
            "\u001b[34m\u001b[1mtrain: \u001b[0m/content/dataset/images/train/Fried chicken_Img_028_0274.jpg: ignoring corrupt image/label: invalid image format GIF. Supported formats are:\n",
            "images: {'webp', 'bmp', 'png', 'jpeg', 'mpo', 'pfm', 'tiff', 'jpg', 'heic', 'dng', 'tif'}\n",
            "videos: {'mov', 'mkv', 'mpeg', 'm4v', 'gif', 'mp4', 'webm', 'mpg', 'avi', 'ts', 'wmv', 'asf'}\n",
            "\u001b[34m\u001b[1mtrain: \u001b[0m/content/dataset/images/train/Fried chicken_Img_028_0289.jpg: corrupt JPEG restored and saved\n",
            "\u001b[34m\u001b[1mtrain: \u001b[0m/content/dataset/images/train/Fried chicken_Img_028_0295.jpg: corrupt JPEG restored and saved\n",
            "\u001b[34m\u001b[1mtrain: \u001b[0m/content/dataset/images/train/Hot spicy meat stew_Img_020_0257.jpg: corrupt JPEG restored and saved\n",
            "\u001b[34m\u001b[1mtrain: \u001b[0m/content/dataset/images/train/Hot spicy meat stew_Img_020_0274.jpg: ignoring corrupt image/label: invalid image format GIF. Supported formats are:\n",
            "images: {'webp', 'bmp', 'png', 'jpeg', 'mpo', 'pfm', 'tiff', 'jpg', 'heic', 'dng', 'tif'}\n",
            "videos: {'mov', 'mkv', 'mpeg', 'm4v', 'gif', 'mp4', 'webm', 'mpg', 'avi', 'ts', 'wmv', 'asf'}\n",
            "\u001b[34m\u001b[1mtrain: \u001b[0m/content/dataset/images/train/Hot spicy meat stew_Img_020_0284.jpg: corrupt JPEG restored and saved\n",
            "\u001b[34m\u001b[1mtrain: \u001b[0m/content/dataset/images/train/Kimchi Jiggae_Img_119_0263.jpg: corrupt JPEG restored and saved\n",
            "\u001b[34m\u001b[1mtrain: \u001b[0m/content/dataset/images/train/Korean rolled omelette_Img_098_0250.jpg: corrupt JPEG restored and saved\n",
            "\u001b[34m\u001b[1mtrain: \u001b[0m/content/dataset/images/train/Korean rolled omelette_Img_098_0272.jpg: corrupt JPEG restored and saved\n",
            "\u001b[34m\u001b[1mtrain: \u001b[0m/content/dataset/images/train/Korean rolled omelette_Img_098_0294.jpg: corrupt JPEG restored and saved\n",
            "\u001b[34m\u001b[1mtrain: \u001b[0m/content/dataset/images/train/Loach soup_Img_139_0238.jpg: corrupt JPEG restored and saved\n",
            "\u001b[34m\u001b[1mtrain: \u001b[0m/content/dataset/images/train/Loach soup_Img_139_0242.jpg: corrupt JPEG restored and saved\n",
            "\u001b[34m\u001b[1mtrain: \u001b[0m/content/dataset/images/train/Loach soup_Img_139_0259.jpg: ignoring corrupt image/label: invalid image format GIF. Supported formats are:\n",
            "images: {'webp', 'bmp', 'png', 'jpeg', 'mpo', 'pfm', 'tiff', 'jpg', 'heic', 'dng', 'tif'}\n",
            "videos: {'mov', 'mkv', 'mpeg', 'm4v', 'gif', 'mp4', 'webm', 'mpg', 'avi', 'ts', 'wmv', 'asf'}\n",
            "\u001b[34m\u001b[1mtrain: \u001b[0m/content/dataset/images/train/Loach soup_Img_139_0268.jpg: ignoring corrupt image/label: invalid image format GIF. Supported formats are:\n",
            "images: {'webp', 'bmp', 'png', 'jpeg', 'mpo', 'pfm', 'tiff', 'jpg', 'heic', 'dng', 'tif'}\n",
            "videos: {'mov', 'mkv', 'mpeg', 'm4v', 'gif', 'mp4', 'webm', 'mpg', 'avi', 'ts', 'wmv', 'asf'}\n",
            "\u001b[34m\u001b[1mtrain: \u001b[0m/content/dataset/images/train/Loach soup_Img_139_0285.jpg: ignoring corrupt image/label: invalid image format GIF. Supported formats are:\n",
            "images: {'webp', 'bmp', 'png', 'jpeg', 'mpo', 'pfm', 'tiff', 'jpg', 'heic', 'dng', 'tif'}\n",
            "videos: {'mov', 'mkv', 'mpeg', 'm4v', 'gif', 'mp4', 'webm', 'mpg', 'avi', 'ts', 'wmv', 'asf'}\n",
            "\u001b[34m\u001b[1mtrain: \u001b[0m/content/dataset/images/train/Ox bone soup_Img_136_0002.jpg: ignoring corrupt image/label: invalid image format GIF. Supported formats are:\n",
            "images: {'webp', 'bmp', 'png', 'jpeg', 'mpo', 'pfm', 'tiff', 'jpg', 'heic', 'dng', 'tif'}\n",
            "videos: {'mov', 'mkv', 'mpeg', 'm4v', 'gif', 'mp4', 'webm', 'mpg', 'avi', 'ts', 'wmv', 'asf'}\n",
            "\u001b[34m\u001b[1mtrain: \u001b[0m/content/dataset/images/train/Ox bone soup_Img_136_0003.jpg: corrupt JPEG restored and saved\n",
            "\u001b[34m\u001b[1mtrain: \u001b[0m/content/dataset/images/train/Ox bone soup_Img_136_0229.jpg: ignoring corrupt image/label: invalid image format GIF. Supported formats are:\n",
            "images: {'webp', 'bmp', 'png', 'jpeg', 'mpo', 'pfm', 'tiff', 'jpg', 'heic', 'dng', 'tif'}\n",
            "videos: {'mov', 'mkv', 'mpeg', 'm4v', 'gif', 'mp4', 'webm', 'mpg', 'avi', 'ts', 'wmv', 'asf'}\n",
            "\u001b[34m\u001b[1mtrain: \u001b[0m/content/dataset/images/train/Pickled Perilla Leaves_Img_095_0230.jpg: corrupt JPEG restored and saved\n",
            "\u001b[34m\u001b[1mtrain: \u001b[0m/content/dataset/images/train/Pig feet_Img_131_0006.jpg: corrupt JPEG restored and saved\n",
            "\u001b[34m\u001b[1mtrain: \u001b[0m/content/dataset/images/train/Pig feet_Img_131_0291.jpg: ignoring corrupt image/label: invalid image format GIF. Supported formats are:\n",
            "images: {'webp', 'bmp', 'png', 'jpeg', 'mpo', 'pfm', 'tiff', 'jpg', 'heic', 'dng', 'tif'}\n",
            "videos: {'mov', 'mkv', 'mpeg', 'm4v', 'gif', 'mp4', 'webm', 'mpg', 'avi', 'ts', 'wmv', 'asf'}\n",
            "\u001b[34m\u001b[1mtrain: \u001b[0m/content/dataset/images/train/Pork back-bone stew_Img_135_0089.jpg: corrupt JPEG restored and saved\n",
            "\u001b[34m\u001b[1mtrain: \u001b[0m/content/dataset/images/train/Rice cake-Dumpling soup_Img_015_0062.jpg: corrupt JPEG restored and saved\n",
            "\u001b[34m\u001b[1mtrain: \u001b[0m/content/dataset/images/train/Scallion Pancake_Img_103_0032.jpg: ignoring corrupt image/label: invalid image format GIF. Supported formats are:\n",
            "images: {'webp', 'bmp', 'png', 'jpeg', 'mpo', 'pfm', 'tiff', 'jpg', 'heic', 'dng', 'tif'}\n",
            "videos: {'mov', 'mkv', 'mpeg', 'm4v', 'gif', 'mp4', 'webm', 'mpg', 'avi', 'ts', 'wmv', 'asf'}\n",
            "\u001b[34m\u001b[1mtrain: \u001b[0m/content/dataset/images/train/Scallion Pancake_Img_103_0082.jpg: corrupt JPEG restored and saved\n",
            "\u001b[34m\u001b[1mtrain: \u001b[0m/content/dataset/images/train/Seasoned bean sprouts_Img_066_0075.jpg: corrupt JPEG restored and saved\n",
            "\u001b[34m\u001b[1mtrain: \u001b[0m/content/dataset/images/train/Seasoned chicken_Img_023_0073.jpg: ignoring corrupt image/label: invalid image format GIF. Supported formats are:\n",
            "images: {'webp', 'bmp', 'png', 'jpeg', 'mpo', 'pfm', 'tiff', 'jpg', 'heic', 'dng', 'tif'}\n",
            "videos: {'mov', 'mkv', 'mpeg', 'm4v', 'gif', 'mp4', 'webm', 'mpg', 'avi', 'ts', 'wmv', 'asf'}\n",
            "\u001b[34m\u001b[1mtrain: \u001b[0m/content/dataset/images/train/Seasoned chicken_Img_023_0079.jpg: corrupt JPEG restored and saved\n",
            "\u001b[34m\u001b[1mtrain: \u001b[0m/content/dataset/images/train/Seasoned chicken_Img_023_0080.jpg: corrupt JPEG restored and saved\n",
            "\u001b[34m\u001b[1mtrain: \u001b[0m/content/dataset/images/train/Seasoned chicken_Img_023_0081.jpg: corrupt JPEG restored and saved\n",
            "\u001b[34m\u001b[1mtrain: \u001b[0m/content/dataset/images/train/Seasoned fernbrake_Img_041_0024.jpg: corrupt JPEG restored and saved\n",
            "\u001b[34m\u001b[1mtrain: \u001b[0m/content/dataset/images/train/Seasoned fernbrake_Img_041_0040.jpg: corrupt JPEG restored and saved\n",
            "\u001b[34m\u001b[1mtrain: \u001b[0m/content/dataset/images/train/Seasoned fernbrake_Img_041_0085.jpg: ignoring corrupt image/label: invalid image format GIF. Supported formats are:\n",
            "images: {'webp', 'bmp', 'png', 'jpeg', 'mpo', 'pfm', 'tiff', 'jpg', 'heic', 'dng', 'tif'}\n",
            "videos: {'mov', 'mkv', 'mpeg', 'm4v', 'gif', 'mp4', 'webm', 'mpg', 'avi', 'ts', 'wmv', 'asf'}\n",
            "\u001b[34m\u001b[1mtrain: \u001b[0m/content/dataset/images/train/Seasoned fernbrake_Img_041_0088.jpg: corrupt JPEG restored and saved\n",
            "\u001b[34m\u001b[1mtrain: \u001b[0m/content/dataset/images/train/Seasoned fernbrake_Img_041_0096.jpg: corrupt JPEG restored and saved\n",
            "\u001b[34m\u001b[1mtrain: \u001b[0m/content/dataset/images/train/Seasoned soybean sprouts_Img_043_0010.jpg: ignoring corrupt image/label: invalid image format GIF. Supported formats are:\n",
            "images: {'webp', 'bmp', 'png', 'jpeg', 'mpo', 'pfm', 'tiff', 'jpg', 'heic', 'dng', 'tif'}\n",
            "videos: {'mov', 'mkv', 'mpeg', 'm4v', 'gif', 'mp4', 'webm', 'mpg', 'avi', 'ts', 'wmv', 'asf'}\n",
            "\u001b[34m\u001b[1mtrain: \u001b[0m/content/dataset/images/train/Seasoned soybean sprouts_Img_043_0014.jpg: ignoring corrupt image/label: invalid image format GIF. Supported formats are:\n",
            "images: {'webp', 'bmp', 'png', 'jpeg', 'mpo', 'pfm', 'tiff', 'jpg', 'heic', 'dng', 'tif'}\n",
            "videos: {'mov', 'mkv', 'mpeg', 'm4v', 'gif', 'mp4', 'webm', 'mpg', 'avi', 'ts', 'wmv', 'asf'}\n",
            "\u001b[34m\u001b[1mtrain: \u001b[0m/content/dataset/images/train/Seasoned soybean sprouts_Img_043_0062.jpg: corrupt JPEG restored and saved\n",
            "\u001b[34m\u001b[1mtrain: \u001b[0m/content/dataset/images/train/Seasoned soybean sprouts_Img_043_0063.jpg: ignoring corrupt image/label: invalid image format GIF. Supported formats are:\n",
            "images: {'webp', 'bmp', 'png', 'jpeg', 'mpo', 'pfm', 'tiff', 'jpg', 'heic', 'dng', 'tif'}\n",
            "videos: {'mov', 'mkv', 'mpeg', 'm4v', 'gif', 'mp4', 'webm', 'mpg', 'avi', 'ts', 'wmv', 'asf'}\n",
            "\u001b[34m\u001b[1mtrain: \u001b[0m/content/dataset/images/train/Seasoned soybean sprouts_Img_043_0070.jpg: ignoring corrupt image/label: invalid image format GIF. Supported formats are:\n",
            "images: {'webp', 'bmp', 'png', 'jpeg', 'mpo', 'pfm', 'tiff', 'jpg', 'heic', 'dng', 'tif'}\n",
            "videos: {'mov', 'mkv', 'mpeg', 'm4v', 'gif', 'mp4', 'webm', 'mpg', 'avi', 'ts', 'wmv', 'asf'}\n",
            "\u001b[34m\u001b[1mtrain: \u001b[0m/content/dataset/images/train/Short rib soup_Img_134_0007.jpg: corrupt JPEG restored and saved\n",
            "\u001b[34m\u001b[1mtrain: \u001b[0m/content/dataset/images/train/Short rib soup_Img_134_0088.jpg: corrupt JPEG restored and saved\n",
            "\u001b[34m\u001b[1mtrain: \u001b[0m/content/dataset/images/train/Short rib soup_Img_134_0100.jpg: corrupt JPEG restored and saved\n",
            "\u001b[34m\u001b[1mtrain: \u001b[0m/content/dataset/images/train/Sliced boiled meat_Img_026_0003.jpg: ignoring corrupt image/label: invalid image format GIF. Supported formats are:\n",
            "images: {'webp', 'bmp', 'png', 'jpeg', 'mpo', 'pfm', 'tiff', 'jpg', 'heic', 'dng', 'tif'}\n",
            "videos: {'mov', 'mkv', 'mpeg', 'm4v', 'gif', 'mp4', 'webm', 'mpg', 'avi', 'ts', 'wmv', 'asf'}\n",
            "\u001b[34m\u001b[1mtrain: \u001b[0m/content/dataset/images/train/Sliced boiled meat_Img_026_0012.jpg: ignoring corrupt image/label: invalid image format GIF. Supported formats are:\n",
            "images: {'webp', 'bmp', 'png', 'jpeg', 'mpo', 'pfm', 'tiff', 'jpg', 'heic', 'dng', 'tif'}\n",
            "videos: {'mov', 'mkv', 'mpeg', 'm4v', 'gif', 'mp4', 'webm', 'mpg', 'avi', 'ts', 'wmv', 'asf'}\n",
            "\u001b[34m\u001b[1mtrain: \u001b[0m/content/dataset/images/train/Sliced radish kimchi_Img_030_0007.jpg: corrupt JPEG restored and saved\n",
            "\u001b[34m\u001b[1mtrain: \u001b[0m/content/dataset/images/train/Sliced radish kimchi_Img_030_0050.jpg: corrupt JPEG restored and saved\n",
            "\u001b[34m\u001b[1mtrain: \u001b[0m/content/dataset/images/train/Sliced radish kimchi_Img_030_0054.jpg: corrupt JPEG restored and saved\n",
            "\u001b[34m\u001b[1mtrain: \u001b[0m/content/dataset/images/train/Soft tofu stew_Img_123_0028.jpg: corrupt JPEG restored and saved\n",
            "\u001b[34m\u001b[1mtrain: \u001b[0m/content/dataset/images/train/Soy Sauce Marinated Crab_Img_093_0011.jpg: corrupt JPEG restored and saved\n",
            "\u001b[34m\u001b[1mtrain: \u001b[0m/content/dataset/images/train/Soy Sauce Marinated Crab_Img_093_0013.jpg: corrupt JPEG restored and saved\n",
            "\u001b[34m\u001b[1mtrain: \u001b[0m/content/dataset/images/train/Soy braised soybeans_Img_111_0027.jpg: corrupt JPEG restored and saved\n",
            "\u001b[34m\u001b[1mtrain: \u001b[0m/content/dataset/images/train/Soy braised soybeans_Img_111_0032.jpg: corrupt JPEG restored and saved\n",
            "\u001b[34m\u001b[1mtrain: \u001b[0m/content/dataset/images/train/Soy braised soybeans_Img_111_0039.jpg: corrupt JPEG restored and saved\n",
            "\u001b[34m\u001b[1mtrain: \u001b[0m/content/dataset/images/train/Soy braised soybeans_Img_111_0048.jpg: corrupt JPEG restored and saved\n",
            "\u001b[34m\u001b[1mtrain: \u001b[0m/content/dataset/images/train/Soy braised soybeans_Img_111_0058.jpg: corrupt JPEG restored and saved\n",
            "\u001b[34m\u001b[1mtrain: \u001b[0m/content/dataset/images/train/Soybean paste soup_Img_019_0027.jpg: corrupt JPEG restored and saved\n",
            "\u001b[34m\u001b[1mtrain: \u001b[0m/content/dataset/images/train/Soybean paste soup_Img_019_0066.jpg: corrupt JPEG restored and saved\n",
            "\u001b[34m\u001b[1mtrain: \u001b[0m/content/dataset/images/train/Soybean paste soup_Img_019_0086.jpg: corrupt JPEG restored and saved\n",
            "\u001b[34m\u001b[1mtrain: \u001b[0m/content/dataset/images/train/Soybean paste stew_Img_122_0043.jpg: corrupt JPEG restored and saved\n",
            "\u001b[34m\u001b[1mtrain: \u001b[0m/content/dataset/images/train/Soybean paste stew_Img_122_0056.jpg: ignoring corrupt image/label: invalid image format GIF. Supported formats are:\n",
            "images: {'webp', 'bmp', 'png', 'jpeg', 'mpo', 'pfm', 'tiff', 'jpg', 'heic', 'dng', 'tif'}\n",
            "videos: {'mov', 'mkv', 'mpeg', 'm4v', 'gif', 'mp4', 'webm', 'mpg', 'avi', 'ts', 'wmv', 'asf'}\n",
            "\u001b[34m\u001b[1mtrain: \u001b[0m/content/dataset/images/train/Spicy Braised Chicken_Img_128_0009.jpg: corrupt JPEG restored and saved\n",
            "\u001b[34m\u001b[1mtrain: \u001b[0m/content/dataset/images/train/Spicy Braised Seafood_Img_133_0092.jpg: ignoring corrupt image/label: invalid image format GIF. Supported formats are:\n",
            "images: {'webp', 'bmp', 'png', 'jpeg', 'mpo', 'pfm', 'tiff', 'jpg', 'heic', 'dng', 'tif'}\n",
            "videos: {'mov', 'mkv', 'mpeg', 'm4v', 'gif', 'mp4', 'webm', 'mpg', 'avi', 'ts', 'wmv', 'asf'}\n",
            "\u001b[34m\u001b[1mtrain: \u001b[0m/content/dataset/images/train/Spicy fish stew_Img_137_0073.jpg: ignoring corrupt image/label: invalid image format GIF. Supported formats are:\n",
            "images: {'webp', 'bmp', 'png', 'jpeg', 'mpo', 'pfm', 'tiff', 'jpg', 'heic', 'dng', 'tif'}\n",
            "videos: {'mov', 'mkv', 'mpeg', 'm4v', 'gif', 'mp4', 'webm', 'mpg', 'avi', 'ts', 'wmv', 'asf'}\n",
            "\u001b[34m\u001b[1mtrain: \u001b[0m/content/dataset/images/train/Spicy fish stew_Img_137_0097.jpg: corrupt JPEG restored and saved\n",
            "\u001b[34m\u001b[1mtrain: \u001b[0m/content/dataset/images/train/Spicy rice cake_Img_082_0030.jpg: corrupt JPEG restored and saved\n",
            "\u001b[34m\u001b[1mtrain: \u001b[0m/content/dataset/images/train/Spicy seafood noodle soup_Img_058_0030.jpg: corrupt JPEG restored and saved\n",
            "\u001b[34m\u001b[1mtrain: \u001b[0m/content/dataset/images/train/Spicy seafood noodle soup_Img_058_0032.jpg: corrupt JPEG restored and saved\n",
            "\u001b[34m\u001b[1mtrain: \u001b[0m/content/dataset/images/train/Spicy seafood noodle soup_Img_058_0090.jpg: ignoring corrupt image/label: invalid image format GIF. Supported formats are:\n",
            "images: {'webp', 'bmp', 'png', 'jpeg', 'mpo', 'pfm', 'tiff', 'jpg', 'heic', 'dng', 'tif'}\n",
            "videos: {'mov', 'mkv', 'mpeg', 'm4v', 'gif', 'mp4', 'webm', 'mpg', 'avi', 'ts', 'wmv', 'asf'}\n",
            "\u001b[34m\u001b[1mtrain: \u001b[0m/content/dataset/images/train/Spicy stir fried pork_Img_088_0032.jpg: corrupt JPEG restored and saved\n",
            "\u001b[34m\u001b[1mtrain: \u001b[0m/content/dataset/images/train/Spicy stir fried pork_Img_088_0060.jpg: corrupt JPEG restored and saved\n",
            "\u001b[34m\u001b[1mtrain: \u001b[0m/content/dataset/images/train/Steamed eggs_Img_125_0095.jpg: ignoring corrupt image/label: invalid image format GIF. Supported formats are:\n",
            "images: {'webp', 'bmp', 'png', 'jpeg', 'mpo', 'pfm', 'tiff', 'jpg', 'heic', 'dng', 'tif'}\n",
            "videos: {'mov', 'mkv', 'mpeg', 'm4v', 'gif', 'mp4', 'webm', 'mpg', 'avi', 'ts', 'wmv', 'asf'}\n",
            "\u001b[34m\u001b[1mtrain: \u001b[0m/content/dataset/images/train/Steamed eggs_Img_125_0099.jpg: corrupt JPEG restored and saved\n",
            "\u001b[34m\u001b[1mtrain: \u001b[0m/content/dataset/images/train/Stir fried anchovies_Img_084_0095.jpg: corrupt JPEG restored and saved\n",
            "\u001b[34m\u001b[1mtrain: \u001b[0m/content/dataset/images/train/Stir fried sausage_Img_085_0072.jpg: corrupt JPEG restored and saved\n",
            "\u001b[34m\u001b[1mtrain: \u001b[0m/content/dataset/images/train/Stir fried seaweed stems_Img_042_0012.jpg: corrupt JPEG restored and saved\n",
            "\u001b[34m\u001b[1mtrain: \u001b[0m/content/dataset/images/train/Stir fried seaweed stems_Img_042_0062.jpg: corrupt JPEG restored and saved\n",
            "\u001b[34m\u001b[1mtrain: \u001b[0m/content/dataset/images/train/Stir fried seaweed stems_Img_042_0063.jpg: corrupt JPEG restored and saved\n",
            "\u001b[34m\u001b[1mtrain: \u001b[0m/content/dataset/images/train/Stir fried seaweed stems_Img_042_0066.jpg: corrupt JPEG restored and saved\n",
            "\u001b[34m\u001b[1mtrain: \u001b[0m/content/dataset/images/train/Stir fried seaweed stems_Img_042_0069.jpg: corrupt JPEG restored and saved\n",
            "\u001b[34m\u001b[1mtrain: \u001b[0m/content/dataset/images/train/Stir fried seaweed stems_Img_042_0072.jpg: corrupt JPEG restored and saved\n",
            "\u001b[34m\u001b[1mtrain: \u001b[0m/content/dataset/images/train/Stir fried seaweed stems_Img_042_0075.jpg: corrupt JPEG restored and saved\n",
            "\u001b[34m\u001b[1mtrain: \u001b[0m/content/dataset/images/train/Stir fried seaweed stems_Img_042_0081.jpg: corrupt JPEG restored and saved\n",
            "\u001b[34m\u001b[1mtrain: \u001b[0m/content/dataset/images/train/Stir fried seaweed stems_Img_042_0082.jpg: corrupt JPEG restored and saved\n",
            "\u001b[34m\u001b[1mtrain: \u001b[0m/content/dataset/images/train/Stir fried shredded squid_Img_087_0007.jpg: corrupt JPEG restored and saved\n",
            "\u001b[34m\u001b[1mtrain: \u001b[0m/content/dataset/images/train/Stir fried shredded squid_Img_087_0079.jpg: corrupt JPEG restored and saved\n",
            "\u001b[34m\u001b[1mtrain: \u001b[0m/content/dataset/images/train/Stir fried spicy seasoned dried squid_Img_080_0017.jpg: corrupt JPEG restored and saved\n",
            "\u001b[34m\u001b[1mtrain: \u001b[0m/content/dataset/images/train/Stir fried spicy seasoned dried squid_Img_080_0035.jpg: corrupt JPEG restored and saved\n",
            "\u001b[34m\u001b[1mtrain: \u001b[0m/content/dataset/images/train/Stir fried spicy seasoned dried squid_Img_080_0038.jpg: corrupt JPEG restored and saved\n",
            "\u001b[34m\u001b[1mtrain: \u001b[0m/content/dataset/images/train/Stir fried spicy seasoned dried squid_Img_080_0092.jpg: corrupt JPEG restored and saved\n",
            "\u001b[34m\u001b[1mtrain: \u001b[0m/content/dataset/images/train/Stir fried spicy seasoned dried squid_Img_080_0094.jpg: corrupt JPEG restored and saved\n",
            "\u001b[34m\u001b[1mtrain: \u001b[0m/content/dataset/images/train/Stir fried spicy seasoned dried squid_Img_080_0097.jpg: corrupt JPEG restored and saved\n",
            "\u001b[34m\u001b[1mtrain: \u001b[0m/content/dataset/images/train/Stir-fried chili peppers_Img_062_0031.jpg: corrupt JPEG restored and saved\n",
            "\u001b[34m\u001b[1mtrain: \u001b[0m/content/dataset/images/train/Stir-fried shredded potatoes_Img_078_0006.jpg: corrupt JPEG restored and saved\n",
            "\u001b[34m\u001b[1mtrain: \u001b[0m/content/dataset/images/train/Stir-fried shredded potatoes_Img_078_0035.jpg: corrupt JPEG restored and saved\n",
            "\u001b[34m\u001b[1mtrain: \u001b[0m/content/dataset/images/train/Sweet rice balls_Img_046_0094.jpg: corrupt JPEG restored and saved\n",
            "\u001b[34m\u001b[1mtrain: \u001b[0m/content/dataset/images/train/Sweet rice drink_Img_092_0015.jpg: corrupt JPEG restored and saved\n",
            "\u001b[34m\u001b[1mtrain: \u001b[0m/content/dataset/images/train/Sweet rice drink_Img_092_0081.jpg: ignoring corrupt image/label: invalid image format GIF. Supported formats are:\n",
            "images: {'webp', 'bmp', 'png', 'jpeg', 'mpo', 'pfm', 'tiff', 'jpg', 'heic', 'dng', 'tif'}\n",
            "videos: {'mov', 'mkv', 'mpeg', 'm4v', 'gif', 'mp4', 'webm', 'mpg', 'avi', 'ts', 'wmv', 'asf'}\n"
          ]
        },
        {
          "metadata": {
            "tags": null
          },
          "name": "stderr",
          "output_type": "stream",
          "text": [
            "\n"
          ]
        },
        {
          "metadata": {
            "tags": null
          },
          "name": "stdout",
          "output_type": "stream",
          "text": [
            "\u001b[34m\u001b[1mtrain: \u001b[0mNew cache created: /content/dataset/labels/train.cache\n",
            "\u001b[34m\u001b[1malbumentations: \u001b[0mBlur(p=0.01, blur_limit=(3, 7)), MedianBlur(p=0.01, blur_limit=(3, 7)), ToGray(p=0.01, method='weighted_average', num_output_channels=3), CLAHE(p=0.01, clip_limit=(1.0, 4.0), tile_grid_size=(8, 8))\n",
            "\u001b[34m\u001b[1mval: \u001b[0mFast image access ✅ (ping: 0.0±0.0 ms, read: 514.1±585.3 MB/s, size: 86.4 KB)\n"
          ]
        },
        {
          "metadata": {
            "tags": null
          },
          "name": "stderr",
          "output_type": "stream",
          "text": [
            "\u001b[34m\u001b[1mval: \u001b[0mScanning /content/dataset/labels/train.cache... 9232 images, 31 backgrounds, 33 corrupt: 100%|██████████| 9265/9265 [00:00<?, ?it/s]"
          ]
        },
        {
          "metadata": {
            "tags": null
          },
          "name": "stdout",
          "output_type": "stream",
          "text": [
            "\u001b[34m\u001b[1mtrain: \u001b[0m/content/dataset/images/train/Acorn jelly salad_Img_064_0229.jpg: corrupt JPEG restored and saved\n",
            "\u001b[34m\u001b[1mtrain: \u001b[0m/content/dataset/images/train/Acorn jelly salad_Img_064_0254.jpg: corrupt JPEG restored and saved\n",
            "\u001b[34m\u001b[1mtrain: \u001b[0m/content/dataset/images/train/Acorn jelly salad_Img_064_0256.jpg: corrupt JPEG restored and saved\n",
            "\u001b[34m\u001b[1mtrain: \u001b[0m/content/dataset/images/train/Acorn jelly salad_Img_064_0264.jpg: corrupt JPEG restored and saved\n",
            "\u001b[34m\u001b[1mtrain: \u001b[0m/content/dataset/images/train/Acorn jelly salad_Img_064_0283.jpg: corrupt JPEG restored and saved\n",
            "\u001b[34m\u001b[1mtrain: \u001b[0m/content/dataset/images/train/Bean sprouts soup_Img_021_0026.jpg: corrupt JPEG restored and saved\n",
            "\u001b[34m\u001b[1mtrain: \u001b[0m/content/dataset/images/train/Bean sprouts soup_Img_021_0255.jpg: corrupt JPEG restored and saved\n",
            "\u001b[34m\u001b[1mtrain: \u001b[0m/content/dataset/images/train/Bean sprouts soup_Img_021_0269.jpg: corrupt JPEG restored and saved\n",
            "\u001b[34m\u001b[1mtrain: \u001b[0m/content/dataset/images/train/Black Bean Noodles_Img_057_0021.jpg: corrupt JPEG restored and saved\n",
            "\u001b[34m\u001b[1mtrain: \u001b[0m/content/dataset/images/train/Black Bean Noodles_Img_057_0251.jpg: ignoring corrupt image/label: invalid image format GIF. Supported formats are:\n",
            "images: {'webp', 'bmp', 'png', 'jpeg', 'mpo', 'pfm', 'tiff', 'jpg', 'heic', 'dng', 'tif'}\n",
            "videos: {'mov', 'mkv', 'mpeg', 'm4v', 'gif', 'mp4', 'webm', 'mpg', 'avi', 'ts', 'wmv', 'asf'}\n",
            "\u001b[34m\u001b[1mtrain: \u001b[0m/content/dataset/images/train/Boiled pork wrap_Img_129_0230.jpg: corrupt JPEG restored and saved\n",
            "\u001b[34m\u001b[1mtrain: \u001b[0m/content/dataset/images/train/Boiled pork wrap_Img_129_0252.jpg: corrupt JPEG restored and saved\n",
            "\u001b[34m\u001b[1mtrain: \u001b[0m/content/dataset/images/train/Boiled pork wrap_Img_129_0264.jpg: corrupt JPEG restored and saved\n",
            "\u001b[34m\u001b[1mtrain: \u001b[0m/content/dataset/images/train/Boiled pork wrap_Img_129_0273.jpg: corrupt JPEG restored and saved\n",
            "\u001b[34m\u001b[1mtrain: \u001b[0m/content/dataset/images/train/Boiled pork wrap_Img_129_0279.jpg: corrupt JPEG restored and saved\n",
            "\u001b[34m\u001b[1mtrain: \u001b[0m/content/dataset/images/train/Braised Cutlassfish_Img_106_0238.jpg: ignoring corrupt image/label: invalid image format GIF. Supported formats are:\n",
            "images: {'webp', 'bmp', 'png', 'jpeg', 'mpo', 'pfm', 'tiff', 'jpg', 'heic', 'dng', 'tif'}\n",
            "videos: {'mov', 'mkv', 'mpeg', 'm4v', 'gif', 'mp4', 'webm', 'mpg', 'avi', 'ts', 'wmv', 'asf'}\n",
            "\u001b[34m\u001b[1mtrain: \u001b[0m/content/dataset/images/train/Braised Cutlassfish_Img_106_0246.jpg: ignoring corrupt image/label: invalid image format GIF. Supported formats are:\n",
            "images: {'webp', 'bmp', 'png', 'jpeg', 'mpo', 'pfm', 'tiff', 'jpg', 'heic', 'dng', 'tif'}\n",
            "videos: {'mov', 'mkv', 'mpeg', 'm4v', 'gif', 'mp4', 'webm', 'mpg', 'avi', 'ts', 'wmv', 'asf'}\n",
            "\u001b[34m\u001b[1mtrain: \u001b[0m/content/dataset/images/train/Braised Mackerel_Img_108_0009.jpg: corrupt JPEG restored and saved\n",
            "\u001b[34m\u001b[1mtrain: \u001b[0m/content/dataset/images/train/Braised Tofu_Img_110_0011.jpg: corrupt JPEG restored and saved\n",
            "\u001b[34m\u001b[1mtrain: \u001b[0m/content/dataset/images/train/Braised Tofu_Img_110_0266.jpg: corrupt JPEG restored and saved\n",
            "\u001b[34m\u001b[1mtrain: \u001b[0m/content/dataset/images/train/Braised kimchi_Img_126_0247.jpg: corrupt JPEG restored and saved\n",
            "\u001b[34m\u001b[1mtrain: \u001b[0m/content/dataset/images/train/Braised kimchi_Img_126_0278.jpg: ignoring corrupt image/label: invalid image format GIF. Supported formats are:\n",
            "images: {'webp', 'bmp', 'png', 'jpeg', 'mpo', 'pfm', 'tiff', 'jpg', 'heic', 'dng', 'tif'}\n",
            "videos: {'mov', 'mkv', 'mpeg', 'm4v', 'gif', 'mp4', 'webm', 'mpg', 'avi', 'ts', 'wmv', 'asf'}\n",
            "\u001b[34m\u001b[1mtrain: \u001b[0m/content/dataset/images/train/Braised kimchi_Img_126_0282.jpg: ignoring corrupt image/label: invalid image format GIF. Supported formats are:\n",
            "images: {'webp', 'bmp', 'png', 'jpeg', 'mpo', 'pfm', 'tiff', 'jpg', 'heic', 'dng', 'tif'}\n",
            "videos: {'mov', 'mkv', 'mpeg', 'm4v', 'gif', 'mp4', 'webm', 'mpg', 'avi', 'ts', 'wmv', 'asf'}\n",
            "\u001b[34m\u001b[1mtrain: \u001b[0m/content/dataset/images/train/Braised kimchi_Img_126_0290.jpg: ignoring corrupt image/label: invalid image format GIF. Supported formats are:\n",
            "images: {'webp', 'bmp', 'png', 'jpeg', 'mpo', 'pfm', 'tiff', 'jpg', 'heic', 'dng', 'tif'}\n",
            "videos: {'mov', 'mkv', 'mpeg', 'm4v', 'gif', 'mp4', 'webm', 'mpg', 'avi', 'ts', 'wmv', 'asf'}\n",
            "\u001b[34m\u001b[1mtrain: \u001b[0m/content/dataset/images/train/Braised short ribs_Img_124_0028.jpg: ignoring corrupt image/label: invalid image format GIF. Supported formats are:\n",
            "images: {'webp', 'bmp', 'png', 'jpeg', 'mpo', 'pfm', 'tiff', 'jpg', 'heic', 'dng', 'tif'}\n",
            "videos: {'mov', 'mkv', 'mpeg', 'm4v', 'gif', 'mp4', 'webm', 'mpg', 'avi', 'ts', 'wmv', 'asf'}\n",
            "\u001b[34m\u001b[1mtrain: \u001b[0m/content/dataset/images/train/Braised short ribs_Img_124_0237.jpg: corrupt JPEG restored and saved\n",
            "\u001b[34m\u001b[1mtrain: \u001b[0m/content/dataset/images/train/Braised short ribs_Img_124_0252.jpg: corrupt JPEG restored and saved\n",
            "\u001b[34m\u001b[1mtrain: \u001b[0m/content/dataset/images/train/Braised short ribs_Img_124_0254.jpg: corrupt JPEG restored and saved\n",
            "\u001b[34m\u001b[1mtrain: \u001b[0m/content/dataset/images/train/Braised short ribs_Img_124_0261.jpg: corrupt JPEG restored and saved\n",
            "\u001b[34m\u001b[1mtrain: \u001b[0m/content/dataset/images/train/Braised short ribs_Img_124_0296.jpg: corrupt JPEG restored and saved\n",
            "\u001b[34m\u001b[1mtrain: \u001b[0m/content/dataset/images/train/Buckwheat noodles_Img_051_0246.jpg: corrupt JPEG restored and saved\n",
            "\u001b[34m\u001b[1mtrain: \u001b[0m/content/dataset/images/train/Buckwheat noodles_Img_051_0258.jpg: corrupt JPEG restored and saved\n",
            "\u001b[34m\u001b[1mtrain: \u001b[0m/content/dataset/images/train/Buckwheat noodles_Img_051_0288.jpg: corrupt JPEG restored and saved\n",
            "\u001b[34m\u001b[1mtrain: \u001b[0m/content/dataset/images/train/Cabbage kimchi_Img_033_0226.jpg: corrupt JPEG restored and saved\n",
            "\u001b[34m\u001b[1mtrain: \u001b[0m/content/dataset/images/train/Cabbage kimchi_Img_033_0289.jpg: ignoring corrupt image/label: invalid image format GIF. Supported formats are:\n",
            "images: {'webp', 'bmp', 'png', 'jpeg', 'mpo', 'pfm', 'tiff', 'jpg', 'heic', 'dng', 'tif'}\n",
            "videos: {'mov', 'mkv', 'mpeg', 'm4v', 'gif', 'mp4', 'webm', 'mpg', 'avi', 'ts', 'wmv', 'asf'}\n",
            "\u001b[34m\u001b[1mtrain: \u001b[0m/content/dataset/images/train/Cold Noodle Soup_Img_052_0010.jpg: corrupt JPEG restored and saved\n",
            "\u001b[34m\u001b[1mtrain: \u001b[0m/content/dataset/images/train/Cold Noodle Soup_Img_052_0257.jpg: corrupt JPEG restored and saved\n",
            "\u001b[34m\u001b[1mtrain: \u001b[0m/content/dataset/images/train/Cold Noodle Soup_Img_052_0270.jpg: ignoring corrupt image/label: invalid image format GIF. Supported formats are:\n",
            "images: {'webp', 'bmp', 'png', 'jpeg', 'mpo', 'pfm', 'tiff', 'jpg', 'heic', 'dng', 'tif'}\n",
            "videos: {'mov', 'mkv', 'mpeg', 'm4v', 'gif', 'mp4', 'webm', 'mpg', 'avi', 'ts', 'wmv', 'asf'}\n",
            "\u001b[34m\u001b[1mtrain: \u001b[0m/content/dataset/images/train/Cold Noodle Soup_Img_052_0278.jpg: ignoring corrupt image/label: invalid image format GIF. Supported formats are:\n",
            "images: {'webp', 'bmp', 'png', 'jpeg', 'mpo', 'pfm', 'tiff', 'jpg', 'heic', 'dng', 'tif'}\n",
            "videos: {'mov', 'mkv', 'mpeg', 'm4v', 'gif', 'mp4', 'webm', 'mpg', 'avi', 'ts', 'wmv', 'asf'}\n",
            "\u001b[34m\u001b[1mtrain: \u001b[0m/content/dataset/images/train/Feast noodles_Img_056_0026.jpg: corrupt JPEG restored and saved\n",
            "\u001b[34m\u001b[1mtrain: \u001b[0m/content/dataset/images/train/Fish Pancakes_Img_102_0024.jpg: corrupt JPEG restored and saved\n",
            "\u001b[34m\u001b[1mtrain: \u001b[0m/content/dataset/images/train/Fish Pancakes_Img_102_0231.jpg: corrupt JPEG restored and saved\n",
            "\u001b[34m\u001b[1mtrain: \u001b[0m/content/dataset/images/train/Fish Pancakes_Img_102_0242.jpg: corrupt JPEG restored and saved\n",
            "\u001b[34m\u001b[1mtrain: \u001b[0m/content/dataset/images/train/Fish Pancakes_Img_102_0264.jpg: corrupt JPEG restored and saved\n",
            "\u001b[34m\u001b[1mtrain: \u001b[0m/content/dataset/images/train/Fish Pancakes_Img_102_0296.jpg: corrupt JPEG restored and saved\n",
            "\u001b[34m\u001b[1mtrain: \u001b[0m/content/dataset/images/train/Fried chicken_Img_028_0019.jpg: corrupt JPEG restored and saved\n",
            "\u001b[34m\u001b[1mtrain: \u001b[0m/content/dataset/images/train/Fried chicken_Img_028_0241.jpg: corrupt JPEG restored and saved\n",
            "\u001b[34m\u001b[1mtrain: \u001b[0m/content/dataset/images/train/Fried chicken_Img_028_0247.jpg: corrupt JPEG restored and saved\n",
            "\u001b[34m\u001b[1mtrain: \u001b[0m/content/dataset/images/train/Fried chicken_Img_028_0274.jpg: ignoring corrupt image/label: invalid image format GIF. Supported formats are:\n",
            "images: {'webp', 'bmp', 'png', 'jpeg', 'mpo', 'pfm', 'tiff', 'jpg', 'heic', 'dng', 'tif'}\n",
            "videos: {'mov', 'mkv', 'mpeg', 'm4v', 'gif', 'mp4', 'webm', 'mpg', 'avi', 'ts', 'wmv', 'asf'}\n",
            "\u001b[34m\u001b[1mtrain: \u001b[0m/content/dataset/images/train/Fried chicken_Img_028_0289.jpg: corrupt JPEG restored and saved\n",
            "\u001b[34m\u001b[1mtrain: \u001b[0m/content/dataset/images/train/Fried chicken_Img_028_0295.jpg: corrupt JPEG restored and saved\n",
            "\u001b[34m\u001b[1mtrain: \u001b[0m/content/dataset/images/train/Hot spicy meat stew_Img_020_0257.jpg: corrupt JPEG restored and saved\n",
            "\u001b[34m\u001b[1mtrain: \u001b[0m/content/dataset/images/train/Hot spicy meat stew_Img_020_0274.jpg: ignoring corrupt image/label: invalid image format GIF. Supported formats are:\n",
            "images: {'webp', 'bmp', 'png', 'jpeg', 'mpo', 'pfm', 'tiff', 'jpg', 'heic', 'dng', 'tif'}\n",
            "videos: {'mov', 'mkv', 'mpeg', 'm4v', 'gif', 'mp4', 'webm', 'mpg', 'avi', 'ts', 'wmv', 'asf'}\n",
            "\u001b[34m\u001b[1mtrain: \u001b[0m/content/dataset/images/train/Hot spicy meat stew_Img_020_0284.jpg: corrupt JPEG restored and saved\n",
            "\u001b[34m\u001b[1mtrain: \u001b[0m/content/dataset/images/train/Kimchi Jiggae_Img_119_0263.jpg: corrupt JPEG restored and saved\n",
            "\u001b[34m\u001b[1mtrain: \u001b[0m/content/dataset/images/train/Korean rolled omelette_Img_098_0250.jpg: corrupt JPEG restored and saved\n",
            "\u001b[34m\u001b[1mtrain: \u001b[0m/content/dataset/images/train/Korean rolled omelette_Img_098_0272.jpg: corrupt JPEG restored and saved\n",
            "\u001b[34m\u001b[1mtrain: \u001b[0m/content/dataset/images/train/Korean rolled omelette_Img_098_0294.jpg: corrupt JPEG restored and saved\n",
            "\u001b[34m\u001b[1mtrain: \u001b[0m/content/dataset/images/train/Loach soup_Img_139_0238.jpg: corrupt JPEG restored and saved\n",
            "\u001b[34m\u001b[1mtrain: \u001b[0m/content/dataset/images/train/Loach soup_Img_139_0242.jpg: corrupt JPEG restored and saved\n",
            "\u001b[34m\u001b[1mtrain: \u001b[0m/content/dataset/images/train/Loach soup_Img_139_0259.jpg: ignoring corrupt image/label: invalid image format GIF. Supported formats are:\n",
            "images: {'webp', 'bmp', 'png', 'jpeg', 'mpo', 'pfm', 'tiff', 'jpg', 'heic', 'dng', 'tif'}\n",
            "videos: {'mov', 'mkv', 'mpeg', 'm4v', 'gif', 'mp4', 'webm', 'mpg', 'avi', 'ts', 'wmv', 'asf'}\n",
            "\u001b[34m\u001b[1mtrain: \u001b[0m/content/dataset/images/train/Loach soup_Img_139_0268.jpg: ignoring corrupt image/label: invalid image format GIF. Supported formats are:\n",
            "images: {'webp', 'bmp', 'png', 'jpeg', 'mpo', 'pfm', 'tiff', 'jpg', 'heic', 'dng', 'tif'}\n",
            "videos: {'mov', 'mkv', 'mpeg', 'm4v', 'gif', 'mp4', 'webm', 'mpg', 'avi', 'ts', 'wmv', 'asf'}\n",
            "\u001b[34m\u001b[1mtrain: \u001b[0m/content/dataset/images/train/Loach soup_Img_139_0285.jpg: ignoring corrupt image/label: invalid image format GIF. Supported formats are:\n",
            "images: {'webp', 'bmp', 'png', 'jpeg', 'mpo', 'pfm', 'tiff', 'jpg', 'heic', 'dng', 'tif'}\n",
            "videos: {'mov', 'mkv', 'mpeg', 'm4v', 'gif', 'mp4', 'webm', 'mpg', 'avi', 'ts', 'wmv', 'asf'}\n",
            "\u001b[34m\u001b[1mtrain: \u001b[0m/content/dataset/images/train/Ox bone soup_Img_136_0002.jpg: ignoring corrupt image/label: invalid image format GIF. Supported formats are:\n",
            "images: {'webp', 'bmp', 'png', 'jpeg', 'mpo', 'pfm', 'tiff', 'jpg', 'heic', 'dng', 'tif'}\n",
            "videos: {'mov', 'mkv', 'mpeg', 'm4v', 'gif', 'mp4', 'webm', 'mpg', 'avi', 'ts', 'wmv', 'asf'}\n",
            "\u001b[34m\u001b[1mtrain: \u001b[0m/content/dataset/images/train/Ox bone soup_Img_136_0003.jpg: corrupt JPEG restored and saved\n",
            "\u001b[34m\u001b[1mtrain: \u001b[0m/content/dataset/images/train/Ox bone soup_Img_136_0229.jpg: ignoring corrupt image/label: invalid image format GIF. Supported formats are:\n",
            "images: {'webp', 'bmp', 'png', 'jpeg', 'mpo', 'pfm', 'tiff', 'jpg', 'heic', 'dng', 'tif'}\n",
            "videos: {'mov', 'mkv', 'mpeg', 'm4v', 'gif', 'mp4', 'webm', 'mpg', 'avi', 'ts', 'wmv', 'asf'}\n",
            "\u001b[34m\u001b[1mtrain: \u001b[0m/content/dataset/images/train/Pickled Perilla Leaves_Img_095_0230.jpg: corrupt JPEG restored and saved\n",
            "\u001b[34m\u001b[1mtrain: \u001b[0m/content/dataset/images/train/Pig feet_Img_131_0006.jpg: corrupt JPEG restored and saved\n",
            "\u001b[34m\u001b[1mtrain: \u001b[0m/content/dataset/images/train/Pig feet_Img_131_0291.jpg: ignoring corrupt image/label: invalid image format GIF. Supported formats are:\n",
            "images: {'webp', 'bmp', 'png', 'jpeg', 'mpo', 'pfm', 'tiff', 'jpg', 'heic', 'dng', 'tif'}\n",
            "videos: {'mov', 'mkv', 'mpeg', 'm4v', 'gif', 'mp4', 'webm', 'mpg', 'avi', 'ts', 'wmv', 'asf'}\n",
            "\u001b[34m\u001b[1mtrain: \u001b[0m/content/dataset/images/train/Pork back-bone stew_Img_135_0089.jpg: corrupt JPEG restored and saved\n",
            "\u001b[34m\u001b[1mtrain: \u001b[0m/content/dataset/images/train/Rice cake-Dumpling soup_Img_015_0062.jpg: corrupt JPEG restored and saved\n",
            "\u001b[34m\u001b[1mtrain: \u001b[0m/content/dataset/images/train/Scallion Pancake_Img_103_0032.jpg: ignoring corrupt image/label: invalid image format GIF. Supported formats are:\n",
            "images: {'webp', 'bmp', 'png', 'jpeg', 'mpo', 'pfm', 'tiff', 'jpg', 'heic', 'dng', 'tif'}\n",
            "videos: {'mov', 'mkv', 'mpeg', 'm4v', 'gif', 'mp4', 'webm', 'mpg', 'avi', 'ts', 'wmv', 'asf'}\n",
            "\u001b[34m\u001b[1mtrain: \u001b[0m/content/dataset/images/train/Scallion Pancake_Img_103_0082.jpg: corrupt JPEG restored and saved\n",
            "\u001b[34m\u001b[1mtrain: \u001b[0m/content/dataset/images/train/Seasoned bean sprouts_Img_066_0075.jpg: corrupt JPEG restored and saved\n",
            "\u001b[34m\u001b[1mtrain: \u001b[0m/content/dataset/images/train/Seasoned chicken_Img_023_0073.jpg: ignoring corrupt image/label: invalid image format GIF. Supported formats are:\n",
            "images: {'webp', 'bmp', 'png', 'jpeg', 'mpo', 'pfm', 'tiff', 'jpg', 'heic', 'dng', 'tif'}\n",
            "videos: {'mov', 'mkv', 'mpeg', 'm4v', 'gif', 'mp4', 'webm', 'mpg', 'avi', 'ts', 'wmv', 'asf'}\n",
            "\u001b[34m\u001b[1mtrain: \u001b[0m/content/dataset/images/train/Seasoned chicken_Img_023_0079.jpg: corrupt JPEG restored and saved\n",
            "\u001b[34m\u001b[1mtrain: \u001b[0m/content/dataset/images/train/Seasoned chicken_Img_023_0080.jpg: corrupt JPEG restored and saved\n",
            "\u001b[34m\u001b[1mtrain: \u001b[0m/content/dataset/images/train/Seasoned chicken_Img_023_0081.jpg: corrupt JPEG restored and saved\n",
            "\u001b[34m\u001b[1mtrain: \u001b[0m/content/dataset/images/train/Seasoned fernbrake_Img_041_0024.jpg: corrupt JPEG restored and saved\n",
            "\u001b[34m\u001b[1mtrain: \u001b[0m/content/dataset/images/train/Seasoned fernbrake_Img_041_0040.jpg: corrupt JPEG restored and saved\n",
            "\u001b[34m\u001b[1mtrain: \u001b[0m/content/dataset/images/train/Seasoned fernbrake_Img_041_0085.jpg: ignoring corrupt image/label: invalid image format GIF. Supported formats are:\n",
            "images: {'webp', 'bmp', 'png', 'jpeg', 'mpo', 'pfm', 'tiff', 'jpg', 'heic', 'dng', 'tif'}\n",
            "videos: {'mov', 'mkv', 'mpeg', 'm4v', 'gif', 'mp4', 'webm', 'mpg', 'avi', 'ts', 'wmv', 'asf'}\n",
            "\u001b[34m\u001b[1mtrain: \u001b[0m/content/dataset/images/train/Seasoned fernbrake_Img_041_0088.jpg: corrupt JPEG restored and saved\n",
            "\u001b[34m\u001b[1mtrain: \u001b[0m/content/dataset/images/train/Seasoned fernbrake_Img_041_0096.jpg: corrupt JPEG restored and saved\n",
            "\u001b[34m\u001b[1mtrain: \u001b[0m/content/dataset/images/train/Seasoned soybean sprouts_Img_043_0010.jpg: ignoring corrupt image/label: invalid image format GIF. Supported formats are:\n",
            "images: {'webp', 'bmp', 'png', 'jpeg', 'mpo', 'pfm', 'tiff', 'jpg', 'heic', 'dng', 'tif'}\n",
            "videos: {'mov', 'mkv', 'mpeg', 'm4v', 'gif', 'mp4', 'webm', 'mpg', 'avi', 'ts', 'wmv', 'asf'}\n",
            "\u001b[34m\u001b[1mtrain: \u001b[0m/content/dataset/images/train/Seasoned soybean sprouts_Img_043_0014.jpg: ignoring corrupt image/label: invalid image format GIF. Supported formats are:\n",
            "images: {'webp', 'bmp', 'png', 'jpeg', 'mpo', 'pfm', 'tiff', 'jpg', 'heic', 'dng', 'tif'}\n",
            "videos: {'mov', 'mkv', 'mpeg', 'm4v', 'gif', 'mp4', 'webm', 'mpg', 'avi', 'ts', 'wmv', 'asf'}\n",
            "\u001b[34m\u001b[1mtrain: \u001b[0m/content/dataset/images/train/Seasoned soybean sprouts_Img_043_0062.jpg: corrupt JPEG restored and saved\n",
            "\u001b[34m\u001b[1mtrain: \u001b[0m/content/dataset/images/train/Seasoned soybean sprouts_Img_043_0063.jpg: ignoring corrupt image/label: invalid image format GIF. Supported formats are:\n",
            "images: {'webp', 'bmp', 'png', 'jpeg', 'mpo', 'pfm', 'tiff', 'jpg', 'heic', 'dng', 'tif'}\n",
            "videos: {'mov', 'mkv', 'mpeg', 'm4v', 'gif', 'mp4', 'webm', 'mpg', 'avi', 'ts', 'wmv', 'asf'}\n",
            "\u001b[34m\u001b[1mtrain: \u001b[0m/content/dataset/images/train/Seasoned soybean sprouts_Img_043_0070.jpg: ignoring corrupt image/label: invalid image format GIF. Supported formats are:\n",
            "images: {'webp', 'bmp', 'png', 'jpeg', 'mpo', 'pfm', 'tiff', 'jpg', 'heic', 'dng', 'tif'}\n",
            "videos: {'mov', 'mkv', 'mpeg', 'm4v', 'gif', 'mp4', 'webm', 'mpg', 'avi', 'ts', 'wmv', 'asf'}\n",
            "\u001b[34m\u001b[1mtrain: \u001b[0m/content/dataset/images/train/Short rib soup_Img_134_0007.jpg: corrupt JPEG restored and saved\n",
            "\u001b[34m\u001b[1mtrain: \u001b[0m/content/dataset/images/train/Short rib soup_Img_134_0088.jpg: corrupt JPEG restored and saved\n",
            "\u001b[34m\u001b[1mtrain: \u001b[0m/content/dataset/images/train/Short rib soup_Img_134_0100.jpg: corrupt JPEG restored and saved\n",
            "\u001b[34m\u001b[1mtrain: \u001b[0m/content/dataset/images/train/Sliced boiled meat_Img_026_0003.jpg: ignoring corrupt image/label: invalid image format GIF. Supported formats are:\n",
            "images: {'webp', 'bmp', 'png', 'jpeg', 'mpo', 'pfm', 'tiff', 'jpg', 'heic', 'dng', 'tif'}\n",
            "videos: {'mov', 'mkv', 'mpeg', 'm4v', 'gif', 'mp4', 'webm', 'mpg', 'avi', 'ts', 'wmv', 'asf'}\n",
            "\u001b[34m\u001b[1mtrain: \u001b[0m/content/dataset/images/train/Sliced boiled meat_Img_026_0012.jpg: ignoring corrupt image/label: invalid image format GIF. Supported formats are:\n",
            "images: {'webp', 'bmp', 'png', 'jpeg', 'mpo', 'pfm', 'tiff', 'jpg', 'heic', 'dng', 'tif'}\n",
            "videos: {'mov', 'mkv', 'mpeg', 'm4v', 'gif', 'mp4', 'webm', 'mpg', 'avi', 'ts', 'wmv', 'asf'}\n",
            "\u001b[34m\u001b[1mtrain: \u001b[0m/content/dataset/images/train/Sliced radish kimchi_Img_030_0007.jpg: corrupt JPEG restored and saved\n",
            "\u001b[34m\u001b[1mtrain: \u001b[0m/content/dataset/images/train/Sliced radish kimchi_Img_030_0050.jpg: corrupt JPEG restored and saved\n",
            "\u001b[34m\u001b[1mtrain: \u001b[0m/content/dataset/images/train/Sliced radish kimchi_Img_030_0054.jpg: corrupt JPEG restored and saved\n",
            "\u001b[34m\u001b[1mtrain: \u001b[0m/content/dataset/images/train/Soft tofu stew_Img_123_0028.jpg: corrupt JPEG restored and saved\n",
            "\u001b[34m\u001b[1mtrain: \u001b[0m/content/dataset/images/train/Soy Sauce Marinated Crab_Img_093_0011.jpg: corrupt JPEG restored and saved\n",
            "\u001b[34m\u001b[1mtrain: \u001b[0m/content/dataset/images/train/Soy Sauce Marinated Crab_Img_093_0013.jpg: corrupt JPEG restored and saved\n",
            "\u001b[34m\u001b[1mtrain: \u001b[0m/content/dataset/images/train/Soy braised soybeans_Img_111_0027.jpg: corrupt JPEG restored and saved\n",
            "\u001b[34m\u001b[1mtrain: \u001b[0m/content/dataset/images/train/Soy braised soybeans_Img_111_0032.jpg: corrupt JPEG restored and saved\n",
            "\u001b[34m\u001b[1mtrain: \u001b[0m/content/dataset/images/train/Soy braised soybeans_Img_111_0039.jpg: corrupt JPEG restored and saved\n",
            "\u001b[34m\u001b[1mtrain: \u001b[0m/content/dataset/images/train/Soy braised soybeans_Img_111_0048.jpg: corrupt JPEG restored and saved\n",
            "\u001b[34m\u001b[1mtrain: \u001b[0m/content/dataset/images/train/Soy braised soybeans_Img_111_0058.jpg: corrupt JPEG restored and saved\n",
            "\u001b[34m\u001b[1mtrain: \u001b[0m/content/dataset/images/train/Soybean paste soup_Img_019_0027.jpg: corrupt JPEG restored and saved\n",
            "\u001b[34m\u001b[1mtrain: \u001b[0m/content/dataset/images/train/Soybean paste soup_Img_019_0066.jpg: corrupt JPEG restored and saved\n",
            "\u001b[34m\u001b[1mtrain: \u001b[0m/content/dataset/images/train/Soybean paste soup_Img_019_0086.jpg: corrupt JPEG restored and saved\n",
            "\u001b[34m\u001b[1mtrain: \u001b[0m/content/dataset/images/train/Soybean paste stew_Img_122_0043.jpg: corrupt JPEG restored and saved\n",
            "\u001b[34m\u001b[1mtrain: \u001b[0m/content/dataset/images/train/Soybean paste stew_Img_122_0056.jpg: ignoring corrupt image/label: invalid image format GIF. Supported formats are:\n",
            "images: {'webp', 'bmp', 'png', 'jpeg', 'mpo', 'pfm', 'tiff', 'jpg', 'heic', 'dng', 'tif'}\n",
            "videos: {'mov', 'mkv', 'mpeg', 'm4v', 'gif', 'mp4', 'webm', 'mpg', 'avi', 'ts', 'wmv', 'asf'}\n",
            "\u001b[34m\u001b[1mtrain: \u001b[0m/content/dataset/images/train/Spicy Braised Chicken_Img_128_0009.jpg: corrupt JPEG restored and saved\n",
            "\u001b[34m\u001b[1mtrain: \u001b[0m/content/dataset/images/train/Spicy Braised Seafood_Img_133_0092.jpg: ignoring corrupt image/label: invalid image format GIF. Supported formats are:\n",
            "images: {'webp', 'bmp', 'png', 'jpeg', 'mpo', 'pfm', 'tiff', 'jpg', 'heic', 'dng', 'tif'}\n",
            "videos: {'mov', 'mkv', 'mpeg', 'm4v', 'gif', 'mp4', 'webm', 'mpg', 'avi', 'ts', 'wmv', 'asf'}\n",
            "\u001b[34m\u001b[1mtrain: \u001b[0m/content/dataset/images/train/Spicy fish stew_Img_137_0073.jpg: ignoring corrupt image/label: invalid image format GIF. Supported formats are:\n",
            "images: {'webp', 'bmp', 'png', 'jpeg', 'mpo', 'pfm', 'tiff', 'jpg', 'heic', 'dng', 'tif'}\n",
            "videos: {'mov', 'mkv', 'mpeg', 'm4v', 'gif', 'mp4', 'webm', 'mpg', 'avi', 'ts', 'wmv', 'asf'}\n",
            "\u001b[34m\u001b[1mtrain: \u001b[0m/content/dataset/images/train/Spicy fish stew_Img_137_0097.jpg: corrupt JPEG restored and saved\n",
            "\u001b[34m\u001b[1mtrain: \u001b[0m/content/dataset/images/train/Spicy rice cake_Img_082_0030.jpg: corrupt JPEG restored and saved\n",
            "\u001b[34m\u001b[1mtrain: \u001b[0m/content/dataset/images/train/Spicy seafood noodle soup_Img_058_0030.jpg: corrupt JPEG restored and saved\n",
            "\u001b[34m\u001b[1mtrain: \u001b[0m/content/dataset/images/train/Spicy seafood noodle soup_Img_058_0032.jpg: corrupt JPEG restored and saved\n",
            "\u001b[34m\u001b[1mtrain: \u001b[0m/content/dataset/images/train/Spicy seafood noodle soup_Img_058_0090.jpg: ignoring corrupt image/label: invalid image format GIF. Supported formats are:\n",
            "images: {'webp', 'bmp', 'png', 'jpeg', 'mpo', 'pfm', 'tiff', 'jpg', 'heic', 'dng', 'tif'}\n",
            "videos: {'mov', 'mkv', 'mpeg', 'm4v', 'gif', 'mp4', 'webm', 'mpg', 'avi', 'ts', 'wmv', 'asf'}\n",
            "\u001b[34m\u001b[1mtrain: \u001b[0m/content/dataset/images/train/Spicy stir fried pork_Img_088_0032.jpg: corrupt JPEG restored and saved\n",
            "\u001b[34m\u001b[1mtrain: \u001b[0m/content/dataset/images/train/Spicy stir fried pork_Img_088_0060.jpg: corrupt JPEG restored and saved\n",
            "\u001b[34m\u001b[1mtrain: \u001b[0m/content/dataset/images/train/Steamed eggs_Img_125_0095.jpg: ignoring corrupt image/label: invalid image format GIF. Supported formats are:\n",
            "images: {'webp', 'bmp', 'png', 'jpeg', 'mpo', 'pfm', 'tiff', 'jpg', 'heic', 'dng', 'tif'}\n",
            "videos: {'mov', 'mkv', 'mpeg', 'm4v', 'gif', 'mp4', 'webm', 'mpg', 'avi', 'ts', 'wmv', 'asf'}\n",
            "\u001b[34m\u001b[1mtrain: \u001b[0m/content/dataset/images/train/Steamed eggs_Img_125_0099.jpg: corrupt JPEG restored and saved\n",
            "\u001b[34m\u001b[1mtrain: \u001b[0m/content/dataset/images/train/Stir fried anchovies_Img_084_0095.jpg: corrupt JPEG restored and saved\n",
            "\u001b[34m\u001b[1mtrain: \u001b[0m/content/dataset/images/train/Stir fried sausage_Img_085_0072.jpg: corrupt JPEG restored and saved\n",
            "\u001b[34m\u001b[1mtrain: \u001b[0m/content/dataset/images/train/Stir fried seaweed stems_Img_042_0012.jpg: corrupt JPEG restored and saved\n",
            "\u001b[34m\u001b[1mtrain: \u001b[0m/content/dataset/images/train/Stir fried seaweed stems_Img_042_0062.jpg: corrupt JPEG restored and saved\n",
            "\u001b[34m\u001b[1mtrain: \u001b[0m/content/dataset/images/train/Stir fried seaweed stems_Img_042_0063.jpg: corrupt JPEG restored and saved\n",
            "\u001b[34m\u001b[1mtrain: \u001b[0m/content/dataset/images/train/Stir fried seaweed stems_Img_042_0066.jpg: corrupt JPEG restored and saved\n",
            "\u001b[34m\u001b[1mtrain: \u001b[0m/content/dataset/images/train/Stir fried seaweed stems_Img_042_0069.jpg: corrupt JPEG restored and saved\n",
            "\u001b[34m\u001b[1mtrain: \u001b[0m/content/dataset/images/train/Stir fried seaweed stems_Img_042_0072.jpg: corrupt JPEG restored and saved\n",
            "\u001b[34m\u001b[1mtrain: \u001b[0m/content/dataset/images/train/Stir fried seaweed stems_Img_042_0075.jpg: corrupt JPEG restored and saved\n",
            "\u001b[34m\u001b[1mtrain: \u001b[0m/content/dataset/images/train/Stir fried seaweed stems_Img_042_0081.jpg: corrupt JPEG restored and saved\n",
            "\u001b[34m\u001b[1mtrain: \u001b[0m/content/dataset/images/train/Stir fried seaweed stems_Img_042_0082.jpg: corrupt JPEG restored and saved\n",
            "\u001b[34m\u001b[1mtrain: \u001b[0m/content/dataset/images/train/Stir fried shredded squid_Img_087_0007.jpg: corrupt JPEG restored and saved\n",
            "\u001b[34m\u001b[1mtrain: \u001b[0m/content/dataset/images/train/Stir fried shredded squid_Img_087_0079.jpg: corrupt JPEG restored and saved\n",
            "\u001b[34m\u001b[1mtrain: \u001b[0m/content/dataset/images/train/Stir fried spicy seasoned dried squid_Img_080_0017.jpg: corrupt JPEG restored and saved\n",
            "\u001b[34m\u001b[1mtrain: \u001b[0m/content/dataset/images/train/Stir fried spicy seasoned dried squid_Img_080_0035.jpg: corrupt JPEG restored and saved\n",
            "\u001b[34m\u001b[1mtrain: \u001b[0m/content/dataset/images/train/Stir fried spicy seasoned dried squid_Img_080_0038.jpg: corrupt JPEG restored and saved\n",
            "\u001b[34m\u001b[1mtrain: \u001b[0m/content/dataset/images/train/Stir fried spicy seasoned dried squid_Img_080_0092.jpg: corrupt JPEG restored and saved\n",
            "\u001b[34m\u001b[1mtrain: \u001b[0m/content/dataset/images/train/Stir fried spicy seasoned dried squid_Img_080_0094.jpg: corrupt JPEG restored and saved\n",
            "\u001b[34m\u001b[1mtrain: \u001b[0m/content/dataset/images/train/Stir fried spicy seasoned dried squid_Img_080_0097.jpg: corrupt JPEG restored and saved\n",
            "\u001b[34m\u001b[1mtrain: \u001b[0m/content/dataset/images/train/Stir-fried chili peppers_Img_062_0031.jpg: corrupt JPEG restored and saved\n",
            "\u001b[34m\u001b[1mtrain: \u001b[0m/content/dataset/images/train/Stir-fried shredded potatoes_Img_078_0006.jpg: corrupt JPEG restored and saved\n",
            "\u001b[34m\u001b[1mtrain: \u001b[0m/content/dataset/images/train/Stir-fried shredded potatoes_Img_078_0035.jpg: corrupt JPEG restored and saved\n",
            "\u001b[34m\u001b[1mtrain: \u001b[0m/content/dataset/images/train/Sweet rice balls_Img_046_0094.jpg: corrupt JPEG restored and saved\n",
            "\u001b[34m\u001b[1mtrain: \u001b[0m/content/dataset/images/train/Sweet rice drink_Img_092_0015.jpg: corrupt JPEG restored and saved\n",
            "\u001b[34m\u001b[1mtrain: \u001b[0m/content/dataset/images/train/Sweet rice drink_Img_092_0081.jpg: ignoring corrupt image/label: invalid image format GIF. Supported formats are:\n",
            "images: {'webp', 'bmp', 'png', 'jpeg', 'mpo', 'pfm', 'tiff', 'jpg', 'heic', 'dng', 'tif'}\n",
            "videos: {'mov', 'mkv', 'mpeg', 'm4v', 'gif', 'mp4', 'webm', 'mpg', 'avi', 'ts', 'wmv', 'asf'}\n"
          ]
        },
        {
          "metadata": {
            "tags": null
          },
          "name": "stderr",
          "output_type": "stream",
          "text": [
            "\n"
          ]
        },
        {
          "metadata": {
            "tags": null
          },
          "name": "stdout",
          "output_type": "stream",
          "text": [
            "Plotting labels to /content/drive/MyDrive/prometheus/models/yolov8_all_labeled2/labels.jpg... \n",
            "\u001b[34m\u001b[1moptimizer:\u001b[0m 'optimizer=auto' found, ignoring 'lr0=0.001' and 'momentum=0.937' and determining best 'optimizer', 'lr0' and 'momentum' automatically... \n",
            "\u001b[34m\u001b[1moptimizer:\u001b[0m SGD(lr=0.01, momentum=0.9) with parameter groups 57 weight(decay=0.0), 64 weight(decay=0.0005), 63 bias(decay=0.0)\n",
            "Image sizes 640 train, 640 val\n",
            "Using 2 dataloader workers\n",
            "Logging results to \u001b[1m/content/drive/MyDrive/prometheus/models/yolov8_all_labeled2\u001b[0m\n",
            "Starting training for 100 epochs...\n",
            "\n",
            "      Epoch    GPU_mem   box_loss   cls_loss   dfl_loss  Instances       Size\n"
          ]
        },
        {
          "metadata": {
            "tags": null
          },
          "name": "stderr",
          "output_type": "stream",
          "text": [
            "      1/100      7.45G      1.174      4.172      1.599         54        640: 100%|██████████| 289/289 [03:55<00:00,  1.23it/s]\n",
            "                 Class     Images  Instances      Box(P          R      mAP50  mAP50-95): 100%|██████████| 145/145 [01:39<00:00,  1.46it/s]\n"
          ]
        },
        {
          "metadata": {
            "tags": null
          },
          "name": "stdout",
          "output_type": "stream",
          "text": [
            "                   all       9232       9432      0.252      0.367      0.197      0.143\n",
            "\n",
            "      Epoch    GPU_mem   box_loss   cls_loss   dfl_loss  Instances       Size\n"
          ]
        },
        {
          "metadata": {
            "tags": null
          },
          "name": "stderr",
          "output_type": "stream",
          "text": [
            "      2/100      6.89G      1.037       2.65      1.427         57        640: 100%|██████████| 289/289 [03:40<00:00,  1.31it/s]\n",
            "                 Class     Images  Instances      Box(P          R      mAP50  mAP50-95): 100%|██████████| 145/145 [01:42<00:00,  1.41it/s]\n"
          ]
        },
        {
          "metadata": {
            "tags": null
          },
          "name": "stdout",
          "output_type": "stream",
          "text": [
            "                   all       9232       9432      0.353      0.444      0.352      0.256\n",
            "\n",
            "      Epoch    GPU_mem   box_loss   cls_loss   dfl_loss  Instances       Size\n"
          ]
        },
        {
          "metadata": {
            "tags": null
          },
          "name": "stderr",
          "output_type": "stream",
          "text": [
            "      3/100      6.89G      1.081      2.471      1.446         52        640: 100%|██████████| 289/289 [03:40<00:00,  1.31it/s]\n",
            "                 Class     Images  Instances      Box(P          R      mAP50  mAP50-95): 100%|██████████| 145/145 [01:44<00:00,  1.39it/s]\n"
          ]
        },
        {
          "metadata": {
            "tags": null
          },
          "name": "stdout",
          "output_type": "stream",
          "text": [
            "                   all       9232       9432      0.225      0.238      0.109     0.0688\n",
            "\n",
            "      Epoch    GPU_mem   box_loss   cls_loss   dfl_loss  Instances       Size\n"
          ]
        },
        {
          "metadata": {
            "tags": null
          },
          "name": "stderr",
          "output_type": "stream",
          "text": [
            "      4/100       6.9G      1.132      2.538       1.48         34        640: 100%|██████████| 289/289 [03:42<00:00,  1.30it/s]\n",
            "                 Class     Images  Instances      Box(P          R      mAP50  mAP50-95): 100%|██████████| 145/145 [01:45<00:00,  1.38it/s]\n"
          ]
        },
        {
          "metadata": {
            "tags": null
          },
          "name": "stdout",
          "output_type": "stream",
          "text": [
            "                   all       9232       9432      0.332      0.345      0.261      0.172\n",
            "\n",
            "      Epoch    GPU_mem   box_loss   cls_loss   dfl_loss  Instances       Size\n"
          ]
        },
        {
          "metadata": {
            "tags": null
          },
          "name": "stderr",
          "output_type": "stream",
          "text": [
            "      5/100      6.92G      1.122      2.395      1.467         43        640: 100%|██████████| 289/289 [03:45<00:00,  1.28it/s]\n",
            "                 Class     Images  Instances      Box(P          R      mAP50  mAP50-95): 100%|██████████| 145/145 [01:43<00:00,  1.41it/s]\n"
          ]
        },
        {
          "metadata": {
            "tags": null
          },
          "name": "stdout",
          "output_type": "stream",
          "text": [
            "                   all       9232       9432      0.347      0.419      0.346      0.247\n",
            "\n",
            "      Epoch    GPU_mem   box_loss   cls_loss   dfl_loss  Instances       Size\n"
          ]
        },
        {
          "metadata": {
            "tags": null
          },
          "name": "stderr",
          "output_type": "stream",
          "text": [
            "      6/100      6.92G      1.096      2.252      1.443         51        640: 100%|██████████| 289/289 [03:46<00:00,  1.28it/s]\n",
            "                 Class     Images  Instances      Box(P          R      mAP50  mAP50-95): 100%|██████████| 145/145 [01:44<00:00,  1.39it/s]\n"
          ]
        },
        {
          "metadata": {
            "tags": null
          },
          "name": "stdout",
          "output_type": "stream",
          "text": [
            "                   all       9232       9432      0.366      0.458      0.369      0.259\n",
            "\n",
            "      Epoch    GPU_mem   box_loss   cls_loss   dfl_loss  Instances       Size\n"
          ]
        },
        {
          "metadata": {
            "tags": null
          },
          "name": "stderr",
          "output_type": "stream",
          "text": [
            "      7/100      6.92G      1.075      2.158      1.426         49        640: 100%|██████████| 289/289 [03:46<00:00,  1.28it/s]\n",
            "                 Class     Images  Instances      Box(P          R      mAP50  mAP50-95): 100%|██████████| 145/145 [01:48<00:00,  1.34it/s]\n"
          ]
        },
        {
          "metadata": {
            "tags": null
          },
          "name": "stdout",
          "output_type": "stream",
          "text": [
            "                   all       9232       9432      0.457      0.513      0.482      0.349\n",
            "\n",
            "      Epoch    GPU_mem   box_loss   cls_loss   dfl_loss  Instances       Size\n"
          ]
        },
        {
          "metadata": {
            "tags": null
          },
          "name": "stderr",
          "output_type": "stream",
          "text": [
            "      8/100      6.92G      1.069      2.068      1.417         43        640: 100%|██████████| 289/289 [03:47<00:00,  1.27it/s]\n",
            "                 Class     Images  Instances      Box(P          R      mAP50  mAP50-95): 100%|██████████| 145/145 [01:44<00:00,  1.38it/s]\n"
          ]
        },
        {
          "metadata": {
            "tags": null
          },
          "name": "stdout",
          "output_type": "stream",
          "text": [
            "                   all       9232       9432      0.464      0.508      0.483      0.348\n",
            "\n",
            "      Epoch    GPU_mem   box_loss   cls_loss   dfl_loss  Instances       Size\n"
          ]
        },
        {
          "metadata": {
            "tags": null
          },
          "name": "stderr",
          "output_type": "stream",
          "text": [
            "      9/100      6.92G      1.047       2.03      1.406         37        640: 100%|██████████| 289/289 [03:50<00:00,  1.25it/s]\n",
            "                 Class     Images  Instances      Box(P          R      mAP50  mAP50-95): 100%|██████████| 145/145 [01:51<00:00,  1.30it/s]\n"
          ]
        },
        {
          "metadata": {
            "tags": null
          },
          "name": "stdout",
          "output_type": "stream",
          "text": [
            "                   all       9232       9432      0.546      0.578      0.591      0.433\n",
            "\n",
            "      Epoch    GPU_mem   box_loss   cls_loss   dfl_loss  Instances       Size\n"
          ]
        },
        {
          "metadata": {
            "tags": null
          },
          "name": "stderr",
          "output_type": "stream",
          "text": [
            "     10/100      6.92G      1.045      1.942      1.404         56        640: 100%|██████████| 289/289 [04:03<00:00,  1.19it/s]\n",
            "                 Class     Images  Instances      Box(P          R      mAP50  mAP50-95): 100%|██████████| 145/145 [01:52<00:00,  1.29it/s]\n"
          ]
        },
        {
          "metadata": {
            "tags": null
          },
          "name": "stdout",
          "output_type": "stream",
          "text": [
            "                   all       9232       9432      0.544      0.574      0.585      0.435\n",
            "\n",
            "      Epoch    GPU_mem   box_loss   cls_loss   dfl_loss  Instances       Size\n"
          ]
        },
        {
          "metadata": {
            "tags": null
          },
          "name": "stderr",
          "output_type": "stream",
          "text": [
            "     11/100      6.92G      1.029      1.879      1.389         60        640: 100%|██████████| 289/289 [03:43<00:00,  1.29it/s]\n",
            "                 Class     Images  Instances      Box(P          R      mAP50  mAP50-95): 100%|██████████| 145/145 [01:38<00:00,  1.47it/s]\n"
          ]
        },
        {
          "metadata": {
            "tags": null
          },
          "name": "stdout",
          "output_type": "stream",
          "text": [
            "                   all       9232       9432      0.551      0.601      0.594      0.442\n",
            "\n",
            "      Epoch    GPU_mem   box_loss   cls_loss   dfl_loss  Instances       Size\n"
          ]
        },
        {
          "metadata": {
            "tags": null
          },
          "name": "stderr",
          "output_type": "stream",
          "text": [
            "     12/100      6.92G      1.021      1.844      1.381         58        640: 100%|██████████| 289/289 [03:48<00:00,  1.27it/s]\n",
            "                 Class     Images  Instances      Box(P          R      mAP50  mAP50-95): 100%|██████████| 145/145 [01:50<00:00,  1.31it/s]\n"
          ]
        },
        {
          "metadata": {
            "tags": null
          },
          "name": "stdout",
          "output_type": "stream",
          "text": [
            "                   all       9232       9432       0.61      0.639      0.684      0.514\n",
            "\n",
            "      Epoch    GPU_mem   box_loss   cls_loss   dfl_loss  Instances       Size\n"
          ]
        },
        {
          "metadata": {
            "tags": null
          },
          "name": "stderr",
          "output_type": "stream",
          "text": [
            "     13/100      6.92G      1.002      1.788      1.367         44        640: 100%|██████████| 289/289 [03:47<00:00,  1.27it/s]\n",
            "                 Class     Images  Instances      Box(P          R      mAP50  mAP50-95): 100%|██████████| 145/145 [01:48<00:00,  1.34it/s]\n"
          ]
        },
        {
          "metadata": {
            "tags": null
          },
          "name": "stdout",
          "output_type": "stream",
          "text": [
            "                   all       9232       9432      0.599       0.64      0.667      0.508\n",
            "\n",
            "      Epoch    GPU_mem   box_loss   cls_loss   dfl_loss  Instances       Size\n"
          ]
        },
        {
          "metadata": {
            "tags": null
          },
          "name": "stderr",
          "output_type": "stream",
          "text": [
            "     14/100      6.92G      1.007      1.776      1.371         58        640: 100%|██████████| 289/289 [03:49<00:00,  1.26it/s]\n",
            "                 Class     Images  Instances      Box(P          R      mAP50  mAP50-95): 100%|██████████| 145/145 [01:48<00:00,  1.33it/s]\n"
          ]
        },
        {
          "metadata": {
            "tags": null
          },
          "name": "stdout",
          "output_type": "stream",
          "text": [
            "                   all       9232       9432      0.639      0.646      0.698       0.53\n",
            "\n",
            "      Epoch    GPU_mem   box_loss   cls_loss   dfl_loss  Instances       Size\n"
          ]
        },
        {
          "metadata": {
            "tags": null
          },
          "name": "stderr",
          "output_type": "stream",
          "text": [
            "     15/100      6.92G     0.9967      1.728      1.361         53        640: 100%|██████████| 289/289 [03:43<00:00,  1.29it/s]\n",
            "                 Class     Images  Instances      Box(P          R      mAP50  mAP50-95): 100%|██████████| 145/145 [01:49<00:00,  1.33it/s]\n"
          ]
        },
        {
          "metadata": {
            "tags": null
          },
          "name": "stdout",
          "output_type": "stream",
          "text": [
            "                   all       9232       9432      0.646      0.679      0.733      0.556\n",
            "\n",
            "      Epoch    GPU_mem   box_loss   cls_loss   dfl_loss  Instances       Size\n"
          ]
        },
        {
          "metadata": {
            "tags": null
          },
          "name": "stderr",
          "output_type": "stream",
          "text": [
            "     16/100      6.92G     0.9845      1.688      1.355         52        640: 100%|██████████| 289/289 [03:40<00:00,  1.31it/s]\n",
            "                 Class     Images  Instances      Box(P          R      mAP50  mAP50-95): 100%|██████████| 145/145 [01:45<00:00,  1.38it/s]\n"
          ]
        },
        {
          "metadata": {
            "tags": null
          },
          "name": "stdout",
          "output_type": "stream",
          "text": [
            "                   all       9232       9432      0.683      0.683      0.745      0.565\n",
            "\n",
            "      Epoch    GPU_mem   box_loss   cls_loss   dfl_loss  Instances       Size\n"
          ]
        },
        {
          "metadata": {
            "tags": null
          },
          "name": "stderr",
          "output_type": "stream",
          "text": [
            "     17/100      6.92G      0.975       1.65      1.349         60        640: 100%|██████████| 289/289 [03:47<00:00,  1.27it/s]\n",
            "                 Class     Images  Instances      Box(P          R      mAP50  mAP50-95): 100%|██████████| 145/145 [01:48<00:00,  1.33it/s]\n"
          ]
        },
        {
          "metadata": {
            "tags": null
          },
          "name": "stdout",
          "output_type": "stream",
          "text": [
            "                   all       9232       9432      0.699      0.712       0.77       0.59\n",
            "\n",
            "      Epoch    GPU_mem   box_loss   cls_loss   dfl_loss  Instances       Size\n"
          ]
        },
        {
          "metadata": {
            "tags": null
          },
          "name": "stderr",
          "output_type": "stream",
          "text": [
            "     18/100      6.92G     0.9722      1.626      1.345         47        640: 100%|██████████| 289/289 [03:54<00:00,  1.23it/s]\n",
            "                 Class     Images  Instances      Box(P          R      mAP50  mAP50-95): 100%|██████████| 145/145 [01:43<00:00,  1.40it/s]\n"
          ]
        },
        {
          "metadata": {
            "tags": null
          },
          "name": "stdout",
          "output_type": "stream",
          "text": [
            "                   all       9232       9432      0.708       0.72      0.781      0.604\n",
            "\n",
            "      Epoch    GPU_mem   box_loss   cls_loss   dfl_loss  Instances       Size\n"
          ]
        },
        {
          "metadata": {
            "tags": null
          },
          "name": "stderr",
          "output_type": "stream",
          "text": [
            "     19/100      6.92G     0.9764      1.606      1.347         54        640: 100%|██████████| 289/289 [03:49<00:00,  1.26it/s]\n",
            "                 Class     Images  Instances      Box(P          R      mAP50  mAP50-95): 100%|██████████| 145/145 [01:41<00:00,  1.43it/s]\n"
          ]
        },
        {
          "metadata": {
            "tags": null
          },
          "name": "stdout",
          "output_type": "stream",
          "text": [
            "                   all       9232       9432       0.71      0.713      0.783      0.601\n",
            "\n",
            "      Epoch    GPU_mem   box_loss   cls_loss   dfl_loss  Instances       Size\n"
          ]
        },
        {
          "metadata": {
            "tags": null
          },
          "name": "stderr",
          "output_type": "stream",
          "text": [
            "     20/100      6.92G     0.9651      1.577      1.339         56        640: 100%|██████████| 289/289 [03:50<00:00,  1.26it/s]\n",
            "                 Class     Images  Instances      Box(P          R      mAP50  mAP50-95): 100%|██████████| 145/145 [01:38<00:00,  1.47it/s]\n"
          ]
        },
        {
          "metadata": {
            "tags": null
          },
          "name": "stdout",
          "output_type": "stream",
          "text": [
            "                   all       9232       9432      0.723      0.725      0.794      0.615\n",
            "\n",
            "      Epoch    GPU_mem   box_loss   cls_loss   dfl_loss  Instances       Size\n"
          ]
        },
        {
          "metadata": {
            "tags": null
          },
          "name": "stderr",
          "output_type": "stream",
          "text": [
            "     21/100      6.92G     0.9562      1.533      1.331         50        640: 100%|██████████| 289/289 [03:46<00:00,  1.28it/s]\n",
            "                 Class     Images  Instances      Box(P          R      mAP50  mAP50-95): 100%|██████████| 145/145 [01:39<00:00,  1.45it/s]\n"
          ]
        },
        {
          "metadata": {
            "tags": null
          },
          "name": "stdout",
          "output_type": "stream",
          "text": [
            "                   all       9232       9432      0.754      0.751      0.822      0.638\n",
            "\n",
            "      Epoch    GPU_mem   box_loss   cls_loss   dfl_loss  Instances       Size\n"
          ]
        },
        {
          "metadata": {
            "tags": null
          },
          "name": "stderr",
          "output_type": "stream",
          "text": [
            "     22/100      6.92G     0.9554       1.52      1.335         49        640: 100%|██████████| 289/289 [03:47<00:00,  1.27it/s]\n",
            "                 Class     Images  Instances      Box(P          R      mAP50  mAP50-95): 100%|██████████| 145/145 [01:51<00:00,  1.30it/s]\n"
          ]
        },
        {
          "metadata": {
            "tags": null
          },
          "name": "stdout",
          "output_type": "stream",
          "text": [
            "                   all       9232       9432      0.772      0.761      0.833      0.649\n",
            "\n",
            "      Epoch    GPU_mem   box_loss   cls_loss   dfl_loss  Instances       Size\n"
          ]
        },
        {
          "metadata": {
            "tags": null
          },
          "name": "stderr",
          "output_type": "stream",
          "text": [
            "     23/100      6.92G     0.9504      1.502      1.329         45        640: 100%|██████████| 289/289 [03:48<00:00,  1.26it/s]\n",
            "                 Class     Images  Instances      Box(P          R      mAP50  mAP50-95): 100%|██████████| 145/145 [01:38<00:00,  1.47it/s]\n"
          ]
        },
        {
          "metadata": {
            "tags": null
          },
          "name": "stdout",
          "output_type": "stream",
          "text": [
            "                   all       9232       9432      0.759      0.756      0.832      0.648\n",
            "\n",
            "      Epoch    GPU_mem   box_loss   cls_loss   dfl_loss  Instances       Size\n"
          ]
        },
        {
          "metadata": {
            "tags": null
          },
          "name": "stderr",
          "output_type": "stream",
          "text": [
            "     24/100      6.92G     0.9516      1.498      1.331         52        640: 100%|██████████| 289/289 [03:50<00:00,  1.26it/s]\n",
            "                 Class     Images  Instances      Box(P          R      mAP50  mAP50-95): 100%|██████████| 145/145 [01:43<00:00,  1.41it/s]\n"
          ]
        },
        {
          "metadata": {
            "tags": null
          },
          "name": "stdout",
          "output_type": "stream",
          "text": [
            "                   all       9232       9432      0.791       0.79      0.858      0.674\n",
            "\n",
            "      Epoch    GPU_mem   box_loss   cls_loss   dfl_loss  Instances       Size\n"
          ]
        },
        {
          "metadata": {
            "tags": null
          },
          "name": "stderr",
          "output_type": "stream",
          "text": [
            "     25/100      7.14G     0.9404      1.465      1.319         39        640: 100%|██████████| 289/289 [03:46<00:00,  1.28it/s]\n",
            "                 Class     Images  Instances      Box(P          R      mAP50  mAP50-95): 100%|██████████| 145/145 [01:39<00:00,  1.46it/s]\n"
          ]
        },
        {
          "metadata": {
            "tags": null
          },
          "name": "stdout",
          "output_type": "stream",
          "text": [
            "                   all       9232       9432      0.802      0.781       0.86      0.676\n",
            "\n",
            "      Epoch    GPU_mem   box_loss   cls_loss   dfl_loss  Instances       Size\n"
          ]
        },
        {
          "metadata": {
            "tags": null
          },
          "name": "stderr",
          "output_type": "stream",
          "text": [
            "     26/100      7.14G     0.9351      1.457      1.316         70        640: 100%|██████████| 289/289 [03:44<00:00,  1.28it/s]\n",
            "                 Class     Images  Instances      Box(P          R      mAP50  mAP50-95): 100%|██████████| 145/145 [01:43<00:00,  1.40it/s]\n"
          ]
        },
        {
          "metadata": {
            "tags": null
          },
          "name": "stdout",
          "output_type": "stream",
          "text": [
            "                   all       9232       9432      0.798      0.797      0.867      0.683\n",
            "\n",
            "      Epoch    GPU_mem   box_loss   cls_loss   dfl_loss  Instances       Size\n"
          ]
        },
        {
          "metadata": {
            "tags": null
          },
          "name": "stderr",
          "output_type": "stream",
          "text": [
            "     27/100      7.14G     0.9276      1.424       1.31         48        640: 100%|██████████| 289/289 [03:47<00:00,  1.27it/s]\n",
            "                 Class     Images  Instances      Box(P          R      mAP50  mAP50-95): 100%|██████████| 145/145 [01:40<00:00,  1.44it/s]\n"
          ]
        },
        {
          "metadata": {
            "tags": null
          },
          "name": "stdout",
          "output_type": "stream",
          "text": [
            "                   all       9232       9432      0.789      0.814      0.875      0.695\n",
            "\n",
            "      Epoch    GPU_mem   box_loss   cls_loss   dfl_loss  Instances       Size\n"
          ]
        },
        {
          "metadata": {
            "tags": null
          },
          "name": "stderr",
          "output_type": "stream",
          "text": [
            "     28/100      7.14G     0.9297      1.407      1.314         53        640: 100%|██████████| 289/289 [03:50<00:00,  1.26it/s]\n",
            "                 Class     Images  Instances      Box(P          R      mAP50  mAP50-95): 100%|██████████| 145/145 [01:41<00:00,  1.42it/s]\n"
          ]
        },
        {
          "metadata": {
            "tags": null
          },
          "name": "stdout",
          "output_type": "stream",
          "text": [
            "                   all       9232       9432      0.837      0.807      0.888      0.706\n",
            "\n",
            "      Epoch    GPU_mem   box_loss   cls_loss   dfl_loss  Instances       Size\n"
          ]
        },
        {
          "metadata": {
            "tags": null
          },
          "name": "stderr",
          "output_type": "stream",
          "text": [
            "     29/100      7.14G     0.9268      1.385      1.307         70        640: 100%|██████████| 289/289 [03:47<00:00,  1.27it/s]\n",
            "                 Class     Images  Instances      Box(P          R      mAP50  mAP50-95): 100%|██████████| 145/145 [01:39<00:00,  1.46it/s]\n"
          ]
        },
        {
          "metadata": {
            "tags": null
          },
          "name": "stdout",
          "output_type": "stream",
          "text": [
            "                   all       9232       9432      0.829      0.822      0.893       0.71\n",
            "\n",
            "      Epoch    GPU_mem   box_loss   cls_loss   dfl_loss  Instances       Size\n"
          ]
        },
        {
          "metadata": {
            "tags": null
          },
          "name": "stderr",
          "output_type": "stream",
          "text": [
            "     30/100      7.14G     0.9238      1.366      1.308         52        640: 100%|██████████| 289/289 [03:46<00:00,  1.28it/s]\n",
            "                 Class     Images  Instances      Box(P          R      mAP50  mAP50-95): 100%|██████████| 145/145 [01:36<00:00,  1.50it/s]\n"
          ]
        },
        {
          "metadata": {
            "tags": null
          },
          "name": "stdout",
          "output_type": "stream",
          "text": [
            "                   all       9232       9432      0.841      0.833      0.903       0.72\n",
            "\n",
            "      Epoch    GPU_mem   box_loss   cls_loss   dfl_loss  Instances       Size\n"
          ]
        },
        {
          "metadata": {
            "tags": null
          },
          "name": "stderr",
          "output_type": "stream",
          "text": [
            "     31/100      7.14G     0.9198      1.352      1.305         60        640: 100%|██████████| 289/289 [03:43<00:00,  1.29it/s]\n",
            "                 Class     Images  Instances      Box(P          R      mAP50  mAP50-95): 100%|██████████| 145/145 [01:39<00:00,  1.46it/s]\n"
          ]
        },
        {
          "metadata": {
            "tags": null
          },
          "name": "stdout",
          "output_type": "stream",
          "text": [
            "                   all       9232       9432      0.835      0.838      0.904      0.725\n",
            "\n",
            "      Epoch    GPU_mem   box_loss   cls_loss   dfl_loss  Instances       Size\n"
          ]
        },
        {
          "metadata": {
            "tags": null
          },
          "name": "stderr",
          "output_type": "stream",
          "text": [
            "     32/100      7.14G     0.9088       1.33      1.295         56        640: 100%|██████████| 289/289 [03:46<00:00,  1.28it/s]\n",
            "                 Class     Images  Instances      Box(P          R      mAP50  mAP50-95): 100%|██████████| 145/145 [01:41<00:00,  1.43it/s]\n"
          ]
        },
        {
          "metadata": {
            "tags": null
          },
          "name": "stdout",
          "output_type": "stream",
          "text": [
            "                   all       9232       9432      0.845      0.834      0.903      0.723\n",
            "\n",
            "      Epoch    GPU_mem   box_loss   cls_loss   dfl_loss  Instances       Size\n"
          ]
        },
        {
          "metadata": {
            "tags": null
          },
          "name": "stderr",
          "output_type": "stream",
          "text": [
            "     33/100      7.14G     0.9081      1.314      1.297         58        640: 100%|██████████| 289/289 [03:46<00:00,  1.28it/s]\n",
            "                 Class     Images  Instances      Box(P          R      mAP50  mAP50-95): 100%|██████████| 145/145 [01:40<00:00,  1.44it/s]\n"
          ]
        },
        {
          "metadata": {
            "tags": null
          },
          "name": "stdout",
          "output_type": "stream",
          "text": [
            "                   all       9232       9432      0.857      0.864       0.92      0.738\n",
            "\n",
            "      Epoch    GPU_mem   box_loss   cls_loss   dfl_loss  Instances       Size\n"
          ]
        },
        {
          "metadata": {
            "tags": null
          },
          "name": "stderr",
          "output_type": "stream",
          "text": [
            "     34/100      7.14G     0.9101      1.293      1.294         46        640: 100%|██████████| 289/289 [03:46<00:00,  1.28it/s]\n",
            "                 Class     Images  Instances      Box(P          R      mAP50  mAP50-95): 100%|██████████| 145/145 [01:40<00:00,  1.44it/s]\n"
          ]
        },
        {
          "metadata": {
            "tags": null
          },
          "name": "stdout",
          "output_type": "stream",
          "text": [
            "                   all       9232       9432      0.867      0.866      0.923       0.74\n",
            "\n",
            "      Epoch    GPU_mem   box_loss   cls_loss   dfl_loss  Instances       Size\n"
          ]
        },
        {
          "metadata": {
            "tags": null
          },
          "name": "stderr",
          "output_type": "stream",
          "text": [
            "     35/100      7.14G     0.8979      1.271      1.289         43        640: 100%|██████████| 289/289 [03:47<00:00,  1.27it/s]\n",
            "                 Class     Images  Instances      Box(P          R      mAP50  mAP50-95): 100%|██████████| 145/145 [01:37<00:00,  1.49it/s]\n"
          ]
        },
        {
          "metadata": {
            "tags": null
          },
          "name": "stdout",
          "output_type": "stream",
          "text": [
            "                   all       9232       9432      0.864      0.871      0.925      0.748\n",
            "\n",
            "      Epoch    GPU_mem   box_loss   cls_loss   dfl_loss  Instances       Size\n"
          ]
        },
        {
          "metadata": {
            "tags": null
          },
          "name": "stderr",
          "output_type": "stream",
          "text": [
            "     36/100      7.14G     0.9002      1.262       1.29         51        640: 100%|██████████| 289/289 [03:45<00:00,  1.28it/s]\n",
            "                 Class     Images  Instances      Box(P          R      mAP50  mAP50-95): 100%|██████████| 145/145 [01:39<00:00,  1.46it/s]\n"
          ]
        },
        {
          "metadata": {
            "tags": null
          },
          "name": "stdout",
          "output_type": "stream",
          "text": [
            "                   all       9232       9432      0.871      0.871      0.931       0.75\n",
            "\n",
            "      Epoch    GPU_mem   box_loss   cls_loss   dfl_loss  Instances       Size\n"
          ]
        },
        {
          "metadata": {
            "tags": null
          },
          "name": "stderr",
          "output_type": "stream",
          "text": [
            "     37/100      7.14G     0.9046      1.276      1.292         54        640: 100%|██████████| 289/289 [03:49<00:00,  1.26it/s]\n",
            "                 Class     Images  Instances      Box(P          R      mAP50  mAP50-95): 100%|██████████| 145/145 [01:38<00:00,  1.47it/s]\n"
          ]
        },
        {
          "metadata": {
            "tags": null
          },
          "name": "stdout",
          "output_type": "stream",
          "text": [
            "                   all       9232       9432      0.889      0.872      0.937      0.761\n",
            "\n",
            "      Epoch    GPU_mem   box_loss   cls_loss   dfl_loss  Instances       Size\n"
          ]
        },
        {
          "metadata": {
            "tags": null
          },
          "name": "stderr",
          "output_type": "stream",
          "text": [
            "     38/100      7.14G     0.8938      1.246      1.283         57        640: 100%|██████████| 289/289 [03:40<00:00,  1.31it/s]\n",
            "                 Class     Images  Instances      Box(P          R      mAP50  mAP50-95): 100%|██████████| 145/145 [01:40<00:00,  1.44it/s]\n"
          ]
        },
        {
          "metadata": {
            "tags": null
          },
          "name": "stdout",
          "output_type": "stream",
          "text": [
            "                   all       9232       9432        0.9      0.875      0.941      0.764\n",
            "\n",
            "      Epoch    GPU_mem   box_loss   cls_loss   dfl_loss  Instances       Size\n"
          ]
        },
        {
          "metadata": {
            "tags": null
          },
          "name": "stderr",
          "output_type": "stream",
          "text": [
            "     39/100      7.14G     0.8932       1.22      1.282         47        640: 100%|██████████| 289/289 [03:44<00:00,  1.28it/s]\n",
            "                 Class     Images  Instances      Box(P          R      mAP50  mAP50-95): 100%|██████████| 145/145 [01:39<00:00,  1.45it/s]\n"
          ]
        },
        {
          "metadata": {
            "tags": null
          },
          "name": "stdout",
          "output_type": "stream",
          "text": [
            "                   all       9232       9432      0.897      0.902      0.952      0.775\n",
            "\n",
            "      Epoch    GPU_mem   box_loss   cls_loss   dfl_loss  Instances       Size\n"
          ]
        },
        {
          "metadata": {
            "tags": null
          },
          "name": "stderr",
          "output_type": "stream",
          "text": [
            "     40/100      7.14G     0.8866      1.211      1.281         63        640: 100%|██████████| 289/289 [03:47<00:00,  1.27it/s]\n",
            "                 Class     Images  Instances      Box(P          R      mAP50  mAP50-95): 100%|██████████| 145/145 [01:39<00:00,  1.45it/s]\n"
          ]
        },
        {
          "metadata": {
            "tags": null
          },
          "name": "stdout",
          "output_type": "stream",
          "text": [
            "                   all       9232       9432      0.912      0.899      0.953       0.78\n",
            "\n",
            "      Epoch    GPU_mem   box_loss   cls_loss   dfl_loss  Instances       Size\n"
          ]
        },
        {
          "metadata": {
            "tags": null
          },
          "name": "stderr",
          "output_type": "stream",
          "text": [
            "     41/100      7.14G     0.8835      1.198      1.278         56        640: 100%|██████████| 289/289 [03:37<00:00,  1.33it/s]\n",
            "                 Class     Images  Instances      Box(P          R      mAP50  mAP50-95): 100%|██████████| 145/145 [01:35<00:00,  1.51it/s]\n"
          ]
        },
        {
          "metadata": {
            "tags": null
          },
          "name": "stdout",
          "output_type": "stream",
          "text": [
            "                   all       9232       9432       0.91      0.893      0.953      0.778\n",
            "\n",
            "      Epoch    GPU_mem   box_loss   cls_loss   dfl_loss  Instances       Size\n"
          ]
        },
        {
          "metadata": {
            "tags": null
          },
          "name": "stderr",
          "output_type": "stream",
          "text": [
            "     42/100      7.14G     0.8731      1.177      1.273         36        640: 100%|██████████| 289/289 [03:40<00:00,  1.31it/s]\n",
            "                 Class     Images  Instances      Box(P          R      mAP50  mAP50-95): 100%|██████████| 145/145 [01:38<00:00,  1.47it/s]\n"
          ]
        },
        {
          "metadata": {
            "tags": null
          },
          "name": "stdout",
          "output_type": "stream",
          "text": [
            "                   all       9232       9432      0.916      0.908      0.958      0.784\n",
            "\n",
            "      Epoch    GPU_mem   box_loss   cls_loss   dfl_loss  Instances       Size\n"
          ]
        },
        {
          "metadata": {
            "tags": null
          },
          "name": "stderr",
          "output_type": "stream",
          "text": [
            "     43/100      7.14G     0.8744      1.186      1.271         47        640: 100%|██████████| 289/289 [03:39<00:00,  1.31it/s]\n",
            "                 Class     Images  Instances      Box(P          R      mAP50  mAP50-95): 100%|██████████| 145/145 [01:42<00:00,  1.42it/s]\n"
          ]
        },
        {
          "metadata": {
            "tags": null
          },
          "name": "stdout",
          "output_type": "stream",
          "text": [
            "                   all       9232       9432       0.91      0.916       0.96      0.791\n",
            "\n",
            "      Epoch    GPU_mem   box_loss   cls_loss   dfl_loss  Instances       Size\n"
          ]
        },
        {
          "metadata": {
            "tags": null
          },
          "name": "stderr",
          "output_type": "stream",
          "text": [
            "     44/100      7.14G     0.8744      1.166      1.273         45        640: 100%|██████████| 289/289 [03:48<00:00,  1.26it/s]\n",
            "                 Class     Images  Instances      Box(P          R      mAP50  mAP50-95): 100%|██████████| 145/145 [01:37<00:00,  1.49it/s]\n"
          ]
        },
        {
          "metadata": {
            "tags": null
          },
          "name": "stdout",
          "output_type": "stream",
          "text": [
            "                   all       9232       9432      0.922      0.913      0.961      0.795\n",
            "\n",
            "      Epoch    GPU_mem   box_loss   cls_loss   dfl_loss  Instances       Size\n"
          ]
        },
        {
          "metadata": {
            "tags": null
          },
          "name": "stderr",
          "output_type": "stream",
          "text": [
            "     45/100      7.14G     0.8699      1.135      1.269         60        640: 100%|██████████| 289/289 [03:41<00:00,  1.30it/s]\n",
            "                 Class     Images  Instances      Box(P          R      mAP50  mAP50-95): 100%|██████████| 145/145 [01:36<00:00,  1.51it/s]\n"
          ]
        },
        {
          "metadata": {
            "tags": null
          },
          "name": "stdout",
          "output_type": "stream",
          "text": [
            "                   all       9232       9432      0.921      0.918      0.963      0.797\n",
            "\n",
            "      Epoch    GPU_mem   box_loss   cls_loss   dfl_loss  Instances       Size\n"
          ]
        },
        {
          "metadata": {
            "tags": null
          },
          "name": "stderr",
          "output_type": "stream",
          "text": [
            "     46/100      7.14G     0.8658      1.121      1.264         48        640: 100%|██████████| 289/289 [03:44<00:00,  1.29it/s]\n",
            "                 Class     Images  Instances      Box(P          R      mAP50  mAP50-95): 100%|██████████| 145/145 [01:35<00:00,  1.51it/s]\n"
          ]
        },
        {
          "metadata": {
            "tags": null
          },
          "name": "stdout",
          "output_type": "stream",
          "text": [
            "                   all       9232       9432      0.927      0.922      0.966      0.803\n",
            "\n",
            "      Epoch    GPU_mem   box_loss   cls_loss   dfl_loss  Instances       Size\n"
          ]
        },
        {
          "metadata": {
            "tags": null
          },
          "name": "stderr",
          "output_type": "stream",
          "text": [
            "     47/100      7.14G     0.8636      1.126      1.262         53        640: 100%|██████████| 289/289 [03:40<00:00,  1.31it/s]\n",
            "                 Class     Images  Instances      Box(P          R      mAP50  mAP50-95): 100%|██████████| 145/145 [01:38<00:00,  1.47it/s]\n"
          ]
        },
        {
          "metadata": {
            "tags": null
          },
          "name": "stdout",
          "output_type": "stream",
          "text": [
            "                   all       9232       9432      0.929      0.925      0.967      0.807\n",
            "\n",
            "      Epoch    GPU_mem   box_loss   cls_loss   dfl_loss  Instances       Size\n"
          ]
        },
        {
          "metadata": {
            "tags": null
          },
          "name": "stderr",
          "output_type": "stream",
          "text": [
            "     48/100      7.14G     0.8563      1.118      1.257         48        640: 100%|██████████| 289/289 [03:41<00:00,  1.30it/s]\n",
            "                 Class     Images  Instances      Box(P          R      mAP50  mAP50-95): 100%|██████████| 145/145 [01:42<00:00,  1.41it/s]\n"
          ]
        },
        {
          "metadata": {
            "tags": null
          },
          "name": "stdout",
          "output_type": "stream",
          "text": [
            "                   all       9232       9432      0.934      0.932       0.97       0.81\n",
            "\n",
            "      Epoch    GPU_mem   box_loss   cls_loss   dfl_loss  Instances       Size\n"
          ]
        },
        {
          "metadata": {
            "tags": null
          },
          "name": "stderr",
          "output_type": "stream",
          "text": [
            "     49/100      7.14G     0.8561      1.113       1.26         55        640: 100%|██████████| 289/289 [03:43<00:00,  1.29it/s]\n",
            "                 Class     Images  Instances      Box(P          R      mAP50  mAP50-95): 100%|██████████| 145/145 [01:37<00:00,  1.49it/s]\n"
          ]
        },
        {
          "metadata": {
            "tags": null
          },
          "name": "stdout",
          "output_type": "stream",
          "text": [
            "                   all       9232       9432      0.939      0.932      0.973      0.813\n",
            "\n",
            "      Epoch    GPU_mem   box_loss   cls_loss   dfl_loss  Instances       Size\n"
          ]
        },
        {
          "metadata": {
            "tags": null
          },
          "name": "stderr",
          "output_type": "stream",
          "text": [
            "     50/100      7.14G     0.8549      1.099      1.258         59        640: 100%|██████████| 289/289 [03:45<00:00,  1.28it/s]\n",
            "                 Class     Images  Instances      Box(P          R      mAP50  mAP50-95): 100%|██████████| 145/145 [01:36<00:00,  1.51it/s]\n"
          ]
        },
        {
          "metadata": {
            "tags": null
          },
          "name": "stdout",
          "output_type": "stream",
          "text": [
            "                   all       9232       9432      0.943      0.938      0.975      0.819\n",
            "\n",
            "      Epoch    GPU_mem   box_loss   cls_loss   dfl_loss  Instances       Size\n"
          ]
        },
        {
          "metadata": {
            "tags": null
          },
          "name": "stderr",
          "output_type": "stream",
          "text": [
            "     51/100      7.14G     0.8373      1.072      1.244         55        640: 100%|██████████| 289/289 [03:43<00:00,  1.29it/s]\n",
            "                 Class     Images  Instances      Box(P          R      mAP50  mAP50-95): 100%|██████████| 145/145 [01:39<00:00,  1.45it/s]\n"
          ]
        },
        {
          "metadata": {
            "tags": null
          },
          "name": "stdout",
          "output_type": "stream",
          "text": [
            "                   all       9232       9432      0.944      0.942      0.976      0.819\n",
            "\n",
            "      Epoch    GPU_mem   box_loss   cls_loss   dfl_loss  Instances       Size\n"
          ]
        },
        {
          "metadata": {
            "tags": null
          },
          "name": "stderr",
          "output_type": "stream",
          "text": [
            "     52/100      7.14G     0.8523      1.081      1.252         51        640: 100%|██████████| 289/289 [03:39<00:00,  1.32it/s]\n",
            "                 Class     Images  Instances      Box(P          R      mAP50  mAP50-95): 100%|██████████| 145/145 [01:40<00:00,  1.45it/s]\n"
          ]
        },
        {
          "metadata": {
            "tags": null
          },
          "name": "stdout",
          "output_type": "stream",
          "text": [
            "                   all       9232       9432      0.952      0.943      0.979      0.823\n",
            "\n",
            "      Epoch    GPU_mem   box_loss   cls_loss   dfl_loss  Instances       Size\n"
          ]
        },
        {
          "metadata": {
            "tags": null
          },
          "name": "stderr",
          "output_type": "stream",
          "text": [
            "     53/100      7.14G     0.8346      1.046      1.244         41        640: 100%|██████████| 289/289 [03:58<00:00,  1.21it/s]\n",
            "                 Class     Images  Instances      Box(P          R      mAP50  mAP50-95): 100%|██████████| 145/145 [01:53<00:00,  1.28it/s]\n"
          ]
        },
        {
          "metadata": {
            "tags": null
          },
          "name": "stdout",
          "output_type": "stream",
          "text": [
            "                   all       9232       9432      0.949      0.947       0.98      0.825\n",
            "\n",
            "      Epoch    GPU_mem   box_loss   cls_loss   dfl_loss  Instances       Size\n"
          ]
        },
        {
          "metadata": {
            "tags": null
          },
          "name": "stderr",
          "output_type": "stream",
          "text": [
            "     54/100      7.14G     0.8367       1.04      1.244         38        640: 100%|██████████| 289/289 [04:00<00:00,  1.20it/s]\n",
            "                 Class     Images  Instances      Box(P          R      mAP50  mAP50-95): 100%|██████████| 145/145 [01:46<00:00,  1.36it/s]\n"
          ]
        },
        {
          "metadata": {
            "tags": null
          },
          "name": "stdout",
          "output_type": "stream",
          "text": [
            "                   all       9232       9432      0.954      0.948       0.98      0.829\n",
            "\n",
            "      Epoch    GPU_mem   box_loss   cls_loss   dfl_loss  Instances       Size\n"
          ]
        },
        {
          "metadata": {
            "tags": null
          },
          "name": "stderr",
          "output_type": "stream",
          "text": [
            "     55/100      7.14G     0.8338      1.045      1.245         46        640: 100%|██████████| 289/289 [04:01<00:00,  1.20it/s]\n",
            "                 Class     Images  Instances      Box(P          R      mAP50  mAP50-95): 100%|██████████| 145/145 [01:48<00:00,  1.33it/s]\n"
          ]
        },
        {
          "metadata": {
            "tags": null
          },
          "name": "stdout",
          "output_type": "stream",
          "text": [
            "                   all       9232       9432      0.956      0.949      0.982      0.833\n",
            "\n",
            "      Epoch    GPU_mem   box_loss   cls_loss   dfl_loss  Instances       Size\n"
          ]
        },
        {
          "metadata": {
            "tags": null
          },
          "name": "stderr",
          "output_type": "stream",
          "text": [
            "     56/100      7.14G     0.8285      1.022      1.242         50        640: 100%|██████████| 289/289 [04:00<00:00,  1.20it/s]\n",
            "                 Class     Images  Instances      Box(P          R      mAP50  mAP50-95): 100%|██████████| 145/145 [01:48<00:00,  1.34it/s]\n"
          ]
        },
        {
          "metadata": {
            "tags": null
          },
          "name": "stdout",
          "output_type": "stream",
          "text": [
            "                   all       9232       9432      0.963      0.951      0.983      0.835\n",
            "\n",
            "      Epoch    GPU_mem   box_loss   cls_loss   dfl_loss  Instances       Size\n"
          ]
        },
        {
          "metadata": {
            "tags": null
          },
          "name": "stderr",
          "output_type": "stream",
          "text": [
            "     57/100      7.14G     0.8272      1.009      1.238         63        640: 100%|██████████| 289/289 [03:59<00:00,  1.21it/s]\n",
            "                 Class     Images  Instances      Box(P          R      mAP50  mAP50-95): 100%|██████████| 145/145 [01:45<00:00,  1.38it/s]\n"
          ]
        },
        {
          "metadata": {
            "tags": null
          },
          "name": "stdout",
          "output_type": "stream",
          "text": [
            "                   all       9232       9432      0.962      0.956      0.984      0.836\n",
            "\n",
            "      Epoch    GPU_mem   box_loss   cls_loss   dfl_loss  Instances       Size\n"
          ]
        },
        {
          "metadata": {
            "tags": null
          },
          "name": "stderr",
          "output_type": "stream",
          "text": [
            "     58/100      7.14G     0.8226     0.9977      1.239         64        640: 100%|██████████| 289/289 [04:03<00:00,  1.19it/s]\n",
            "                 Class     Images  Instances      Box(P          R      mAP50  mAP50-95): 100%|██████████| 145/145 [01:45<00:00,  1.38it/s]\n"
          ]
        },
        {
          "metadata": {
            "tags": null
          },
          "name": "stdout",
          "output_type": "stream",
          "text": [
            "                   all       9232       9432      0.967      0.949      0.984      0.839\n",
            "\n",
            "      Epoch    GPU_mem   box_loss   cls_loss   dfl_loss  Instances       Size\n"
          ]
        },
        {
          "metadata": {
            "tags": null
          },
          "name": "stderr",
          "output_type": "stream",
          "text": [
            "     59/100      7.14G     0.8227     0.9906      1.237         46        640: 100%|██████████| 289/289 [03:59<00:00,  1.21it/s]\n",
            "                 Class     Images  Instances      Box(P          R      mAP50  mAP50-95): 100%|██████████| 145/145 [01:45<00:00,  1.37it/s]\n"
          ]
        },
        {
          "metadata": {
            "tags": null
          },
          "name": "stdout",
          "output_type": "stream",
          "text": [
            "                   all       9232       9432      0.969      0.956      0.985      0.842\n",
            "\n",
            "      Epoch    GPU_mem   box_loss   cls_loss   dfl_loss  Instances       Size\n"
          ]
        },
        {
          "metadata": {
            "tags": null
          },
          "name": "stderr",
          "output_type": "stream",
          "text": [
            "     60/100      7.14G     0.8076     0.9793      1.226         41        640: 100%|██████████| 289/289 [04:03<00:00,  1.19it/s]\n",
            "                 Class     Images  Instances      Box(P          R      mAP50  mAP50-95): 100%|██████████| 145/145 [01:44<00:00,  1.39it/s]\n"
          ]
        },
        {
          "metadata": {
            "tags": null
          },
          "name": "stdout",
          "output_type": "stream",
          "text": [
            "                   all       9232       9432      0.965      0.962      0.986      0.845\n",
            "\n",
            "      Epoch    GPU_mem   box_loss   cls_loss   dfl_loss  Instances       Size\n"
          ]
        },
        {
          "metadata": {
            "tags": null
          },
          "name": "stderr",
          "output_type": "stream",
          "text": [
            "     61/100      7.14G     0.8123     0.9692      1.232         59        640: 100%|██████████| 289/289 [04:00<00:00,  1.20it/s]\n",
            "                 Class     Images  Instances      Box(P          R      mAP50  mAP50-95): 100%|██████████| 145/145 [01:45<00:00,  1.37it/s]\n"
          ]
        },
        {
          "metadata": {
            "tags": null
          },
          "name": "stdout",
          "output_type": "stream",
          "text": [
            "                   all       9232       9432      0.969      0.965      0.988      0.848\n",
            "\n",
            "      Epoch    GPU_mem   box_loss   cls_loss   dfl_loss  Instances       Size\n"
          ]
        },
        {
          "metadata": {
            "tags": null
          },
          "name": "stderr",
          "output_type": "stream",
          "text": [
            "     62/100      7.14G     0.8035     0.9539      1.224         59        640: 100%|██████████| 289/289 [04:02<00:00,  1.19it/s]\n",
            "                 Class     Images  Instances      Box(P          R      mAP50  mAP50-95): 100%|██████████| 145/145 [01:49<00:00,  1.32it/s]\n"
          ]
        },
        {
          "metadata": {
            "tags": null
          },
          "name": "stdout",
          "output_type": "stream",
          "text": [
            "                   all       9232       9432      0.969      0.965      0.988      0.848\n",
            "\n",
            "      Epoch    GPU_mem   box_loss   cls_loss   dfl_loss  Instances       Size\n"
          ]
        },
        {
          "metadata": {
            "tags": null
          },
          "name": "stderr",
          "output_type": "stream",
          "text": [
            "     63/100      7.14G     0.8073     0.9545      1.226         58        640: 100%|██████████| 289/289 [04:03<00:00,  1.18it/s]\n",
            "                 Class     Images  Instances      Box(P          R      mAP50  mAP50-95): 100%|██████████| 145/145 [01:48<00:00,  1.34it/s]\n"
          ]
        },
        {
          "metadata": {
            "tags": null
          },
          "name": "stdout",
          "output_type": "stream",
          "text": [
            "                   all       9232       9432      0.971      0.969      0.988       0.85\n",
            "\n",
            "      Epoch    GPU_mem   box_loss   cls_loss   dfl_loss  Instances       Size\n"
          ]
        },
        {
          "metadata": {
            "tags": null
          },
          "name": "stderr",
          "output_type": "stream",
          "text": [
            "     64/100      7.14G     0.7989      0.946       1.22         64        640: 100%|██████████| 289/289 [04:03<00:00,  1.19it/s]\n",
            "                 Class     Images  Instances      Box(P          R      mAP50  mAP50-95): 100%|██████████| 145/145 [01:46<00:00,  1.36it/s]\n"
          ]
        },
        {
          "metadata": {
            "tags": null
          },
          "name": "stdout",
          "output_type": "stream",
          "text": [
            "                   all       9232       9432      0.973      0.969      0.989      0.852\n",
            "\n",
            "      Epoch    GPU_mem   box_loss   cls_loss   dfl_loss  Instances       Size\n"
          ]
        },
        {
          "metadata": {
            "tags": null
          },
          "name": "stderr",
          "output_type": "stream",
          "text": [
            "     65/100      7.14G     0.7928     0.9383      1.216         44        640: 100%|██████████| 289/289 [03:58<00:00,  1.21it/s]\n",
            "                 Class     Images  Instances      Box(P          R      mAP50  mAP50-95): 100%|██████████| 145/145 [01:45<00:00,  1.37it/s]\n"
          ]
        },
        {
          "metadata": {
            "tags": null
          },
          "name": "stdout",
          "output_type": "stream",
          "text": [
            "                   all       9232       9432      0.972      0.973      0.989      0.855\n",
            "\n",
            "      Epoch    GPU_mem   box_loss   cls_loss   dfl_loss  Instances       Size\n"
          ]
        },
        {
          "metadata": {
            "tags": null
          },
          "name": "stderr",
          "output_type": "stream",
          "text": [
            "     66/100      7.14G      0.795     0.9343      1.218         50        640: 100%|██████████| 289/289 [04:02<00:00,  1.19it/s]\n",
            "                 Class     Images  Instances      Box(P          R      mAP50  mAP50-95): 100%|██████████| 145/145 [01:46<00:00,  1.36it/s]\n"
          ]
        },
        {
          "metadata": {
            "tags": null
          },
          "name": "stdout",
          "output_type": "stream",
          "text": [
            "                   all       9232       9432      0.972      0.975      0.989      0.857\n",
            "\n",
            "      Epoch    GPU_mem   box_loss   cls_loss   dfl_loss  Instances       Size\n"
          ]
        },
        {
          "metadata": {
            "tags": null
          },
          "name": "stderr",
          "output_type": "stream",
          "text": [
            "     67/100      7.14G     0.7859     0.9139      1.214         56        640: 100%|██████████| 289/289 [04:01<00:00,  1.20it/s]\n",
            "                 Class     Images  Instances      Box(P          R      mAP50  mAP50-95): 100%|██████████| 145/145 [01:47<00:00,  1.35it/s]\n"
          ]
        },
        {
          "metadata": {
            "tags": null
          },
          "name": "stdout",
          "output_type": "stream",
          "text": [
            "                   all       9232       9432      0.974      0.975       0.99      0.859\n",
            "\n",
            "      Epoch    GPU_mem   box_loss   cls_loss   dfl_loss  Instances       Size\n"
          ]
        },
        {
          "metadata": {
            "tags": null
          },
          "name": "stderr",
          "output_type": "stream",
          "text": [
            "     68/100      7.14G     0.7851     0.9088      1.211         58        640: 100%|██████████| 289/289 [03:58<00:00,  1.21it/s]\n",
            "                 Class     Images  Instances      Box(P          R      mAP50  mAP50-95): 100%|██████████| 145/145 [01:43<00:00,  1.40it/s]\n"
          ]
        },
        {
          "metadata": {
            "tags": null
          },
          "name": "stdout",
          "output_type": "stream",
          "text": [
            "                   all       9232       9432      0.974      0.974       0.99      0.861\n",
            "\n",
            "      Epoch    GPU_mem   box_loss   cls_loss   dfl_loss  Instances       Size\n"
          ]
        },
        {
          "metadata": {
            "tags": null
          },
          "name": "stderr",
          "output_type": "stream",
          "text": [
            "     69/100      7.14G     0.7864     0.9069      1.215         54        640: 100%|██████████| 289/289 [04:01<00:00,  1.20it/s]\n",
            "                 Class     Images  Instances      Box(P          R      mAP50  mAP50-95): 100%|██████████| 145/145 [01:51<00:00,  1.30it/s]\n"
          ]
        },
        {
          "metadata": {
            "tags": null
          },
          "name": "stdout",
          "output_type": "stream",
          "text": [
            "                   all       9232       9432      0.975      0.975       0.99      0.862\n",
            "\n",
            "      Epoch    GPU_mem   box_loss   cls_loss   dfl_loss  Instances       Size\n"
          ]
        },
        {
          "metadata": {
            "tags": null
          },
          "name": "stderr",
          "output_type": "stream",
          "text": [
            "     70/100      7.14G     0.7777     0.8834      1.206         45        640: 100%|██████████| 289/289 [03:58<00:00,  1.21it/s]\n",
            "                 Class     Images  Instances      Box(P          R      mAP50  mAP50-95): 100%|██████████| 145/145 [01:49<00:00,  1.32it/s]\n"
          ]
        },
        {
          "metadata": {
            "tags": null
          },
          "name": "stdout",
          "output_type": "stream",
          "text": [
            "                   all       9232       9432       0.98      0.973       0.99      0.864\n",
            "\n",
            "      Epoch    GPU_mem   box_loss   cls_loss   dfl_loss  Instances       Size\n"
          ]
        },
        {
          "metadata": {
            "tags": null
          },
          "name": "stderr",
          "output_type": "stream",
          "text": [
            "     71/100      7.14G     0.7704     0.8771      1.201         47        640: 100%|██████████| 289/289 [04:00<00:00,  1.20it/s]\n",
            "                 Class     Images  Instances      Box(P          R      mAP50  mAP50-95): 100%|██████████| 145/145 [01:44<00:00,  1.39it/s]\n"
          ]
        },
        {
          "metadata": {
            "tags": null
          },
          "name": "stdout",
          "output_type": "stream",
          "text": [
            "                   all       9232       9432      0.979       0.98      0.991      0.865\n",
            "\n",
            "      Epoch    GPU_mem   box_loss   cls_loss   dfl_loss  Instances       Size\n"
          ]
        },
        {
          "metadata": {
            "tags": null
          },
          "name": "stderr",
          "output_type": "stream",
          "text": [
            "     72/100      7.14G     0.7729     0.8693      1.204         51        640: 100%|██████████| 289/289 [04:00<00:00,  1.20it/s]\n",
            "                 Class     Images  Instances      Box(P          R      mAP50  mAP50-95): 100%|██████████| 145/145 [01:44<00:00,  1.38it/s]\n"
          ]
        },
        {
          "metadata": {
            "tags": null
          },
          "name": "stdout",
          "output_type": "stream",
          "text": [
            "                   all       9232       9432      0.977       0.98      0.991      0.867\n",
            "\n",
            "      Epoch    GPU_mem   box_loss   cls_loss   dfl_loss  Instances       Size\n"
          ]
        },
        {
          "metadata": {
            "tags": null
          },
          "name": "stderr",
          "output_type": "stream",
          "text": [
            "     73/100      7.14G     0.7662     0.8651        1.2         56        640: 100%|██████████| 289/289 [03:59<00:00,  1.20it/s]\n",
            "                 Class     Images  Instances      Box(P          R      mAP50  mAP50-95): 100%|██████████| 145/145 [01:54<00:00,  1.26it/s]\n"
          ]
        },
        {
          "metadata": {
            "tags": null
          },
          "name": "stdout",
          "output_type": "stream",
          "text": [
            "                   all       9232       9432      0.981      0.978      0.992      0.869\n",
            "\n",
            "      Epoch    GPU_mem   box_loss   cls_loss   dfl_loss  Instances       Size\n"
          ]
        },
        {
          "metadata": {
            "tags": null
          },
          "name": "stderr",
          "output_type": "stream",
          "text": [
            "     74/100      7.14G     0.7694     0.8563      1.198         59        640: 100%|██████████| 289/289 [03:58<00:00,  1.21it/s]\n",
            "                 Class     Images  Instances      Box(P          R      mAP50  mAP50-95): 100%|██████████| 145/145 [01:45<00:00,  1.37it/s]\n"
          ]
        },
        {
          "metadata": {
            "tags": null
          },
          "name": "stdout",
          "output_type": "stream",
          "text": [
            "                   all       9232       9432      0.982      0.978      0.992      0.871\n",
            "\n",
            "      Epoch    GPU_mem   box_loss   cls_loss   dfl_loss  Instances       Size\n"
          ]
        },
        {
          "metadata": {
            "tags": null
          },
          "name": "stderr",
          "output_type": "stream",
          "text": [
            "     75/100      7.14G     0.7599     0.8517      1.198         46        640: 100%|██████████| 289/289 [03:59<00:00,  1.21it/s]\n",
            "                 Class     Images  Instances      Box(P          R      mAP50  mAP50-95): 100%|██████████| 145/145 [01:48<00:00,  1.33it/s]\n"
          ]
        },
        {
          "metadata": {
            "tags": null
          },
          "name": "stdout",
          "output_type": "stream",
          "text": [
            "                   all       9232       9432      0.982      0.978      0.992      0.873\n",
            "\n",
            "      Epoch    GPU_mem   box_loss   cls_loss   dfl_loss  Instances       Size\n"
          ]
        },
        {
          "metadata": {
            "tags": null
          },
          "name": "stderr",
          "output_type": "stream",
          "text": [
            "     76/100      7.14G     0.7547     0.8364      1.191         51        640: 100%|██████████| 289/289 [03:59<00:00,  1.21it/s]\n",
            "                 Class     Images  Instances      Box(P          R      mAP50  mAP50-95): 100%|██████████| 145/145 [01:45<00:00,  1.37it/s]\n"
          ]
        },
        {
          "metadata": {
            "tags": null
          },
          "name": "stdout",
          "output_type": "stream",
          "text": [
            "                   all       9232       9432      0.981      0.981      0.992      0.875\n",
            "\n",
            "      Epoch    GPU_mem   box_loss   cls_loss   dfl_loss  Instances       Size\n"
          ]
        },
        {
          "metadata": {
            "tags": null
          },
          "name": "stderr",
          "output_type": "stream",
          "text": [
            "     77/100      7.14G     0.7478     0.8339      1.188         60        640: 100%|██████████| 289/289 [03:58<00:00,  1.21it/s]\n",
            "                 Class     Images  Instances      Box(P          R      mAP50  mAP50-95): 100%|██████████| 145/145 [01:51<00:00,  1.31it/s]\n"
          ]
        },
        {
          "metadata": {
            "tags": null
          },
          "name": "stdout",
          "output_type": "stream",
          "text": [
            "                   all       9232       9432      0.982      0.982      0.992      0.877\n",
            "\n",
            "      Epoch    GPU_mem   box_loss   cls_loss   dfl_loss  Instances       Size\n"
          ]
        },
        {
          "output_type": "stream",
          "name": "stderr",
          "text": [
            "     78/100      7.14G     0.7527     0.8372      1.192         44        640: 100%|██████████| 289/289 [03:59<00:00,  1.21it/s]\n",
            "                 Class     Images  Instances      Box(P          R      mAP50  mAP50-95): 100%|██████████| 145/145 [01:43<00:00,  1.41it/s]\n"
          ]
        },
        {
          "output_type": "stream",
          "name": "stdout",
          "text": [
            "                   all       9232       9432      0.984      0.983      0.993      0.879\n",
            "\n",
            "      Epoch    GPU_mem   box_loss   cls_loss   dfl_loss  Instances       Size\n"
          ]
        },
        {
          "output_type": "stream",
          "name": "stderr",
          "text": [
            "     79/100      7.14G     0.7475     0.8238      1.186         59        640: 100%|██████████| 289/289 [03:58<00:00,  1.21it/s]\n",
            "                 Class     Images  Instances      Box(P          R      mAP50  mAP50-95): 100%|██████████| 145/145 [01:44<00:00,  1.39it/s]\n"
          ]
        },
        {
          "output_type": "stream",
          "name": "stdout",
          "text": [
            "                   all       9232       9432      0.984      0.984      0.993       0.88\n",
            "\n",
            "      Epoch    GPU_mem   box_loss   cls_loss   dfl_loss  Instances       Size\n"
          ]
        },
        {
          "output_type": "stream",
          "name": "stderr",
          "text": [
            "     80/100      7.14G      0.742      0.821      1.183         56        640: 100%|██████████| 289/289 [04:01<00:00,  1.20it/s]\n",
            "                 Class     Images  Instances      Box(P          R      mAP50  mAP50-95): 100%|██████████| 145/145 [01:43<00:00,  1.40it/s]\n"
          ]
        },
        {
          "output_type": "stream",
          "name": "stdout",
          "text": [
            "                   all       9232       9432      0.985      0.983      0.993      0.881\n",
            "\n",
            "      Epoch    GPU_mem   box_loss   cls_loss   dfl_loss  Instances       Size\n"
          ]
        },
        {
          "output_type": "stream",
          "name": "stderr",
          "text": [
            "     81/100      7.14G     0.7346     0.8114       1.18         54        640: 100%|██████████| 289/289 [03:59<00:00,  1.21it/s]\n",
            "                 Class     Images  Instances      Box(P          R      mAP50  mAP50-95): 100%|██████████| 145/145 [01:55<00:00,  1.26it/s]\n"
          ]
        },
        {
          "output_type": "stream",
          "name": "stdout",
          "text": [
            "                   all       9232       9432      0.985      0.983      0.993      0.884\n",
            "\n",
            "      Epoch    GPU_mem   box_loss   cls_loss   dfl_loss  Instances       Size\n"
          ]
        },
        {
          "output_type": "stream",
          "name": "stderr",
          "text": [
            "     82/100      7.14G      0.738     0.8122      1.182         57        640: 100%|██████████| 289/289 [04:02<00:00,  1.19it/s]\n",
            "                 Class     Images  Instances      Box(P          R      mAP50  mAP50-95): 100%|██████████| 145/145 [01:42<00:00,  1.42it/s]\n"
          ]
        },
        {
          "output_type": "stream",
          "name": "stdout",
          "text": [
            "                   all       9232       9432      0.986      0.983      0.993      0.884\n",
            "\n",
            "      Epoch    GPU_mem   box_loss   cls_loss   dfl_loss  Instances       Size\n"
          ]
        },
        {
          "output_type": "stream",
          "name": "stderr",
          "text": [
            "     83/100      7.14G     0.7299     0.7941      1.175         48        640: 100%|██████████| 289/289 [03:55<00:00,  1.23it/s]\n",
            "                 Class     Images  Instances      Box(P          R      mAP50  mAP50-95): 100%|██████████| 145/145 [01:44<00:00,  1.39it/s]\n"
          ]
        },
        {
          "output_type": "stream",
          "name": "stdout",
          "text": [
            "                   all       9232       9432      0.986      0.985      0.993      0.885\n",
            "\n",
            "      Epoch    GPU_mem   box_loss   cls_loss   dfl_loss  Instances       Size\n"
          ]
        },
        {
          "output_type": "stream",
          "name": "stderr",
          "text": [
            "     84/100      7.14G     0.7299     0.7931      1.177         59        640: 100%|██████████| 289/289 [03:58<00:00,  1.21it/s]\n",
            "                 Class     Images  Instances      Box(P          R      mAP50  mAP50-95): 100%|██████████| 145/145 [01:43<00:00,  1.41it/s]\n"
          ]
        },
        {
          "output_type": "stream",
          "name": "stdout",
          "text": [
            "                   all       9232       9432      0.985      0.986      0.993      0.887\n",
            "\n",
            "      Epoch    GPU_mem   box_loss   cls_loss   dfl_loss  Instances       Size\n"
          ]
        },
        {
          "output_type": "stream",
          "name": "stderr",
          "text": [
            "     85/100      7.14G     0.7325     0.7763      1.176        106        640:  54%|█████▍    | 157/289 [02:07<01:50,  1.19it/s]"
          ]
        }
      ]
    },
    {
      "cell_type": "code",
      "source": [
        "import os\n",
        "\n",
        "base_dir = '/content/drive/MyDrive/prometheus/models'\n",
        "for root, dirs, files in os.walk(base_dir):\n",
        "    for file in files:\n",
        "        if file.endswith('.csv') or file.endswith('.pt'):\n",
        "            print(os.path.join(root, file))\n"
      ],
      "metadata": {
        "colab": {
          "base_uri": "https://localhost:8080/"
        },
        "id": "X_NSLii2RweL",
        "outputId": "52dee36e-9d8f-4c35-f79f-d5164085b539"
      },
      "execution_count": null,
      "outputs": [
        {
          "output_type": "stream",
          "name": "stdout",
          "text": [
            "/content/drive/MyDrive/prometheus/models/myexp/results.csv\n",
            "/content/drive/MyDrive/prometheus/models/myexp/weights/last.pt\n",
            "/content/drive/MyDrive/prometheus/models/myexp/weights/best.pt\n",
            "/content/drive/MyDrive/prometheus/models/myexp2/results.csv\n",
            "/content/drive/MyDrive/prometheus/models/myexp2/weights/last.pt\n",
            "/content/drive/MyDrive/prometheus/models/myexp2/weights/best.pt\n",
            "/content/drive/MyDrive/prometheus/models/yolov8_all_labeled2/results.csv\n",
            "/content/drive/MyDrive/prometheus/models/yolov8_all_labeled2/weights/last.pt\n",
            "/content/drive/MyDrive/prometheus/models/yolov8_all_labeled2/weights/best.pt\n"
          ]
        }
      ]
    },
    {
      "cell_type": "code",
      "source": [
        "import pandas as pd\n",
        "\n",
        "results_path = '/content/drive/MyDrive/prometheus/models/yolov8_all_labeled2/results.csv'\n",
        "df = pd.read_csv(results_path)\n",
        "\n",
        "print(\"📌 실제 컬럼 목록:\")\n",
        "print(df.columns.tolist())\n"
      ],
      "metadata": {
        "colab": {
          "base_uri": "https://localhost:8080/"
        },
        "id": "OaP0jOaMSGoV",
        "outputId": "cf843abc-3161-4dc2-acc8-6d3c91f9af23"
      },
      "execution_count": null,
      "outputs": [
        {
          "output_type": "stream",
          "name": "stdout",
          "text": [
            "📌 실제 컬럼 목록:\n",
            "['epoch', 'time', 'train/box_loss', 'train/cls_loss', 'train/dfl_loss', 'metrics/precision(B)', 'metrics/recall(B)', 'metrics/mAP50(B)', 'metrics/mAP50-95(B)', 'val/box_loss', 'val/cls_loss', 'val/dfl_loss', 'lr/pg0', 'lr/pg1', 'lr/pg2']\n"
          ]
        }
      ]
    },
    {
      "cell_type": "code",
      "source": [
        "import pandas as pd\n",
        "\n",
        "# 파일 경로\n",
        "results_path = '/content/drive/MyDrive/prometheus/models/yolov8_all_labeled2/results.csv'\n",
        "df = pd.read_csv(results_path)\n",
        "\n",
        "# 공백 제거 (안해도 되지만 안전하게)\n",
        "df.columns = df.columns.str.strip()\n",
        "\n",
        "# best mAP50 기준 에폭 확인\n",
        "best_epoch = df['metrics/mAP50(B)'].idxmax()\n",
        "best_map50 = df['metrics/mAP50(B)'].max()\n",
        "\n",
        "print(f'✅ best.pt는 {best_epoch} 에폭에서 저장됨 (mAP50: {best_map50:.3f})')\n"
      ],
      "metadata": {
        "colab": {
          "base_uri": "https://localhost:8080/"
        },
        "id": "RdRcacN3RopK",
        "outputId": "779c1f68-7d9f-443f-bbf4-a3f9d92e6de8"
      },
      "execution_count": null,
      "outputs": [
        {
          "output_type": "stream",
          "name": "stdout",
          "text": [
            "✅ best.pt는 83 에폭에서 저장됨 (mAP50: 0.993)\n"
          ]
        }
      ]
    },
    {
      "cell_type": "code",
      "source": [
        "from ultralytics import YOLO\n",
        "\n",
        "# best.pt에서 시작\n",
        "model = YOLO('/content/drive/MyDrive/prometheus/models/yolov8_all_labeled2/weights/best.pt')\n",
        "\n",
        "# 추가로 17 에폭 학습\n",
        "model.train(\n",
        "    data='/content/dataset.yaml',\n",
        "    epochs=17,\n",
        "    project='/content/drive/MyDrive/prometheus/models',\n",
        "    name='yolov8_all_labeled2_resume',\n",
        "    pretrained=True  # best.pt를 기반으로 학습\n",
        ")\n"
      ],
      "metadata": {
        "colab": {
          "base_uri": "https://localhost:8080/"
        },
        "id": "jgnQJEnuSPVc",
        "outputId": "8af926ed-0e03-4288-b820-e05b0a953696"
      },
      "execution_count": null,
      "outputs": [
        {
          "output_type": "stream",
          "name": "stdout",
          "text": [
            "Ultralytics 8.3.155 🚀 Python-3.11.13 torch-2.6.0+cu124 CUDA:0 (Tesla T4, 15095MiB)\n",
            "\u001b[34m\u001b[1mengine/trainer: \u001b[0magnostic_nms=False, amp=True, augment=False, auto_augment=randaugment, batch=16, bgr=0.0, box=7.5, cache=False, cfg=None, classes=None, close_mosaic=10, cls=0.5, conf=None, copy_paste=0.0, copy_paste_mode=flip, cos_lr=False, cutmix=0.0, data=/content/dataset.yaml, degrees=0.0, deterministic=True, device=None, dfl=1.5, dnn=False, dropout=0.0, dynamic=False, embed=None, epochs=17, erasing=0.4, exist_ok=False, fliplr=0.5, flipud=0.0, format=torchscript, fraction=1.0, freeze=None, half=False, hsv_h=0.015, hsv_s=0.7, hsv_v=0.4, imgsz=640, int8=False, iou=0.7, keras=False, kobj=1.0, line_width=None, lr0=0.01, lrf=0.01, mask_ratio=4, max_det=300, mixup=0.0, mode=train, model=/content/drive/MyDrive/prometheus/models/yolov8_all_labeled2/weights/best.pt, momentum=0.937, mosaic=1.0, multi_scale=False, name=yolov8_all_labeled2_resume, nbs=64, nms=False, opset=None, optimize=False, optimizer=auto, overlap_mask=True, patience=100, perspective=0.0, plots=True, pose=12.0, pretrained=True, profile=False, project=/content/drive/MyDrive/prometheus/models, rect=False, resume=False, retina_masks=False, save=True, save_conf=False, save_crop=False, save_dir=/content/drive/MyDrive/prometheus/models/yolov8_all_labeled2_resume, save_frames=False, save_json=False, save_period=-1, save_txt=False, scale=0.5, seed=0, shear=0.0, show=False, show_boxes=True, show_conf=True, show_labels=True, simplify=True, single_cls=False, source=None, split=val, stream_buffer=False, task=detect, time=None, tracker=botsort.yaml, translate=0.1, val=True, verbose=True, vid_stride=1, visualize=False, warmup_bias_lr=0.1, warmup_epochs=3.0, warmup_momentum=0.8, weight_decay=0.0005, workers=8, workspace=None\n",
            "Downloading https://ultralytics.com/assets/Arial.ttf to '/root/.config/Ultralytics/Arial.ttf'...\n"
          ]
        },
        {
          "output_type": "stream",
          "name": "stderr",
          "text": [
            "100%|██████████| 755k/755k [00:00<00:00, 24.1MB/s]"
          ]
        },
        {
          "output_type": "stream",
          "name": "stdout",
          "text": [
            "\n",
            "                   from  n    params  module                                       arguments                     \n",
            "  0                  -1  1       928  ultralytics.nn.modules.conv.Conv             [3, 32, 3, 2]                 \n",
            "  1                  -1  1     18560  ultralytics.nn.modules.conv.Conv             [32, 64, 3, 2]                \n",
            "  2                  -1  1     29056  ultralytics.nn.modules.block.C2f             [64, 64, 1, True]             \n",
            "  3                  -1  1     73984  ultralytics.nn.modules.conv.Conv             [64, 128, 3, 2]               \n",
            "  4                  -1  2    197632  ultralytics.nn.modules.block.C2f             [128, 128, 2, True]           \n",
            "  5                  -1  1    295424  ultralytics.nn.modules.conv.Conv             [128, 256, 3, 2]              \n",
            "  6                  -1  2    788480  ultralytics.nn.modules.block.C2f             [256, 256, 2, True]           \n",
            "  7                  -1  1   1180672  ultralytics.nn.modules.conv.Conv             [256, 512, 3, 2]              \n",
            "  8                  -1  1   1838080  ultralytics.nn.modules.block.C2f             [512, 512, 1, True]           \n",
            "  9                  -1  1    656896  ultralytics.nn.modules.block.SPPF            [512, 512, 5]                 \n",
            " 10                  -1  1         0  torch.nn.modules.upsampling.Upsample         [None, 2, 'nearest']          \n",
            " 11             [-1, 6]  1         0  ultralytics.nn.modules.conv.Concat           [1]                           \n",
            " 12                  -1  1    591360  ultralytics.nn.modules.block.C2f             [768, 256, 1]                 \n",
            " 13                  -1  1         0  torch.nn.modules.upsampling.Upsample         [None, 2, 'nearest']          \n",
            " 14             [-1, 4]  1         0  ultralytics.nn.modules.conv.Concat           [1]                           \n",
            " 15                  -1  1    148224  ultralytics.nn.modules.block.C2f             [384, 128, 1]                 \n",
            " 16                  -1  1    147712  ultralytics.nn.modules.conv.Conv             [128, 128, 3, 2]              \n",
            " 17            [-1, 12]  1         0  ultralytics.nn.modules.conv.Concat           [1]                           \n",
            " 18                  -1  1    493056  ultralytics.nn.modules.block.C2f             [384, 256, 1]                 \n",
            " 19                  -1  1    590336  ultralytics.nn.modules.conv.Conv             [256, 256, 3, 2]              \n",
            " 20             [-1, 9]  1         0  ultralytics.nn.modules.conv.Concat           [1]                           \n",
            " 21                  -1  1   1969152  ultralytics.nn.modules.block.C2f             [768, 512, 1]                 \n"
          ]
        },
        {
          "output_type": "stream",
          "name": "stderr",
          "text": [
            "\n"
          ]
        },
        {
          "output_type": "stream",
          "name": "stdout",
          "text": [
            " 22        [15, 18, 21]  1   2153974  ultralytics.nn.modules.head.Detect           [98, [128, 256, 512]]         \n",
            "Model summary: 129 layers, 11,173,526 parameters, 11,173,510 gradients, 28.9 GFLOPs\n",
            "\n",
            "Transferred 355/355 items from pretrained weights\n",
            "Freezing layer 'model.22.dfl.conv.weight'\n",
            "\u001b[34m\u001b[1mAMP: \u001b[0mrunning Automatic Mixed Precision (AMP) checks...\n",
            "Downloading https://github.com/ultralytics/assets/releases/download/v8.3.0/yolo11n.pt to 'yolo11n.pt'...\n"
          ]
        },
        {
          "output_type": "stream",
          "name": "stderr",
          "text": [
            "100%|██████████| 5.35M/5.35M [00:00<00:00, 113MB/s]\n"
          ]
        },
        {
          "output_type": "stream",
          "name": "stdout",
          "text": [
            "\u001b[34m\u001b[1mAMP: \u001b[0mchecks passed ✅\n",
            "\u001b[34m\u001b[1mtrain: \u001b[0mFast image access ✅ (ping: 0.0±0.0 ms, read: 288.5±322.5 MB/s, size: 328.1 KB)\n"
          ]
        },
        {
          "output_type": "stream",
          "name": "stderr",
          "text": [
            "\u001b[34m\u001b[1mtrain: \u001b[0mScanning /content/dataset/labels/train... 9232 images, 31 backgrounds, 33 corrupt: 100%|██████████| 9265/9265 [00:16<00:00, 556.95it/s] "
          ]
        },
        {
          "output_type": "stream",
          "name": "stdout",
          "text": [
            "\u001b[34m\u001b[1mtrain: \u001b[0m/content/dataset/images/train/Acorn jelly salad_Img_064_0229.jpg: corrupt JPEG restored and saved\n",
            "\u001b[34m\u001b[1mtrain: \u001b[0m/content/dataset/images/train/Acorn jelly salad_Img_064_0254.jpg: corrupt JPEG restored and saved\n",
            "\u001b[34m\u001b[1mtrain: \u001b[0m/content/dataset/images/train/Acorn jelly salad_Img_064_0256.jpg: corrupt JPEG restored and saved\n",
            "\u001b[34m\u001b[1mtrain: \u001b[0m/content/dataset/images/train/Acorn jelly salad_Img_064_0264.jpg: corrupt JPEG restored and saved\n",
            "\u001b[34m\u001b[1mtrain: \u001b[0m/content/dataset/images/train/Acorn jelly salad_Img_064_0283.jpg: corrupt JPEG restored and saved\n",
            "\u001b[34m\u001b[1mtrain: \u001b[0m/content/dataset/images/train/Bean sprouts soup_Img_021_0026.jpg: corrupt JPEG restored and saved\n",
            "\u001b[34m\u001b[1mtrain: \u001b[0m/content/dataset/images/train/Bean sprouts soup_Img_021_0255.jpg: corrupt JPEG restored and saved\n",
            "\u001b[34m\u001b[1mtrain: \u001b[0m/content/dataset/images/train/Bean sprouts soup_Img_021_0269.jpg: corrupt JPEG restored and saved\n",
            "\u001b[34m\u001b[1mtrain: \u001b[0m/content/dataset/images/train/Black Bean Noodles_Img_057_0021.jpg: corrupt JPEG restored and saved\n",
            "\u001b[34m\u001b[1mtrain: \u001b[0m/content/dataset/images/train/Black Bean Noodles_Img_057_0251.jpg: ignoring corrupt image/label: invalid image format GIF. Supported formats are:\n",
            "images: {'pfm', 'mpo', 'jpeg', 'tiff', 'png', 'webp', 'heic', 'dng', 'jpg', 'tif', 'bmp'}\n",
            "videos: {'webm', 'wmv', 'mkv', 'm4v', 'ts', 'mov', 'asf', 'mpg', 'mpeg', 'gif', 'mp4', 'avi'}\n",
            "\u001b[34m\u001b[1mtrain: \u001b[0m/content/dataset/images/train/Boiled pork wrap_Img_129_0230.jpg: corrupt JPEG restored and saved\n",
            "\u001b[34m\u001b[1mtrain: \u001b[0m/content/dataset/images/train/Boiled pork wrap_Img_129_0252.jpg: corrupt JPEG restored and saved\n",
            "\u001b[34m\u001b[1mtrain: \u001b[0m/content/dataset/images/train/Boiled pork wrap_Img_129_0264.jpg: corrupt JPEG restored and saved\n",
            "\u001b[34m\u001b[1mtrain: \u001b[0m/content/dataset/images/train/Boiled pork wrap_Img_129_0273.jpg: corrupt JPEG restored and saved\n",
            "\u001b[34m\u001b[1mtrain: \u001b[0m/content/dataset/images/train/Boiled pork wrap_Img_129_0279.jpg: corrupt JPEG restored and saved\n",
            "\u001b[34m\u001b[1mtrain: \u001b[0m/content/dataset/images/train/Braised Cutlassfish_Img_106_0238.jpg: ignoring corrupt image/label: invalid image format GIF. Supported formats are:\n",
            "images: {'pfm', 'mpo', 'jpeg', 'tiff', 'png', 'webp', 'heic', 'dng', 'jpg', 'tif', 'bmp'}\n",
            "videos: {'webm', 'wmv', 'mkv', 'm4v', 'ts', 'mov', 'asf', 'mpg', 'mpeg', 'gif', 'mp4', 'avi'}\n",
            "\u001b[34m\u001b[1mtrain: \u001b[0m/content/dataset/images/train/Braised Cutlassfish_Img_106_0246.jpg: ignoring corrupt image/label: invalid image format GIF. Supported formats are:\n",
            "images: {'pfm', 'mpo', 'jpeg', 'tiff', 'png', 'webp', 'heic', 'dng', 'jpg', 'tif', 'bmp'}\n",
            "videos: {'webm', 'wmv', 'mkv', 'm4v', 'ts', 'mov', 'asf', 'mpg', 'mpeg', 'gif', 'mp4', 'avi'}\n",
            "\u001b[34m\u001b[1mtrain: \u001b[0m/content/dataset/images/train/Braised Mackerel_Img_108_0009.jpg: corrupt JPEG restored and saved\n",
            "\u001b[34m\u001b[1mtrain: \u001b[0m/content/dataset/images/train/Braised Tofu_Img_110_0011.jpg: corrupt JPEG restored and saved\n",
            "\u001b[34m\u001b[1mtrain: \u001b[0m/content/dataset/images/train/Braised Tofu_Img_110_0266.jpg: corrupt JPEG restored and saved\n",
            "\u001b[34m\u001b[1mtrain: \u001b[0m/content/dataset/images/train/Braised kimchi_Img_126_0247.jpg: corrupt JPEG restored and saved\n",
            "\u001b[34m\u001b[1mtrain: \u001b[0m/content/dataset/images/train/Braised kimchi_Img_126_0278.jpg: ignoring corrupt image/label: invalid image format GIF. Supported formats are:\n",
            "images: {'pfm', 'mpo', 'jpeg', 'tiff', 'png', 'webp', 'heic', 'dng', 'jpg', 'tif', 'bmp'}\n",
            "videos: {'webm', 'wmv', 'mkv', 'm4v', 'ts', 'mov', 'asf', 'mpg', 'mpeg', 'gif', 'mp4', 'avi'}\n",
            "\u001b[34m\u001b[1mtrain: \u001b[0m/content/dataset/images/train/Braised kimchi_Img_126_0282.jpg: ignoring corrupt image/label: invalid image format GIF. Supported formats are:\n",
            "images: {'pfm', 'mpo', 'jpeg', 'tiff', 'png', 'webp', 'heic', 'dng', 'jpg', 'tif', 'bmp'}\n",
            "videos: {'webm', 'wmv', 'mkv', 'm4v', 'ts', 'mov', 'asf', 'mpg', 'mpeg', 'gif', 'mp4', 'avi'}\n",
            "\u001b[34m\u001b[1mtrain: \u001b[0m/content/dataset/images/train/Braised kimchi_Img_126_0290.jpg: ignoring corrupt image/label: invalid image format GIF. Supported formats are:\n",
            "images: {'pfm', 'mpo', 'jpeg', 'tiff', 'png', 'webp', 'heic', 'dng', 'jpg', 'tif', 'bmp'}\n",
            "videos: {'webm', 'wmv', 'mkv', 'm4v', 'ts', 'mov', 'asf', 'mpg', 'mpeg', 'gif', 'mp4', 'avi'}\n",
            "\u001b[34m\u001b[1mtrain: \u001b[0m/content/dataset/images/train/Braised short ribs_Img_124_0028.jpg: ignoring corrupt image/label: invalid image format GIF. Supported formats are:\n",
            "images: {'pfm', 'mpo', 'jpeg', 'tiff', 'png', 'webp', 'heic', 'dng', 'jpg', 'tif', 'bmp'}\n",
            "videos: {'webm', 'wmv', 'mkv', 'm4v', 'ts', 'mov', 'asf', 'mpg', 'mpeg', 'gif', 'mp4', 'avi'}\n",
            "\u001b[34m\u001b[1mtrain: \u001b[0m/content/dataset/images/train/Braised short ribs_Img_124_0237.jpg: corrupt JPEG restored and saved\n",
            "\u001b[34m\u001b[1mtrain: \u001b[0m/content/dataset/images/train/Braised short ribs_Img_124_0252.jpg: corrupt JPEG restored and saved\n",
            "\u001b[34m\u001b[1mtrain: \u001b[0m/content/dataset/images/train/Braised short ribs_Img_124_0254.jpg: corrupt JPEG restored and saved\n",
            "\u001b[34m\u001b[1mtrain: \u001b[0m/content/dataset/images/train/Braised short ribs_Img_124_0261.jpg: corrupt JPEG restored and saved\n",
            "\u001b[34m\u001b[1mtrain: \u001b[0m/content/dataset/images/train/Braised short ribs_Img_124_0296.jpg: corrupt JPEG restored and saved\n",
            "\u001b[34m\u001b[1mtrain: \u001b[0m/content/dataset/images/train/Buckwheat noodles_Img_051_0246.jpg: corrupt JPEG restored and saved\n",
            "\u001b[34m\u001b[1mtrain: \u001b[0m/content/dataset/images/train/Buckwheat noodles_Img_051_0258.jpg: corrupt JPEG restored and saved\n",
            "\u001b[34m\u001b[1mtrain: \u001b[0m/content/dataset/images/train/Buckwheat noodles_Img_051_0288.jpg: corrupt JPEG restored and saved\n",
            "\u001b[34m\u001b[1mtrain: \u001b[0m/content/dataset/images/train/Cabbage kimchi_Img_033_0226.jpg: corrupt JPEG restored and saved\n",
            "\u001b[34m\u001b[1mtrain: \u001b[0m/content/dataset/images/train/Cabbage kimchi_Img_033_0289.jpg: ignoring corrupt image/label: invalid image format GIF. Supported formats are:\n",
            "images: {'pfm', 'mpo', 'jpeg', 'tiff', 'png', 'webp', 'heic', 'dng', 'jpg', 'tif', 'bmp'}\n",
            "videos: {'webm', 'wmv', 'mkv', 'm4v', 'ts', 'mov', 'asf', 'mpg', 'mpeg', 'gif', 'mp4', 'avi'}\n",
            "\u001b[34m\u001b[1mtrain: \u001b[0m/content/dataset/images/train/Cold Noodle Soup_Img_052_0010.jpg: corrupt JPEG restored and saved\n",
            "\u001b[34m\u001b[1mtrain: \u001b[0m/content/dataset/images/train/Cold Noodle Soup_Img_052_0257.jpg: corrupt JPEG restored and saved\n",
            "\u001b[34m\u001b[1mtrain: \u001b[0m/content/dataset/images/train/Cold Noodle Soup_Img_052_0270.jpg: ignoring corrupt image/label: invalid image format GIF. Supported formats are:\n",
            "images: {'pfm', 'mpo', 'jpeg', 'tiff', 'png', 'webp', 'heic', 'dng', 'jpg', 'tif', 'bmp'}\n",
            "videos: {'webm', 'wmv', 'mkv', 'm4v', 'ts', 'mov', 'asf', 'mpg', 'mpeg', 'gif', 'mp4', 'avi'}\n",
            "\u001b[34m\u001b[1mtrain: \u001b[0m/content/dataset/images/train/Cold Noodle Soup_Img_052_0278.jpg: ignoring corrupt image/label: invalid image format GIF. Supported formats are:\n",
            "images: {'pfm', 'mpo', 'jpeg', 'tiff', 'png', 'webp', 'heic', 'dng', 'jpg', 'tif', 'bmp'}\n",
            "videos: {'webm', 'wmv', 'mkv', 'm4v', 'ts', 'mov', 'asf', 'mpg', 'mpeg', 'gif', 'mp4', 'avi'}\n",
            "\u001b[34m\u001b[1mtrain: \u001b[0m/content/dataset/images/train/Feast noodles_Img_056_0026.jpg: corrupt JPEG restored and saved\n",
            "\u001b[34m\u001b[1mtrain: \u001b[0m/content/dataset/images/train/Fish Pancakes_Img_102_0024.jpg: corrupt JPEG restored and saved\n",
            "\u001b[34m\u001b[1mtrain: \u001b[0m/content/dataset/images/train/Fish Pancakes_Img_102_0231.jpg: corrupt JPEG restored and saved\n",
            "\u001b[34m\u001b[1mtrain: \u001b[0m/content/dataset/images/train/Fish Pancakes_Img_102_0242.jpg: corrupt JPEG restored and saved\n",
            "\u001b[34m\u001b[1mtrain: \u001b[0m/content/dataset/images/train/Fish Pancakes_Img_102_0264.jpg: corrupt JPEG restored and saved\n",
            "\u001b[34m\u001b[1mtrain: \u001b[0m/content/dataset/images/train/Fish Pancakes_Img_102_0296.jpg: corrupt JPEG restored and saved\n",
            "\u001b[34m\u001b[1mtrain: \u001b[0m/content/dataset/images/train/Fried chicken_Img_028_0019.jpg: corrupt JPEG restored and saved\n",
            "\u001b[34m\u001b[1mtrain: \u001b[0m/content/dataset/images/train/Fried chicken_Img_028_0241.jpg: corrupt JPEG restored and saved\n",
            "\u001b[34m\u001b[1mtrain: \u001b[0m/content/dataset/images/train/Fried chicken_Img_028_0247.jpg: corrupt JPEG restored and saved\n",
            "\u001b[34m\u001b[1mtrain: \u001b[0m/content/dataset/images/train/Fried chicken_Img_028_0274.jpg: ignoring corrupt image/label: invalid image format GIF. Supported formats are:\n",
            "images: {'pfm', 'mpo', 'jpeg', 'tiff', 'png', 'webp', 'heic', 'dng', 'jpg', 'tif', 'bmp'}\n",
            "videos: {'webm', 'wmv', 'mkv', 'm4v', 'ts', 'mov', 'asf', 'mpg', 'mpeg', 'gif', 'mp4', 'avi'}\n",
            "\u001b[34m\u001b[1mtrain: \u001b[0m/content/dataset/images/train/Fried chicken_Img_028_0289.jpg: corrupt JPEG restored and saved\n",
            "\u001b[34m\u001b[1mtrain: \u001b[0m/content/dataset/images/train/Fried chicken_Img_028_0295.jpg: corrupt JPEG restored and saved\n",
            "\u001b[34m\u001b[1mtrain: \u001b[0m/content/dataset/images/train/Hot spicy meat stew_Img_020_0257.jpg: corrupt JPEG restored and saved\n",
            "\u001b[34m\u001b[1mtrain: \u001b[0m/content/dataset/images/train/Hot spicy meat stew_Img_020_0274.jpg: ignoring corrupt image/label: invalid image format GIF. Supported formats are:\n",
            "images: {'pfm', 'mpo', 'jpeg', 'tiff', 'png', 'webp', 'heic', 'dng', 'jpg', 'tif', 'bmp'}\n",
            "videos: {'webm', 'wmv', 'mkv', 'm4v', 'ts', 'mov', 'asf', 'mpg', 'mpeg', 'gif', 'mp4', 'avi'}\n",
            "\u001b[34m\u001b[1mtrain: \u001b[0m/content/dataset/images/train/Hot spicy meat stew_Img_020_0284.jpg: corrupt JPEG restored and saved\n",
            "\u001b[34m\u001b[1mtrain: \u001b[0m/content/dataset/images/train/Kimchi Jiggae_Img_119_0263.jpg: corrupt JPEG restored and saved\n",
            "\u001b[34m\u001b[1mtrain: \u001b[0m/content/dataset/images/train/Korean rolled omelette_Img_098_0250.jpg: corrupt JPEG restored and saved\n",
            "\u001b[34m\u001b[1mtrain: \u001b[0m/content/dataset/images/train/Korean rolled omelette_Img_098_0272.jpg: corrupt JPEG restored and saved\n",
            "\u001b[34m\u001b[1mtrain: \u001b[0m/content/dataset/images/train/Korean rolled omelette_Img_098_0294.jpg: corrupt JPEG restored and saved\n",
            "\u001b[34m\u001b[1mtrain: \u001b[0m/content/dataset/images/train/Loach soup_Img_139_0238.jpg: corrupt JPEG restored and saved\n",
            "\u001b[34m\u001b[1mtrain: \u001b[0m/content/dataset/images/train/Loach soup_Img_139_0242.jpg: corrupt JPEG restored and saved\n",
            "\u001b[34m\u001b[1mtrain: \u001b[0m/content/dataset/images/train/Loach soup_Img_139_0259.jpg: ignoring corrupt image/label: invalid image format GIF. Supported formats are:\n",
            "images: {'pfm', 'mpo', 'jpeg', 'tiff', 'png', 'webp', 'heic', 'dng', 'jpg', 'tif', 'bmp'}\n",
            "videos: {'webm', 'wmv', 'mkv', 'm4v', 'ts', 'mov', 'asf', 'mpg', 'mpeg', 'gif', 'mp4', 'avi'}\n",
            "\u001b[34m\u001b[1mtrain: \u001b[0m/content/dataset/images/train/Loach soup_Img_139_0268.jpg: ignoring corrupt image/label: invalid image format GIF. Supported formats are:\n",
            "images: {'pfm', 'mpo', 'jpeg', 'tiff', 'png', 'webp', 'heic', 'dng', 'jpg', 'tif', 'bmp'}\n",
            "videos: {'webm', 'wmv', 'mkv', 'm4v', 'ts', 'mov', 'asf', 'mpg', 'mpeg', 'gif', 'mp4', 'avi'}\n",
            "\u001b[34m\u001b[1mtrain: \u001b[0m/content/dataset/images/train/Loach soup_Img_139_0285.jpg: ignoring corrupt image/label: invalid image format GIF. Supported formats are:\n",
            "images: {'pfm', 'mpo', 'jpeg', 'tiff', 'png', 'webp', 'heic', 'dng', 'jpg', 'tif', 'bmp'}\n",
            "videos: {'webm', 'wmv', 'mkv', 'm4v', 'ts', 'mov', 'asf', 'mpg', 'mpeg', 'gif', 'mp4', 'avi'}\n",
            "\u001b[34m\u001b[1mtrain: \u001b[0m/content/dataset/images/train/Ox bone soup_Img_136_0002.jpg: ignoring corrupt image/label: invalid image format GIF. Supported formats are:\n",
            "images: {'pfm', 'mpo', 'jpeg', 'tiff', 'png', 'webp', 'heic', 'dng', 'jpg', 'tif', 'bmp'}\n",
            "videos: {'webm', 'wmv', 'mkv', 'm4v', 'ts', 'mov', 'asf', 'mpg', 'mpeg', 'gif', 'mp4', 'avi'}\n",
            "\u001b[34m\u001b[1mtrain: \u001b[0m/content/dataset/images/train/Ox bone soup_Img_136_0003.jpg: corrupt JPEG restored and saved\n",
            "\u001b[34m\u001b[1mtrain: \u001b[0m/content/dataset/images/train/Ox bone soup_Img_136_0229.jpg: ignoring corrupt image/label: invalid image format GIF. Supported formats are:\n",
            "images: {'pfm', 'mpo', 'jpeg', 'tiff', 'png', 'webp', 'heic', 'dng', 'jpg', 'tif', 'bmp'}\n",
            "videos: {'webm', 'wmv', 'mkv', 'm4v', 'ts', 'mov', 'asf', 'mpg', 'mpeg', 'gif', 'mp4', 'avi'}\n",
            "\u001b[34m\u001b[1mtrain: \u001b[0m/content/dataset/images/train/Pickled Perilla Leaves_Img_095_0230.jpg: corrupt JPEG restored and saved\n",
            "\u001b[34m\u001b[1mtrain: \u001b[0m/content/dataset/images/train/Pig feet_Img_131_0006.jpg: corrupt JPEG restored and saved\n",
            "\u001b[34m\u001b[1mtrain: \u001b[0m/content/dataset/images/train/Pig feet_Img_131_0291.jpg: ignoring corrupt image/label: invalid image format GIF. Supported formats are:\n",
            "images: {'pfm', 'mpo', 'jpeg', 'tiff', 'png', 'webp', 'heic', 'dng', 'jpg', 'tif', 'bmp'}\n",
            "videos: {'webm', 'wmv', 'mkv', 'm4v', 'ts', 'mov', 'asf', 'mpg', 'mpeg', 'gif', 'mp4', 'avi'}\n",
            "\u001b[34m\u001b[1mtrain: \u001b[0m/content/dataset/images/train/Pork back-bone stew_Img_135_0089.jpg: corrupt JPEG restored and saved\n",
            "\u001b[34m\u001b[1mtrain: \u001b[0m/content/dataset/images/train/Rice cake-Dumpling soup_Img_015_0062.jpg: corrupt JPEG restored and saved\n",
            "\u001b[34m\u001b[1mtrain: \u001b[0m/content/dataset/images/train/Scallion Pancake_Img_103_0032.jpg: ignoring corrupt image/label: invalid image format GIF. Supported formats are:\n",
            "images: {'pfm', 'mpo', 'jpeg', 'tiff', 'png', 'webp', 'heic', 'dng', 'jpg', 'tif', 'bmp'}\n",
            "videos: {'webm', 'wmv', 'mkv', 'm4v', 'ts', 'mov', 'asf', 'mpg', 'mpeg', 'gif', 'mp4', 'avi'}\n",
            "\u001b[34m\u001b[1mtrain: \u001b[0m/content/dataset/images/train/Scallion Pancake_Img_103_0082.jpg: corrupt JPEG restored and saved\n",
            "\u001b[34m\u001b[1mtrain: \u001b[0m/content/dataset/images/train/Seasoned bean sprouts_Img_066_0075.jpg: corrupt JPEG restored and saved\n",
            "\u001b[34m\u001b[1mtrain: \u001b[0m/content/dataset/images/train/Seasoned chicken_Img_023_0073.jpg: ignoring corrupt image/label: invalid image format GIF. Supported formats are:\n",
            "images: {'pfm', 'mpo', 'jpeg', 'tiff', 'png', 'webp', 'heic', 'dng', 'jpg', 'tif', 'bmp'}\n",
            "videos: {'webm', 'wmv', 'mkv', 'm4v', 'ts', 'mov', 'asf', 'mpg', 'mpeg', 'gif', 'mp4', 'avi'}\n",
            "\u001b[34m\u001b[1mtrain: \u001b[0m/content/dataset/images/train/Seasoned chicken_Img_023_0079.jpg: corrupt JPEG restored and saved\n",
            "\u001b[34m\u001b[1mtrain: \u001b[0m/content/dataset/images/train/Seasoned chicken_Img_023_0080.jpg: corrupt JPEG restored and saved\n",
            "\u001b[34m\u001b[1mtrain: \u001b[0m/content/dataset/images/train/Seasoned chicken_Img_023_0081.jpg: corrupt JPEG restored and saved\n",
            "\u001b[34m\u001b[1mtrain: \u001b[0m/content/dataset/images/train/Seasoned fernbrake_Img_041_0024.jpg: corrupt JPEG restored and saved\n",
            "\u001b[34m\u001b[1mtrain: \u001b[0m/content/dataset/images/train/Seasoned fernbrake_Img_041_0040.jpg: corrupt JPEG restored and saved\n",
            "\u001b[34m\u001b[1mtrain: \u001b[0m/content/dataset/images/train/Seasoned fernbrake_Img_041_0085.jpg: ignoring corrupt image/label: invalid image format GIF. Supported formats are:\n",
            "images: {'pfm', 'mpo', 'jpeg', 'tiff', 'png', 'webp', 'heic', 'dng', 'jpg', 'tif', 'bmp'}\n",
            "videos: {'webm', 'wmv', 'mkv', 'm4v', 'ts', 'mov', 'asf', 'mpg', 'mpeg', 'gif', 'mp4', 'avi'}\n",
            "\u001b[34m\u001b[1mtrain: \u001b[0m/content/dataset/images/train/Seasoned fernbrake_Img_041_0088.jpg: corrupt JPEG restored and saved\n",
            "\u001b[34m\u001b[1mtrain: \u001b[0m/content/dataset/images/train/Seasoned fernbrake_Img_041_0096.jpg: corrupt JPEG restored and saved\n",
            "\u001b[34m\u001b[1mtrain: \u001b[0m/content/dataset/images/train/Seasoned soybean sprouts_Img_043_0010.jpg: ignoring corrupt image/label: invalid image format GIF. Supported formats are:\n",
            "images: {'pfm', 'mpo', 'jpeg', 'tiff', 'png', 'webp', 'heic', 'dng', 'jpg', 'tif', 'bmp'}\n",
            "videos: {'webm', 'wmv', 'mkv', 'm4v', 'ts', 'mov', 'asf', 'mpg', 'mpeg', 'gif', 'mp4', 'avi'}\n",
            "\u001b[34m\u001b[1mtrain: \u001b[0m/content/dataset/images/train/Seasoned soybean sprouts_Img_043_0014.jpg: ignoring corrupt image/label: invalid image format GIF. Supported formats are:\n",
            "images: {'pfm', 'mpo', 'jpeg', 'tiff', 'png', 'webp', 'heic', 'dng', 'jpg', 'tif', 'bmp'}\n",
            "videos: {'webm', 'wmv', 'mkv', 'm4v', 'ts', 'mov', 'asf', 'mpg', 'mpeg', 'gif', 'mp4', 'avi'}\n",
            "\u001b[34m\u001b[1mtrain: \u001b[0m/content/dataset/images/train/Seasoned soybean sprouts_Img_043_0062.jpg: corrupt JPEG restored and saved\n",
            "\u001b[34m\u001b[1mtrain: \u001b[0m/content/dataset/images/train/Seasoned soybean sprouts_Img_043_0063.jpg: ignoring corrupt image/label: invalid image format GIF. Supported formats are:\n",
            "images: {'pfm', 'mpo', 'jpeg', 'tiff', 'png', 'webp', 'heic', 'dng', 'jpg', 'tif', 'bmp'}\n",
            "videos: {'webm', 'wmv', 'mkv', 'm4v', 'ts', 'mov', 'asf', 'mpg', 'mpeg', 'gif', 'mp4', 'avi'}\n",
            "\u001b[34m\u001b[1mtrain: \u001b[0m/content/dataset/images/train/Seasoned soybean sprouts_Img_043_0070.jpg: ignoring corrupt image/label: invalid image format GIF. Supported formats are:\n",
            "images: {'pfm', 'mpo', 'jpeg', 'tiff', 'png', 'webp', 'heic', 'dng', 'jpg', 'tif', 'bmp'}\n",
            "videos: {'webm', 'wmv', 'mkv', 'm4v', 'ts', 'mov', 'asf', 'mpg', 'mpeg', 'gif', 'mp4', 'avi'}\n",
            "\u001b[34m\u001b[1mtrain: \u001b[0m/content/dataset/images/train/Short rib soup_Img_134_0007.jpg: corrupt JPEG restored and saved\n",
            "\u001b[34m\u001b[1mtrain: \u001b[0m/content/dataset/images/train/Short rib soup_Img_134_0088.jpg: corrupt JPEG restored and saved\n",
            "\u001b[34m\u001b[1mtrain: \u001b[0m/content/dataset/images/train/Short rib soup_Img_134_0100.jpg: corrupt JPEG restored and saved\n",
            "\u001b[34m\u001b[1mtrain: \u001b[0m/content/dataset/images/train/Sliced boiled meat_Img_026_0003.jpg: ignoring corrupt image/label: invalid image format GIF. Supported formats are:\n",
            "images: {'pfm', 'mpo', 'jpeg', 'tiff', 'png', 'webp', 'heic', 'dng', 'jpg', 'tif', 'bmp'}\n",
            "videos: {'webm', 'wmv', 'mkv', 'm4v', 'ts', 'mov', 'asf', 'mpg', 'mpeg', 'gif', 'mp4', 'avi'}\n",
            "\u001b[34m\u001b[1mtrain: \u001b[0m/content/dataset/images/train/Sliced boiled meat_Img_026_0012.jpg: ignoring corrupt image/label: invalid image format GIF. Supported formats are:\n",
            "images: {'pfm', 'mpo', 'jpeg', 'tiff', 'png', 'webp', 'heic', 'dng', 'jpg', 'tif', 'bmp'}\n",
            "videos: {'webm', 'wmv', 'mkv', 'm4v', 'ts', 'mov', 'asf', 'mpg', 'mpeg', 'gif', 'mp4', 'avi'}\n",
            "\u001b[34m\u001b[1mtrain: \u001b[0m/content/dataset/images/train/Sliced radish kimchi_Img_030_0007.jpg: corrupt JPEG restored and saved\n",
            "\u001b[34m\u001b[1mtrain: \u001b[0m/content/dataset/images/train/Sliced radish kimchi_Img_030_0050.jpg: corrupt JPEG restored and saved\n",
            "\u001b[34m\u001b[1mtrain: \u001b[0m/content/dataset/images/train/Sliced radish kimchi_Img_030_0054.jpg: corrupt JPEG restored and saved\n",
            "\u001b[34m\u001b[1mtrain: \u001b[0m/content/dataset/images/train/Soft tofu stew_Img_123_0028.jpg: corrupt JPEG restored and saved\n",
            "\u001b[34m\u001b[1mtrain: \u001b[0m/content/dataset/images/train/Soy Sauce Marinated Crab_Img_093_0011.jpg: corrupt JPEG restored and saved\n",
            "\u001b[34m\u001b[1mtrain: \u001b[0m/content/dataset/images/train/Soy Sauce Marinated Crab_Img_093_0013.jpg: corrupt JPEG restored and saved\n",
            "\u001b[34m\u001b[1mtrain: \u001b[0m/content/dataset/images/train/Soy braised soybeans_Img_111_0027.jpg: corrupt JPEG restored and saved\n",
            "\u001b[34m\u001b[1mtrain: \u001b[0m/content/dataset/images/train/Soy braised soybeans_Img_111_0032.jpg: corrupt JPEG restored and saved\n",
            "\u001b[34m\u001b[1mtrain: \u001b[0m/content/dataset/images/train/Soy braised soybeans_Img_111_0039.jpg: corrupt JPEG restored and saved\n",
            "\u001b[34m\u001b[1mtrain: \u001b[0m/content/dataset/images/train/Soy braised soybeans_Img_111_0048.jpg: corrupt JPEG restored and saved\n",
            "\u001b[34m\u001b[1mtrain: \u001b[0m/content/dataset/images/train/Soy braised soybeans_Img_111_0058.jpg: corrupt JPEG restored and saved\n",
            "\u001b[34m\u001b[1mtrain: \u001b[0m/content/dataset/images/train/Soybean paste soup_Img_019_0027.jpg: corrupt JPEG restored and saved\n",
            "\u001b[34m\u001b[1mtrain: \u001b[0m/content/dataset/images/train/Soybean paste soup_Img_019_0066.jpg: corrupt JPEG restored and saved\n",
            "\u001b[34m\u001b[1mtrain: \u001b[0m/content/dataset/images/train/Soybean paste soup_Img_019_0086.jpg: corrupt JPEG restored and saved\n",
            "\u001b[34m\u001b[1mtrain: \u001b[0m/content/dataset/images/train/Soybean paste stew_Img_122_0043.jpg: corrupt JPEG restored and saved\n",
            "\u001b[34m\u001b[1mtrain: \u001b[0m/content/dataset/images/train/Soybean paste stew_Img_122_0056.jpg: ignoring corrupt image/label: invalid image format GIF. Supported formats are:\n",
            "images: {'pfm', 'mpo', 'jpeg', 'tiff', 'png', 'webp', 'heic', 'dng', 'jpg', 'tif', 'bmp'}\n",
            "videos: {'webm', 'wmv', 'mkv', 'm4v', 'ts', 'mov', 'asf', 'mpg', 'mpeg', 'gif', 'mp4', 'avi'}\n",
            "\u001b[34m\u001b[1mtrain: \u001b[0m/content/dataset/images/train/Spicy Braised Chicken_Img_128_0009.jpg: corrupt JPEG restored and saved\n",
            "\u001b[34m\u001b[1mtrain: \u001b[0m/content/dataset/images/train/Spicy Braised Seafood_Img_133_0092.jpg: ignoring corrupt image/label: invalid image format GIF. Supported formats are:\n",
            "images: {'pfm', 'mpo', 'jpeg', 'tiff', 'png', 'webp', 'heic', 'dng', 'jpg', 'tif', 'bmp'}\n",
            "videos: {'webm', 'wmv', 'mkv', 'm4v', 'ts', 'mov', 'asf', 'mpg', 'mpeg', 'gif', 'mp4', 'avi'}\n",
            "\u001b[34m\u001b[1mtrain: \u001b[0m/content/dataset/images/train/Spicy fish stew_Img_137_0073.jpg: ignoring corrupt image/label: invalid image format GIF. Supported formats are:\n",
            "images: {'pfm', 'mpo', 'jpeg', 'tiff', 'png', 'webp', 'heic', 'dng', 'jpg', 'tif', 'bmp'}\n",
            "videos: {'webm', 'wmv', 'mkv', 'm4v', 'ts', 'mov', 'asf', 'mpg', 'mpeg', 'gif', 'mp4', 'avi'}\n",
            "\u001b[34m\u001b[1mtrain: \u001b[0m/content/dataset/images/train/Spicy fish stew_Img_137_0097.jpg: corrupt JPEG restored and saved\n",
            "\u001b[34m\u001b[1mtrain: \u001b[0m/content/dataset/images/train/Spicy rice cake_Img_082_0030.jpg: corrupt JPEG restored and saved\n",
            "\u001b[34m\u001b[1mtrain: \u001b[0m/content/dataset/images/train/Spicy seafood noodle soup_Img_058_0030.jpg: corrupt JPEG restored and saved\n",
            "\u001b[34m\u001b[1mtrain: \u001b[0m/content/dataset/images/train/Spicy seafood noodle soup_Img_058_0032.jpg: corrupt JPEG restored and saved\n",
            "\u001b[34m\u001b[1mtrain: \u001b[0m/content/dataset/images/train/Spicy seafood noodle soup_Img_058_0090.jpg: ignoring corrupt image/label: invalid image format GIF. Supported formats are:\n",
            "images: {'pfm', 'mpo', 'jpeg', 'tiff', 'png', 'webp', 'heic', 'dng', 'jpg', 'tif', 'bmp'}\n",
            "videos: {'webm', 'wmv', 'mkv', 'm4v', 'ts', 'mov', 'asf', 'mpg', 'mpeg', 'gif', 'mp4', 'avi'}\n",
            "\u001b[34m\u001b[1mtrain: \u001b[0m/content/dataset/images/train/Spicy stir fried pork_Img_088_0032.jpg: corrupt JPEG restored and saved\n",
            "\u001b[34m\u001b[1mtrain: \u001b[0m/content/dataset/images/train/Spicy stir fried pork_Img_088_0060.jpg: corrupt JPEG restored and saved\n",
            "\u001b[34m\u001b[1mtrain: \u001b[0m/content/dataset/images/train/Steamed eggs_Img_125_0095.jpg: ignoring corrupt image/label: invalid image format GIF. Supported formats are:\n",
            "images: {'pfm', 'mpo', 'jpeg', 'tiff', 'png', 'webp', 'heic', 'dng', 'jpg', 'tif', 'bmp'}\n",
            "videos: {'webm', 'wmv', 'mkv', 'm4v', 'ts', 'mov', 'asf', 'mpg', 'mpeg', 'gif', 'mp4', 'avi'}\n",
            "\u001b[34m\u001b[1mtrain: \u001b[0m/content/dataset/images/train/Steamed eggs_Img_125_0099.jpg: corrupt JPEG restored and saved\n",
            "\u001b[34m\u001b[1mtrain: \u001b[0m/content/dataset/images/train/Stir fried anchovies_Img_084_0095.jpg: corrupt JPEG restored and saved\n",
            "\u001b[34m\u001b[1mtrain: \u001b[0m/content/dataset/images/train/Stir fried sausage_Img_085_0072.jpg: corrupt JPEG restored and saved\n",
            "\u001b[34m\u001b[1mtrain: \u001b[0m/content/dataset/images/train/Stir fried seaweed stems_Img_042_0012.jpg: corrupt JPEG restored and saved\n",
            "\u001b[34m\u001b[1mtrain: \u001b[0m/content/dataset/images/train/Stir fried seaweed stems_Img_042_0062.jpg: corrupt JPEG restored and saved\n",
            "\u001b[34m\u001b[1mtrain: \u001b[0m/content/dataset/images/train/Stir fried seaweed stems_Img_042_0063.jpg: corrupt JPEG restored and saved\n",
            "\u001b[34m\u001b[1mtrain: \u001b[0m/content/dataset/images/train/Stir fried seaweed stems_Img_042_0066.jpg: corrupt JPEG restored and saved\n",
            "\u001b[34m\u001b[1mtrain: \u001b[0m/content/dataset/images/train/Stir fried seaweed stems_Img_042_0069.jpg: corrupt JPEG restored and saved\n",
            "\u001b[34m\u001b[1mtrain: \u001b[0m/content/dataset/images/train/Stir fried seaweed stems_Img_042_0072.jpg: corrupt JPEG restored and saved\n",
            "\u001b[34m\u001b[1mtrain: \u001b[0m/content/dataset/images/train/Stir fried seaweed stems_Img_042_0075.jpg: corrupt JPEG restored and saved\n",
            "\u001b[34m\u001b[1mtrain: \u001b[0m/content/dataset/images/train/Stir fried seaweed stems_Img_042_0081.jpg: corrupt JPEG restored and saved\n",
            "\u001b[34m\u001b[1mtrain: \u001b[0m/content/dataset/images/train/Stir fried seaweed stems_Img_042_0082.jpg: corrupt JPEG restored and saved\n",
            "\u001b[34m\u001b[1mtrain: \u001b[0m/content/dataset/images/train/Stir fried shredded squid_Img_087_0007.jpg: corrupt JPEG restored and saved\n",
            "\u001b[34m\u001b[1mtrain: \u001b[0m/content/dataset/images/train/Stir fried shredded squid_Img_087_0079.jpg: corrupt JPEG restored and saved\n",
            "\u001b[34m\u001b[1mtrain: \u001b[0m/content/dataset/images/train/Stir fried spicy seasoned dried squid_Img_080_0017.jpg: corrupt JPEG restored and saved\n",
            "\u001b[34m\u001b[1mtrain: \u001b[0m/content/dataset/images/train/Stir fried spicy seasoned dried squid_Img_080_0035.jpg: corrupt JPEG restored and saved\n",
            "\u001b[34m\u001b[1mtrain: \u001b[0m/content/dataset/images/train/Stir fried spicy seasoned dried squid_Img_080_0038.jpg: corrupt JPEG restored and saved\n",
            "\u001b[34m\u001b[1mtrain: \u001b[0m/content/dataset/images/train/Stir fried spicy seasoned dried squid_Img_080_0092.jpg: corrupt JPEG restored and saved\n",
            "\u001b[34m\u001b[1mtrain: \u001b[0m/content/dataset/images/train/Stir fried spicy seasoned dried squid_Img_080_0094.jpg: corrupt JPEG restored and saved\n",
            "\u001b[34m\u001b[1mtrain: \u001b[0m/content/dataset/images/train/Stir fried spicy seasoned dried squid_Img_080_0097.jpg: corrupt JPEG restored and saved\n",
            "\u001b[34m\u001b[1mtrain: \u001b[0m/content/dataset/images/train/Stir-fried chili peppers_Img_062_0031.jpg: corrupt JPEG restored and saved\n",
            "\u001b[34m\u001b[1mtrain: \u001b[0m/content/dataset/images/train/Stir-fried shredded potatoes_Img_078_0006.jpg: corrupt JPEG restored and saved\n",
            "\u001b[34m\u001b[1mtrain: \u001b[0m/content/dataset/images/train/Stir-fried shredded potatoes_Img_078_0035.jpg: corrupt JPEG restored and saved\n",
            "\u001b[34m\u001b[1mtrain: \u001b[0m/content/dataset/images/train/Sweet rice balls_Img_046_0094.jpg: corrupt JPEG restored and saved\n",
            "\u001b[34m\u001b[1mtrain: \u001b[0m/content/dataset/images/train/Sweet rice drink_Img_092_0015.jpg: corrupt JPEG restored and saved\n",
            "\u001b[34m\u001b[1mtrain: \u001b[0m/content/dataset/images/train/Sweet rice drink_Img_092_0081.jpg: ignoring corrupt image/label: invalid image format GIF. Supported formats are:\n",
            "images: {'pfm', 'mpo', 'jpeg', 'tiff', 'png', 'webp', 'heic', 'dng', 'jpg', 'tif', 'bmp'}\n",
            "videos: {'webm', 'wmv', 'mkv', 'm4v', 'ts', 'mov', 'asf', 'mpg', 'mpeg', 'gif', 'mp4', 'avi'}\n"
          ]
        },
        {
          "output_type": "stream",
          "name": "stderr",
          "text": [
            "\n"
          ]
        },
        {
          "output_type": "stream",
          "name": "stdout",
          "text": [
            "\u001b[34m\u001b[1mtrain: \u001b[0mNew cache created: /content/dataset/labels/train.cache\n",
            "\u001b[34m\u001b[1malbumentations: \u001b[0mBlur(p=0.01, blur_limit=(3, 7)), MedianBlur(p=0.01, blur_limit=(3, 7)), ToGray(p=0.01, method='weighted_average', num_output_channels=3), CLAHE(p=0.01, clip_limit=(1.0, 4.0), tile_grid_size=(8, 8))\n",
            "\u001b[34m\u001b[1mval: \u001b[0mFast image access ✅ (ping: 0.0±0.0 ms, read: 758.4±838.8 MB/s, size: 86.4 KB)\n"
          ]
        },
        {
          "output_type": "stream",
          "name": "stderr",
          "text": [
            "\u001b[34m\u001b[1mval: \u001b[0mScanning /content/dataset/labels/train.cache... 9232 images, 31 backgrounds, 33 corrupt: 100%|██████████| 9265/9265 [00:00<?, ?it/s]"
          ]
        },
        {
          "output_type": "stream",
          "name": "stdout",
          "text": [
            "\u001b[34m\u001b[1mtrain: \u001b[0m/content/dataset/images/train/Acorn jelly salad_Img_064_0229.jpg: corrupt JPEG restored and saved\n",
            "\u001b[34m\u001b[1mtrain: \u001b[0m/content/dataset/images/train/Acorn jelly salad_Img_064_0254.jpg: corrupt JPEG restored and saved\n",
            "\u001b[34m\u001b[1mtrain: \u001b[0m/content/dataset/images/train/Acorn jelly salad_Img_064_0256.jpg: corrupt JPEG restored and saved\n",
            "\u001b[34m\u001b[1mtrain: \u001b[0m/content/dataset/images/train/Acorn jelly salad_Img_064_0264.jpg: corrupt JPEG restored and saved\n",
            "\u001b[34m\u001b[1mtrain: \u001b[0m/content/dataset/images/train/Acorn jelly salad_Img_064_0283.jpg: corrupt JPEG restored and saved\n",
            "\u001b[34m\u001b[1mtrain: \u001b[0m/content/dataset/images/train/Bean sprouts soup_Img_021_0026.jpg: corrupt JPEG restored and saved\n",
            "\u001b[34m\u001b[1mtrain: \u001b[0m/content/dataset/images/train/Bean sprouts soup_Img_021_0255.jpg: corrupt JPEG restored and saved\n",
            "\u001b[34m\u001b[1mtrain: \u001b[0m/content/dataset/images/train/Bean sprouts soup_Img_021_0269.jpg: corrupt JPEG restored and saved\n",
            "\u001b[34m\u001b[1mtrain: \u001b[0m/content/dataset/images/train/Black Bean Noodles_Img_057_0021.jpg: corrupt JPEG restored and saved\n",
            "\u001b[34m\u001b[1mtrain: \u001b[0m/content/dataset/images/train/Black Bean Noodles_Img_057_0251.jpg: ignoring corrupt image/label: invalid image format GIF. Supported formats are:\n",
            "images: {'pfm', 'mpo', 'jpeg', 'tiff', 'png', 'webp', 'heic', 'dng', 'jpg', 'tif', 'bmp'}\n",
            "videos: {'webm', 'wmv', 'mkv', 'm4v', 'ts', 'mov', 'asf', 'mpg', 'mpeg', 'gif', 'mp4', 'avi'}\n",
            "\u001b[34m\u001b[1mtrain: \u001b[0m/content/dataset/images/train/Boiled pork wrap_Img_129_0230.jpg: corrupt JPEG restored and saved\n",
            "\u001b[34m\u001b[1mtrain: \u001b[0m/content/dataset/images/train/Boiled pork wrap_Img_129_0252.jpg: corrupt JPEG restored and saved\n",
            "\u001b[34m\u001b[1mtrain: \u001b[0m/content/dataset/images/train/Boiled pork wrap_Img_129_0264.jpg: corrupt JPEG restored and saved\n",
            "\u001b[34m\u001b[1mtrain: \u001b[0m/content/dataset/images/train/Boiled pork wrap_Img_129_0273.jpg: corrupt JPEG restored and saved\n",
            "\u001b[34m\u001b[1mtrain: \u001b[0m/content/dataset/images/train/Boiled pork wrap_Img_129_0279.jpg: corrupt JPEG restored and saved\n",
            "\u001b[34m\u001b[1mtrain: \u001b[0m/content/dataset/images/train/Braised Cutlassfish_Img_106_0238.jpg: ignoring corrupt image/label: invalid image format GIF. Supported formats are:\n",
            "images: {'pfm', 'mpo', 'jpeg', 'tiff', 'png', 'webp', 'heic', 'dng', 'jpg', 'tif', 'bmp'}\n",
            "videos: {'webm', 'wmv', 'mkv', 'm4v', 'ts', 'mov', 'asf', 'mpg', 'mpeg', 'gif', 'mp4', 'avi'}\n",
            "\u001b[34m\u001b[1mtrain: \u001b[0m/content/dataset/images/train/Braised Cutlassfish_Img_106_0246.jpg: ignoring corrupt image/label: invalid image format GIF. Supported formats are:\n",
            "images: {'pfm', 'mpo', 'jpeg', 'tiff', 'png', 'webp', 'heic', 'dng', 'jpg', 'tif', 'bmp'}\n",
            "videos: {'webm', 'wmv', 'mkv', 'm4v', 'ts', 'mov', 'asf', 'mpg', 'mpeg', 'gif', 'mp4', 'avi'}\n",
            "\u001b[34m\u001b[1mtrain: \u001b[0m/content/dataset/images/train/Braised Mackerel_Img_108_0009.jpg: corrupt JPEG restored and saved\n",
            "\u001b[34m\u001b[1mtrain: \u001b[0m/content/dataset/images/train/Braised Tofu_Img_110_0011.jpg: corrupt JPEG restored and saved\n",
            "\u001b[34m\u001b[1mtrain: \u001b[0m/content/dataset/images/train/Braised Tofu_Img_110_0266.jpg: corrupt JPEG restored and saved\n",
            "\u001b[34m\u001b[1mtrain: \u001b[0m/content/dataset/images/train/Braised kimchi_Img_126_0247.jpg: corrupt JPEG restored and saved\n",
            "\u001b[34m\u001b[1mtrain: \u001b[0m/content/dataset/images/train/Braised kimchi_Img_126_0278.jpg: ignoring corrupt image/label: invalid image format GIF. Supported formats are:\n",
            "images: {'pfm', 'mpo', 'jpeg', 'tiff', 'png', 'webp', 'heic', 'dng', 'jpg', 'tif', 'bmp'}\n",
            "videos: {'webm', 'wmv', 'mkv', 'm4v', 'ts', 'mov', 'asf', 'mpg', 'mpeg', 'gif', 'mp4', 'avi'}\n",
            "\u001b[34m\u001b[1mtrain: \u001b[0m/content/dataset/images/train/Braised kimchi_Img_126_0282.jpg: ignoring corrupt image/label: invalid image format GIF. Supported formats are:\n",
            "images: {'pfm', 'mpo', 'jpeg', 'tiff', 'png', 'webp', 'heic', 'dng', 'jpg', 'tif', 'bmp'}\n",
            "videos: {'webm', 'wmv', 'mkv', 'm4v', 'ts', 'mov', 'asf', 'mpg', 'mpeg', 'gif', 'mp4', 'avi'}\n",
            "\u001b[34m\u001b[1mtrain: \u001b[0m/content/dataset/images/train/Braised kimchi_Img_126_0290.jpg: ignoring corrupt image/label: invalid image format GIF. Supported formats are:\n",
            "images: {'pfm', 'mpo', 'jpeg', 'tiff', 'png', 'webp', 'heic', 'dng', 'jpg', 'tif', 'bmp'}\n",
            "videos: {'webm', 'wmv', 'mkv', 'm4v', 'ts', 'mov', 'asf', 'mpg', 'mpeg', 'gif', 'mp4', 'avi'}\n",
            "\u001b[34m\u001b[1mtrain: \u001b[0m/content/dataset/images/train/Braised short ribs_Img_124_0028.jpg: ignoring corrupt image/label: invalid image format GIF. Supported formats are:\n",
            "images: {'pfm', 'mpo', 'jpeg', 'tiff', 'png', 'webp', 'heic', 'dng', 'jpg', 'tif', 'bmp'}\n",
            "videos: {'webm', 'wmv', 'mkv', 'm4v', 'ts', 'mov', 'asf', 'mpg', 'mpeg', 'gif', 'mp4', 'avi'}\n",
            "\u001b[34m\u001b[1mtrain: \u001b[0m/content/dataset/images/train/Braised short ribs_Img_124_0237.jpg: corrupt JPEG restored and saved\n",
            "\u001b[34m\u001b[1mtrain: \u001b[0m/content/dataset/images/train/Braised short ribs_Img_124_0252.jpg: corrupt JPEG restored and saved\n",
            "\u001b[34m\u001b[1mtrain: \u001b[0m/content/dataset/images/train/Braised short ribs_Img_124_0254.jpg: corrupt JPEG restored and saved\n",
            "\u001b[34m\u001b[1mtrain: \u001b[0m/content/dataset/images/train/Braised short ribs_Img_124_0261.jpg: corrupt JPEG restored and saved\n",
            "\u001b[34m\u001b[1mtrain: \u001b[0m/content/dataset/images/train/Braised short ribs_Img_124_0296.jpg: corrupt JPEG restored and saved\n",
            "\u001b[34m\u001b[1mtrain: \u001b[0m/content/dataset/images/train/Buckwheat noodles_Img_051_0246.jpg: corrupt JPEG restored and saved\n",
            "\u001b[34m\u001b[1mtrain: \u001b[0m/content/dataset/images/train/Buckwheat noodles_Img_051_0258.jpg: corrupt JPEG restored and saved\n",
            "\u001b[34m\u001b[1mtrain: \u001b[0m/content/dataset/images/train/Buckwheat noodles_Img_051_0288.jpg: corrupt JPEG restored and saved\n",
            "\u001b[34m\u001b[1mtrain: \u001b[0m/content/dataset/images/train/Cabbage kimchi_Img_033_0226.jpg: corrupt JPEG restored and saved\n",
            "\u001b[34m\u001b[1mtrain: \u001b[0m/content/dataset/images/train/Cabbage kimchi_Img_033_0289.jpg: ignoring corrupt image/label: invalid image format GIF. Supported formats are:\n",
            "images: {'pfm', 'mpo', 'jpeg', 'tiff', 'png', 'webp', 'heic', 'dng', 'jpg', 'tif', 'bmp'}\n",
            "videos: {'webm', 'wmv', 'mkv', 'm4v', 'ts', 'mov', 'asf', 'mpg', 'mpeg', 'gif', 'mp4', 'avi'}\n",
            "\u001b[34m\u001b[1mtrain: \u001b[0m/content/dataset/images/train/Cold Noodle Soup_Img_052_0010.jpg: corrupt JPEG restored and saved\n",
            "\u001b[34m\u001b[1mtrain: \u001b[0m/content/dataset/images/train/Cold Noodle Soup_Img_052_0257.jpg: corrupt JPEG restored and saved\n",
            "\u001b[34m\u001b[1mtrain: \u001b[0m/content/dataset/images/train/Cold Noodle Soup_Img_052_0270.jpg: ignoring corrupt image/label: invalid image format GIF. Supported formats are:\n",
            "images: {'pfm', 'mpo', 'jpeg', 'tiff', 'png', 'webp', 'heic', 'dng', 'jpg', 'tif', 'bmp'}\n",
            "videos: {'webm', 'wmv', 'mkv', 'm4v', 'ts', 'mov', 'asf', 'mpg', 'mpeg', 'gif', 'mp4', 'avi'}\n",
            "\u001b[34m\u001b[1mtrain: \u001b[0m/content/dataset/images/train/Cold Noodle Soup_Img_052_0278.jpg: ignoring corrupt image/label: invalid image format GIF. Supported formats are:\n",
            "images: {'pfm', 'mpo', 'jpeg', 'tiff', 'png', 'webp', 'heic', 'dng', 'jpg', 'tif', 'bmp'}\n",
            "videos: {'webm', 'wmv', 'mkv', 'm4v', 'ts', 'mov', 'asf', 'mpg', 'mpeg', 'gif', 'mp4', 'avi'}\n",
            "\u001b[34m\u001b[1mtrain: \u001b[0m/content/dataset/images/train/Feast noodles_Img_056_0026.jpg: corrupt JPEG restored and saved\n",
            "\u001b[34m\u001b[1mtrain: \u001b[0m/content/dataset/images/train/Fish Pancakes_Img_102_0024.jpg: corrupt JPEG restored and saved\n",
            "\u001b[34m\u001b[1mtrain: \u001b[0m/content/dataset/images/train/Fish Pancakes_Img_102_0231.jpg: corrupt JPEG restored and saved\n",
            "\u001b[34m\u001b[1mtrain: \u001b[0m/content/dataset/images/train/Fish Pancakes_Img_102_0242.jpg: corrupt JPEG restored and saved\n",
            "\u001b[34m\u001b[1mtrain: \u001b[0m/content/dataset/images/train/Fish Pancakes_Img_102_0264.jpg: corrupt JPEG restored and saved\n",
            "\u001b[34m\u001b[1mtrain: \u001b[0m/content/dataset/images/train/Fish Pancakes_Img_102_0296.jpg: corrupt JPEG restored and saved\n",
            "\u001b[34m\u001b[1mtrain: \u001b[0m/content/dataset/images/train/Fried chicken_Img_028_0019.jpg: corrupt JPEG restored and saved\n",
            "\u001b[34m\u001b[1mtrain: \u001b[0m/content/dataset/images/train/Fried chicken_Img_028_0241.jpg: corrupt JPEG restored and saved\n",
            "\u001b[34m\u001b[1mtrain: \u001b[0m/content/dataset/images/train/Fried chicken_Img_028_0247.jpg: corrupt JPEG restored and saved\n",
            "\u001b[34m\u001b[1mtrain: \u001b[0m/content/dataset/images/train/Fried chicken_Img_028_0274.jpg: ignoring corrupt image/label: invalid image format GIF. Supported formats are:\n",
            "images: {'pfm', 'mpo', 'jpeg', 'tiff', 'png', 'webp', 'heic', 'dng', 'jpg', 'tif', 'bmp'}\n",
            "videos: {'webm', 'wmv', 'mkv', 'm4v', 'ts', 'mov', 'asf', 'mpg', 'mpeg', 'gif', 'mp4', 'avi'}\n",
            "\u001b[34m\u001b[1mtrain: \u001b[0m/content/dataset/images/train/Fried chicken_Img_028_0289.jpg: corrupt JPEG restored and saved\n",
            "\u001b[34m\u001b[1mtrain: \u001b[0m/content/dataset/images/train/Fried chicken_Img_028_0295.jpg: corrupt JPEG restored and saved\n",
            "\u001b[34m\u001b[1mtrain: \u001b[0m/content/dataset/images/train/Hot spicy meat stew_Img_020_0257.jpg: corrupt JPEG restored and saved\n",
            "\u001b[34m\u001b[1mtrain: \u001b[0m/content/dataset/images/train/Hot spicy meat stew_Img_020_0274.jpg: ignoring corrupt image/label: invalid image format GIF. Supported formats are:\n",
            "images: {'pfm', 'mpo', 'jpeg', 'tiff', 'png', 'webp', 'heic', 'dng', 'jpg', 'tif', 'bmp'}\n",
            "videos: {'webm', 'wmv', 'mkv', 'm4v', 'ts', 'mov', 'asf', 'mpg', 'mpeg', 'gif', 'mp4', 'avi'}\n",
            "\u001b[34m\u001b[1mtrain: \u001b[0m/content/dataset/images/train/Hot spicy meat stew_Img_020_0284.jpg: corrupt JPEG restored and saved\n",
            "\u001b[34m\u001b[1mtrain: \u001b[0m/content/dataset/images/train/Kimchi Jiggae_Img_119_0263.jpg: corrupt JPEG restored and saved\n",
            "\u001b[34m\u001b[1mtrain: \u001b[0m/content/dataset/images/train/Korean rolled omelette_Img_098_0250.jpg: corrupt JPEG restored and saved\n",
            "\u001b[34m\u001b[1mtrain: \u001b[0m/content/dataset/images/train/Korean rolled omelette_Img_098_0272.jpg: corrupt JPEG restored and saved\n",
            "\u001b[34m\u001b[1mtrain: \u001b[0m/content/dataset/images/train/Korean rolled omelette_Img_098_0294.jpg: corrupt JPEG restored and saved\n",
            "\u001b[34m\u001b[1mtrain: \u001b[0m/content/dataset/images/train/Loach soup_Img_139_0238.jpg: corrupt JPEG restored and saved\n",
            "\u001b[34m\u001b[1mtrain: \u001b[0m/content/dataset/images/train/Loach soup_Img_139_0242.jpg: corrupt JPEG restored and saved\n",
            "\u001b[34m\u001b[1mtrain: \u001b[0m/content/dataset/images/train/Loach soup_Img_139_0259.jpg: ignoring corrupt image/label: invalid image format GIF. Supported formats are:\n",
            "images: {'pfm', 'mpo', 'jpeg', 'tiff', 'png', 'webp', 'heic', 'dng', 'jpg', 'tif', 'bmp'}\n",
            "videos: {'webm', 'wmv', 'mkv', 'm4v', 'ts', 'mov', 'asf', 'mpg', 'mpeg', 'gif', 'mp4', 'avi'}\n",
            "\u001b[34m\u001b[1mtrain: \u001b[0m/content/dataset/images/train/Loach soup_Img_139_0268.jpg: ignoring corrupt image/label: invalid image format GIF. Supported formats are:\n",
            "images: {'pfm', 'mpo', 'jpeg', 'tiff', 'png', 'webp', 'heic', 'dng', 'jpg', 'tif', 'bmp'}\n",
            "videos: {'webm', 'wmv', 'mkv', 'm4v', 'ts', 'mov', 'asf', 'mpg', 'mpeg', 'gif', 'mp4', 'avi'}\n",
            "\u001b[34m\u001b[1mtrain: \u001b[0m/content/dataset/images/train/Loach soup_Img_139_0285.jpg: ignoring corrupt image/label: invalid image format GIF. Supported formats are:\n",
            "images: {'pfm', 'mpo', 'jpeg', 'tiff', 'png', 'webp', 'heic', 'dng', 'jpg', 'tif', 'bmp'}\n",
            "videos: {'webm', 'wmv', 'mkv', 'm4v', 'ts', 'mov', 'asf', 'mpg', 'mpeg', 'gif', 'mp4', 'avi'}\n",
            "\u001b[34m\u001b[1mtrain: \u001b[0m/content/dataset/images/train/Ox bone soup_Img_136_0002.jpg: ignoring corrupt image/label: invalid image format GIF. Supported formats are:\n",
            "images: {'pfm', 'mpo', 'jpeg', 'tiff', 'png', 'webp', 'heic', 'dng', 'jpg', 'tif', 'bmp'}\n",
            "videos: {'webm', 'wmv', 'mkv', 'm4v', 'ts', 'mov', 'asf', 'mpg', 'mpeg', 'gif', 'mp4', 'avi'}\n",
            "\u001b[34m\u001b[1mtrain: \u001b[0m/content/dataset/images/train/Ox bone soup_Img_136_0003.jpg: corrupt JPEG restored and saved\n",
            "\u001b[34m\u001b[1mtrain: \u001b[0m/content/dataset/images/train/Ox bone soup_Img_136_0229.jpg: ignoring corrupt image/label: invalid image format GIF. Supported formats are:\n",
            "images: {'pfm', 'mpo', 'jpeg', 'tiff', 'png', 'webp', 'heic', 'dng', 'jpg', 'tif', 'bmp'}\n",
            "videos: {'webm', 'wmv', 'mkv', 'm4v', 'ts', 'mov', 'asf', 'mpg', 'mpeg', 'gif', 'mp4', 'avi'}\n",
            "\u001b[34m\u001b[1mtrain: \u001b[0m/content/dataset/images/train/Pickled Perilla Leaves_Img_095_0230.jpg: corrupt JPEG restored and saved\n",
            "\u001b[34m\u001b[1mtrain: \u001b[0m/content/dataset/images/train/Pig feet_Img_131_0006.jpg: corrupt JPEG restored and saved\n",
            "\u001b[34m\u001b[1mtrain: \u001b[0m/content/dataset/images/train/Pig feet_Img_131_0291.jpg: ignoring corrupt image/label: invalid image format GIF. Supported formats are:\n",
            "images: {'pfm', 'mpo', 'jpeg', 'tiff', 'png', 'webp', 'heic', 'dng', 'jpg', 'tif', 'bmp'}\n",
            "videos: {'webm', 'wmv', 'mkv', 'm4v', 'ts', 'mov', 'asf', 'mpg', 'mpeg', 'gif', 'mp4', 'avi'}\n",
            "\u001b[34m\u001b[1mtrain: \u001b[0m/content/dataset/images/train/Pork back-bone stew_Img_135_0089.jpg: corrupt JPEG restored and saved\n",
            "\u001b[34m\u001b[1mtrain: \u001b[0m/content/dataset/images/train/Rice cake-Dumpling soup_Img_015_0062.jpg: corrupt JPEG restored and saved\n",
            "\u001b[34m\u001b[1mtrain: \u001b[0m/content/dataset/images/train/Scallion Pancake_Img_103_0032.jpg: ignoring corrupt image/label: invalid image format GIF. Supported formats are:\n",
            "images: {'pfm', 'mpo', 'jpeg', 'tiff', 'png', 'webp', 'heic', 'dng', 'jpg', 'tif', 'bmp'}\n",
            "videos: {'webm', 'wmv', 'mkv', 'm4v', 'ts', 'mov', 'asf', 'mpg', 'mpeg', 'gif', 'mp4', 'avi'}\n",
            "\u001b[34m\u001b[1mtrain: \u001b[0m/content/dataset/images/train/Scallion Pancake_Img_103_0082.jpg: corrupt JPEG restored and saved\n",
            "\u001b[34m\u001b[1mtrain: \u001b[0m/content/dataset/images/train/Seasoned bean sprouts_Img_066_0075.jpg: corrupt JPEG restored and saved\n",
            "\u001b[34m\u001b[1mtrain: \u001b[0m/content/dataset/images/train/Seasoned chicken_Img_023_0073.jpg: ignoring corrupt image/label: invalid image format GIF. Supported formats are:\n",
            "images: {'pfm', 'mpo', 'jpeg', 'tiff', 'png', 'webp', 'heic', 'dng', 'jpg', 'tif', 'bmp'}\n",
            "videos: {'webm', 'wmv', 'mkv', 'm4v', 'ts', 'mov', 'asf', 'mpg', 'mpeg', 'gif', 'mp4', 'avi'}\n",
            "\u001b[34m\u001b[1mtrain: \u001b[0m/content/dataset/images/train/Seasoned chicken_Img_023_0079.jpg: corrupt JPEG restored and saved\n",
            "\u001b[34m\u001b[1mtrain: \u001b[0m/content/dataset/images/train/Seasoned chicken_Img_023_0080.jpg: corrupt JPEG restored and saved\n",
            "\u001b[34m\u001b[1mtrain: \u001b[0m/content/dataset/images/train/Seasoned chicken_Img_023_0081.jpg: corrupt JPEG restored and saved\n",
            "\u001b[34m\u001b[1mtrain: \u001b[0m/content/dataset/images/train/Seasoned fernbrake_Img_041_0024.jpg: corrupt JPEG restored and saved\n",
            "\u001b[34m\u001b[1mtrain: \u001b[0m/content/dataset/images/train/Seasoned fernbrake_Img_041_0040.jpg: corrupt JPEG restored and saved\n",
            "\u001b[34m\u001b[1mtrain: \u001b[0m/content/dataset/images/train/Seasoned fernbrake_Img_041_0085.jpg: ignoring corrupt image/label: invalid image format GIF. Supported formats are:\n",
            "images: {'pfm', 'mpo', 'jpeg', 'tiff', 'png', 'webp', 'heic', 'dng', 'jpg', 'tif', 'bmp'}\n",
            "videos: {'webm', 'wmv', 'mkv', 'm4v', 'ts', 'mov', 'asf', 'mpg', 'mpeg', 'gif', 'mp4', 'avi'}\n",
            "\u001b[34m\u001b[1mtrain: \u001b[0m/content/dataset/images/train/Seasoned fernbrake_Img_041_0088.jpg: corrupt JPEG restored and saved\n",
            "\u001b[34m\u001b[1mtrain: \u001b[0m/content/dataset/images/train/Seasoned fernbrake_Img_041_0096.jpg: corrupt JPEG restored and saved\n",
            "\u001b[34m\u001b[1mtrain: \u001b[0m/content/dataset/images/train/Seasoned soybean sprouts_Img_043_0010.jpg: ignoring corrupt image/label: invalid image format GIF. Supported formats are:\n",
            "images: {'pfm', 'mpo', 'jpeg', 'tiff', 'png', 'webp', 'heic', 'dng', 'jpg', 'tif', 'bmp'}\n",
            "videos: {'webm', 'wmv', 'mkv', 'm4v', 'ts', 'mov', 'asf', 'mpg', 'mpeg', 'gif', 'mp4', 'avi'}\n",
            "\u001b[34m\u001b[1mtrain: \u001b[0m/content/dataset/images/train/Seasoned soybean sprouts_Img_043_0014.jpg: ignoring corrupt image/label: invalid image format GIF. Supported formats are:\n",
            "images: {'pfm', 'mpo', 'jpeg', 'tiff', 'png', 'webp', 'heic', 'dng', 'jpg', 'tif', 'bmp'}\n",
            "videos: {'webm', 'wmv', 'mkv', 'm4v', 'ts', 'mov', 'asf', 'mpg', 'mpeg', 'gif', 'mp4', 'avi'}\n",
            "\u001b[34m\u001b[1mtrain: \u001b[0m/content/dataset/images/train/Seasoned soybean sprouts_Img_043_0062.jpg: corrupt JPEG restored and saved\n",
            "\u001b[34m\u001b[1mtrain: \u001b[0m/content/dataset/images/train/Seasoned soybean sprouts_Img_043_0063.jpg: ignoring corrupt image/label: invalid image format GIF. Supported formats are:\n",
            "images: {'pfm', 'mpo', 'jpeg', 'tiff', 'png', 'webp', 'heic', 'dng', 'jpg', 'tif', 'bmp'}\n",
            "videos: {'webm', 'wmv', 'mkv', 'm4v', 'ts', 'mov', 'asf', 'mpg', 'mpeg', 'gif', 'mp4', 'avi'}\n",
            "\u001b[34m\u001b[1mtrain: \u001b[0m/content/dataset/images/train/Seasoned soybean sprouts_Img_043_0070.jpg: ignoring corrupt image/label: invalid image format GIF. Supported formats are:\n",
            "images: {'pfm', 'mpo', 'jpeg', 'tiff', 'png', 'webp', 'heic', 'dng', 'jpg', 'tif', 'bmp'}\n",
            "videos: {'webm', 'wmv', 'mkv', 'm4v', 'ts', 'mov', 'asf', 'mpg', 'mpeg', 'gif', 'mp4', 'avi'}\n",
            "\u001b[34m\u001b[1mtrain: \u001b[0m/content/dataset/images/train/Short rib soup_Img_134_0007.jpg: corrupt JPEG restored and saved\n",
            "\u001b[34m\u001b[1mtrain: \u001b[0m/content/dataset/images/train/Short rib soup_Img_134_0088.jpg: corrupt JPEG restored and saved\n",
            "\u001b[34m\u001b[1mtrain: \u001b[0m/content/dataset/images/train/Short rib soup_Img_134_0100.jpg: corrupt JPEG restored and saved\n",
            "\u001b[34m\u001b[1mtrain: \u001b[0m/content/dataset/images/train/Sliced boiled meat_Img_026_0003.jpg: ignoring corrupt image/label: invalid image format GIF. Supported formats are:\n",
            "images: {'pfm', 'mpo', 'jpeg', 'tiff', 'png', 'webp', 'heic', 'dng', 'jpg', 'tif', 'bmp'}\n",
            "videos: {'webm', 'wmv', 'mkv', 'm4v', 'ts', 'mov', 'asf', 'mpg', 'mpeg', 'gif', 'mp4', 'avi'}\n",
            "\u001b[34m\u001b[1mtrain: \u001b[0m/content/dataset/images/train/Sliced boiled meat_Img_026_0012.jpg: ignoring corrupt image/label: invalid image format GIF. Supported formats are:\n",
            "images: {'pfm', 'mpo', 'jpeg', 'tiff', 'png', 'webp', 'heic', 'dng', 'jpg', 'tif', 'bmp'}\n",
            "videos: {'webm', 'wmv', 'mkv', 'm4v', 'ts', 'mov', 'asf', 'mpg', 'mpeg', 'gif', 'mp4', 'avi'}\n",
            "\u001b[34m\u001b[1mtrain: \u001b[0m/content/dataset/images/train/Sliced radish kimchi_Img_030_0007.jpg: corrupt JPEG restored and saved\n",
            "\u001b[34m\u001b[1mtrain: \u001b[0m/content/dataset/images/train/Sliced radish kimchi_Img_030_0050.jpg: corrupt JPEG restored and saved\n",
            "\u001b[34m\u001b[1mtrain: \u001b[0m/content/dataset/images/train/Sliced radish kimchi_Img_030_0054.jpg: corrupt JPEG restored and saved\n",
            "\u001b[34m\u001b[1mtrain: \u001b[0m/content/dataset/images/train/Soft tofu stew_Img_123_0028.jpg: corrupt JPEG restored and saved\n",
            "\u001b[34m\u001b[1mtrain: \u001b[0m/content/dataset/images/train/Soy Sauce Marinated Crab_Img_093_0011.jpg: corrupt JPEG restored and saved\n",
            "\u001b[34m\u001b[1mtrain: \u001b[0m/content/dataset/images/train/Soy Sauce Marinated Crab_Img_093_0013.jpg: corrupt JPEG restored and saved\n",
            "\u001b[34m\u001b[1mtrain: \u001b[0m/content/dataset/images/train/Soy braised soybeans_Img_111_0027.jpg: corrupt JPEG restored and saved\n",
            "\u001b[34m\u001b[1mtrain: \u001b[0m/content/dataset/images/train/Soy braised soybeans_Img_111_0032.jpg: corrupt JPEG restored and saved\n",
            "\u001b[34m\u001b[1mtrain: \u001b[0m/content/dataset/images/train/Soy braised soybeans_Img_111_0039.jpg: corrupt JPEG restored and saved\n",
            "\u001b[34m\u001b[1mtrain: \u001b[0m/content/dataset/images/train/Soy braised soybeans_Img_111_0048.jpg: corrupt JPEG restored and saved\n",
            "\u001b[34m\u001b[1mtrain: \u001b[0m/content/dataset/images/train/Soy braised soybeans_Img_111_0058.jpg: corrupt JPEG restored and saved\n",
            "\u001b[34m\u001b[1mtrain: \u001b[0m/content/dataset/images/train/Soybean paste soup_Img_019_0027.jpg: corrupt JPEG restored and saved\n",
            "\u001b[34m\u001b[1mtrain: \u001b[0m/content/dataset/images/train/Soybean paste soup_Img_019_0066.jpg: corrupt JPEG restored and saved\n",
            "\u001b[34m\u001b[1mtrain: \u001b[0m/content/dataset/images/train/Soybean paste soup_Img_019_0086.jpg: corrupt JPEG restored and saved\n",
            "\u001b[34m\u001b[1mtrain: \u001b[0m/content/dataset/images/train/Soybean paste stew_Img_122_0043.jpg: corrupt JPEG restored and saved\n",
            "\u001b[34m\u001b[1mtrain: \u001b[0m/content/dataset/images/train/Soybean paste stew_Img_122_0056.jpg: ignoring corrupt image/label: invalid image format GIF. Supported formats are:\n",
            "images: {'pfm', 'mpo', 'jpeg', 'tiff', 'png', 'webp', 'heic', 'dng', 'jpg', 'tif', 'bmp'}\n",
            "videos: {'webm', 'wmv', 'mkv', 'm4v', 'ts', 'mov', 'asf', 'mpg', 'mpeg', 'gif', 'mp4', 'avi'}\n",
            "\u001b[34m\u001b[1mtrain: \u001b[0m/content/dataset/images/train/Spicy Braised Chicken_Img_128_0009.jpg: corrupt JPEG restored and saved\n",
            "\u001b[34m\u001b[1mtrain: \u001b[0m/content/dataset/images/train/Spicy Braised Seafood_Img_133_0092.jpg: ignoring corrupt image/label: invalid image format GIF. Supported formats are:\n",
            "images: {'pfm', 'mpo', 'jpeg', 'tiff', 'png', 'webp', 'heic', 'dng', 'jpg', 'tif', 'bmp'}\n",
            "videos: {'webm', 'wmv', 'mkv', 'm4v', 'ts', 'mov', 'asf', 'mpg', 'mpeg', 'gif', 'mp4', 'avi'}\n",
            "\u001b[34m\u001b[1mtrain: \u001b[0m/content/dataset/images/train/Spicy fish stew_Img_137_0073.jpg: ignoring corrupt image/label: invalid image format GIF. Supported formats are:\n",
            "images: {'pfm', 'mpo', 'jpeg', 'tiff', 'png', 'webp', 'heic', 'dng', 'jpg', 'tif', 'bmp'}\n",
            "videos: {'webm', 'wmv', 'mkv', 'm4v', 'ts', 'mov', 'asf', 'mpg', 'mpeg', 'gif', 'mp4', 'avi'}\n",
            "\u001b[34m\u001b[1mtrain: \u001b[0m/content/dataset/images/train/Spicy fish stew_Img_137_0097.jpg: corrupt JPEG restored and saved\n",
            "\u001b[34m\u001b[1mtrain: \u001b[0m/content/dataset/images/train/Spicy rice cake_Img_082_0030.jpg: corrupt JPEG restored and saved\n",
            "\u001b[34m\u001b[1mtrain: \u001b[0m/content/dataset/images/train/Spicy seafood noodle soup_Img_058_0030.jpg: corrupt JPEG restored and saved\n",
            "\u001b[34m\u001b[1mtrain: \u001b[0m/content/dataset/images/train/Spicy seafood noodle soup_Img_058_0032.jpg: corrupt JPEG restored and saved\n",
            "\u001b[34m\u001b[1mtrain: \u001b[0m/content/dataset/images/train/Spicy seafood noodle soup_Img_058_0090.jpg: ignoring corrupt image/label: invalid image format GIF. Supported formats are:\n",
            "images: {'pfm', 'mpo', 'jpeg', 'tiff', 'png', 'webp', 'heic', 'dng', 'jpg', 'tif', 'bmp'}\n",
            "videos: {'webm', 'wmv', 'mkv', 'm4v', 'ts', 'mov', 'asf', 'mpg', 'mpeg', 'gif', 'mp4', 'avi'}\n",
            "\u001b[34m\u001b[1mtrain: \u001b[0m/content/dataset/images/train/Spicy stir fried pork_Img_088_0032.jpg: corrupt JPEG restored and saved\n",
            "\u001b[34m\u001b[1mtrain: \u001b[0m/content/dataset/images/train/Spicy stir fried pork_Img_088_0060.jpg: corrupt JPEG restored and saved\n",
            "\u001b[34m\u001b[1mtrain: \u001b[0m/content/dataset/images/train/Steamed eggs_Img_125_0095.jpg: ignoring corrupt image/label: invalid image format GIF. Supported formats are:\n",
            "images: {'pfm', 'mpo', 'jpeg', 'tiff', 'png', 'webp', 'heic', 'dng', 'jpg', 'tif', 'bmp'}\n",
            "videos: {'webm', 'wmv', 'mkv', 'm4v', 'ts', 'mov', 'asf', 'mpg', 'mpeg', 'gif', 'mp4', 'avi'}\n",
            "\u001b[34m\u001b[1mtrain: \u001b[0m/content/dataset/images/train/Steamed eggs_Img_125_0099.jpg: corrupt JPEG restored and saved\n",
            "\u001b[34m\u001b[1mtrain: \u001b[0m/content/dataset/images/train/Stir fried anchovies_Img_084_0095.jpg: corrupt JPEG restored and saved\n",
            "\u001b[34m\u001b[1mtrain: \u001b[0m/content/dataset/images/train/Stir fried sausage_Img_085_0072.jpg: corrupt JPEG restored and saved\n",
            "\u001b[34m\u001b[1mtrain: \u001b[0m/content/dataset/images/train/Stir fried seaweed stems_Img_042_0012.jpg: corrupt JPEG restored and saved\n",
            "\u001b[34m\u001b[1mtrain: \u001b[0m/content/dataset/images/train/Stir fried seaweed stems_Img_042_0062.jpg: corrupt JPEG restored and saved\n",
            "\u001b[34m\u001b[1mtrain: \u001b[0m/content/dataset/images/train/Stir fried seaweed stems_Img_042_0063.jpg: corrupt JPEG restored and saved\n",
            "\u001b[34m\u001b[1mtrain: \u001b[0m/content/dataset/images/train/Stir fried seaweed stems_Img_042_0066.jpg: corrupt JPEG restored and saved\n",
            "\u001b[34m\u001b[1mtrain: \u001b[0m/content/dataset/images/train/Stir fried seaweed stems_Img_042_0069.jpg: corrupt JPEG restored and saved\n",
            "\u001b[34m\u001b[1mtrain: \u001b[0m/content/dataset/images/train/Stir fried seaweed stems_Img_042_0072.jpg: corrupt JPEG restored and saved\n",
            "\u001b[34m\u001b[1mtrain: \u001b[0m/content/dataset/images/train/Stir fried seaweed stems_Img_042_0075.jpg: corrupt JPEG restored and saved\n",
            "\u001b[34m\u001b[1mtrain: \u001b[0m/content/dataset/images/train/Stir fried seaweed stems_Img_042_0081.jpg: corrupt JPEG restored and saved\n",
            "\u001b[34m\u001b[1mtrain: \u001b[0m/content/dataset/images/train/Stir fried seaweed stems_Img_042_0082.jpg: corrupt JPEG restored and saved\n",
            "\u001b[34m\u001b[1mtrain: \u001b[0m/content/dataset/images/train/Stir fried shredded squid_Img_087_0007.jpg: corrupt JPEG restored and saved\n",
            "\u001b[34m\u001b[1mtrain: \u001b[0m/content/dataset/images/train/Stir fried shredded squid_Img_087_0079.jpg: corrupt JPEG restored and saved\n",
            "\u001b[34m\u001b[1mtrain: \u001b[0m/content/dataset/images/train/Stir fried spicy seasoned dried squid_Img_080_0017.jpg: corrupt JPEG restored and saved\n",
            "\u001b[34m\u001b[1mtrain: \u001b[0m/content/dataset/images/train/Stir fried spicy seasoned dried squid_Img_080_0035.jpg: corrupt JPEG restored and saved\n",
            "\u001b[34m\u001b[1mtrain: \u001b[0m/content/dataset/images/train/Stir fried spicy seasoned dried squid_Img_080_0038.jpg: corrupt JPEG restored and saved\n",
            "\u001b[34m\u001b[1mtrain: \u001b[0m/content/dataset/images/train/Stir fried spicy seasoned dried squid_Img_080_0092.jpg: corrupt JPEG restored and saved\n",
            "\u001b[34m\u001b[1mtrain: \u001b[0m/content/dataset/images/train/Stir fried spicy seasoned dried squid_Img_080_0094.jpg: corrupt JPEG restored and saved\n",
            "\u001b[34m\u001b[1mtrain: \u001b[0m/content/dataset/images/train/Stir fried spicy seasoned dried squid_Img_080_0097.jpg: corrupt JPEG restored and saved\n",
            "\u001b[34m\u001b[1mtrain: \u001b[0m/content/dataset/images/train/Stir-fried chili peppers_Img_062_0031.jpg: corrupt JPEG restored and saved\n",
            "\u001b[34m\u001b[1mtrain: \u001b[0m/content/dataset/images/train/Stir-fried shredded potatoes_Img_078_0006.jpg: corrupt JPEG restored and saved\n",
            "\u001b[34m\u001b[1mtrain: \u001b[0m/content/dataset/images/train/Stir-fried shredded potatoes_Img_078_0035.jpg: corrupt JPEG restored and saved\n",
            "\u001b[34m\u001b[1mtrain: \u001b[0m/content/dataset/images/train/Sweet rice balls_Img_046_0094.jpg: corrupt JPEG restored and saved\n",
            "\u001b[34m\u001b[1mtrain: \u001b[0m/content/dataset/images/train/Sweet rice drink_Img_092_0015.jpg: corrupt JPEG restored and saved\n",
            "\u001b[34m\u001b[1mtrain: \u001b[0m/content/dataset/images/train/Sweet rice drink_Img_092_0081.jpg: ignoring corrupt image/label: invalid image format GIF. Supported formats are:\n",
            "images: {'pfm', 'mpo', 'jpeg', 'tiff', 'png', 'webp', 'heic', 'dng', 'jpg', 'tif', 'bmp'}\n",
            "videos: {'webm', 'wmv', 'mkv', 'm4v', 'ts', 'mov', 'asf', 'mpg', 'mpeg', 'gif', 'mp4', 'avi'}\n"
          ]
        },
        {
          "output_type": "stream",
          "name": "stderr",
          "text": [
            "\n"
          ]
        },
        {
          "output_type": "stream",
          "name": "stdout",
          "text": [
            "Plotting labels to /content/drive/MyDrive/prometheus/models/yolov8_all_labeled2_resume/labels.jpg... \n",
            "\u001b[34m\u001b[1moptimizer:\u001b[0m 'optimizer=auto' found, ignoring 'lr0=0.01' and 'momentum=0.937' and determining best 'optimizer', 'lr0' and 'momentum' automatically... \n",
            "\u001b[34m\u001b[1moptimizer:\u001b[0m AdamW(lr=9.8e-05, momentum=0.9) with parameter groups 57 weight(decay=0.0), 64 weight(decay=0.0005), 63 bias(decay=0.0)\n",
            "Image sizes 640 train, 640 val\n",
            "Using 2 dataloader workers\n",
            "Logging results to \u001b[1m/content/drive/MyDrive/prometheus/models/yolov8_all_labeled2_resume\u001b[0m\n",
            "Starting training for 17 epochs...\n",
            "\n",
            "      Epoch    GPU_mem   box_loss   cls_loss   dfl_loss  Instances       Size\n"
          ]
        },
        {
          "output_type": "stream",
          "name": "stderr",
          "text": [
            "       1/17      3.69G     0.6293      0.538      1.102         40        640: 100%|██████████| 577/577 [03:35<00:00,  2.68it/s]\n",
            "                 Class     Images  Instances      Box(P          R      mAP50  mAP50-95): 100%|██████████| 289/289 [01:35<00:00,  3.01it/s]"
          ]
        },
        {
          "output_type": "stream",
          "name": "stdout",
          "text": [
            "                   all       9232       9432      0.987      0.985      0.993      0.885\n"
          ]
        },
        {
          "output_type": "stream",
          "name": "stderr",
          "text": [
            "\n"
          ]
        },
        {
          "output_type": "stream",
          "name": "stdout",
          "text": [
            "\n",
            "      Epoch    GPU_mem   box_loss   cls_loss   dfl_loss  Instances       Size\n"
          ]
        },
        {
          "output_type": "stream",
          "name": "stderr",
          "text": [
            "       2/17      6.44G       0.63     0.5429      1.106         45        640: 100%|██████████| 577/577 [03:25<00:00,  2.81it/s]\n",
            "                 Class     Images  Instances      Box(P          R      mAP50  mAP50-95): 100%|██████████| 289/289 [01:37<00:00,  2.96it/s]\n"
          ]
        },
        {
          "output_type": "stream",
          "name": "stdout",
          "text": [
            "                   all       9232       9432      0.986      0.985      0.993      0.886\n",
            "\n",
            "      Epoch    GPU_mem   box_loss   cls_loss   dfl_loss  Instances       Size\n"
          ]
        },
        {
          "output_type": "stream",
          "name": "stderr",
          "text": [
            "       3/17      6.44G     0.6326     0.5402      1.105         53        640: 100%|██████████| 577/577 [03:27<00:00,  2.78it/s]\n",
            "                 Class     Images  Instances      Box(P          R      mAP50  mAP50-95): 100%|██████████| 289/289 [01:39<00:00,  2.91it/s]\n"
          ]
        },
        {
          "output_type": "stream",
          "name": "stdout",
          "text": [
            "                   all       9232       9432      0.984      0.985      0.993      0.886\n",
            "\n",
            "      Epoch    GPU_mem   box_loss   cls_loss   dfl_loss  Instances       Size\n"
          ]
        },
        {
          "output_type": "stream",
          "name": "stderr",
          "text": [
            "       4/17      6.44G     0.6317     0.5442      1.105         47        640: 100%|██████████| 577/577 [03:25<00:00,  2.81it/s]\n",
            "                 Class     Images  Instances      Box(P          R      mAP50  mAP50-95): 100%|██████████| 289/289 [01:38<00:00,  2.95it/s]\n"
          ]
        },
        {
          "output_type": "stream",
          "name": "stdout",
          "text": [
            "                   all       9232       9432      0.987      0.987      0.993      0.887\n",
            "\n",
            "      Epoch    GPU_mem   box_loss   cls_loss   dfl_loss  Instances       Size\n"
          ]
        },
        {
          "output_type": "stream",
          "name": "stderr",
          "text": [
            "       5/17      6.45G     0.6334     0.5401      1.107         46        640: 100%|██████████| 577/577 [03:29<00:00,  2.76it/s]\n",
            "                 Class     Images  Instances      Box(P          R      mAP50  mAP50-95): 100%|██████████| 289/289 [01:36<00:00,  2.99it/s]\n"
          ]
        },
        {
          "output_type": "stream",
          "name": "stdout",
          "text": [
            "                   all       9232       9432      0.984      0.985      0.993      0.888\n",
            "\n",
            "      Epoch    GPU_mem   box_loss   cls_loss   dfl_loss  Instances       Size\n"
          ]
        },
        {
          "output_type": "stream",
          "name": "stderr",
          "text": [
            "       6/17      6.48G     0.6252     0.5299      1.101         41        640: 100%|██████████| 577/577 [03:27<00:00,  2.79it/s]\n",
            "                 Class     Images  Instances      Box(P          R      mAP50  mAP50-95): 100%|██████████| 289/289 [01:37<00:00,  2.96it/s]\n"
          ]
        },
        {
          "output_type": "stream",
          "name": "stdout",
          "text": [
            "                   all       9232       9432      0.987      0.986      0.993      0.888\n",
            "\n",
            "      Epoch    GPU_mem   box_loss   cls_loss   dfl_loss  Instances       Size\n"
          ]
        },
        {
          "output_type": "stream",
          "name": "stderr",
          "text": [
            "       7/17      6.48G     0.6239      0.528      1.099         39        640: 100%|██████████| 577/577 [03:29<00:00,  2.76it/s]\n",
            "                 Class     Images  Instances      Box(P          R      mAP50  mAP50-95): 100%|██████████| 289/289 [01:43<00:00,  2.79it/s]\n"
          ]
        },
        {
          "output_type": "stream",
          "name": "stdout",
          "text": [
            "                   all       9232       9432      0.989      0.985      0.993       0.89\n",
            "Closing dataloader mosaic\n",
            "\u001b[34m\u001b[1malbumentations: \u001b[0mBlur(p=0.01, blur_limit=(3, 7)), MedianBlur(p=0.01, blur_limit=(3, 7)), ToGray(p=0.01, method='weighted_average', num_output_channels=3), CLAHE(p=0.01, clip_limit=(1.0, 4.0), tile_grid_size=(8, 8))\n",
            "\n",
            "      Epoch    GPU_mem   box_loss   cls_loss   dfl_loss  Instances       Size\n"
          ]
        },
        {
          "output_type": "stream",
          "name": "stderr",
          "text": [
            "       8/17      6.48G     0.5347     0.3788      1.103         17        640: 100%|██████████| 577/577 [03:18<00:00,  2.91it/s]\n",
            "                 Class     Images  Instances      Box(P          R      mAP50  mAP50-95): 100%|██████████| 289/289 [01:34<00:00,  3.07it/s]\n"
          ]
        },
        {
          "output_type": "stream",
          "name": "stdout",
          "text": [
            "                   all       9232       9432      0.985      0.985      0.993      0.887\n",
            "\n",
            "      Epoch    GPU_mem   box_loss   cls_loss   dfl_loss  Instances       Size\n"
          ]
        },
        {
          "output_type": "stream",
          "name": "stderr",
          "text": [
            "       9/17      6.48G     0.5186     0.3476      1.091         16        640: 100%|██████████| 577/577 [03:16<00:00,  2.93it/s]\n",
            "                 Class     Images  Instances      Box(P          R      mAP50  mAP50-95): 100%|██████████| 289/289 [01:35<00:00,  3.02it/s]\n"
          ]
        },
        {
          "output_type": "stream",
          "name": "stdout",
          "text": [
            "                   all       9232       9432      0.989      0.988      0.993      0.892\n",
            "\n",
            "      Epoch    GPU_mem   box_loss   cls_loss   dfl_loss  Instances       Size\n"
          ]
        },
        {
          "output_type": "stream",
          "name": "stderr",
          "text": [
            "      10/17      6.48G     0.5088     0.3247      1.082         16        640: 100%|██████████| 577/577 [03:19<00:00,  2.89it/s]\n",
            "                 Class     Images  Instances      Box(P          R      mAP50  mAP50-95): 100%|██████████| 289/289 [01:34<00:00,  3.07it/s]\n"
          ]
        },
        {
          "output_type": "stream",
          "name": "stdout",
          "text": [
            "                   all       9232       9432      0.989       0.99      0.994      0.897\n",
            "\n",
            "      Epoch    GPU_mem   box_loss   cls_loss   dfl_loss  Instances       Size\n"
          ]
        },
        {
          "output_type": "stream",
          "name": "stderr",
          "text": [
            "      11/17      6.48G     0.5005     0.3217      1.075         16        640: 100%|██████████| 577/577 [03:14<00:00,  2.97it/s]\n",
            "                 Class     Images  Instances      Box(P          R      mAP50  mAP50-95): 100%|██████████| 289/289 [01:32<00:00,  3.11it/s]\n"
          ]
        },
        {
          "output_type": "stream",
          "name": "stdout",
          "text": [
            "                   all       9232       9432      0.989      0.989      0.994      0.897\n",
            "\n",
            "      Epoch    GPU_mem   box_loss   cls_loss   dfl_loss  Instances       Size\n"
          ]
        },
        {
          "output_type": "stream",
          "name": "stderr",
          "text": [
            "      12/17      6.48G     0.4936     0.3121       1.07         16        640: 100%|██████████| 577/577 [03:16<00:00,  2.94it/s]\n",
            "                 Class     Images  Instances      Box(P          R      mAP50  mAP50-95): 100%|██████████| 289/289 [01:33<00:00,  3.08it/s]\n"
          ]
        },
        {
          "output_type": "stream",
          "name": "stdout",
          "text": [
            "                   all       9232       9432       0.99      0.989      0.994      0.899\n",
            "\n",
            "      Epoch    GPU_mem   box_loss   cls_loss   dfl_loss  Instances       Size\n"
          ]
        },
        {
          "output_type": "stream",
          "name": "stderr",
          "text": [
            "      13/17      6.48G      0.486     0.3057      1.063         16        640: 100%|██████████| 577/577 [03:17<00:00,  2.92it/s]\n",
            "                 Class     Images  Instances      Box(P          R      mAP50  mAP50-95): 100%|██████████| 289/289 [01:33<00:00,  3.07it/s]\n"
          ]
        },
        {
          "output_type": "stream",
          "name": "stdout",
          "text": [
            "                   all       9232       9432      0.992      0.989      0.994      0.902\n",
            "\n",
            "      Epoch    GPU_mem   box_loss   cls_loss   dfl_loss  Instances       Size\n"
          ]
        },
        {
          "output_type": "stream",
          "name": "stderr",
          "text": [
            "      14/17      6.48G     0.4822     0.3019      1.062         16        640: 100%|██████████| 577/577 [03:18<00:00,  2.91it/s]\n",
            "                 Class     Images  Instances      Box(P          R      mAP50  mAP50-95): 100%|██████████| 289/289 [01:33<00:00,  3.10it/s]\n"
          ]
        },
        {
          "output_type": "stream",
          "name": "stdout",
          "text": [
            "                   all       9232       9432      0.992       0.99      0.994      0.904\n",
            "\n",
            "      Epoch    GPU_mem   box_loss   cls_loss   dfl_loss  Instances       Size\n"
          ]
        },
        {
          "output_type": "stream",
          "name": "stderr",
          "text": [
            "      15/17      6.48G     0.4801     0.2981      1.058         17        640: 100%|██████████| 577/577 [03:18<00:00,  2.90it/s]\n",
            "                 Class     Images  Instances      Box(P          R      mAP50  mAP50-95): 100%|██████████| 289/289 [01:33<00:00,  3.08it/s]\n"
          ]
        },
        {
          "output_type": "stream",
          "name": "stdout",
          "text": [
            "                   all       9232       9432      0.993       0.99      0.994      0.905\n",
            "\n",
            "      Epoch    GPU_mem   box_loss   cls_loss   dfl_loss  Instances       Size\n"
          ]
        },
        {
          "output_type": "stream",
          "name": "stderr",
          "text": [
            "      16/17      6.48G     0.4735     0.2963      1.055         17        640: 100%|██████████| 577/577 [03:17<00:00,  2.93it/s]\n",
            "                 Class     Images  Instances      Box(P          R      mAP50  mAP50-95): 100%|██████████| 289/289 [01:34<00:00,  3.05it/s]\n"
          ]
        },
        {
          "output_type": "stream",
          "name": "stdout",
          "text": [
            "                   all       9232       9432      0.994      0.991      0.994      0.906\n",
            "\n",
            "      Epoch    GPU_mem   box_loss   cls_loss   dfl_loss  Instances       Size\n"
          ]
        },
        {
          "output_type": "stream",
          "name": "stderr",
          "text": [
            "      17/17      6.48G      0.469     0.2913      1.051         16        640: 100%|██████████| 577/577 [03:18<00:00,  2.91it/s]\n",
            "                 Class     Images  Instances      Box(P          R      mAP50  mAP50-95): 100%|██████████| 289/289 [01:34<00:00,  3.05it/s]\n"
          ]
        },
        {
          "output_type": "stream",
          "name": "stdout",
          "text": [
            "                   all       9232       9432      0.994      0.991      0.994      0.908\n",
            "\n",
            "17 epochs completed in 1.412 hours.\n",
            "Optimizer stripped from /content/drive/MyDrive/prometheus/models/yolov8_all_labeled2_resume/weights/last.pt, 22.6MB\n",
            "Optimizer stripped from /content/drive/MyDrive/prometheus/models/yolov8_all_labeled2_resume/weights/best.pt, 22.6MB\n",
            "\n",
            "Validating /content/drive/MyDrive/prometheus/models/yolov8_all_labeled2_resume/weights/best.pt...\n",
            "Ultralytics 8.3.155 🚀 Python-3.11.13 torch-2.6.0+cu124 CUDA:0 (Tesla T4, 15095MiB)\n",
            "Model summary (fused): 72 layers, 11,163,510 parameters, 0 gradients, 28.6 GFLOPs\n"
          ]
        },
        {
          "output_type": "stream",
          "name": "stderr",
          "text": [
            "                 Class     Images  Instances      Box(P          R      mAP50  mAP50-95): 100%|██████████| 289/289 [01:38<00:00,  2.95it/s]\n"
          ]
        },
        {
          "output_type": "stream",
          "name": "stdout",
          "text": [
            "                   all       9232       9432      0.993      0.991      0.994      0.908\n",
            "      Abalone porridge        103        107          1      0.994      0.995      0.891\n",
            "     Acorn jelly salad        101        102      0.998       0.99      0.995      0.903\n",
            "     Bean sprouts soup        101        101          1      0.977      0.995      0.896\n",
            "    Beef tripe hot pot        105        105      0.999          1      0.995      0.891\n",
            "    Black Bean Noodles         99         99          1          1      0.995        0.9\n",
            "      Boiled pork wrap        103        105      0.981      0.964      0.993      0.849\n",
            "   Braised Cutlassfish        102        110      0.983      0.964      0.994      0.888\n",
            "      Braised Mackerel        173        177          1      0.992      0.995        0.9\n",
            "         Braised Saury         92         93          1      0.996      0.995      0.883\n",
            "          Braised Tofu        102        103       0.99      0.952      0.994      0.907\n",
            "        Braised kimchi         26         29      0.965       0.96      0.992      0.907\n",
            "   Braised potato dish        107        108      0.998          1      0.995      0.904\n",
            "    Braised short ribs         99         99      0.997          1      0.995      0.913\n",
            "     Buckwheat noodles        104        108      0.996      0.991      0.995      0.889\n",
            "        Cabbage kimchi         94         96      0.999          1      0.995      0.903\n",
            "         Chewy noodles        105        107          1          1      0.995      0.918\n",
            "      Cold Noodle Soup         91         92      0.982      0.967      0.994      0.898\n",
            "             Dumplings        106        111      0.997          1      0.995      0.917\n",
            "              Egg soup        104        106      0.998          1      0.995      0.876\n",
            "         Feast noodles        104        105      0.999          1      0.995      0.895\n",
            "         Fish Pancakes        100        101      0.998       0.97      0.995      0.881\n",
            "         Fried chicken         97         98      0.996       0.99      0.989      0.913\n",
            "             Fried egg        100        110      0.996          1      0.995      0.897\n",
            "         Fried peppers        103        104       0.99       0.98      0.995      0.868\n",
            "          Fried shrimp        105        109      0.991       0.99      0.995       0.89\n",
            "           Fried squid        105        108          1          1      0.995      0.875\n",
            "  Ginseng chicken soup        104        105      0.988       0.99      0.995      0.893\n",
            "Hand-pulled Dough Soup         99        101      0.996          1      0.995      0.888\n",
            "          Honey cookie        100        102      0.999          1      0.995        0.9\n",
            "       Honey rice cake        100        156      0.989      0.968      0.994      0.831\n",
            "   Hot spicy meat stew        102        107      0.994      0.963      0.994      0.866\n",
            "         Kimchi Jiggae         99        100      0.993       0.98      0.988      0.901\n",
            "        Kimchi pancake        100        101       0.99      0.999      0.995      0.916\n",
            " Knife-cut noodle soup        100        102      0.996       0.99      0.995      0.868\n",
            "   Korean Meat Patties        101        102          1      0.979      0.995      0.898\n",
            "Korean braised chicken        100        100      0.996          1      0.995      0.904\n",
            "Korean crescent rice cakes        102        108       0.99          1      0.995      0.908\n",
            "Korean rolled omelette         99        103      0.998          1      0.995      0.915\n",
            "Korean sweet rice with nuts         92         95      0.997          1      0.995      0.908\n",
            "Korean traditional cookie        102        117      0.997          1      0.995      0.909\n",
            "            Loach soup         92         93      0.999      0.989      0.995        0.9\n",
            "    Mixed Cold Noodles         99        108      0.972      0.963      0.993      0.883\n",
            "          Ox bone soup         97         97      0.999          1      0.995      0.913\n",
            "Pickled Perilla Leaves         92         94      0.987          1      0.995      0.907\n",
            "              Pig feet         94         95       0.99      0.947      0.985      0.868\n",
            "        Pollack Jjigae        100        102      0.994          1      0.995       0.93\n",
            "   Pork back-bone stew         88         88      0.989      0.989      0.995       0.94\n",
            "        Potato pancake         93         93          1      0.997      0.995      0.935\n",
            "       Pumpkin pancake         81         81      0.997          1      0.995      0.918\n",
            "      Pumpkin porridge        101        103      0.997          1      0.995      0.909\n",
            "Rice cake-Dumpling soup         91         92      0.987          1      0.995      0.911\n",
            "          Rice skewers        101        105          1      0.995      0.995      0.924\n",
            "      Scallion Pancake         71         72      0.995          1      0.995      0.921\n",
            " Seasoned bean sprouts         74         75      0.979      0.987      0.995      0.913\n",
            "      Seasoned chicken         93         93      0.989      0.968      0.993      0.902\n",
            " Seasoned cockle clams        101        101       0.99          1      0.995      0.943\n",
            "    Seasoned fernbrake         73         74      0.989      0.986      0.988      0.939\n",
            "Seasoned soybean sprouts         83         83      0.997          1      0.995      0.909\n",
            "        Short rib soup         95         95      0.988          1      0.995      0.933\n",
            "       Shredded daikon         84         84      0.991      0.988      0.995       0.92\n",
            "    Sliced boiled meat         95         95      0.986          1      0.995      0.895\n",
            "  Sliced radish kimchi         92         92      0.999          1      0.995      0.944\n",
            "        Soft tofu stew         79         79      0.998          1      0.995      0.918\n",
            "Soy Sauce Marinated Crab         93         93      0.989          1      0.995      0.913\n",
            "  Soy braised soybeans        101        102      0.997          1      0.995      0.922\n",
            "   Soybean noodle soup         96         96      0.991      0.969      0.995       0.92\n",
            "    Soybean paste soup         84         84      0.995          1      0.995      0.908\n",
            "    Soybean paste stew         87         87      0.978      0.999      0.984       0.91\n",
            " Spicy Braised Chicken         81         81          1      0.982      0.995      0.917\n",
            " Spicy Braised Seafood         96         97      0.979          1      0.984      0.914\n",
            "  Spicy Marinated Crab        101        101      0.999          1      0.995      0.929\n",
            "    Spicy chicken soup         91         91      0.999      0.967      0.994      0.908\n",
            "Spicy fermented skate salad        100        102      0.994       0.99      0.995      0.917\n",
            "       Spicy fish stew         86         86      0.998          1      0.995      0.939\n",
            "  Spicy raw fish salad        101        101      0.988          1      0.995      0.895\n",
            "       Spicy rice cake         84         84      0.998      0.976      0.995      0.928\n",
            "Spicy seafood noodle soup         97         97      0.996          1      0.995      0.931\n",
            " Spicy stir fried pork         74         74      0.981          1      0.993       0.89\n",
            "          Steamed eggs         86         86      0.987          1      0.995       0.93\n",
            "  Stir fried anchovies         86         87      0.998          1      0.995      0.922\n",
            "   Stir fried eggplant         91         91          1      0.995      0.995      0.925\n",
            "  Stir fried fish cake         92         92      0.998          1      0.995      0.936\n",
            "Stir fried glass noodles         90         93      0.994          1      0.995      0.921\n",
            "    Stir fried sausage         89         89      0.997          1      0.995      0.935\n",
            "Stir fried seaweed stems         70         70      0.999          1      0.995      0.907\n",
            "Stir fried shredded squid         78         78      0.986      0.962      0.992      0.895\n",
            "Stir fried spicy seasoned dried squid         99        100          1      0.977      0.994      0.891\n",
            "   Stir fried zucchini         73         73      0.988          1      0.995       0.93\n",
            "Stir-fried chili peppers         82         88      0.978      0.989      0.995      0.919\n",
            "Stir-fried shredded potatoes         86         86      0.993          1      0.995      0.924\n",
            "Sttir fried dried shrimp         80         87      0.998          1      0.995      0.914\n",
            "        Sundae sausage         91         94      0.991      0.989      0.995      0.925\n",
            "      Sweet rice balls         84         90      0.998          1      0.995      0.925\n",
            "      Sweet rice drink         80         84      0.976          1      0.995      0.926\n",
            "      Tofu with kimchi        101        101          1      0.998      0.995      0.941\n",
            "          White kimchi         94         96          1      0.984       0.99      0.923\n",
            "   Young radish kimchi         89         90          1      0.991      0.995      0.908\n",
            "Young radish noddle soup         88         95      0.997      0.979      0.994        0.9\n",
            "Speed: 0.2ms preprocess, 3.4ms inference, 0.0ms loss, 1.9ms postprocess per image\n",
            "Results saved to \u001b[1m/content/drive/MyDrive/prometheus/models/yolov8_all_labeled2_resume\u001b[0m\n"
          ]
        },
        {
          "output_type": "execute_result",
          "data": {
            "text/plain": [
              "ultralytics.utils.metrics.DetMetrics object with attributes:\n",
              "\n",
              "ap_class_index: array([ 0,  1,  2,  3,  4,  5,  6,  7,  8,  9, 10, 11, 12, 13, 14, 15, 16, 17, 18, 19, 20, 21, 22, 23, 24, 25, 26, 27, 28, 29, 30, 31, 32, 33, 34, 35, 36, 37, 38, 39, 40, 41, 42, 43, 44, 45, 46, 47, 48, 49, 50, 51, 52, 53, 54, 55, 56, 57, 58, 59, 60, 61, 62, 63, 64, 65, 66, 67, 68, 69, 70, 71, 72, 73, 74, 75, 76, 77,\n",
              "       78, 79, 80, 81, 82, 83, 84, 85, 86, 87, 88, 89, 90, 91, 92, 93, 94, 95, 96, 97])\n",
              "box: ultralytics.utils.metrics.Metric object\n",
              "confusion_matrix: <ultralytics.utils.metrics.ConfusionMatrix object at 0x7a53d5d50d90>\n",
              "curves: ['Precision-Recall(B)', 'F1-Confidence(B)', 'Precision-Confidence(B)', 'Recall-Confidence(B)']\n",
              "curves_results: [[array([          0,    0.001001,    0.002002,    0.003003,    0.004004,    0.005005,    0.006006,    0.007007,    0.008008,    0.009009,     0.01001,    0.011011,    0.012012,    0.013013,    0.014014,    0.015015,    0.016016,    0.017017,    0.018018,    0.019019,     0.02002,    0.021021,    0.022022,    0.023023,\n",
              "          0.024024,    0.025025,    0.026026,    0.027027,    0.028028,    0.029029,     0.03003,    0.031031,    0.032032,    0.033033,    0.034034,    0.035035,    0.036036,    0.037037,    0.038038,    0.039039,     0.04004,    0.041041,    0.042042,    0.043043,    0.044044,    0.045045,    0.046046,    0.047047,\n",
              "          0.048048,    0.049049,     0.05005,    0.051051,    0.052052,    0.053053,    0.054054,    0.055055,    0.056056,    0.057057,    0.058058,    0.059059,     0.06006,    0.061061,    0.062062,    0.063063,    0.064064,    0.065065,    0.066066,    0.067067,    0.068068,    0.069069,     0.07007,    0.071071,\n",
              "          0.072072,    0.073073,    0.074074,    0.075075,    0.076076,    0.077077,    0.078078,    0.079079,     0.08008,    0.081081,    0.082082,    0.083083,    0.084084,    0.085085,    0.086086,    0.087087,    0.088088,    0.089089,     0.09009,    0.091091,    0.092092,    0.093093,    0.094094,    0.095095,\n",
              "          0.096096,    0.097097,    0.098098,    0.099099,      0.1001,      0.1011,      0.1021,      0.1031,      0.1041,     0.10511,     0.10611,     0.10711,     0.10811,     0.10911,     0.11011,     0.11111,     0.11211,     0.11311,     0.11411,     0.11512,     0.11612,     0.11712,     0.11812,     0.11912,\n",
              "           0.12012,     0.12112,     0.12212,     0.12312,     0.12412,     0.12513,     0.12613,     0.12713,     0.12813,     0.12913,     0.13013,     0.13113,     0.13213,     0.13313,     0.13413,     0.13514,     0.13614,     0.13714,     0.13814,     0.13914,     0.14014,     0.14114,     0.14214,     0.14314,\n",
              "           0.14414,     0.14515,     0.14615,     0.14715,     0.14815,     0.14915,     0.15015,     0.15115,     0.15215,     0.15315,     0.15415,     0.15516,     0.15616,     0.15716,     0.15816,     0.15916,     0.16016,     0.16116,     0.16216,     0.16316,     0.16416,     0.16517,     0.16617,     0.16717,\n",
              "           0.16817,     0.16917,     0.17017,     0.17117,     0.17217,     0.17317,     0.17417,     0.17518,     0.17618,     0.17718,     0.17818,     0.17918,     0.18018,     0.18118,     0.18218,     0.18318,     0.18418,     0.18519,     0.18619,     0.18719,     0.18819,     0.18919,     0.19019,     0.19119,\n",
              "           0.19219,     0.19319,     0.19419,      0.1952,      0.1962,      0.1972,      0.1982,      0.1992,      0.2002,      0.2012,      0.2022,      0.2032,      0.2042,     0.20521,     0.20621,     0.20721,     0.20821,     0.20921,     0.21021,     0.21121,     0.21221,     0.21321,     0.21421,     0.21522,\n",
              "           0.21622,     0.21722,     0.21822,     0.21922,     0.22022,     0.22122,     0.22222,     0.22322,     0.22422,     0.22523,     0.22623,     0.22723,     0.22823,     0.22923,     0.23023,     0.23123,     0.23223,     0.23323,     0.23423,     0.23524,     0.23624,     0.23724,     0.23824,     0.23924,\n",
              "           0.24024,     0.24124,     0.24224,     0.24324,     0.24424,     0.24525,     0.24625,     0.24725,     0.24825,     0.24925,     0.25025,     0.25125,     0.25225,     0.25325,     0.25425,     0.25526,     0.25626,     0.25726,     0.25826,     0.25926,     0.26026,     0.26126,     0.26226,     0.26326,\n",
              "           0.26426,     0.26527,     0.26627,     0.26727,     0.26827,     0.26927,     0.27027,     0.27127,     0.27227,     0.27327,     0.27427,     0.27528,     0.27628,     0.27728,     0.27828,     0.27928,     0.28028,     0.28128,     0.28228,     0.28328,     0.28428,     0.28529,     0.28629,     0.28729,\n",
              "           0.28829,     0.28929,     0.29029,     0.29129,     0.29229,     0.29329,     0.29429,      0.2953,      0.2963,      0.2973,      0.2983,      0.2993,      0.3003,      0.3013,      0.3023,      0.3033,      0.3043,     0.30531,     0.30631,     0.30731,     0.30831,     0.30931,     0.31031,     0.31131,\n",
              "           0.31231,     0.31331,     0.31431,     0.31532,     0.31632,     0.31732,     0.31832,     0.31932,     0.32032,     0.32132,     0.32232,     0.32332,     0.32432,     0.32533,     0.32633,     0.32733,     0.32833,     0.32933,     0.33033,     0.33133,     0.33233,     0.33333,     0.33433,     0.33534,\n",
              "           0.33634,     0.33734,     0.33834,     0.33934,     0.34034,     0.34134,     0.34234,     0.34334,     0.34434,     0.34535,     0.34635,     0.34735,     0.34835,     0.34935,     0.35035,     0.35135,     0.35235,     0.35335,     0.35435,     0.35536,     0.35636,     0.35736,     0.35836,     0.35936,\n",
              "           0.36036,     0.36136,     0.36236,     0.36336,     0.36436,     0.36537,     0.36637,     0.36737,     0.36837,     0.36937,     0.37037,     0.37137,     0.37237,     0.37337,     0.37437,     0.37538,     0.37638,     0.37738,     0.37838,     0.37938,     0.38038,     0.38138,     0.38238,     0.38338,\n",
              "           0.38438,     0.38539,     0.38639,     0.38739,     0.38839,     0.38939,     0.39039,     0.39139,     0.39239,     0.39339,     0.39439,      0.3954,      0.3964,      0.3974,      0.3984,      0.3994,      0.4004,      0.4014,      0.4024,      0.4034,      0.4044,     0.40541,     0.40641,     0.40741,\n",
              "           0.40841,     0.40941,     0.41041,     0.41141,     0.41241,     0.41341,     0.41441,     0.41542,     0.41642,     0.41742,     0.41842,     0.41942,     0.42042,     0.42142,     0.42242,     0.42342,     0.42442,     0.42543,     0.42643,     0.42743,     0.42843,     0.42943,     0.43043,     0.43143,\n",
              "           0.43243,     0.43343,     0.43443,     0.43544,     0.43644,     0.43744,     0.43844,     0.43944,     0.44044,     0.44144,     0.44244,     0.44344,     0.44444,     0.44545,     0.44645,     0.44745,     0.44845,     0.44945,     0.45045,     0.45145,     0.45245,     0.45345,     0.45445,     0.45546,\n",
              "           0.45646,     0.45746,     0.45846,     0.45946,     0.46046,     0.46146,     0.46246,     0.46346,     0.46446,     0.46547,     0.46647,     0.46747,     0.46847,     0.46947,     0.47047,     0.47147,     0.47247,     0.47347,     0.47447,     0.47548,     0.47648,     0.47748,     0.47848,     0.47948,\n",
              "           0.48048,     0.48148,     0.48248,     0.48348,     0.48448,     0.48549,     0.48649,     0.48749,     0.48849,     0.48949,     0.49049,     0.49149,     0.49249,     0.49349,     0.49449,      0.4955,      0.4965,      0.4975,      0.4985,      0.4995,      0.5005,      0.5015,      0.5025,      0.5035,\n",
              "            0.5045,     0.50551,     0.50651,     0.50751,     0.50851,     0.50951,     0.51051,     0.51151,     0.51251,     0.51351,     0.51451,     0.51552,     0.51652,     0.51752,     0.51852,     0.51952,     0.52052,     0.52152,     0.52252,     0.52352,     0.52452,     0.52553,     0.52653,     0.52753,\n",
              "           0.52853,     0.52953,     0.53053,     0.53153,     0.53253,     0.53353,     0.53453,     0.53554,     0.53654,     0.53754,     0.53854,     0.53954,     0.54054,     0.54154,     0.54254,     0.54354,     0.54454,     0.54555,     0.54655,     0.54755,     0.54855,     0.54955,     0.55055,     0.55155,\n",
              "           0.55255,     0.55355,     0.55455,     0.55556,     0.55656,     0.55756,     0.55856,     0.55956,     0.56056,     0.56156,     0.56256,     0.56356,     0.56456,     0.56557,     0.56657,     0.56757,     0.56857,     0.56957,     0.57057,     0.57157,     0.57257,     0.57357,     0.57457,     0.57558,\n",
              "           0.57658,     0.57758,     0.57858,     0.57958,     0.58058,     0.58158,     0.58258,     0.58358,     0.58458,     0.58559,     0.58659,     0.58759,     0.58859,     0.58959,     0.59059,     0.59159,     0.59259,     0.59359,     0.59459,      0.5956,      0.5966,      0.5976,      0.5986,      0.5996,\n",
              "            0.6006,      0.6016,      0.6026,      0.6036,      0.6046,     0.60561,     0.60661,     0.60761,     0.60861,     0.60961,     0.61061,     0.61161,     0.61261,     0.61361,     0.61461,     0.61562,     0.61662,     0.61762,     0.61862,     0.61962,     0.62062,     0.62162,     0.62262,     0.62362,\n",
              "           0.62462,     0.62563,     0.62663,     0.62763,     0.62863,     0.62963,     0.63063,     0.63163,     0.63263,     0.63363,     0.63463,     0.63564,     0.63664,     0.63764,     0.63864,     0.63964,     0.64064,     0.64164,     0.64264,     0.64364,     0.64464,     0.64565,     0.64665,     0.64765,\n",
              "           0.64865,     0.64965,     0.65065,     0.65165,     0.65265,     0.65365,     0.65465,     0.65566,     0.65666,     0.65766,     0.65866,     0.65966,     0.66066,     0.66166,     0.66266,     0.66366,     0.66466,     0.66567,     0.66667,     0.66767,     0.66867,     0.66967,     0.67067,     0.67167,\n",
              "           0.67267,     0.67367,     0.67467,     0.67568,     0.67668,     0.67768,     0.67868,     0.67968,     0.68068,     0.68168,     0.68268,     0.68368,     0.68468,     0.68569,     0.68669,     0.68769,     0.68869,     0.68969,     0.69069,     0.69169,     0.69269,     0.69369,     0.69469,      0.6957,\n",
              "            0.6967,      0.6977,      0.6987,      0.6997,      0.7007,      0.7017,      0.7027,      0.7037,      0.7047,     0.70571,     0.70671,     0.70771,     0.70871,     0.70971,     0.71071,     0.71171,     0.71271,     0.71371,     0.71471,     0.71572,     0.71672,     0.71772,     0.71872,     0.71972,\n",
              "           0.72072,     0.72172,     0.72272,     0.72372,     0.72472,     0.72573,     0.72673,     0.72773,     0.72873,     0.72973,     0.73073,     0.73173,     0.73273,     0.73373,     0.73473,     0.73574,     0.73674,     0.73774,     0.73874,     0.73974,     0.74074,     0.74174,     0.74274,     0.74374,\n",
              "           0.74474,     0.74575,     0.74675,     0.74775,     0.74875,     0.74975,     0.75075,     0.75175,     0.75275,     0.75375,     0.75475,     0.75576,     0.75676,     0.75776,     0.75876,     0.75976,     0.76076,     0.76176,     0.76276,     0.76376,     0.76476,     0.76577,     0.76677,     0.76777,\n",
              "           0.76877,     0.76977,     0.77077,     0.77177,     0.77277,     0.77377,     0.77477,     0.77578,     0.77678,     0.77778,     0.77878,     0.77978,     0.78078,     0.78178,     0.78278,     0.78378,     0.78478,     0.78579,     0.78679,     0.78779,     0.78879,     0.78979,     0.79079,     0.79179,\n",
              "           0.79279,     0.79379,     0.79479,      0.7958,      0.7968,      0.7978,      0.7988,      0.7998,      0.8008,      0.8018,      0.8028,      0.8038,      0.8048,     0.80581,     0.80681,     0.80781,     0.80881,     0.80981,     0.81081,     0.81181,     0.81281,     0.81381,     0.81481,     0.81582,\n",
              "           0.81682,     0.81782,     0.81882,     0.81982,     0.82082,     0.82182,     0.82282,     0.82382,     0.82482,     0.82583,     0.82683,     0.82783,     0.82883,     0.82983,     0.83083,     0.83183,     0.83283,     0.83383,     0.83483,     0.83584,     0.83684,     0.83784,     0.83884,     0.83984,\n",
              "           0.84084,     0.84184,     0.84284,     0.84384,     0.84484,     0.84585,     0.84685,     0.84785,     0.84885,     0.84985,     0.85085,     0.85185,     0.85285,     0.85385,     0.85485,     0.85586,     0.85686,     0.85786,     0.85886,     0.85986,     0.86086,     0.86186,     0.86286,     0.86386,\n",
              "           0.86486,     0.86587,     0.86687,     0.86787,     0.86887,     0.86987,     0.87087,     0.87187,     0.87287,     0.87387,     0.87487,     0.87588,     0.87688,     0.87788,     0.87888,     0.87988,     0.88088,     0.88188,     0.88288,     0.88388,     0.88488,     0.88589,     0.88689,     0.88789,\n",
              "           0.88889,     0.88989,     0.89089,     0.89189,     0.89289,     0.89389,     0.89489,      0.8959,      0.8969,      0.8979,      0.8989,      0.8999,      0.9009,      0.9019,      0.9029,      0.9039,      0.9049,     0.90591,     0.90691,     0.90791,     0.90891,     0.90991,     0.91091,     0.91191,\n",
              "           0.91291,     0.91391,     0.91491,     0.91592,     0.91692,     0.91792,     0.91892,     0.91992,     0.92092,     0.92192,     0.92292,     0.92392,     0.92492,     0.92593,     0.92693,     0.92793,     0.92893,     0.92993,     0.93093,     0.93193,     0.93293,     0.93393,     0.93493,     0.93594,\n",
              "           0.93694,     0.93794,     0.93894,     0.93994,     0.94094,     0.94194,     0.94294,     0.94394,     0.94494,     0.94595,     0.94695,     0.94795,     0.94895,     0.94995,     0.95095,     0.95195,     0.95295,     0.95395,     0.95495,     0.95596,     0.95696,     0.95796,     0.95896,     0.95996,\n",
              "           0.96096,     0.96196,     0.96296,     0.96396,     0.96496,     0.96597,     0.96697,     0.96797,     0.96897,     0.96997,     0.97097,     0.97197,     0.97297,     0.97397,     0.97497,     0.97598,     0.97698,     0.97798,     0.97898,     0.97998,     0.98098,     0.98198,     0.98298,     0.98398,\n",
              "           0.98498,     0.98599,     0.98699,     0.98799,     0.98899,     0.98999,     0.99099,     0.99199,     0.99299,     0.99399,     0.99499,       0.996,       0.997,       0.998,       0.999,           1]), array([[          1,           1,           1, ...,           1,           1,           0],\n",
              "       [          1,           1,           1, ...,    0.088899,     0.04445,           0],\n",
              "       [          1,           1,           1, ...,    0.049078,    0.024539,           0],\n",
              "       ...,\n",
              "       [          1,           1,           1, ...,    0.095095,    0.047548,           0],\n",
              "       [          1,           1,           1, ...,           1,           1,           0],\n",
              "       [          1,           1,           1, ...,      0.9596,      0.9596,           0]]), 'Recall', 'Precision'], [array([          0,    0.001001,    0.002002,    0.003003,    0.004004,    0.005005,    0.006006,    0.007007,    0.008008,    0.009009,     0.01001,    0.011011,    0.012012,    0.013013,    0.014014,    0.015015,    0.016016,    0.017017,    0.018018,    0.019019,     0.02002,    0.021021,    0.022022,    0.023023,\n",
              "          0.024024,    0.025025,    0.026026,    0.027027,    0.028028,    0.029029,     0.03003,    0.031031,    0.032032,    0.033033,    0.034034,    0.035035,    0.036036,    0.037037,    0.038038,    0.039039,     0.04004,    0.041041,    0.042042,    0.043043,    0.044044,    0.045045,    0.046046,    0.047047,\n",
              "          0.048048,    0.049049,     0.05005,    0.051051,    0.052052,    0.053053,    0.054054,    0.055055,    0.056056,    0.057057,    0.058058,    0.059059,     0.06006,    0.061061,    0.062062,    0.063063,    0.064064,    0.065065,    0.066066,    0.067067,    0.068068,    0.069069,     0.07007,    0.071071,\n",
              "          0.072072,    0.073073,    0.074074,    0.075075,    0.076076,    0.077077,    0.078078,    0.079079,     0.08008,    0.081081,    0.082082,    0.083083,    0.084084,    0.085085,    0.086086,    0.087087,    0.088088,    0.089089,     0.09009,    0.091091,    0.092092,    0.093093,    0.094094,    0.095095,\n",
              "          0.096096,    0.097097,    0.098098,    0.099099,      0.1001,      0.1011,      0.1021,      0.1031,      0.1041,     0.10511,     0.10611,     0.10711,     0.10811,     0.10911,     0.11011,     0.11111,     0.11211,     0.11311,     0.11411,     0.11512,     0.11612,     0.11712,     0.11812,     0.11912,\n",
              "           0.12012,     0.12112,     0.12212,     0.12312,     0.12412,     0.12513,     0.12613,     0.12713,     0.12813,     0.12913,     0.13013,     0.13113,     0.13213,     0.13313,     0.13413,     0.13514,     0.13614,     0.13714,     0.13814,     0.13914,     0.14014,     0.14114,     0.14214,     0.14314,\n",
              "           0.14414,     0.14515,     0.14615,     0.14715,     0.14815,     0.14915,     0.15015,     0.15115,     0.15215,     0.15315,     0.15415,     0.15516,     0.15616,     0.15716,     0.15816,     0.15916,     0.16016,     0.16116,     0.16216,     0.16316,     0.16416,     0.16517,     0.16617,     0.16717,\n",
              "           0.16817,     0.16917,     0.17017,     0.17117,     0.17217,     0.17317,     0.17417,     0.17518,     0.17618,     0.17718,     0.17818,     0.17918,     0.18018,     0.18118,     0.18218,     0.18318,     0.18418,     0.18519,     0.18619,     0.18719,     0.18819,     0.18919,     0.19019,     0.19119,\n",
              "           0.19219,     0.19319,     0.19419,      0.1952,      0.1962,      0.1972,      0.1982,      0.1992,      0.2002,      0.2012,      0.2022,      0.2032,      0.2042,     0.20521,     0.20621,     0.20721,     0.20821,     0.20921,     0.21021,     0.21121,     0.21221,     0.21321,     0.21421,     0.21522,\n",
              "           0.21622,     0.21722,     0.21822,     0.21922,     0.22022,     0.22122,     0.22222,     0.22322,     0.22422,     0.22523,     0.22623,     0.22723,     0.22823,     0.22923,     0.23023,     0.23123,     0.23223,     0.23323,     0.23423,     0.23524,     0.23624,     0.23724,     0.23824,     0.23924,\n",
              "           0.24024,     0.24124,     0.24224,     0.24324,     0.24424,     0.24525,     0.24625,     0.24725,     0.24825,     0.24925,     0.25025,     0.25125,     0.25225,     0.25325,     0.25425,     0.25526,     0.25626,     0.25726,     0.25826,     0.25926,     0.26026,     0.26126,     0.26226,     0.26326,\n",
              "           0.26426,     0.26527,     0.26627,     0.26727,     0.26827,     0.26927,     0.27027,     0.27127,     0.27227,     0.27327,     0.27427,     0.27528,     0.27628,     0.27728,     0.27828,     0.27928,     0.28028,     0.28128,     0.28228,     0.28328,     0.28428,     0.28529,     0.28629,     0.28729,\n",
              "           0.28829,     0.28929,     0.29029,     0.29129,     0.29229,     0.29329,     0.29429,      0.2953,      0.2963,      0.2973,      0.2983,      0.2993,      0.3003,      0.3013,      0.3023,      0.3033,      0.3043,     0.30531,     0.30631,     0.30731,     0.30831,     0.30931,     0.31031,     0.31131,\n",
              "           0.31231,     0.31331,     0.31431,     0.31532,     0.31632,     0.31732,     0.31832,     0.31932,     0.32032,     0.32132,     0.32232,     0.32332,     0.32432,     0.32533,     0.32633,     0.32733,     0.32833,     0.32933,     0.33033,     0.33133,     0.33233,     0.33333,     0.33433,     0.33534,\n",
              "           0.33634,     0.33734,     0.33834,     0.33934,     0.34034,     0.34134,     0.34234,     0.34334,     0.34434,     0.34535,     0.34635,     0.34735,     0.34835,     0.34935,     0.35035,     0.35135,     0.35235,     0.35335,     0.35435,     0.35536,     0.35636,     0.35736,     0.35836,     0.35936,\n",
              "           0.36036,     0.36136,     0.36236,     0.36336,     0.36436,     0.36537,     0.36637,     0.36737,     0.36837,     0.36937,     0.37037,     0.37137,     0.37237,     0.37337,     0.37437,     0.37538,     0.37638,     0.37738,     0.37838,     0.37938,     0.38038,     0.38138,     0.38238,     0.38338,\n",
              "           0.38438,     0.38539,     0.38639,     0.38739,     0.38839,     0.38939,     0.39039,     0.39139,     0.39239,     0.39339,     0.39439,      0.3954,      0.3964,      0.3974,      0.3984,      0.3994,      0.4004,      0.4014,      0.4024,      0.4034,      0.4044,     0.40541,     0.40641,     0.40741,\n",
              "           0.40841,     0.40941,     0.41041,     0.41141,     0.41241,     0.41341,     0.41441,     0.41542,     0.41642,     0.41742,     0.41842,     0.41942,     0.42042,     0.42142,     0.42242,     0.42342,     0.42442,     0.42543,     0.42643,     0.42743,     0.42843,     0.42943,     0.43043,     0.43143,\n",
              "           0.43243,     0.43343,     0.43443,     0.43544,     0.43644,     0.43744,     0.43844,     0.43944,     0.44044,     0.44144,     0.44244,     0.44344,     0.44444,     0.44545,     0.44645,     0.44745,     0.44845,     0.44945,     0.45045,     0.45145,     0.45245,     0.45345,     0.45445,     0.45546,\n",
              "           0.45646,     0.45746,     0.45846,     0.45946,     0.46046,     0.46146,     0.46246,     0.46346,     0.46446,     0.46547,     0.46647,     0.46747,     0.46847,     0.46947,     0.47047,     0.47147,     0.47247,     0.47347,     0.47447,     0.47548,     0.47648,     0.47748,     0.47848,     0.47948,\n",
              "           0.48048,     0.48148,     0.48248,     0.48348,     0.48448,     0.48549,     0.48649,     0.48749,     0.48849,     0.48949,     0.49049,     0.49149,     0.49249,     0.49349,     0.49449,      0.4955,      0.4965,      0.4975,      0.4985,      0.4995,      0.5005,      0.5015,      0.5025,      0.5035,\n",
              "            0.5045,     0.50551,     0.50651,     0.50751,     0.50851,     0.50951,     0.51051,     0.51151,     0.51251,     0.51351,     0.51451,     0.51552,     0.51652,     0.51752,     0.51852,     0.51952,     0.52052,     0.52152,     0.52252,     0.52352,     0.52452,     0.52553,     0.52653,     0.52753,\n",
              "           0.52853,     0.52953,     0.53053,     0.53153,     0.53253,     0.53353,     0.53453,     0.53554,     0.53654,     0.53754,     0.53854,     0.53954,     0.54054,     0.54154,     0.54254,     0.54354,     0.54454,     0.54555,     0.54655,     0.54755,     0.54855,     0.54955,     0.55055,     0.55155,\n",
              "           0.55255,     0.55355,     0.55455,     0.55556,     0.55656,     0.55756,     0.55856,     0.55956,     0.56056,     0.56156,     0.56256,     0.56356,     0.56456,     0.56557,     0.56657,     0.56757,     0.56857,     0.56957,     0.57057,     0.57157,     0.57257,     0.57357,     0.57457,     0.57558,\n",
              "           0.57658,     0.57758,     0.57858,     0.57958,     0.58058,     0.58158,     0.58258,     0.58358,     0.58458,     0.58559,     0.58659,     0.58759,     0.58859,     0.58959,     0.59059,     0.59159,     0.59259,     0.59359,     0.59459,      0.5956,      0.5966,      0.5976,      0.5986,      0.5996,\n",
              "            0.6006,      0.6016,      0.6026,      0.6036,      0.6046,     0.60561,     0.60661,     0.60761,     0.60861,     0.60961,     0.61061,     0.61161,     0.61261,     0.61361,     0.61461,     0.61562,     0.61662,     0.61762,     0.61862,     0.61962,     0.62062,     0.62162,     0.62262,     0.62362,\n",
              "           0.62462,     0.62563,     0.62663,     0.62763,     0.62863,     0.62963,     0.63063,     0.63163,     0.63263,     0.63363,     0.63463,     0.63564,     0.63664,     0.63764,     0.63864,     0.63964,     0.64064,     0.64164,     0.64264,     0.64364,     0.64464,     0.64565,     0.64665,     0.64765,\n",
              "           0.64865,     0.64965,     0.65065,     0.65165,     0.65265,     0.65365,     0.65465,     0.65566,     0.65666,     0.65766,     0.65866,     0.65966,     0.66066,     0.66166,     0.66266,     0.66366,     0.66466,     0.66567,     0.66667,     0.66767,     0.66867,     0.66967,     0.67067,     0.67167,\n",
              "           0.67267,     0.67367,     0.67467,     0.67568,     0.67668,     0.67768,     0.67868,     0.67968,     0.68068,     0.68168,     0.68268,     0.68368,     0.68468,     0.68569,     0.68669,     0.68769,     0.68869,     0.68969,     0.69069,     0.69169,     0.69269,     0.69369,     0.69469,      0.6957,\n",
              "            0.6967,      0.6977,      0.6987,      0.6997,      0.7007,      0.7017,      0.7027,      0.7037,      0.7047,     0.70571,     0.70671,     0.70771,     0.70871,     0.70971,     0.71071,     0.71171,     0.71271,     0.71371,     0.71471,     0.71572,     0.71672,     0.71772,     0.71872,     0.71972,\n",
              "           0.72072,     0.72172,     0.72272,     0.72372,     0.72472,     0.72573,     0.72673,     0.72773,     0.72873,     0.72973,     0.73073,     0.73173,     0.73273,     0.73373,     0.73473,     0.73574,     0.73674,     0.73774,     0.73874,     0.73974,     0.74074,     0.74174,     0.74274,     0.74374,\n",
              "           0.74474,     0.74575,     0.74675,     0.74775,     0.74875,     0.74975,     0.75075,     0.75175,     0.75275,     0.75375,     0.75475,     0.75576,     0.75676,     0.75776,     0.75876,     0.75976,     0.76076,     0.76176,     0.76276,     0.76376,     0.76476,     0.76577,     0.76677,     0.76777,\n",
              "           0.76877,     0.76977,     0.77077,     0.77177,     0.77277,     0.77377,     0.77477,     0.77578,     0.77678,     0.77778,     0.77878,     0.77978,     0.78078,     0.78178,     0.78278,     0.78378,     0.78478,     0.78579,     0.78679,     0.78779,     0.78879,     0.78979,     0.79079,     0.79179,\n",
              "           0.79279,     0.79379,     0.79479,      0.7958,      0.7968,      0.7978,      0.7988,      0.7998,      0.8008,      0.8018,      0.8028,      0.8038,      0.8048,     0.80581,     0.80681,     0.80781,     0.80881,     0.80981,     0.81081,     0.81181,     0.81281,     0.81381,     0.81481,     0.81582,\n",
              "           0.81682,     0.81782,     0.81882,     0.81982,     0.82082,     0.82182,     0.82282,     0.82382,     0.82482,     0.82583,     0.82683,     0.82783,     0.82883,     0.82983,     0.83083,     0.83183,     0.83283,     0.83383,     0.83483,     0.83584,     0.83684,     0.83784,     0.83884,     0.83984,\n",
              "           0.84084,     0.84184,     0.84284,     0.84384,     0.84484,     0.84585,     0.84685,     0.84785,     0.84885,     0.84985,     0.85085,     0.85185,     0.85285,     0.85385,     0.85485,     0.85586,     0.85686,     0.85786,     0.85886,     0.85986,     0.86086,     0.86186,     0.86286,     0.86386,\n",
              "           0.86486,     0.86587,     0.86687,     0.86787,     0.86887,     0.86987,     0.87087,     0.87187,     0.87287,     0.87387,     0.87487,     0.87588,     0.87688,     0.87788,     0.87888,     0.87988,     0.88088,     0.88188,     0.88288,     0.88388,     0.88488,     0.88589,     0.88689,     0.88789,\n",
              "           0.88889,     0.88989,     0.89089,     0.89189,     0.89289,     0.89389,     0.89489,      0.8959,      0.8969,      0.8979,      0.8989,      0.8999,      0.9009,      0.9019,      0.9029,      0.9039,      0.9049,     0.90591,     0.90691,     0.90791,     0.90891,     0.90991,     0.91091,     0.91191,\n",
              "           0.91291,     0.91391,     0.91491,     0.91592,     0.91692,     0.91792,     0.91892,     0.91992,     0.92092,     0.92192,     0.92292,     0.92392,     0.92492,     0.92593,     0.92693,     0.92793,     0.92893,     0.92993,     0.93093,     0.93193,     0.93293,     0.93393,     0.93493,     0.93594,\n",
              "           0.93694,     0.93794,     0.93894,     0.93994,     0.94094,     0.94194,     0.94294,     0.94394,     0.94494,     0.94595,     0.94695,     0.94795,     0.94895,     0.94995,     0.95095,     0.95195,     0.95295,     0.95395,     0.95495,     0.95596,     0.95696,     0.95796,     0.95896,     0.95996,\n",
              "           0.96096,     0.96196,     0.96296,     0.96396,     0.96496,     0.96597,     0.96697,     0.96797,     0.96897,     0.96997,     0.97097,     0.97197,     0.97297,     0.97397,     0.97497,     0.97598,     0.97698,     0.97798,     0.97898,     0.97998,     0.98098,     0.98198,     0.98298,     0.98398,\n",
              "           0.98498,     0.98599,     0.98699,     0.98799,     0.98899,     0.98999,     0.99099,     0.99199,     0.99299,     0.99399,     0.99499,       0.996,       0.997,       0.998,       0.999,           1]), array([[    0.51942,     0.51942,     0.64255, ...,           0,           0,           0],\n",
              "       [    0.60479,     0.60479,     0.73714, ...,           0,           0,           0],\n",
              "       [    0.38986,     0.38986,     0.51402, ...,    0.039745,    0.029749,           0],\n",
              "       ...,\n",
              "       [    0.65972,     0.65972,     0.77221, ...,           0,           0,           0],\n",
              "       [    0.53412,     0.53412,     0.70304, ...,           0,           0,           0],\n",
              "       [       0.38,        0.38,     0.50926, ...,           0,           0,           0]]), 'Confidence', 'F1'], [array([          0,    0.001001,    0.002002,    0.003003,    0.004004,    0.005005,    0.006006,    0.007007,    0.008008,    0.009009,     0.01001,    0.011011,    0.012012,    0.013013,    0.014014,    0.015015,    0.016016,    0.017017,    0.018018,    0.019019,     0.02002,    0.021021,    0.022022,    0.023023,\n",
              "          0.024024,    0.025025,    0.026026,    0.027027,    0.028028,    0.029029,     0.03003,    0.031031,    0.032032,    0.033033,    0.034034,    0.035035,    0.036036,    0.037037,    0.038038,    0.039039,     0.04004,    0.041041,    0.042042,    0.043043,    0.044044,    0.045045,    0.046046,    0.047047,\n",
              "          0.048048,    0.049049,     0.05005,    0.051051,    0.052052,    0.053053,    0.054054,    0.055055,    0.056056,    0.057057,    0.058058,    0.059059,     0.06006,    0.061061,    0.062062,    0.063063,    0.064064,    0.065065,    0.066066,    0.067067,    0.068068,    0.069069,     0.07007,    0.071071,\n",
              "          0.072072,    0.073073,    0.074074,    0.075075,    0.076076,    0.077077,    0.078078,    0.079079,     0.08008,    0.081081,    0.082082,    0.083083,    0.084084,    0.085085,    0.086086,    0.087087,    0.088088,    0.089089,     0.09009,    0.091091,    0.092092,    0.093093,    0.094094,    0.095095,\n",
              "          0.096096,    0.097097,    0.098098,    0.099099,      0.1001,      0.1011,      0.1021,      0.1031,      0.1041,     0.10511,     0.10611,     0.10711,     0.10811,     0.10911,     0.11011,     0.11111,     0.11211,     0.11311,     0.11411,     0.11512,     0.11612,     0.11712,     0.11812,     0.11912,\n",
              "           0.12012,     0.12112,     0.12212,     0.12312,     0.12412,     0.12513,     0.12613,     0.12713,     0.12813,     0.12913,     0.13013,     0.13113,     0.13213,     0.13313,     0.13413,     0.13514,     0.13614,     0.13714,     0.13814,     0.13914,     0.14014,     0.14114,     0.14214,     0.14314,\n",
              "           0.14414,     0.14515,     0.14615,     0.14715,     0.14815,     0.14915,     0.15015,     0.15115,     0.15215,     0.15315,     0.15415,     0.15516,     0.15616,     0.15716,     0.15816,     0.15916,     0.16016,     0.16116,     0.16216,     0.16316,     0.16416,     0.16517,     0.16617,     0.16717,\n",
              "           0.16817,     0.16917,     0.17017,     0.17117,     0.17217,     0.17317,     0.17417,     0.17518,     0.17618,     0.17718,     0.17818,     0.17918,     0.18018,     0.18118,     0.18218,     0.18318,     0.18418,     0.18519,     0.18619,     0.18719,     0.18819,     0.18919,     0.19019,     0.19119,\n",
              "           0.19219,     0.19319,     0.19419,      0.1952,      0.1962,      0.1972,      0.1982,      0.1992,      0.2002,      0.2012,      0.2022,      0.2032,      0.2042,     0.20521,     0.20621,     0.20721,     0.20821,     0.20921,     0.21021,     0.21121,     0.21221,     0.21321,     0.21421,     0.21522,\n",
              "           0.21622,     0.21722,     0.21822,     0.21922,     0.22022,     0.22122,     0.22222,     0.22322,     0.22422,     0.22523,     0.22623,     0.22723,     0.22823,     0.22923,     0.23023,     0.23123,     0.23223,     0.23323,     0.23423,     0.23524,     0.23624,     0.23724,     0.23824,     0.23924,\n",
              "           0.24024,     0.24124,     0.24224,     0.24324,     0.24424,     0.24525,     0.24625,     0.24725,     0.24825,     0.24925,     0.25025,     0.25125,     0.25225,     0.25325,     0.25425,     0.25526,     0.25626,     0.25726,     0.25826,     0.25926,     0.26026,     0.26126,     0.26226,     0.26326,\n",
              "           0.26426,     0.26527,     0.26627,     0.26727,     0.26827,     0.26927,     0.27027,     0.27127,     0.27227,     0.27327,     0.27427,     0.27528,     0.27628,     0.27728,     0.27828,     0.27928,     0.28028,     0.28128,     0.28228,     0.28328,     0.28428,     0.28529,     0.28629,     0.28729,\n",
              "           0.28829,     0.28929,     0.29029,     0.29129,     0.29229,     0.29329,     0.29429,      0.2953,      0.2963,      0.2973,      0.2983,      0.2993,      0.3003,      0.3013,      0.3023,      0.3033,      0.3043,     0.30531,     0.30631,     0.30731,     0.30831,     0.30931,     0.31031,     0.31131,\n",
              "           0.31231,     0.31331,     0.31431,     0.31532,     0.31632,     0.31732,     0.31832,     0.31932,     0.32032,     0.32132,     0.32232,     0.32332,     0.32432,     0.32533,     0.32633,     0.32733,     0.32833,     0.32933,     0.33033,     0.33133,     0.33233,     0.33333,     0.33433,     0.33534,\n",
              "           0.33634,     0.33734,     0.33834,     0.33934,     0.34034,     0.34134,     0.34234,     0.34334,     0.34434,     0.34535,     0.34635,     0.34735,     0.34835,     0.34935,     0.35035,     0.35135,     0.35235,     0.35335,     0.35435,     0.35536,     0.35636,     0.35736,     0.35836,     0.35936,\n",
              "           0.36036,     0.36136,     0.36236,     0.36336,     0.36436,     0.36537,     0.36637,     0.36737,     0.36837,     0.36937,     0.37037,     0.37137,     0.37237,     0.37337,     0.37437,     0.37538,     0.37638,     0.37738,     0.37838,     0.37938,     0.38038,     0.38138,     0.38238,     0.38338,\n",
              "           0.38438,     0.38539,     0.38639,     0.38739,     0.38839,     0.38939,     0.39039,     0.39139,     0.39239,     0.39339,     0.39439,      0.3954,      0.3964,      0.3974,      0.3984,      0.3994,      0.4004,      0.4014,      0.4024,      0.4034,      0.4044,     0.40541,     0.40641,     0.40741,\n",
              "           0.40841,     0.40941,     0.41041,     0.41141,     0.41241,     0.41341,     0.41441,     0.41542,     0.41642,     0.41742,     0.41842,     0.41942,     0.42042,     0.42142,     0.42242,     0.42342,     0.42442,     0.42543,     0.42643,     0.42743,     0.42843,     0.42943,     0.43043,     0.43143,\n",
              "           0.43243,     0.43343,     0.43443,     0.43544,     0.43644,     0.43744,     0.43844,     0.43944,     0.44044,     0.44144,     0.44244,     0.44344,     0.44444,     0.44545,     0.44645,     0.44745,     0.44845,     0.44945,     0.45045,     0.45145,     0.45245,     0.45345,     0.45445,     0.45546,\n",
              "           0.45646,     0.45746,     0.45846,     0.45946,     0.46046,     0.46146,     0.46246,     0.46346,     0.46446,     0.46547,     0.46647,     0.46747,     0.46847,     0.46947,     0.47047,     0.47147,     0.47247,     0.47347,     0.47447,     0.47548,     0.47648,     0.47748,     0.47848,     0.47948,\n",
              "           0.48048,     0.48148,     0.48248,     0.48348,     0.48448,     0.48549,     0.48649,     0.48749,     0.48849,     0.48949,     0.49049,     0.49149,     0.49249,     0.49349,     0.49449,      0.4955,      0.4965,      0.4975,      0.4985,      0.4995,      0.5005,      0.5015,      0.5025,      0.5035,\n",
              "            0.5045,     0.50551,     0.50651,     0.50751,     0.50851,     0.50951,     0.51051,     0.51151,     0.51251,     0.51351,     0.51451,     0.51552,     0.51652,     0.51752,     0.51852,     0.51952,     0.52052,     0.52152,     0.52252,     0.52352,     0.52452,     0.52553,     0.52653,     0.52753,\n",
              "           0.52853,     0.52953,     0.53053,     0.53153,     0.53253,     0.53353,     0.53453,     0.53554,     0.53654,     0.53754,     0.53854,     0.53954,     0.54054,     0.54154,     0.54254,     0.54354,     0.54454,     0.54555,     0.54655,     0.54755,     0.54855,     0.54955,     0.55055,     0.55155,\n",
              "           0.55255,     0.55355,     0.55455,     0.55556,     0.55656,     0.55756,     0.55856,     0.55956,     0.56056,     0.56156,     0.56256,     0.56356,     0.56456,     0.56557,     0.56657,     0.56757,     0.56857,     0.56957,     0.57057,     0.57157,     0.57257,     0.57357,     0.57457,     0.57558,\n",
              "           0.57658,     0.57758,     0.57858,     0.57958,     0.58058,     0.58158,     0.58258,     0.58358,     0.58458,     0.58559,     0.58659,     0.58759,     0.58859,     0.58959,     0.59059,     0.59159,     0.59259,     0.59359,     0.59459,      0.5956,      0.5966,      0.5976,      0.5986,      0.5996,\n",
              "            0.6006,      0.6016,      0.6026,      0.6036,      0.6046,     0.60561,     0.60661,     0.60761,     0.60861,     0.60961,     0.61061,     0.61161,     0.61261,     0.61361,     0.61461,     0.61562,     0.61662,     0.61762,     0.61862,     0.61962,     0.62062,     0.62162,     0.62262,     0.62362,\n",
              "           0.62462,     0.62563,     0.62663,     0.62763,     0.62863,     0.62963,     0.63063,     0.63163,     0.63263,     0.63363,     0.63463,     0.63564,     0.63664,     0.63764,     0.63864,     0.63964,     0.64064,     0.64164,     0.64264,     0.64364,     0.64464,     0.64565,     0.64665,     0.64765,\n",
              "           0.64865,     0.64965,     0.65065,     0.65165,     0.65265,     0.65365,     0.65465,     0.65566,     0.65666,     0.65766,     0.65866,     0.65966,     0.66066,     0.66166,     0.66266,     0.66366,     0.66466,     0.66567,     0.66667,     0.66767,     0.66867,     0.66967,     0.67067,     0.67167,\n",
              "           0.67267,     0.67367,     0.67467,     0.67568,     0.67668,     0.67768,     0.67868,     0.67968,     0.68068,     0.68168,     0.68268,     0.68368,     0.68468,     0.68569,     0.68669,     0.68769,     0.68869,     0.68969,     0.69069,     0.69169,     0.69269,     0.69369,     0.69469,      0.6957,\n",
              "            0.6967,      0.6977,      0.6987,      0.6997,      0.7007,      0.7017,      0.7027,      0.7037,      0.7047,     0.70571,     0.70671,     0.70771,     0.70871,     0.70971,     0.71071,     0.71171,     0.71271,     0.71371,     0.71471,     0.71572,     0.71672,     0.71772,     0.71872,     0.71972,\n",
              "           0.72072,     0.72172,     0.72272,     0.72372,     0.72472,     0.72573,     0.72673,     0.72773,     0.72873,     0.72973,     0.73073,     0.73173,     0.73273,     0.73373,     0.73473,     0.73574,     0.73674,     0.73774,     0.73874,     0.73974,     0.74074,     0.74174,     0.74274,     0.74374,\n",
              "           0.74474,     0.74575,     0.74675,     0.74775,     0.74875,     0.74975,     0.75075,     0.75175,     0.75275,     0.75375,     0.75475,     0.75576,     0.75676,     0.75776,     0.75876,     0.75976,     0.76076,     0.76176,     0.76276,     0.76376,     0.76476,     0.76577,     0.76677,     0.76777,\n",
              "           0.76877,     0.76977,     0.77077,     0.77177,     0.77277,     0.77377,     0.77477,     0.77578,     0.77678,     0.77778,     0.77878,     0.77978,     0.78078,     0.78178,     0.78278,     0.78378,     0.78478,     0.78579,     0.78679,     0.78779,     0.78879,     0.78979,     0.79079,     0.79179,\n",
              "           0.79279,     0.79379,     0.79479,      0.7958,      0.7968,      0.7978,      0.7988,      0.7998,      0.8008,      0.8018,      0.8028,      0.8038,      0.8048,     0.80581,     0.80681,     0.80781,     0.80881,     0.80981,     0.81081,     0.81181,     0.81281,     0.81381,     0.81481,     0.81582,\n",
              "           0.81682,     0.81782,     0.81882,     0.81982,     0.82082,     0.82182,     0.82282,     0.82382,     0.82482,     0.82583,     0.82683,     0.82783,     0.82883,     0.82983,     0.83083,     0.83183,     0.83283,     0.83383,     0.83483,     0.83584,     0.83684,     0.83784,     0.83884,     0.83984,\n",
              "           0.84084,     0.84184,     0.84284,     0.84384,     0.84484,     0.84585,     0.84685,     0.84785,     0.84885,     0.84985,     0.85085,     0.85185,     0.85285,     0.85385,     0.85485,     0.85586,     0.85686,     0.85786,     0.85886,     0.85986,     0.86086,     0.86186,     0.86286,     0.86386,\n",
              "           0.86486,     0.86587,     0.86687,     0.86787,     0.86887,     0.86987,     0.87087,     0.87187,     0.87287,     0.87387,     0.87487,     0.87588,     0.87688,     0.87788,     0.87888,     0.87988,     0.88088,     0.88188,     0.88288,     0.88388,     0.88488,     0.88589,     0.88689,     0.88789,\n",
              "           0.88889,     0.88989,     0.89089,     0.89189,     0.89289,     0.89389,     0.89489,      0.8959,      0.8969,      0.8979,      0.8989,      0.8999,      0.9009,      0.9019,      0.9029,      0.9039,      0.9049,     0.90591,     0.90691,     0.90791,     0.90891,     0.90991,     0.91091,     0.91191,\n",
              "           0.91291,     0.91391,     0.91491,     0.91592,     0.91692,     0.91792,     0.91892,     0.91992,     0.92092,     0.92192,     0.92292,     0.92392,     0.92492,     0.92593,     0.92693,     0.92793,     0.92893,     0.92993,     0.93093,     0.93193,     0.93293,     0.93393,     0.93493,     0.93594,\n",
              "           0.93694,     0.93794,     0.93894,     0.93994,     0.94094,     0.94194,     0.94294,     0.94394,     0.94494,     0.94595,     0.94695,     0.94795,     0.94895,     0.94995,     0.95095,     0.95195,     0.95295,     0.95395,     0.95495,     0.95596,     0.95696,     0.95796,     0.95896,     0.95996,\n",
              "           0.96096,     0.96196,     0.96296,     0.96396,     0.96496,     0.96597,     0.96697,     0.96797,     0.96897,     0.96997,     0.97097,     0.97197,     0.97297,     0.97397,     0.97497,     0.97598,     0.97698,     0.97798,     0.97898,     0.97998,     0.98098,     0.98198,     0.98298,     0.98398,\n",
              "           0.98498,     0.98599,     0.98699,     0.98799,     0.98899,     0.98999,     0.99099,     0.99199,     0.99299,     0.99399,     0.99499,       0.996,       0.997,       0.998,       0.999,           1]), array([[    0.35082,     0.35082,     0.47335, ...,           1,           1,           1],\n",
              "       [    0.43534,     0.43534,      0.5871, ...,           1,           1,           1],\n",
              "       [    0.24272,     0.24272,     0.34711, ...,           1,           1,           1],\n",
              "       ...,\n",
              "       [    0.49479,     0.49479,     0.63314, ...,           1,           1,           1],\n",
              "       [    0.36437,     0.36437,     0.54207, ...,           1,           1,           1],\n",
              "       [    0.23457,     0.23457,     0.34161, ...,           1,           1,           1]]), 'Confidence', 'Precision'], [array([          0,    0.001001,    0.002002,    0.003003,    0.004004,    0.005005,    0.006006,    0.007007,    0.008008,    0.009009,     0.01001,    0.011011,    0.012012,    0.013013,    0.014014,    0.015015,    0.016016,    0.017017,    0.018018,    0.019019,     0.02002,    0.021021,    0.022022,    0.023023,\n",
              "          0.024024,    0.025025,    0.026026,    0.027027,    0.028028,    0.029029,     0.03003,    0.031031,    0.032032,    0.033033,    0.034034,    0.035035,    0.036036,    0.037037,    0.038038,    0.039039,     0.04004,    0.041041,    0.042042,    0.043043,    0.044044,    0.045045,    0.046046,    0.047047,\n",
              "          0.048048,    0.049049,     0.05005,    0.051051,    0.052052,    0.053053,    0.054054,    0.055055,    0.056056,    0.057057,    0.058058,    0.059059,     0.06006,    0.061061,    0.062062,    0.063063,    0.064064,    0.065065,    0.066066,    0.067067,    0.068068,    0.069069,     0.07007,    0.071071,\n",
              "          0.072072,    0.073073,    0.074074,    0.075075,    0.076076,    0.077077,    0.078078,    0.079079,     0.08008,    0.081081,    0.082082,    0.083083,    0.084084,    0.085085,    0.086086,    0.087087,    0.088088,    0.089089,     0.09009,    0.091091,    0.092092,    0.093093,    0.094094,    0.095095,\n",
              "          0.096096,    0.097097,    0.098098,    0.099099,      0.1001,      0.1011,      0.1021,      0.1031,      0.1041,     0.10511,     0.10611,     0.10711,     0.10811,     0.10911,     0.11011,     0.11111,     0.11211,     0.11311,     0.11411,     0.11512,     0.11612,     0.11712,     0.11812,     0.11912,\n",
              "           0.12012,     0.12112,     0.12212,     0.12312,     0.12412,     0.12513,     0.12613,     0.12713,     0.12813,     0.12913,     0.13013,     0.13113,     0.13213,     0.13313,     0.13413,     0.13514,     0.13614,     0.13714,     0.13814,     0.13914,     0.14014,     0.14114,     0.14214,     0.14314,\n",
              "           0.14414,     0.14515,     0.14615,     0.14715,     0.14815,     0.14915,     0.15015,     0.15115,     0.15215,     0.15315,     0.15415,     0.15516,     0.15616,     0.15716,     0.15816,     0.15916,     0.16016,     0.16116,     0.16216,     0.16316,     0.16416,     0.16517,     0.16617,     0.16717,\n",
              "           0.16817,     0.16917,     0.17017,     0.17117,     0.17217,     0.17317,     0.17417,     0.17518,     0.17618,     0.17718,     0.17818,     0.17918,     0.18018,     0.18118,     0.18218,     0.18318,     0.18418,     0.18519,     0.18619,     0.18719,     0.18819,     0.18919,     0.19019,     0.19119,\n",
              "           0.19219,     0.19319,     0.19419,      0.1952,      0.1962,      0.1972,      0.1982,      0.1992,      0.2002,      0.2012,      0.2022,      0.2032,      0.2042,     0.20521,     0.20621,     0.20721,     0.20821,     0.20921,     0.21021,     0.21121,     0.21221,     0.21321,     0.21421,     0.21522,\n",
              "           0.21622,     0.21722,     0.21822,     0.21922,     0.22022,     0.22122,     0.22222,     0.22322,     0.22422,     0.22523,     0.22623,     0.22723,     0.22823,     0.22923,     0.23023,     0.23123,     0.23223,     0.23323,     0.23423,     0.23524,     0.23624,     0.23724,     0.23824,     0.23924,\n",
              "           0.24024,     0.24124,     0.24224,     0.24324,     0.24424,     0.24525,     0.24625,     0.24725,     0.24825,     0.24925,     0.25025,     0.25125,     0.25225,     0.25325,     0.25425,     0.25526,     0.25626,     0.25726,     0.25826,     0.25926,     0.26026,     0.26126,     0.26226,     0.26326,\n",
              "           0.26426,     0.26527,     0.26627,     0.26727,     0.26827,     0.26927,     0.27027,     0.27127,     0.27227,     0.27327,     0.27427,     0.27528,     0.27628,     0.27728,     0.27828,     0.27928,     0.28028,     0.28128,     0.28228,     0.28328,     0.28428,     0.28529,     0.28629,     0.28729,\n",
              "           0.28829,     0.28929,     0.29029,     0.29129,     0.29229,     0.29329,     0.29429,      0.2953,      0.2963,      0.2973,      0.2983,      0.2993,      0.3003,      0.3013,      0.3023,      0.3033,      0.3043,     0.30531,     0.30631,     0.30731,     0.30831,     0.30931,     0.31031,     0.31131,\n",
              "           0.31231,     0.31331,     0.31431,     0.31532,     0.31632,     0.31732,     0.31832,     0.31932,     0.32032,     0.32132,     0.32232,     0.32332,     0.32432,     0.32533,     0.32633,     0.32733,     0.32833,     0.32933,     0.33033,     0.33133,     0.33233,     0.33333,     0.33433,     0.33534,\n",
              "           0.33634,     0.33734,     0.33834,     0.33934,     0.34034,     0.34134,     0.34234,     0.34334,     0.34434,     0.34535,     0.34635,     0.34735,     0.34835,     0.34935,     0.35035,     0.35135,     0.35235,     0.35335,     0.35435,     0.35536,     0.35636,     0.35736,     0.35836,     0.35936,\n",
              "           0.36036,     0.36136,     0.36236,     0.36336,     0.36436,     0.36537,     0.36637,     0.36737,     0.36837,     0.36937,     0.37037,     0.37137,     0.37237,     0.37337,     0.37437,     0.37538,     0.37638,     0.37738,     0.37838,     0.37938,     0.38038,     0.38138,     0.38238,     0.38338,\n",
              "           0.38438,     0.38539,     0.38639,     0.38739,     0.38839,     0.38939,     0.39039,     0.39139,     0.39239,     0.39339,     0.39439,      0.3954,      0.3964,      0.3974,      0.3984,      0.3994,      0.4004,      0.4014,      0.4024,      0.4034,      0.4044,     0.40541,     0.40641,     0.40741,\n",
              "           0.40841,     0.40941,     0.41041,     0.41141,     0.41241,     0.41341,     0.41441,     0.41542,     0.41642,     0.41742,     0.41842,     0.41942,     0.42042,     0.42142,     0.42242,     0.42342,     0.42442,     0.42543,     0.42643,     0.42743,     0.42843,     0.42943,     0.43043,     0.43143,\n",
              "           0.43243,     0.43343,     0.43443,     0.43544,     0.43644,     0.43744,     0.43844,     0.43944,     0.44044,     0.44144,     0.44244,     0.44344,     0.44444,     0.44545,     0.44645,     0.44745,     0.44845,     0.44945,     0.45045,     0.45145,     0.45245,     0.45345,     0.45445,     0.45546,\n",
              "           0.45646,     0.45746,     0.45846,     0.45946,     0.46046,     0.46146,     0.46246,     0.46346,     0.46446,     0.46547,     0.46647,     0.46747,     0.46847,     0.46947,     0.47047,     0.47147,     0.47247,     0.47347,     0.47447,     0.47548,     0.47648,     0.47748,     0.47848,     0.47948,\n",
              "           0.48048,     0.48148,     0.48248,     0.48348,     0.48448,     0.48549,     0.48649,     0.48749,     0.48849,     0.48949,     0.49049,     0.49149,     0.49249,     0.49349,     0.49449,      0.4955,      0.4965,      0.4975,      0.4985,      0.4995,      0.5005,      0.5015,      0.5025,      0.5035,\n",
              "            0.5045,     0.50551,     0.50651,     0.50751,     0.50851,     0.50951,     0.51051,     0.51151,     0.51251,     0.51351,     0.51451,     0.51552,     0.51652,     0.51752,     0.51852,     0.51952,     0.52052,     0.52152,     0.52252,     0.52352,     0.52452,     0.52553,     0.52653,     0.52753,\n",
              "           0.52853,     0.52953,     0.53053,     0.53153,     0.53253,     0.53353,     0.53453,     0.53554,     0.53654,     0.53754,     0.53854,     0.53954,     0.54054,     0.54154,     0.54254,     0.54354,     0.54454,     0.54555,     0.54655,     0.54755,     0.54855,     0.54955,     0.55055,     0.55155,\n",
              "           0.55255,     0.55355,     0.55455,     0.55556,     0.55656,     0.55756,     0.55856,     0.55956,     0.56056,     0.56156,     0.56256,     0.56356,     0.56456,     0.56557,     0.56657,     0.56757,     0.56857,     0.56957,     0.57057,     0.57157,     0.57257,     0.57357,     0.57457,     0.57558,\n",
              "           0.57658,     0.57758,     0.57858,     0.57958,     0.58058,     0.58158,     0.58258,     0.58358,     0.58458,     0.58559,     0.58659,     0.58759,     0.58859,     0.58959,     0.59059,     0.59159,     0.59259,     0.59359,     0.59459,      0.5956,      0.5966,      0.5976,      0.5986,      0.5996,\n",
              "            0.6006,      0.6016,      0.6026,      0.6036,      0.6046,     0.60561,     0.60661,     0.60761,     0.60861,     0.60961,     0.61061,     0.61161,     0.61261,     0.61361,     0.61461,     0.61562,     0.61662,     0.61762,     0.61862,     0.61962,     0.62062,     0.62162,     0.62262,     0.62362,\n",
              "           0.62462,     0.62563,     0.62663,     0.62763,     0.62863,     0.62963,     0.63063,     0.63163,     0.63263,     0.63363,     0.63463,     0.63564,     0.63664,     0.63764,     0.63864,     0.63964,     0.64064,     0.64164,     0.64264,     0.64364,     0.64464,     0.64565,     0.64665,     0.64765,\n",
              "           0.64865,     0.64965,     0.65065,     0.65165,     0.65265,     0.65365,     0.65465,     0.65566,     0.65666,     0.65766,     0.65866,     0.65966,     0.66066,     0.66166,     0.66266,     0.66366,     0.66466,     0.66567,     0.66667,     0.66767,     0.66867,     0.66967,     0.67067,     0.67167,\n",
              "           0.67267,     0.67367,     0.67467,     0.67568,     0.67668,     0.67768,     0.67868,     0.67968,     0.68068,     0.68168,     0.68268,     0.68368,     0.68468,     0.68569,     0.68669,     0.68769,     0.68869,     0.68969,     0.69069,     0.69169,     0.69269,     0.69369,     0.69469,      0.6957,\n",
              "            0.6967,      0.6977,      0.6987,      0.6997,      0.7007,      0.7017,      0.7027,      0.7037,      0.7047,     0.70571,     0.70671,     0.70771,     0.70871,     0.70971,     0.71071,     0.71171,     0.71271,     0.71371,     0.71471,     0.71572,     0.71672,     0.71772,     0.71872,     0.71972,\n",
              "           0.72072,     0.72172,     0.72272,     0.72372,     0.72472,     0.72573,     0.72673,     0.72773,     0.72873,     0.72973,     0.73073,     0.73173,     0.73273,     0.73373,     0.73473,     0.73574,     0.73674,     0.73774,     0.73874,     0.73974,     0.74074,     0.74174,     0.74274,     0.74374,\n",
              "           0.74474,     0.74575,     0.74675,     0.74775,     0.74875,     0.74975,     0.75075,     0.75175,     0.75275,     0.75375,     0.75475,     0.75576,     0.75676,     0.75776,     0.75876,     0.75976,     0.76076,     0.76176,     0.76276,     0.76376,     0.76476,     0.76577,     0.76677,     0.76777,\n",
              "           0.76877,     0.76977,     0.77077,     0.77177,     0.77277,     0.77377,     0.77477,     0.77578,     0.77678,     0.77778,     0.77878,     0.77978,     0.78078,     0.78178,     0.78278,     0.78378,     0.78478,     0.78579,     0.78679,     0.78779,     0.78879,     0.78979,     0.79079,     0.79179,\n",
              "           0.79279,     0.79379,     0.79479,      0.7958,      0.7968,      0.7978,      0.7988,      0.7998,      0.8008,      0.8018,      0.8028,      0.8038,      0.8048,     0.80581,     0.80681,     0.80781,     0.80881,     0.80981,     0.81081,     0.81181,     0.81281,     0.81381,     0.81481,     0.81582,\n",
              "           0.81682,     0.81782,     0.81882,     0.81982,     0.82082,     0.82182,     0.82282,     0.82382,     0.82482,     0.82583,     0.82683,     0.82783,     0.82883,     0.82983,     0.83083,     0.83183,     0.83283,     0.83383,     0.83483,     0.83584,     0.83684,     0.83784,     0.83884,     0.83984,\n",
              "           0.84084,     0.84184,     0.84284,     0.84384,     0.84484,     0.84585,     0.84685,     0.84785,     0.84885,     0.84985,     0.85085,     0.85185,     0.85285,     0.85385,     0.85485,     0.85586,     0.85686,     0.85786,     0.85886,     0.85986,     0.86086,     0.86186,     0.86286,     0.86386,\n",
              "           0.86486,     0.86587,     0.86687,     0.86787,     0.86887,     0.86987,     0.87087,     0.87187,     0.87287,     0.87387,     0.87487,     0.87588,     0.87688,     0.87788,     0.87888,     0.87988,     0.88088,     0.88188,     0.88288,     0.88388,     0.88488,     0.88589,     0.88689,     0.88789,\n",
              "           0.88889,     0.88989,     0.89089,     0.89189,     0.89289,     0.89389,     0.89489,      0.8959,      0.8969,      0.8979,      0.8989,      0.8999,      0.9009,      0.9019,      0.9029,      0.9039,      0.9049,     0.90591,     0.90691,     0.90791,     0.90891,     0.90991,     0.91091,     0.91191,\n",
              "           0.91291,     0.91391,     0.91491,     0.91592,     0.91692,     0.91792,     0.91892,     0.91992,     0.92092,     0.92192,     0.92292,     0.92392,     0.92492,     0.92593,     0.92693,     0.92793,     0.92893,     0.92993,     0.93093,     0.93193,     0.93293,     0.93393,     0.93493,     0.93594,\n",
              "           0.93694,     0.93794,     0.93894,     0.93994,     0.94094,     0.94194,     0.94294,     0.94394,     0.94494,     0.94595,     0.94695,     0.94795,     0.94895,     0.94995,     0.95095,     0.95195,     0.95295,     0.95395,     0.95495,     0.95596,     0.95696,     0.95796,     0.95896,     0.95996,\n",
              "           0.96096,     0.96196,     0.96296,     0.96396,     0.96496,     0.96597,     0.96697,     0.96797,     0.96897,     0.96997,     0.97097,     0.97197,     0.97297,     0.97397,     0.97497,     0.97598,     0.97698,     0.97798,     0.97898,     0.97998,     0.98098,     0.98198,     0.98298,     0.98398,\n",
              "           0.98498,     0.98599,     0.98699,     0.98799,     0.98899,     0.98999,     0.99099,     0.99199,     0.99299,     0.99399,     0.99499,       0.996,       0.997,       0.998,       0.999,           1]), array([[          1,           1,           1, ...,           0,           0,           0],\n",
              "       [     0.9902,      0.9902,      0.9902, ...,           0,           0,           0],\n",
              "       [     0.9901,      0.9901,      0.9901, ...,    0.020276,    0.015099,           0],\n",
              "       ...,\n",
              "       [    0.98958,     0.98958,     0.98958, ...,           0,           0,           0],\n",
              "       [          1,           1,           1, ...,           0,           0,           0],\n",
              "       [          1,           1,           1, ...,           0,           0,           0]]), 'Confidence', 'Recall']]\n",
              "fitness: np.float64(0.9164464825001581)\n",
              "keys: ['metrics/precision(B)', 'metrics/recall(B)', 'metrics/mAP50(B)', 'metrics/mAP50-95(B)']\n",
              "maps: array([    0.89106,     0.90337,     0.89561,     0.89119,     0.90011,     0.84865,     0.88814,     0.90035,     0.88299,     0.90653,     0.90711,     0.90371,     0.91332,     0.88904,     0.90304,     0.91846,     0.89832,     0.91741,      0.8763,     0.89478,     0.88111,     0.91293,     0.89709,     0.86847,\n",
              "           0.89006,     0.87461,     0.89262,      0.8876,     0.90047,     0.83124,     0.86581,     0.90086,     0.91552,     0.86844,     0.89751,     0.90424,     0.90817,     0.91482,     0.90798,     0.90868,     0.89951,     0.88279,     0.91337,     0.90673,     0.86803,     0.93015,     0.93969,     0.93463,\n",
              "           0.91848,     0.90877,     0.91082,     0.92372,      0.9208,     0.91318,     0.90169,     0.94291,     0.93909,     0.90907,     0.93326,     0.91952,     0.89496,     0.94354,     0.91758,     0.91262,     0.92192,      0.9197,     0.90804,     0.90967,     0.91709,     0.91398,     0.92852,     0.90766,\n",
              "           0.91748,     0.93868,     0.89488,     0.92833,     0.93068,      0.8896,     0.93042,     0.92162,     0.92473,     0.93611,     0.92147,     0.93545,     0.90707,     0.89452,     0.89093,     0.92972,      0.9185,     0.92417,     0.91355,      0.9246,     0.92524,     0.92586,     0.94052,     0.92346,\n",
              "           0.90814,     0.90043])\n",
              "names: {0: 'Abalone porridge', 1: 'Acorn jelly salad', 2: 'Bean sprouts soup', 3: 'Beef tripe hot pot', 4: 'Black Bean Noodles', 5: 'Boiled pork wrap', 6: 'Braised Cutlassfish', 7: 'Braised Mackerel', 8: 'Braised Saury', 9: 'Braised Tofu', 10: 'Braised kimchi', 11: 'Braised potato dish', 12: 'Braised short ribs', 13: 'Buckwheat noodles', 14: 'Cabbage kimchi', 15: 'Chewy noodles', 16: 'Cold Noodle Soup', 17: 'Dumplings', 18: 'Egg soup', 19: 'Feast noodles', 20: 'Fish Pancakes', 21: 'Fried chicken', 22: 'Fried egg', 23: 'Fried peppers', 24: 'Fried shrimp', 25: 'Fried squid', 26: 'Ginseng chicken soup', 27: 'Hand-pulled Dough Soup', 28: 'Honey cookie', 29: 'Honey rice cake', 30: 'Hot spicy meat stew', 31: 'Kimchi Jiggae', 32: 'Kimchi pancake', 33: 'Knife-cut noodle soup', 34: 'Korean Meat Patties', 35: 'Korean braised chicken', 36: 'Korean crescent rice cakes', 37: 'Korean rolled omelette', 38: 'Korean sweet rice with nuts', 39: 'Korean traditional cookie', 40: 'Loach soup', 41: 'Mixed Cold Noodles', 42: 'Ox bone soup', 43: 'Pickled Perilla Leaves', 44: 'Pig feet', 45: 'Pollack Jjigae', 46: 'Pork back-bone stew', 47: 'Potato pancake', 48: 'Pumpkin pancake', 49: 'Pumpkin porridge', 50: 'Rice cake-Dumpling soup', 51: 'Rice skewers', 52: 'Scallion Pancake', 53: 'Seasoned bean sprouts', 54: 'Seasoned chicken', 55: 'Seasoned cockle clams', 56: 'Seasoned fernbrake', 57: 'Seasoned soybean sprouts', 58: 'Short rib soup', 59: 'Shredded daikon', 60: 'Sliced boiled meat', 61: 'Sliced radish kimchi', 62: 'Soft tofu stew', 63: 'Soy Sauce Marinated Crab', 64: 'Soy braised soybeans', 65: 'Soybean noodle soup', 66: 'Soybean paste soup', 67: 'Soybean paste stew', 68: 'Spicy Braised Chicken', 69: 'Spicy Braised Seafood', 70: 'Spicy Marinated Crab', 71: 'Spicy chicken soup', 72: 'Spicy fermented skate salad', 73: 'Spicy fish stew', 74: 'Spicy raw fish salad', 75: 'Spicy rice cake', 76: 'Spicy seafood noodle soup', 77: 'Spicy stir fried pork', 78: 'Steamed eggs', 79: 'Stir fried anchovies', 80: 'Stir fried eggplant', 81: 'Stir fried fish cake', 82: 'Stir fried glass noodles', 83: 'Stir fried sausage', 84: 'Stir fried seaweed stems', 85: 'Stir fried shredded squid', 86: 'Stir fried spicy seasoned dried squid', 87: 'Stir fried zucchini', 88: 'Stir-fried chili peppers', 89: 'Stir-fried shredded potatoes', 90: 'Sttir fried dried shrimp', 91: 'Sundae sausage', 92: 'Sweet rice balls', 93: 'Sweet rice drink', 94: 'Tofu with kimchi', 95: 'White kimchi', 96: 'Young radish kimchi', 97: 'Young radish noddle soup'}\n",
              "nt_per_class: array([107, 102, 101, 105,  99, 105, 110, 177,  93, 103,  29, 108,  99, 108,  96, 107,  92, 111, 106, 105, 101,  98, 110, 104, 109, 108, 105, 101, 102, 156, 107, 100, 101, 102, 102, 100, 108, 103,  95, 117,  93, 108,  97,  94,  95, 102,  88,  93,  81, 103,  92, 105,  72,  75,  93, 101,  74,  83,  95,  84,  95,  92,\n",
              "        79,  93, 102,  96,  84,  87,  81,  97, 101,  91, 102,  86, 101,  84,  97,  74,  86,  87,  91,  92,  93,  89,  70,  78, 100,  73,  88,  86,  87,  94,  90,  84, 101,  96,  90,  95])\n",
              "nt_per_image: array([103, 101, 101, 105,  99, 103, 102, 173,  92, 102,  26, 107,  99, 104,  94, 105,  91, 106, 104, 104, 100,  97, 100, 103, 105, 105, 104,  99, 100, 100, 102,  99, 100, 100, 101, 100, 102,  99,  92, 102,  92,  99,  97,  92,  94, 100,  88,  93,  81, 101,  91, 101,  71,  74,  93, 101,  73,  83,  95,  84,  95,  92,\n",
              "        79,  93, 101,  96,  84,  87,  81,  96, 101,  91, 100,  86, 101,  84,  97,  74,  86,  86,  91,  92,  90,  89,  70,  78,  99,  73,  82,  86,  80,  91,  84,  80, 101,  94,  89,  88])\n",
              "results_dict: {'metrics/precision(B)': np.float64(0.9933672416783309), 'metrics/recall(B)': np.float64(0.990820530815044), 'metrics/mAP50(B)': np.float64(0.9941775127771452), 'metrics/mAP50-95(B)': np.float64(0.9078097013582708), 'fitness': np.float64(0.9164464825001581)}\n",
              "speed: {'preprocess': 0.20084422205472693, 'inference': 3.3908134625219297, 'loss': 0.00046703282108048603, 'postprocess': 1.9364730174384872}\n",
              "stats: {'tp': [], 'conf': [], 'pred_cls': [], 'target_cls': [], 'target_img': []}\n",
              "task: 'detect'"
            ]
          },
          "metadata": {},
          "execution_count": 18
        }
      ]
    },
    {
      "cell_type": "code",
      "source": [
        "import os\n",
        "\n",
        "# 확인할 경로\n",
        "output_path = '/content/drive/MyDrive/prometheus/models/yolov8_all_labeled2_resume/weights'\n",
        "\n",
        "# 결과 파일 리스트 출력\n",
        "if os.path.exists(output_path):\n",
        "    print(\"저장된 파일 목록:\", os.listdir(output_path))\n",
        "else:\n",
        "    print(\"해당 경로가 존재하지 않습니다.\")\n"
      ],
      "metadata": {
        "colab": {
          "base_uri": "https://localhost:8080/"
        },
        "id": "L43ylYqvkKUr",
        "outputId": "9c145562-2186-43c2-c3e4-52a9a904a9d4"
      },
      "execution_count": 7,
      "outputs": [
        {
          "output_type": "stream",
          "name": "stdout",
          "text": [
            "저장된 파일 목록: ['best.pt', 'last.pt']\n"
          ]
        }
      ]
    },
    {
      "cell_type": "code",
      "source": [
        "# 한국어 클래스명 리스트 (순서 유지 필수)\n",
        "korean_names = [\n",
        "    '전복죽', '도토리묵 무침', '콩나물국', '소곱창전골', '짜장면', '수육 쌈', '갈치조림', '고등어조림', '꽁치조림', '두부조림',\n",
        "    '김치찜', '감자조림', '갈비찜', '메밀국수', '배추김치', '쫄면', '냉면', '만두', '계란국', '잔치국수',\n",
        "    '생선전', '치킨', '계란후라이', '고추튀김', '새우튀김', '오징어튀김', '삼계탕', '수제비', '약과', '약밥',\n",
        "    '육개장', '김치찌개', '김치전', '칼국수', '동그랑땡', '닭볶음탕', '반달떡', '계란말이', '약밥', '한과',\n",
        "    '추어탕', '비빔냉면', '설렁탕', '깻잎장아찌', '족발', '동태찌개', '감자탕', '감자전', '호박전', '호박죽',\n",
        "    '떡만두국', '떡꼬치', '파전', '콩나물무침', '닭무침', '꼬막무침', '고사리나물', '숙주나물', '갈비탕', '무생채',\n",
        "    '편육', '깍두기', '순두부찌개', '간장게장', '콩자반', '콩국수', '된장국', '된장찌개', '닭도리탕', '해물찜',\n",
        "    '양념게장', '닭개장', '홍어무침', '매운탕', '회무침', '떡볶이', '짬뽕', '제육볶음', '계란찜', '멸치볶음',\n",
        "    '가지볶음', '어묵볶음', '잡채', '소시지볶음', '미역줄기볶음', '오징어채볶음', '진미채볶음', '애호박볶음', '꽈리고추볶음', '감자채볶음',\n",
        "    '건새우볶음', '순대', '경단', '식혜', '두부김치', '백김치', '열무김치', '열무국수'\n",
        "]\n"
      ],
      "metadata": {
        "id": "hFQ0OdGslMwq"
      },
      "execution_count": 8,
      "outputs": []
    },
    {
      "cell_type": "code",
      "source": [
        "# dataset.yaml 생성\n",
        "yaml_path = '/content/dataset.yaml'\n",
        "with open(yaml_path, 'w') as f:\n",
        "    f.write(f\"\"\"\n",
        "path: /content/dataset\n",
        "train: images/train\n",
        "val: images/train\n",
        "names: [{\", \".join(f'\"{cls}\"' for cls in korean_names)}]\n",
        "\"\"\")\n",
        "\n",
        "print(f\"✅ 한국어 dataset.yaml 생성 완료 → {yaml_path}\")"
      ],
      "metadata": {
        "colab": {
          "base_uri": "https://localhost:8080/"
        },
        "id": "tmCek3VSlfbQ",
        "outputId": "91254d97-6c75-4a5d-9302-d681c381682c"
      },
      "execution_count": 11,
      "outputs": [
        {
          "output_type": "stream",
          "name": "stdout",
          "text": [
            "✅ 한국어 dataset.yaml 생성 완료 → /content/dataset.yaml\n"
          ]
        }
      ]
    },
    {
      "cell_type": "code",
      "source": [
        "from ultralytics import YOLO\n",
        "\n",
        "# 기존 영어로 학습된 best.pt 경로\n",
        "pretrained_path = '/content/drive/MyDrive/prometheus/models/yolov8_all_labeled2_resume/weights/best.pt'\n",
        "\n",
        "# 모델 로드\n",
        "model = YOLO(pretrained_path)\n",
        "\n",
        "# 추가 학습 (한글 클래스명 포함)\n",
        "model.train(\n",
        "    data=yaml_path,\n",
        "    epochs=10,\n",
        "    project='/content/drive/MyDrive/prometheus/models',\n",
        "    name='yolov8_all_labeled2_resume',\n",
        "    pretrained=True\n",
        ")"
      ],
      "metadata": {
        "colab": {
          "base_uri": "https://localhost:8080/"
        },
        "id": "6MnnNSOlmepL",
        "outputId": "46589950-a796-4506-f9e1-1f2132d56fe3"
      },
      "execution_count": 16,
      "outputs": [
        {
          "output_type": "stream",
          "name": "stdout",
          "text": [
            "Ultralytics 8.3.161 🚀 Python-3.11.13 torch-2.6.0+cu124 CUDA:0 (Tesla T4, 15095MiB)\n",
            "\u001b[34m\u001b[1mengine/trainer: \u001b[0magnostic_nms=False, amp=True, augment=False, auto_augment=randaugment, batch=16, bgr=0.0, box=7.5, cache=False, cfg=None, classes=None, close_mosaic=10, cls=0.5, conf=None, copy_paste=0.0, copy_paste_mode=flip, cos_lr=False, cutmix=0.0, data=/content/dataset.yaml, degrees=0.0, deterministic=True, device=None, dfl=1.5, dnn=False, dropout=0.0, dynamic=False, embed=None, epochs=10, erasing=0.4, exist_ok=False, fliplr=0.5, flipud=0.0, format=torchscript, fraction=1.0, freeze=None, half=False, hsv_h=0.015, hsv_s=0.7, hsv_v=0.4, imgsz=640, int8=False, iou=0.7, keras=False, kobj=1.0, line_width=None, lr0=0.01, lrf=0.01, mask_ratio=4, max_det=300, mixup=0.0, mode=train, model=/content/drive/MyDrive/prometheus/models/yolov8_all_labeled2_resume/weights/best.pt, momentum=0.937, mosaic=1.0, multi_scale=False, name=yolov8_all_labeled2_resume3, nbs=64, nms=False, opset=None, optimize=False, optimizer=auto, overlap_mask=True, patience=100, perspective=0.0, plots=True, pose=12.0, pretrained=True, profile=False, project=/content/drive/MyDrive/prometheus/models, rect=False, resume=False, retina_masks=False, save=True, save_conf=False, save_crop=False, save_dir=/content/drive/MyDrive/prometheus/models/yolov8_all_labeled2_resume3, save_frames=False, save_json=False, save_period=-1, save_txt=False, scale=0.5, seed=0, shear=0.0, show=False, show_boxes=True, show_conf=True, show_labels=True, simplify=True, single_cls=False, source=None, split=val, stream_buffer=False, task=detect, time=None, tracker=botsort.yaml, translate=0.1, val=True, verbose=True, vid_stride=1, visualize=False, warmup_bias_lr=0.1, warmup_epochs=3.0, warmup_momentum=0.8, weight_decay=0.0005, workers=8, workspace=None\n",
            "\n",
            "                   from  n    params  module                                       arguments                     \n",
            "  0                  -1  1       928  ultralytics.nn.modules.conv.Conv             [3, 32, 3, 2]                 \n",
            "  1                  -1  1     18560  ultralytics.nn.modules.conv.Conv             [32, 64, 3, 2]                \n",
            "  2                  -1  1     29056  ultralytics.nn.modules.block.C2f             [64, 64, 1, True]             \n",
            "  3                  -1  1     73984  ultralytics.nn.modules.conv.Conv             [64, 128, 3, 2]               \n",
            "  4                  -1  2    197632  ultralytics.nn.modules.block.C2f             [128, 128, 2, True]           \n",
            "  5                  -1  1    295424  ultralytics.nn.modules.conv.Conv             [128, 256, 3, 2]              \n",
            "  6                  -1  2    788480  ultralytics.nn.modules.block.C2f             [256, 256, 2, True]           \n",
            "  7                  -1  1   1180672  ultralytics.nn.modules.conv.Conv             [256, 512, 3, 2]              \n",
            "  8                  -1  1   1838080  ultralytics.nn.modules.block.C2f             [512, 512, 1, True]           \n",
            "  9                  -1  1    656896  ultralytics.nn.modules.block.SPPF            [512, 512, 5]                 \n",
            " 10                  -1  1         0  torch.nn.modules.upsampling.Upsample         [None, 2, 'nearest']          \n",
            " 11             [-1, 6]  1         0  ultralytics.nn.modules.conv.Concat           [1]                           \n",
            " 12                  -1  1    591360  ultralytics.nn.modules.block.C2f             [768, 256, 1]                 \n",
            " 13                  -1  1         0  torch.nn.modules.upsampling.Upsample         [None, 2, 'nearest']          \n",
            " 14             [-1, 4]  1         0  ultralytics.nn.modules.conv.Concat           [1]                           \n",
            " 15                  -1  1    148224  ultralytics.nn.modules.block.C2f             [384, 128, 1]                 \n",
            " 16                  -1  1    147712  ultralytics.nn.modules.conv.Conv             [128, 128, 3, 2]              \n",
            " 17            [-1, 12]  1         0  ultralytics.nn.modules.conv.Concat           [1]                           \n",
            " 18                  -1  1    493056  ultralytics.nn.modules.block.C2f             [384, 256, 1]                 \n",
            " 19                  -1  1    590336  ultralytics.nn.modules.conv.Conv             [256, 256, 3, 2]              \n",
            " 20             [-1, 9]  1         0  ultralytics.nn.modules.conv.Concat           [1]                           \n",
            " 21                  -1  1   1969152  ultralytics.nn.modules.block.C2f             [768, 512, 1]                 \n",
            " 22        [15, 18, 21]  1   2153974  ultralytics.nn.modules.head.Detect           [98, [128, 256, 512]]         \n",
            "Model summary: 129 layers, 11,173,526 parameters, 11,173,510 gradients, 28.9 GFLOPs\n",
            "\n",
            "Transferred 355/355 items from pretrained weights\n",
            "Freezing layer 'model.22.dfl.conv.weight'\n",
            "\u001b[34m\u001b[1mAMP: \u001b[0mrunning Automatic Mixed Precision (AMP) checks...\n",
            "\u001b[34m\u001b[1mAMP: \u001b[0mchecks passed ✅\n",
            "\u001b[34m\u001b[1mtrain: \u001b[0mFast image access ✅ (ping: 0.0±0.0 ms, read: 684.9±928.2 MB/s, size: 328.1 KB)\n"
          ]
        },
        {
          "output_type": "stream",
          "name": "stderr",
          "text": [
            "\u001b[34m\u001b[1mtrain: \u001b[0mScanning /content/dataset/labels/train... 9232 images, 31 backgrounds, 33 corrupt: 100%|██████████| 9265/9265 [00:16<00:00, 548.34it/s] "
          ]
        },
        {
          "output_type": "stream",
          "name": "stdout",
          "text": [
            "\u001b[34m\u001b[1mtrain: \u001b[0m/content/dataset/images/train/Acorn jelly salad_Img_064_0229.jpg: corrupt JPEG restored and saved\n",
            "\u001b[34m\u001b[1mtrain: \u001b[0m/content/dataset/images/train/Acorn jelly salad_Img_064_0254.jpg: corrupt JPEG restored and saved\n",
            "\u001b[34m\u001b[1mtrain: \u001b[0m/content/dataset/images/train/Acorn jelly salad_Img_064_0256.jpg: corrupt JPEG restored and saved\n",
            "\u001b[34m\u001b[1mtrain: \u001b[0m/content/dataset/images/train/Acorn jelly salad_Img_064_0264.jpg: corrupt JPEG restored and saved\n",
            "\u001b[34m\u001b[1mtrain: \u001b[0m/content/dataset/images/train/Acorn jelly salad_Img_064_0283.jpg: corrupt JPEG restored and saved\n",
            "\u001b[34m\u001b[1mtrain: \u001b[0m/content/dataset/images/train/Bean sprouts soup_Img_021_0026.jpg: corrupt JPEG restored and saved\n",
            "\u001b[34m\u001b[1mtrain: \u001b[0m/content/dataset/images/train/Bean sprouts soup_Img_021_0255.jpg: corrupt JPEG restored and saved\n",
            "\u001b[34m\u001b[1mtrain: \u001b[0m/content/dataset/images/train/Bean sprouts soup_Img_021_0269.jpg: corrupt JPEG restored and saved\n",
            "\u001b[34m\u001b[1mtrain: \u001b[0m/content/dataset/images/train/Black Bean Noodles_Img_057_0021.jpg: corrupt JPEG restored and saved\n",
            "\u001b[34m\u001b[1mtrain: \u001b[0m/content/dataset/images/train/Black Bean Noodles_Img_057_0251.jpg: ignoring corrupt image/label: invalid image format GIF. Supported formats are:\n",
            "images: {'tif', 'jpg', 'webp', 'mpo', 'png', 'tiff', 'pfm', 'bmp', 'jpeg', 'heic', 'dng'}\n",
            "videos: {'mpg', 'mpeg', 'mov', 'webm', 'avi', 'mkv', 'asf', 'ts', 'mp4', 'wmv', 'gif', 'm4v'}\n",
            "\u001b[34m\u001b[1mtrain: \u001b[0m/content/dataset/images/train/Boiled pork wrap_Img_129_0230.jpg: corrupt JPEG restored and saved\n",
            "\u001b[34m\u001b[1mtrain: \u001b[0m/content/dataset/images/train/Boiled pork wrap_Img_129_0252.jpg: corrupt JPEG restored and saved\n",
            "\u001b[34m\u001b[1mtrain: \u001b[0m/content/dataset/images/train/Boiled pork wrap_Img_129_0264.jpg: corrupt JPEG restored and saved\n",
            "\u001b[34m\u001b[1mtrain: \u001b[0m/content/dataset/images/train/Boiled pork wrap_Img_129_0273.jpg: corrupt JPEG restored and saved\n",
            "\u001b[34m\u001b[1mtrain: \u001b[0m/content/dataset/images/train/Boiled pork wrap_Img_129_0279.jpg: corrupt JPEG restored and saved\n",
            "\u001b[34m\u001b[1mtrain: \u001b[0m/content/dataset/images/train/Braised Cutlassfish_Img_106_0238.jpg: ignoring corrupt image/label: invalid image format GIF. Supported formats are:\n",
            "images: {'tif', 'jpg', 'webp', 'mpo', 'png', 'tiff', 'pfm', 'bmp', 'jpeg', 'heic', 'dng'}\n",
            "videos: {'mpg', 'mpeg', 'mov', 'webm', 'avi', 'mkv', 'asf', 'ts', 'mp4', 'wmv', 'gif', 'm4v'}\n",
            "\u001b[34m\u001b[1mtrain: \u001b[0m/content/dataset/images/train/Braised Cutlassfish_Img_106_0246.jpg: ignoring corrupt image/label: invalid image format GIF. Supported formats are:\n",
            "images: {'tif', 'jpg', 'webp', 'mpo', 'png', 'tiff', 'pfm', 'bmp', 'jpeg', 'heic', 'dng'}\n",
            "videos: {'mpg', 'mpeg', 'mov', 'webm', 'avi', 'mkv', 'asf', 'ts', 'mp4', 'wmv', 'gif', 'm4v'}\n",
            "\u001b[34m\u001b[1mtrain: \u001b[0m/content/dataset/images/train/Braised Mackerel_Img_108_0009.jpg: corrupt JPEG restored and saved\n",
            "\u001b[34m\u001b[1mtrain: \u001b[0m/content/dataset/images/train/Braised Tofu_Img_110_0011.jpg: corrupt JPEG restored and saved\n",
            "\u001b[34m\u001b[1mtrain: \u001b[0m/content/dataset/images/train/Braised Tofu_Img_110_0266.jpg: corrupt JPEG restored and saved\n",
            "\u001b[34m\u001b[1mtrain: \u001b[0m/content/dataset/images/train/Braised kimchi_Img_126_0247.jpg: corrupt JPEG restored and saved\n",
            "\u001b[34m\u001b[1mtrain: \u001b[0m/content/dataset/images/train/Braised kimchi_Img_126_0278.jpg: ignoring corrupt image/label: invalid image format GIF. Supported formats are:\n",
            "images: {'tif', 'jpg', 'webp', 'mpo', 'png', 'tiff', 'pfm', 'bmp', 'jpeg', 'heic', 'dng'}\n",
            "videos: {'mpg', 'mpeg', 'mov', 'webm', 'avi', 'mkv', 'asf', 'ts', 'mp4', 'wmv', 'gif', 'm4v'}\n",
            "\u001b[34m\u001b[1mtrain: \u001b[0m/content/dataset/images/train/Braised kimchi_Img_126_0282.jpg: ignoring corrupt image/label: invalid image format GIF. Supported formats are:\n",
            "images: {'tif', 'jpg', 'webp', 'mpo', 'png', 'tiff', 'pfm', 'bmp', 'jpeg', 'heic', 'dng'}\n",
            "videos: {'mpg', 'mpeg', 'mov', 'webm', 'avi', 'mkv', 'asf', 'ts', 'mp4', 'wmv', 'gif', 'm4v'}\n",
            "\u001b[34m\u001b[1mtrain: \u001b[0m/content/dataset/images/train/Braised kimchi_Img_126_0290.jpg: ignoring corrupt image/label: invalid image format GIF. Supported formats are:\n",
            "images: {'tif', 'jpg', 'webp', 'mpo', 'png', 'tiff', 'pfm', 'bmp', 'jpeg', 'heic', 'dng'}\n",
            "videos: {'mpg', 'mpeg', 'mov', 'webm', 'avi', 'mkv', 'asf', 'ts', 'mp4', 'wmv', 'gif', 'm4v'}\n",
            "\u001b[34m\u001b[1mtrain: \u001b[0m/content/dataset/images/train/Braised short ribs_Img_124_0028.jpg: ignoring corrupt image/label: invalid image format GIF. Supported formats are:\n",
            "images: {'tif', 'jpg', 'webp', 'mpo', 'png', 'tiff', 'pfm', 'bmp', 'jpeg', 'heic', 'dng'}\n",
            "videos: {'mpg', 'mpeg', 'mov', 'webm', 'avi', 'mkv', 'asf', 'ts', 'mp4', 'wmv', 'gif', 'm4v'}\n",
            "\u001b[34m\u001b[1mtrain: \u001b[0m/content/dataset/images/train/Braised short ribs_Img_124_0237.jpg: corrupt JPEG restored and saved\n",
            "\u001b[34m\u001b[1mtrain: \u001b[0m/content/dataset/images/train/Braised short ribs_Img_124_0252.jpg: corrupt JPEG restored and saved\n",
            "\u001b[34m\u001b[1mtrain: \u001b[0m/content/dataset/images/train/Braised short ribs_Img_124_0254.jpg: corrupt JPEG restored and saved\n",
            "\u001b[34m\u001b[1mtrain: \u001b[0m/content/dataset/images/train/Braised short ribs_Img_124_0261.jpg: corrupt JPEG restored and saved\n",
            "\u001b[34m\u001b[1mtrain: \u001b[0m/content/dataset/images/train/Braised short ribs_Img_124_0296.jpg: corrupt JPEG restored and saved\n",
            "\u001b[34m\u001b[1mtrain: \u001b[0m/content/dataset/images/train/Buckwheat noodles_Img_051_0246.jpg: corrupt JPEG restored and saved\n",
            "\u001b[34m\u001b[1mtrain: \u001b[0m/content/dataset/images/train/Buckwheat noodles_Img_051_0258.jpg: corrupt JPEG restored and saved\n",
            "\u001b[34m\u001b[1mtrain: \u001b[0m/content/dataset/images/train/Buckwheat noodles_Img_051_0288.jpg: corrupt JPEG restored and saved\n",
            "\u001b[34m\u001b[1mtrain: \u001b[0m/content/dataset/images/train/Cabbage kimchi_Img_033_0226.jpg: corrupt JPEG restored and saved\n",
            "\u001b[34m\u001b[1mtrain: \u001b[0m/content/dataset/images/train/Cabbage kimchi_Img_033_0289.jpg: ignoring corrupt image/label: invalid image format GIF. Supported formats are:\n",
            "images: {'tif', 'jpg', 'webp', 'mpo', 'png', 'tiff', 'pfm', 'bmp', 'jpeg', 'heic', 'dng'}\n",
            "videos: {'mpg', 'mpeg', 'mov', 'webm', 'avi', 'mkv', 'asf', 'ts', 'mp4', 'wmv', 'gif', 'm4v'}\n",
            "\u001b[34m\u001b[1mtrain: \u001b[0m/content/dataset/images/train/Cold Noodle Soup_Img_052_0010.jpg: corrupt JPEG restored and saved\n",
            "\u001b[34m\u001b[1mtrain: \u001b[0m/content/dataset/images/train/Cold Noodle Soup_Img_052_0257.jpg: corrupt JPEG restored and saved\n",
            "\u001b[34m\u001b[1mtrain: \u001b[0m/content/dataset/images/train/Cold Noodle Soup_Img_052_0270.jpg: ignoring corrupt image/label: invalid image format GIF. Supported formats are:\n",
            "images: {'tif', 'jpg', 'webp', 'mpo', 'png', 'tiff', 'pfm', 'bmp', 'jpeg', 'heic', 'dng'}\n",
            "videos: {'mpg', 'mpeg', 'mov', 'webm', 'avi', 'mkv', 'asf', 'ts', 'mp4', 'wmv', 'gif', 'm4v'}\n",
            "\u001b[34m\u001b[1mtrain: \u001b[0m/content/dataset/images/train/Cold Noodle Soup_Img_052_0278.jpg: ignoring corrupt image/label: invalid image format GIF. Supported formats are:\n",
            "images: {'tif', 'jpg', 'webp', 'mpo', 'png', 'tiff', 'pfm', 'bmp', 'jpeg', 'heic', 'dng'}\n",
            "videos: {'mpg', 'mpeg', 'mov', 'webm', 'avi', 'mkv', 'asf', 'ts', 'mp4', 'wmv', 'gif', 'm4v'}\n",
            "\u001b[34m\u001b[1mtrain: \u001b[0m/content/dataset/images/train/Feast noodles_Img_056_0026.jpg: corrupt JPEG restored and saved\n",
            "\u001b[34m\u001b[1mtrain: \u001b[0m/content/dataset/images/train/Fish Pancakes_Img_102_0024.jpg: corrupt JPEG restored and saved\n",
            "\u001b[34m\u001b[1mtrain: \u001b[0m/content/dataset/images/train/Fish Pancakes_Img_102_0231.jpg: corrupt JPEG restored and saved\n",
            "\u001b[34m\u001b[1mtrain: \u001b[0m/content/dataset/images/train/Fish Pancakes_Img_102_0242.jpg: corrupt JPEG restored and saved\n",
            "\u001b[34m\u001b[1mtrain: \u001b[0m/content/dataset/images/train/Fish Pancakes_Img_102_0264.jpg: corrupt JPEG restored and saved\n",
            "\u001b[34m\u001b[1mtrain: \u001b[0m/content/dataset/images/train/Fish Pancakes_Img_102_0296.jpg: corrupt JPEG restored and saved\n",
            "\u001b[34m\u001b[1mtrain: \u001b[0m/content/dataset/images/train/Fried chicken_Img_028_0019.jpg: corrupt JPEG restored and saved\n",
            "\u001b[34m\u001b[1mtrain: \u001b[0m/content/dataset/images/train/Fried chicken_Img_028_0241.jpg: corrupt JPEG restored and saved\n",
            "\u001b[34m\u001b[1mtrain: \u001b[0m/content/dataset/images/train/Fried chicken_Img_028_0247.jpg: corrupt JPEG restored and saved\n",
            "\u001b[34m\u001b[1mtrain: \u001b[0m/content/dataset/images/train/Fried chicken_Img_028_0274.jpg: ignoring corrupt image/label: invalid image format GIF. Supported formats are:\n",
            "images: {'tif', 'jpg', 'webp', 'mpo', 'png', 'tiff', 'pfm', 'bmp', 'jpeg', 'heic', 'dng'}\n",
            "videos: {'mpg', 'mpeg', 'mov', 'webm', 'avi', 'mkv', 'asf', 'ts', 'mp4', 'wmv', 'gif', 'm4v'}\n",
            "\u001b[34m\u001b[1mtrain: \u001b[0m/content/dataset/images/train/Fried chicken_Img_028_0289.jpg: corrupt JPEG restored and saved\n",
            "\u001b[34m\u001b[1mtrain: \u001b[0m/content/dataset/images/train/Fried chicken_Img_028_0295.jpg: corrupt JPEG restored and saved\n",
            "\u001b[34m\u001b[1mtrain: \u001b[0m/content/dataset/images/train/Hot spicy meat stew_Img_020_0257.jpg: corrupt JPEG restored and saved\n",
            "\u001b[34m\u001b[1mtrain: \u001b[0m/content/dataset/images/train/Hot spicy meat stew_Img_020_0274.jpg: ignoring corrupt image/label: invalid image format GIF. Supported formats are:\n",
            "images: {'tif', 'jpg', 'webp', 'mpo', 'png', 'tiff', 'pfm', 'bmp', 'jpeg', 'heic', 'dng'}\n",
            "videos: {'mpg', 'mpeg', 'mov', 'webm', 'avi', 'mkv', 'asf', 'ts', 'mp4', 'wmv', 'gif', 'm4v'}\n",
            "\u001b[34m\u001b[1mtrain: \u001b[0m/content/dataset/images/train/Hot spicy meat stew_Img_020_0284.jpg: corrupt JPEG restored and saved\n",
            "\u001b[34m\u001b[1mtrain: \u001b[0m/content/dataset/images/train/Kimchi Jiggae_Img_119_0263.jpg: corrupt JPEG restored and saved\n",
            "\u001b[34m\u001b[1mtrain: \u001b[0m/content/dataset/images/train/Korean rolled omelette_Img_098_0250.jpg: corrupt JPEG restored and saved\n",
            "\u001b[34m\u001b[1mtrain: \u001b[0m/content/dataset/images/train/Korean rolled omelette_Img_098_0272.jpg: corrupt JPEG restored and saved\n",
            "\u001b[34m\u001b[1mtrain: \u001b[0m/content/dataset/images/train/Korean rolled omelette_Img_098_0294.jpg: corrupt JPEG restored and saved\n",
            "\u001b[34m\u001b[1mtrain: \u001b[0m/content/dataset/images/train/Loach soup_Img_139_0238.jpg: corrupt JPEG restored and saved\n",
            "\u001b[34m\u001b[1mtrain: \u001b[0m/content/dataset/images/train/Loach soup_Img_139_0242.jpg: corrupt JPEG restored and saved\n",
            "\u001b[34m\u001b[1mtrain: \u001b[0m/content/dataset/images/train/Loach soup_Img_139_0259.jpg: ignoring corrupt image/label: invalid image format GIF. Supported formats are:\n",
            "images: {'tif', 'jpg', 'webp', 'mpo', 'png', 'tiff', 'pfm', 'bmp', 'jpeg', 'heic', 'dng'}\n",
            "videos: {'mpg', 'mpeg', 'mov', 'webm', 'avi', 'mkv', 'asf', 'ts', 'mp4', 'wmv', 'gif', 'm4v'}\n",
            "\u001b[34m\u001b[1mtrain: \u001b[0m/content/dataset/images/train/Loach soup_Img_139_0268.jpg: ignoring corrupt image/label: invalid image format GIF. Supported formats are:\n",
            "images: {'tif', 'jpg', 'webp', 'mpo', 'png', 'tiff', 'pfm', 'bmp', 'jpeg', 'heic', 'dng'}\n",
            "videos: {'mpg', 'mpeg', 'mov', 'webm', 'avi', 'mkv', 'asf', 'ts', 'mp4', 'wmv', 'gif', 'm4v'}\n",
            "\u001b[34m\u001b[1mtrain: \u001b[0m/content/dataset/images/train/Loach soup_Img_139_0285.jpg: ignoring corrupt image/label: invalid image format GIF. Supported formats are:\n",
            "images: {'tif', 'jpg', 'webp', 'mpo', 'png', 'tiff', 'pfm', 'bmp', 'jpeg', 'heic', 'dng'}\n",
            "videos: {'mpg', 'mpeg', 'mov', 'webm', 'avi', 'mkv', 'asf', 'ts', 'mp4', 'wmv', 'gif', 'm4v'}\n",
            "\u001b[34m\u001b[1mtrain: \u001b[0m/content/dataset/images/train/Ox bone soup_Img_136_0002.jpg: ignoring corrupt image/label: invalid image format GIF. Supported formats are:\n",
            "images: {'tif', 'jpg', 'webp', 'mpo', 'png', 'tiff', 'pfm', 'bmp', 'jpeg', 'heic', 'dng'}\n",
            "videos: {'mpg', 'mpeg', 'mov', 'webm', 'avi', 'mkv', 'asf', 'ts', 'mp4', 'wmv', 'gif', 'm4v'}\n",
            "\u001b[34m\u001b[1mtrain: \u001b[0m/content/dataset/images/train/Ox bone soup_Img_136_0003.jpg: corrupt JPEG restored and saved\n",
            "\u001b[34m\u001b[1mtrain: \u001b[0m/content/dataset/images/train/Ox bone soup_Img_136_0229.jpg: ignoring corrupt image/label: invalid image format GIF. Supported formats are:\n",
            "images: {'tif', 'jpg', 'webp', 'mpo', 'png', 'tiff', 'pfm', 'bmp', 'jpeg', 'heic', 'dng'}\n",
            "videos: {'mpg', 'mpeg', 'mov', 'webm', 'avi', 'mkv', 'asf', 'ts', 'mp4', 'wmv', 'gif', 'm4v'}\n",
            "\u001b[34m\u001b[1mtrain: \u001b[0m/content/dataset/images/train/Pickled Perilla Leaves_Img_095_0230.jpg: corrupt JPEG restored and saved\n",
            "\u001b[34m\u001b[1mtrain: \u001b[0m/content/dataset/images/train/Pig feet_Img_131_0006.jpg: corrupt JPEG restored and saved\n",
            "\u001b[34m\u001b[1mtrain: \u001b[0m/content/dataset/images/train/Pig feet_Img_131_0291.jpg: ignoring corrupt image/label: invalid image format GIF. Supported formats are:\n",
            "images: {'tif', 'jpg', 'webp', 'mpo', 'png', 'tiff', 'pfm', 'bmp', 'jpeg', 'heic', 'dng'}\n",
            "videos: {'mpg', 'mpeg', 'mov', 'webm', 'avi', 'mkv', 'asf', 'ts', 'mp4', 'wmv', 'gif', 'm4v'}\n",
            "\u001b[34m\u001b[1mtrain: \u001b[0m/content/dataset/images/train/Pork back-bone stew_Img_135_0089.jpg: corrupt JPEG restored and saved\n",
            "\u001b[34m\u001b[1mtrain: \u001b[0m/content/dataset/images/train/Rice cake-Dumpling soup_Img_015_0062.jpg: corrupt JPEG restored and saved\n",
            "\u001b[34m\u001b[1mtrain: \u001b[0m/content/dataset/images/train/Scallion Pancake_Img_103_0032.jpg: ignoring corrupt image/label: invalid image format GIF. Supported formats are:\n",
            "images: {'tif', 'jpg', 'webp', 'mpo', 'png', 'tiff', 'pfm', 'bmp', 'jpeg', 'heic', 'dng'}\n",
            "videos: {'mpg', 'mpeg', 'mov', 'webm', 'avi', 'mkv', 'asf', 'ts', 'mp4', 'wmv', 'gif', 'm4v'}\n",
            "\u001b[34m\u001b[1mtrain: \u001b[0m/content/dataset/images/train/Scallion Pancake_Img_103_0082.jpg: corrupt JPEG restored and saved\n",
            "\u001b[34m\u001b[1mtrain: \u001b[0m/content/dataset/images/train/Seasoned bean sprouts_Img_066_0075.jpg: corrupt JPEG restored and saved\n",
            "\u001b[34m\u001b[1mtrain: \u001b[0m/content/dataset/images/train/Seasoned chicken_Img_023_0073.jpg: ignoring corrupt image/label: invalid image format GIF. Supported formats are:\n",
            "images: {'tif', 'jpg', 'webp', 'mpo', 'png', 'tiff', 'pfm', 'bmp', 'jpeg', 'heic', 'dng'}\n",
            "videos: {'mpg', 'mpeg', 'mov', 'webm', 'avi', 'mkv', 'asf', 'ts', 'mp4', 'wmv', 'gif', 'm4v'}\n",
            "\u001b[34m\u001b[1mtrain: \u001b[0m/content/dataset/images/train/Seasoned chicken_Img_023_0079.jpg: corrupt JPEG restored and saved\n",
            "\u001b[34m\u001b[1mtrain: \u001b[0m/content/dataset/images/train/Seasoned chicken_Img_023_0080.jpg: corrupt JPEG restored and saved\n",
            "\u001b[34m\u001b[1mtrain: \u001b[0m/content/dataset/images/train/Seasoned chicken_Img_023_0081.jpg: corrupt JPEG restored and saved\n",
            "\u001b[34m\u001b[1mtrain: \u001b[0m/content/dataset/images/train/Seasoned fernbrake_Img_041_0024.jpg: corrupt JPEG restored and saved\n",
            "\u001b[34m\u001b[1mtrain: \u001b[0m/content/dataset/images/train/Seasoned fernbrake_Img_041_0040.jpg: corrupt JPEG restored and saved\n",
            "\u001b[34m\u001b[1mtrain: \u001b[0m/content/dataset/images/train/Seasoned fernbrake_Img_041_0085.jpg: ignoring corrupt image/label: invalid image format GIF. Supported formats are:\n",
            "images: {'tif', 'jpg', 'webp', 'mpo', 'png', 'tiff', 'pfm', 'bmp', 'jpeg', 'heic', 'dng'}\n",
            "videos: {'mpg', 'mpeg', 'mov', 'webm', 'avi', 'mkv', 'asf', 'ts', 'mp4', 'wmv', 'gif', 'm4v'}\n",
            "\u001b[34m\u001b[1mtrain: \u001b[0m/content/dataset/images/train/Seasoned fernbrake_Img_041_0088.jpg: corrupt JPEG restored and saved\n",
            "\u001b[34m\u001b[1mtrain: \u001b[0m/content/dataset/images/train/Seasoned fernbrake_Img_041_0096.jpg: corrupt JPEG restored and saved\n",
            "\u001b[34m\u001b[1mtrain: \u001b[0m/content/dataset/images/train/Seasoned soybean sprouts_Img_043_0010.jpg: ignoring corrupt image/label: invalid image format GIF. Supported formats are:\n",
            "images: {'tif', 'jpg', 'webp', 'mpo', 'png', 'tiff', 'pfm', 'bmp', 'jpeg', 'heic', 'dng'}\n",
            "videos: {'mpg', 'mpeg', 'mov', 'webm', 'avi', 'mkv', 'asf', 'ts', 'mp4', 'wmv', 'gif', 'm4v'}\n",
            "\u001b[34m\u001b[1mtrain: \u001b[0m/content/dataset/images/train/Seasoned soybean sprouts_Img_043_0014.jpg: ignoring corrupt image/label: invalid image format GIF. Supported formats are:\n",
            "images: {'tif', 'jpg', 'webp', 'mpo', 'png', 'tiff', 'pfm', 'bmp', 'jpeg', 'heic', 'dng'}\n",
            "videos: {'mpg', 'mpeg', 'mov', 'webm', 'avi', 'mkv', 'asf', 'ts', 'mp4', 'wmv', 'gif', 'm4v'}\n",
            "\u001b[34m\u001b[1mtrain: \u001b[0m/content/dataset/images/train/Seasoned soybean sprouts_Img_043_0062.jpg: corrupt JPEG restored and saved\n",
            "\u001b[34m\u001b[1mtrain: \u001b[0m/content/dataset/images/train/Seasoned soybean sprouts_Img_043_0063.jpg: ignoring corrupt image/label: invalid image format GIF. Supported formats are:\n",
            "images: {'tif', 'jpg', 'webp', 'mpo', 'png', 'tiff', 'pfm', 'bmp', 'jpeg', 'heic', 'dng'}\n",
            "videos: {'mpg', 'mpeg', 'mov', 'webm', 'avi', 'mkv', 'asf', 'ts', 'mp4', 'wmv', 'gif', 'm4v'}\n",
            "\u001b[34m\u001b[1mtrain: \u001b[0m/content/dataset/images/train/Seasoned soybean sprouts_Img_043_0070.jpg: ignoring corrupt image/label: invalid image format GIF. Supported formats are:\n",
            "images: {'tif', 'jpg', 'webp', 'mpo', 'png', 'tiff', 'pfm', 'bmp', 'jpeg', 'heic', 'dng'}\n",
            "videos: {'mpg', 'mpeg', 'mov', 'webm', 'avi', 'mkv', 'asf', 'ts', 'mp4', 'wmv', 'gif', 'm4v'}\n",
            "\u001b[34m\u001b[1mtrain: \u001b[0m/content/dataset/images/train/Short rib soup_Img_134_0007.jpg: corrupt JPEG restored and saved\n",
            "\u001b[34m\u001b[1mtrain: \u001b[0m/content/dataset/images/train/Short rib soup_Img_134_0088.jpg: corrupt JPEG restored and saved\n",
            "\u001b[34m\u001b[1mtrain: \u001b[0m/content/dataset/images/train/Short rib soup_Img_134_0100.jpg: corrupt JPEG restored and saved\n",
            "\u001b[34m\u001b[1mtrain: \u001b[0m/content/dataset/images/train/Sliced boiled meat_Img_026_0003.jpg: ignoring corrupt image/label: invalid image format GIF. Supported formats are:\n",
            "images: {'tif', 'jpg', 'webp', 'mpo', 'png', 'tiff', 'pfm', 'bmp', 'jpeg', 'heic', 'dng'}\n",
            "videos: {'mpg', 'mpeg', 'mov', 'webm', 'avi', 'mkv', 'asf', 'ts', 'mp4', 'wmv', 'gif', 'm4v'}\n",
            "\u001b[34m\u001b[1mtrain: \u001b[0m/content/dataset/images/train/Sliced boiled meat_Img_026_0012.jpg: ignoring corrupt image/label: invalid image format GIF. Supported formats are:\n",
            "images: {'tif', 'jpg', 'webp', 'mpo', 'png', 'tiff', 'pfm', 'bmp', 'jpeg', 'heic', 'dng'}\n",
            "videos: {'mpg', 'mpeg', 'mov', 'webm', 'avi', 'mkv', 'asf', 'ts', 'mp4', 'wmv', 'gif', 'm4v'}\n",
            "\u001b[34m\u001b[1mtrain: \u001b[0m/content/dataset/images/train/Sliced radish kimchi_Img_030_0007.jpg: corrupt JPEG restored and saved\n",
            "\u001b[34m\u001b[1mtrain: \u001b[0m/content/dataset/images/train/Sliced radish kimchi_Img_030_0050.jpg: corrupt JPEG restored and saved\n",
            "\u001b[34m\u001b[1mtrain: \u001b[0m/content/dataset/images/train/Sliced radish kimchi_Img_030_0054.jpg: corrupt JPEG restored and saved\n",
            "\u001b[34m\u001b[1mtrain: \u001b[0m/content/dataset/images/train/Soft tofu stew_Img_123_0028.jpg: corrupt JPEG restored and saved\n",
            "\u001b[34m\u001b[1mtrain: \u001b[0m/content/dataset/images/train/Soy Sauce Marinated Crab_Img_093_0011.jpg: corrupt JPEG restored and saved\n",
            "\u001b[34m\u001b[1mtrain: \u001b[0m/content/dataset/images/train/Soy Sauce Marinated Crab_Img_093_0013.jpg: corrupt JPEG restored and saved\n",
            "\u001b[34m\u001b[1mtrain: \u001b[0m/content/dataset/images/train/Soy braised soybeans_Img_111_0027.jpg: corrupt JPEG restored and saved\n",
            "\u001b[34m\u001b[1mtrain: \u001b[0m/content/dataset/images/train/Soy braised soybeans_Img_111_0032.jpg: corrupt JPEG restored and saved\n",
            "\u001b[34m\u001b[1mtrain: \u001b[0m/content/dataset/images/train/Soy braised soybeans_Img_111_0039.jpg: corrupt JPEG restored and saved\n",
            "\u001b[34m\u001b[1mtrain: \u001b[0m/content/dataset/images/train/Soy braised soybeans_Img_111_0048.jpg: corrupt JPEG restored and saved\n",
            "\u001b[34m\u001b[1mtrain: \u001b[0m/content/dataset/images/train/Soy braised soybeans_Img_111_0058.jpg: corrupt JPEG restored and saved\n",
            "\u001b[34m\u001b[1mtrain: \u001b[0m/content/dataset/images/train/Soybean paste soup_Img_019_0027.jpg: corrupt JPEG restored and saved\n",
            "\u001b[34m\u001b[1mtrain: \u001b[0m/content/dataset/images/train/Soybean paste soup_Img_019_0066.jpg: corrupt JPEG restored and saved\n",
            "\u001b[34m\u001b[1mtrain: \u001b[0m/content/dataset/images/train/Soybean paste soup_Img_019_0086.jpg: corrupt JPEG restored and saved\n",
            "\u001b[34m\u001b[1mtrain: \u001b[0m/content/dataset/images/train/Soybean paste stew_Img_122_0043.jpg: corrupt JPEG restored and saved\n",
            "\u001b[34m\u001b[1mtrain: \u001b[0m/content/dataset/images/train/Soybean paste stew_Img_122_0056.jpg: ignoring corrupt image/label: invalid image format GIF. Supported formats are:\n",
            "images: {'tif', 'jpg', 'webp', 'mpo', 'png', 'tiff', 'pfm', 'bmp', 'jpeg', 'heic', 'dng'}\n",
            "videos: {'mpg', 'mpeg', 'mov', 'webm', 'avi', 'mkv', 'asf', 'ts', 'mp4', 'wmv', 'gif', 'm4v'}\n",
            "\u001b[34m\u001b[1mtrain: \u001b[0m/content/dataset/images/train/Spicy Braised Chicken_Img_128_0009.jpg: corrupt JPEG restored and saved\n",
            "\u001b[34m\u001b[1mtrain: \u001b[0m/content/dataset/images/train/Spicy Braised Seafood_Img_133_0092.jpg: ignoring corrupt image/label: invalid image format GIF. Supported formats are:\n",
            "images: {'tif', 'jpg', 'webp', 'mpo', 'png', 'tiff', 'pfm', 'bmp', 'jpeg', 'heic', 'dng'}\n",
            "videos: {'mpg', 'mpeg', 'mov', 'webm', 'avi', 'mkv', 'asf', 'ts', 'mp4', 'wmv', 'gif', 'm4v'}\n",
            "\u001b[34m\u001b[1mtrain: \u001b[0m/content/dataset/images/train/Spicy fish stew_Img_137_0073.jpg: ignoring corrupt image/label: invalid image format GIF. Supported formats are:\n",
            "images: {'tif', 'jpg', 'webp', 'mpo', 'png', 'tiff', 'pfm', 'bmp', 'jpeg', 'heic', 'dng'}\n",
            "videos: {'mpg', 'mpeg', 'mov', 'webm', 'avi', 'mkv', 'asf', 'ts', 'mp4', 'wmv', 'gif', 'm4v'}\n",
            "\u001b[34m\u001b[1mtrain: \u001b[0m/content/dataset/images/train/Spicy fish stew_Img_137_0097.jpg: corrupt JPEG restored and saved\n",
            "\u001b[34m\u001b[1mtrain: \u001b[0m/content/dataset/images/train/Spicy rice cake_Img_082_0030.jpg: corrupt JPEG restored and saved\n",
            "\u001b[34m\u001b[1mtrain: \u001b[0m/content/dataset/images/train/Spicy seafood noodle soup_Img_058_0030.jpg: corrupt JPEG restored and saved\n",
            "\u001b[34m\u001b[1mtrain: \u001b[0m/content/dataset/images/train/Spicy seafood noodle soup_Img_058_0032.jpg: corrupt JPEG restored and saved\n",
            "\u001b[34m\u001b[1mtrain: \u001b[0m/content/dataset/images/train/Spicy seafood noodle soup_Img_058_0090.jpg: ignoring corrupt image/label: invalid image format GIF. Supported formats are:\n",
            "images: {'tif', 'jpg', 'webp', 'mpo', 'png', 'tiff', 'pfm', 'bmp', 'jpeg', 'heic', 'dng'}\n",
            "videos: {'mpg', 'mpeg', 'mov', 'webm', 'avi', 'mkv', 'asf', 'ts', 'mp4', 'wmv', 'gif', 'm4v'}\n",
            "\u001b[34m\u001b[1mtrain: \u001b[0m/content/dataset/images/train/Spicy stir fried pork_Img_088_0032.jpg: corrupt JPEG restored and saved\n",
            "\u001b[34m\u001b[1mtrain: \u001b[0m/content/dataset/images/train/Spicy stir fried pork_Img_088_0060.jpg: corrupt JPEG restored and saved\n",
            "\u001b[34m\u001b[1mtrain: \u001b[0m/content/dataset/images/train/Steamed eggs_Img_125_0095.jpg: ignoring corrupt image/label: invalid image format GIF. Supported formats are:\n",
            "images: {'tif', 'jpg', 'webp', 'mpo', 'png', 'tiff', 'pfm', 'bmp', 'jpeg', 'heic', 'dng'}\n",
            "videos: {'mpg', 'mpeg', 'mov', 'webm', 'avi', 'mkv', 'asf', 'ts', 'mp4', 'wmv', 'gif', 'm4v'}\n",
            "\u001b[34m\u001b[1mtrain: \u001b[0m/content/dataset/images/train/Steamed eggs_Img_125_0099.jpg: corrupt JPEG restored and saved\n",
            "\u001b[34m\u001b[1mtrain: \u001b[0m/content/dataset/images/train/Stir fried anchovies_Img_084_0095.jpg: corrupt JPEG restored and saved\n",
            "\u001b[34m\u001b[1mtrain: \u001b[0m/content/dataset/images/train/Stir fried sausage_Img_085_0072.jpg: corrupt JPEG restored and saved\n",
            "\u001b[34m\u001b[1mtrain: \u001b[0m/content/dataset/images/train/Stir fried seaweed stems_Img_042_0012.jpg: corrupt JPEG restored and saved\n",
            "\u001b[34m\u001b[1mtrain: \u001b[0m/content/dataset/images/train/Stir fried seaweed stems_Img_042_0062.jpg: corrupt JPEG restored and saved\n",
            "\u001b[34m\u001b[1mtrain: \u001b[0m/content/dataset/images/train/Stir fried seaweed stems_Img_042_0063.jpg: corrupt JPEG restored and saved\n",
            "\u001b[34m\u001b[1mtrain: \u001b[0m/content/dataset/images/train/Stir fried seaweed stems_Img_042_0066.jpg: corrupt JPEG restored and saved\n",
            "\u001b[34m\u001b[1mtrain: \u001b[0m/content/dataset/images/train/Stir fried seaweed stems_Img_042_0069.jpg: corrupt JPEG restored and saved\n",
            "\u001b[34m\u001b[1mtrain: \u001b[0m/content/dataset/images/train/Stir fried seaweed stems_Img_042_0072.jpg: corrupt JPEG restored and saved\n",
            "\u001b[34m\u001b[1mtrain: \u001b[0m/content/dataset/images/train/Stir fried seaweed stems_Img_042_0075.jpg: corrupt JPEG restored and saved\n",
            "\u001b[34m\u001b[1mtrain: \u001b[0m/content/dataset/images/train/Stir fried seaweed stems_Img_042_0081.jpg: corrupt JPEG restored and saved\n",
            "\u001b[34m\u001b[1mtrain: \u001b[0m/content/dataset/images/train/Stir fried seaweed stems_Img_042_0082.jpg: corrupt JPEG restored and saved\n",
            "\u001b[34m\u001b[1mtrain: \u001b[0m/content/dataset/images/train/Stir fried shredded squid_Img_087_0007.jpg: corrupt JPEG restored and saved\n",
            "\u001b[34m\u001b[1mtrain: \u001b[0m/content/dataset/images/train/Stir fried shredded squid_Img_087_0079.jpg: corrupt JPEG restored and saved\n",
            "\u001b[34m\u001b[1mtrain: \u001b[0m/content/dataset/images/train/Stir fried spicy seasoned dried squid_Img_080_0017.jpg: corrupt JPEG restored and saved\n",
            "\u001b[34m\u001b[1mtrain: \u001b[0m/content/dataset/images/train/Stir fried spicy seasoned dried squid_Img_080_0035.jpg: corrupt JPEG restored and saved\n",
            "\u001b[34m\u001b[1mtrain: \u001b[0m/content/dataset/images/train/Stir fried spicy seasoned dried squid_Img_080_0038.jpg: corrupt JPEG restored and saved\n",
            "\u001b[34m\u001b[1mtrain: \u001b[0m/content/dataset/images/train/Stir fried spicy seasoned dried squid_Img_080_0092.jpg: corrupt JPEG restored and saved\n",
            "\u001b[34m\u001b[1mtrain: \u001b[0m/content/dataset/images/train/Stir fried spicy seasoned dried squid_Img_080_0094.jpg: corrupt JPEG restored and saved\n",
            "\u001b[34m\u001b[1mtrain: \u001b[0m/content/dataset/images/train/Stir fried spicy seasoned dried squid_Img_080_0097.jpg: corrupt JPEG restored and saved\n",
            "\u001b[34m\u001b[1mtrain: \u001b[0m/content/dataset/images/train/Stir-fried chili peppers_Img_062_0031.jpg: corrupt JPEG restored and saved\n",
            "\u001b[34m\u001b[1mtrain: \u001b[0m/content/dataset/images/train/Stir-fried shredded potatoes_Img_078_0006.jpg: corrupt JPEG restored and saved\n",
            "\u001b[34m\u001b[1mtrain: \u001b[0m/content/dataset/images/train/Stir-fried shredded potatoes_Img_078_0035.jpg: corrupt JPEG restored and saved\n",
            "\u001b[34m\u001b[1mtrain: \u001b[0m/content/dataset/images/train/Sweet rice balls_Img_046_0094.jpg: corrupt JPEG restored and saved\n",
            "\u001b[34m\u001b[1mtrain: \u001b[0m/content/dataset/images/train/Sweet rice drink_Img_092_0015.jpg: corrupt JPEG restored and saved\n",
            "\u001b[34m\u001b[1mtrain: \u001b[0m/content/dataset/images/train/Sweet rice drink_Img_092_0081.jpg: ignoring corrupt image/label: invalid image format GIF. Supported formats are:\n",
            "images: {'tif', 'jpg', 'webp', 'mpo', 'png', 'tiff', 'pfm', 'bmp', 'jpeg', 'heic', 'dng'}\n",
            "videos: {'mpg', 'mpeg', 'mov', 'webm', 'avi', 'mkv', 'asf', 'ts', 'mp4', 'wmv', 'gif', 'm4v'}\n"
          ]
        },
        {
          "output_type": "stream",
          "name": "stderr",
          "text": [
            "\n"
          ]
        },
        {
          "output_type": "stream",
          "name": "stdout",
          "text": [
            "\u001b[34m\u001b[1mtrain: \u001b[0mNew cache created: /content/dataset/labels/train.cache\n",
            "\u001b[34m\u001b[1malbumentations: \u001b[0mBlur(p=0.01, blur_limit=(3, 7)), MedianBlur(p=0.01, blur_limit=(3, 7)), ToGray(p=0.01, method='weighted_average', num_output_channels=3), CLAHE(p=0.01, clip_limit=(1.0, 4.0), tile_grid_size=(8, 8))\n",
            "\u001b[34m\u001b[1mval: \u001b[0mFast image access ✅ (ping: 0.0±0.0 ms, read: 736.8±741.6 MB/s, size: 86.4 KB)\n"
          ]
        },
        {
          "output_type": "stream",
          "name": "stderr",
          "text": [
            "\u001b[34m\u001b[1mval: \u001b[0mScanning /content/dataset/labels/train.cache... 9232 images, 31 backgrounds, 33 corrupt: 100%|██████████| 9265/9265 [00:00<?, ?it/s]"
          ]
        },
        {
          "output_type": "stream",
          "name": "stdout",
          "text": [
            "\u001b[34m\u001b[1mtrain: \u001b[0m/content/dataset/images/train/Acorn jelly salad_Img_064_0229.jpg: corrupt JPEG restored and saved\n",
            "\u001b[34m\u001b[1mtrain: \u001b[0m/content/dataset/images/train/Acorn jelly salad_Img_064_0254.jpg: corrupt JPEG restored and saved\n",
            "\u001b[34m\u001b[1mtrain: \u001b[0m/content/dataset/images/train/Acorn jelly salad_Img_064_0256.jpg: corrupt JPEG restored and saved\n",
            "\u001b[34m\u001b[1mtrain: \u001b[0m/content/dataset/images/train/Acorn jelly salad_Img_064_0264.jpg: corrupt JPEG restored and saved\n",
            "\u001b[34m\u001b[1mtrain: \u001b[0m/content/dataset/images/train/Acorn jelly salad_Img_064_0283.jpg: corrupt JPEG restored and saved\n",
            "\u001b[34m\u001b[1mtrain: \u001b[0m/content/dataset/images/train/Bean sprouts soup_Img_021_0026.jpg: corrupt JPEG restored and saved\n",
            "\u001b[34m\u001b[1mtrain: \u001b[0m/content/dataset/images/train/Bean sprouts soup_Img_021_0255.jpg: corrupt JPEG restored and saved\n",
            "\u001b[34m\u001b[1mtrain: \u001b[0m/content/dataset/images/train/Bean sprouts soup_Img_021_0269.jpg: corrupt JPEG restored and saved\n",
            "\u001b[34m\u001b[1mtrain: \u001b[0m/content/dataset/images/train/Black Bean Noodles_Img_057_0021.jpg: corrupt JPEG restored and saved\n",
            "\u001b[34m\u001b[1mtrain: \u001b[0m/content/dataset/images/train/Black Bean Noodles_Img_057_0251.jpg: ignoring corrupt image/label: invalid image format GIF. Supported formats are:\n",
            "images: {'tif', 'jpg', 'webp', 'mpo', 'png', 'tiff', 'pfm', 'bmp', 'jpeg', 'heic', 'dng'}\n",
            "videos: {'mpg', 'mpeg', 'mov', 'webm', 'avi', 'mkv', 'asf', 'ts', 'mp4', 'wmv', 'gif', 'm4v'}\n",
            "\u001b[34m\u001b[1mtrain: \u001b[0m/content/dataset/images/train/Boiled pork wrap_Img_129_0230.jpg: corrupt JPEG restored and saved\n",
            "\u001b[34m\u001b[1mtrain: \u001b[0m/content/dataset/images/train/Boiled pork wrap_Img_129_0252.jpg: corrupt JPEG restored and saved\n",
            "\u001b[34m\u001b[1mtrain: \u001b[0m/content/dataset/images/train/Boiled pork wrap_Img_129_0264.jpg: corrupt JPEG restored and saved\n",
            "\u001b[34m\u001b[1mtrain: \u001b[0m/content/dataset/images/train/Boiled pork wrap_Img_129_0273.jpg: corrupt JPEG restored and saved\n",
            "\u001b[34m\u001b[1mtrain: \u001b[0m/content/dataset/images/train/Boiled pork wrap_Img_129_0279.jpg: corrupt JPEG restored and saved\n",
            "\u001b[34m\u001b[1mtrain: \u001b[0m/content/dataset/images/train/Braised Cutlassfish_Img_106_0238.jpg: ignoring corrupt image/label: invalid image format GIF. Supported formats are:\n",
            "images: {'tif', 'jpg', 'webp', 'mpo', 'png', 'tiff', 'pfm', 'bmp', 'jpeg', 'heic', 'dng'}\n",
            "videos: {'mpg', 'mpeg', 'mov', 'webm', 'avi', 'mkv', 'asf', 'ts', 'mp4', 'wmv', 'gif', 'm4v'}\n",
            "\u001b[34m\u001b[1mtrain: \u001b[0m/content/dataset/images/train/Braised Cutlassfish_Img_106_0246.jpg: ignoring corrupt image/label: invalid image format GIF. Supported formats are:\n",
            "images: {'tif', 'jpg', 'webp', 'mpo', 'png', 'tiff', 'pfm', 'bmp', 'jpeg', 'heic', 'dng'}\n",
            "videos: {'mpg', 'mpeg', 'mov', 'webm', 'avi', 'mkv', 'asf', 'ts', 'mp4', 'wmv', 'gif', 'm4v'}\n",
            "\u001b[34m\u001b[1mtrain: \u001b[0m/content/dataset/images/train/Braised Mackerel_Img_108_0009.jpg: corrupt JPEG restored and saved\n",
            "\u001b[34m\u001b[1mtrain: \u001b[0m/content/dataset/images/train/Braised Tofu_Img_110_0011.jpg: corrupt JPEG restored and saved\n",
            "\u001b[34m\u001b[1mtrain: \u001b[0m/content/dataset/images/train/Braised Tofu_Img_110_0266.jpg: corrupt JPEG restored and saved\n",
            "\u001b[34m\u001b[1mtrain: \u001b[0m/content/dataset/images/train/Braised kimchi_Img_126_0247.jpg: corrupt JPEG restored and saved\n",
            "\u001b[34m\u001b[1mtrain: \u001b[0m/content/dataset/images/train/Braised kimchi_Img_126_0278.jpg: ignoring corrupt image/label: invalid image format GIF. Supported formats are:\n",
            "images: {'tif', 'jpg', 'webp', 'mpo', 'png', 'tiff', 'pfm', 'bmp', 'jpeg', 'heic', 'dng'}\n",
            "videos: {'mpg', 'mpeg', 'mov', 'webm', 'avi', 'mkv', 'asf', 'ts', 'mp4', 'wmv', 'gif', 'm4v'}\n",
            "\u001b[34m\u001b[1mtrain: \u001b[0m/content/dataset/images/train/Braised kimchi_Img_126_0282.jpg: ignoring corrupt image/label: invalid image format GIF. Supported formats are:\n",
            "images: {'tif', 'jpg', 'webp', 'mpo', 'png', 'tiff', 'pfm', 'bmp', 'jpeg', 'heic', 'dng'}\n",
            "videos: {'mpg', 'mpeg', 'mov', 'webm', 'avi', 'mkv', 'asf', 'ts', 'mp4', 'wmv', 'gif', 'm4v'}\n",
            "\u001b[34m\u001b[1mtrain: \u001b[0m/content/dataset/images/train/Braised kimchi_Img_126_0290.jpg: ignoring corrupt image/label: invalid image format GIF. Supported formats are:\n",
            "images: {'tif', 'jpg', 'webp', 'mpo', 'png', 'tiff', 'pfm', 'bmp', 'jpeg', 'heic', 'dng'}\n",
            "videos: {'mpg', 'mpeg', 'mov', 'webm', 'avi', 'mkv', 'asf', 'ts', 'mp4', 'wmv', 'gif', 'm4v'}\n",
            "\u001b[34m\u001b[1mtrain: \u001b[0m/content/dataset/images/train/Braised short ribs_Img_124_0028.jpg: ignoring corrupt image/label: invalid image format GIF. Supported formats are:\n",
            "images: {'tif', 'jpg', 'webp', 'mpo', 'png', 'tiff', 'pfm', 'bmp', 'jpeg', 'heic', 'dng'}\n",
            "videos: {'mpg', 'mpeg', 'mov', 'webm', 'avi', 'mkv', 'asf', 'ts', 'mp4', 'wmv', 'gif', 'm4v'}\n",
            "\u001b[34m\u001b[1mtrain: \u001b[0m/content/dataset/images/train/Braised short ribs_Img_124_0237.jpg: corrupt JPEG restored and saved\n",
            "\u001b[34m\u001b[1mtrain: \u001b[0m/content/dataset/images/train/Braised short ribs_Img_124_0252.jpg: corrupt JPEG restored and saved\n",
            "\u001b[34m\u001b[1mtrain: \u001b[0m/content/dataset/images/train/Braised short ribs_Img_124_0254.jpg: corrupt JPEG restored and saved\n",
            "\u001b[34m\u001b[1mtrain: \u001b[0m/content/dataset/images/train/Braised short ribs_Img_124_0261.jpg: corrupt JPEG restored and saved\n",
            "\u001b[34m\u001b[1mtrain: \u001b[0m/content/dataset/images/train/Braised short ribs_Img_124_0296.jpg: corrupt JPEG restored and saved\n",
            "\u001b[34m\u001b[1mtrain: \u001b[0m/content/dataset/images/train/Buckwheat noodles_Img_051_0246.jpg: corrupt JPEG restored and saved\n",
            "\u001b[34m\u001b[1mtrain: \u001b[0m/content/dataset/images/train/Buckwheat noodles_Img_051_0258.jpg: corrupt JPEG restored and saved\n",
            "\u001b[34m\u001b[1mtrain: \u001b[0m/content/dataset/images/train/Buckwheat noodles_Img_051_0288.jpg: corrupt JPEG restored and saved\n",
            "\u001b[34m\u001b[1mtrain: \u001b[0m/content/dataset/images/train/Cabbage kimchi_Img_033_0226.jpg: corrupt JPEG restored and saved\n",
            "\u001b[34m\u001b[1mtrain: \u001b[0m/content/dataset/images/train/Cabbage kimchi_Img_033_0289.jpg: ignoring corrupt image/label: invalid image format GIF. Supported formats are:\n",
            "images: {'tif', 'jpg', 'webp', 'mpo', 'png', 'tiff', 'pfm', 'bmp', 'jpeg', 'heic', 'dng'}\n",
            "videos: {'mpg', 'mpeg', 'mov', 'webm', 'avi', 'mkv', 'asf', 'ts', 'mp4', 'wmv', 'gif', 'm4v'}\n",
            "\u001b[34m\u001b[1mtrain: \u001b[0m/content/dataset/images/train/Cold Noodle Soup_Img_052_0010.jpg: corrupt JPEG restored and saved\n",
            "\u001b[34m\u001b[1mtrain: \u001b[0m/content/dataset/images/train/Cold Noodle Soup_Img_052_0257.jpg: corrupt JPEG restored and saved\n",
            "\u001b[34m\u001b[1mtrain: \u001b[0m/content/dataset/images/train/Cold Noodle Soup_Img_052_0270.jpg: ignoring corrupt image/label: invalid image format GIF. Supported formats are:\n",
            "images: {'tif', 'jpg', 'webp', 'mpo', 'png', 'tiff', 'pfm', 'bmp', 'jpeg', 'heic', 'dng'}\n",
            "videos: {'mpg', 'mpeg', 'mov', 'webm', 'avi', 'mkv', 'asf', 'ts', 'mp4', 'wmv', 'gif', 'm4v'}\n",
            "\u001b[34m\u001b[1mtrain: \u001b[0m/content/dataset/images/train/Cold Noodle Soup_Img_052_0278.jpg: ignoring corrupt image/label: invalid image format GIF. Supported formats are:\n",
            "images: {'tif', 'jpg', 'webp', 'mpo', 'png', 'tiff', 'pfm', 'bmp', 'jpeg', 'heic', 'dng'}\n",
            "videos: {'mpg', 'mpeg', 'mov', 'webm', 'avi', 'mkv', 'asf', 'ts', 'mp4', 'wmv', 'gif', 'm4v'}\n",
            "\u001b[34m\u001b[1mtrain: \u001b[0m/content/dataset/images/train/Feast noodles_Img_056_0026.jpg: corrupt JPEG restored and saved\n",
            "\u001b[34m\u001b[1mtrain: \u001b[0m/content/dataset/images/train/Fish Pancakes_Img_102_0024.jpg: corrupt JPEG restored and saved\n",
            "\u001b[34m\u001b[1mtrain: \u001b[0m/content/dataset/images/train/Fish Pancakes_Img_102_0231.jpg: corrupt JPEG restored and saved\n",
            "\u001b[34m\u001b[1mtrain: \u001b[0m/content/dataset/images/train/Fish Pancakes_Img_102_0242.jpg: corrupt JPEG restored and saved\n",
            "\u001b[34m\u001b[1mtrain: \u001b[0m/content/dataset/images/train/Fish Pancakes_Img_102_0264.jpg: corrupt JPEG restored and saved\n",
            "\u001b[34m\u001b[1mtrain: \u001b[0m/content/dataset/images/train/Fish Pancakes_Img_102_0296.jpg: corrupt JPEG restored and saved\n",
            "\u001b[34m\u001b[1mtrain: \u001b[0m/content/dataset/images/train/Fried chicken_Img_028_0019.jpg: corrupt JPEG restored and saved\n",
            "\u001b[34m\u001b[1mtrain: \u001b[0m/content/dataset/images/train/Fried chicken_Img_028_0241.jpg: corrupt JPEG restored and saved\n",
            "\u001b[34m\u001b[1mtrain: \u001b[0m/content/dataset/images/train/Fried chicken_Img_028_0247.jpg: corrupt JPEG restored and saved\n",
            "\u001b[34m\u001b[1mtrain: \u001b[0m/content/dataset/images/train/Fried chicken_Img_028_0274.jpg: ignoring corrupt image/label: invalid image format GIF. Supported formats are:\n",
            "images: {'tif', 'jpg', 'webp', 'mpo', 'png', 'tiff', 'pfm', 'bmp', 'jpeg', 'heic', 'dng'}\n",
            "videos: {'mpg', 'mpeg', 'mov', 'webm', 'avi', 'mkv', 'asf', 'ts', 'mp4', 'wmv', 'gif', 'm4v'}\n",
            "\u001b[34m\u001b[1mtrain: \u001b[0m/content/dataset/images/train/Fried chicken_Img_028_0289.jpg: corrupt JPEG restored and saved\n",
            "\u001b[34m\u001b[1mtrain: \u001b[0m/content/dataset/images/train/Fried chicken_Img_028_0295.jpg: corrupt JPEG restored and saved\n",
            "\u001b[34m\u001b[1mtrain: \u001b[0m/content/dataset/images/train/Hot spicy meat stew_Img_020_0257.jpg: corrupt JPEG restored and saved\n",
            "\u001b[34m\u001b[1mtrain: \u001b[0m/content/dataset/images/train/Hot spicy meat stew_Img_020_0274.jpg: ignoring corrupt image/label: invalid image format GIF. Supported formats are:\n",
            "images: {'tif', 'jpg', 'webp', 'mpo', 'png', 'tiff', 'pfm', 'bmp', 'jpeg', 'heic', 'dng'}\n",
            "videos: {'mpg', 'mpeg', 'mov', 'webm', 'avi', 'mkv', 'asf', 'ts', 'mp4', 'wmv', 'gif', 'm4v'}\n",
            "\u001b[34m\u001b[1mtrain: \u001b[0m/content/dataset/images/train/Hot spicy meat stew_Img_020_0284.jpg: corrupt JPEG restored and saved\n",
            "\u001b[34m\u001b[1mtrain: \u001b[0m/content/dataset/images/train/Kimchi Jiggae_Img_119_0263.jpg: corrupt JPEG restored and saved\n",
            "\u001b[34m\u001b[1mtrain: \u001b[0m/content/dataset/images/train/Korean rolled omelette_Img_098_0250.jpg: corrupt JPEG restored and saved\n",
            "\u001b[34m\u001b[1mtrain: \u001b[0m/content/dataset/images/train/Korean rolled omelette_Img_098_0272.jpg: corrupt JPEG restored and saved\n",
            "\u001b[34m\u001b[1mtrain: \u001b[0m/content/dataset/images/train/Korean rolled omelette_Img_098_0294.jpg: corrupt JPEG restored and saved\n",
            "\u001b[34m\u001b[1mtrain: \u001b[0m/content/dataset/images/train/Loach soup_Img_139_0238.jpg: corrupt JPEG restored and saved\n",
            "\u001b[34m\u001b[1mtrain: \u001b[0m/content/dataset/images/train/Loach soup_Img_139_0242.jpg: corrupt JPEG restored and saved\n",
            "\u001b[34m\u001b[1mtrain: \u001b[0m/content/dataset/images/train/Loach soup_Img_139_0259.jpg: ignoring corrupt image/label: invalid image format GIF. Supported formats are:\n",
            "images: {'tif', 'jpg', 'webp', 'mpo', 'png', 'tiff', 'pfm', 'bmp', 'jpeg', 'heic', 'dng'}\n",
            "videos: {'mpg', 'mpeg', 'mov', 'webm', 'avi', 'mkv', 'asf', 'ts', 'mp4', 'wmv', 'gif', 'm4v'}\n",
            "\u001b[34m\u001b[1mtrain: \u001b[0m/content/dataset/images/train/Loach soup_Img_139_0268.jpg: ignoring corrupt image/label: invalid image format GIF. Supported formats are:\n",
            "images: {'tif', 'jpg', 'webp', 'mpo', 'png', 'tiff', 'pfm', 'bmp', 'jpeg', 'heic', 'dng'}\n",
            "videos: {'mpg', 'mpeg', 'mov', 'webm', 'avi', 'mkv', 'asf', 'ts', 'mp4', 'wmv', 'gif', 'm4v'}\n",
            "\u001b[34m\u001b[1mtrain: \u001b[0m/content/dataset/images/train/Loach soup_Img_139_0285.jpg: ignoring corrupt image/label: invalid image format GIF. Supported formats are:\n",
            "images: {'tif', 'jpg', 'webp', 'mpo', 'png', 'tiff', 'pfm', 'bmp', 'jpeg', 'heic', 'dng'}\n",
            "videos: {'mpg', 'mpeg', 'mov', 'webm', 'avi', 'mkv', 'asf', 'ts', 'mp4', 'wmv', 'gif', 'm4v'}\n",
            "\u001b[34m\u001b[1mtrain: \u001b[0m/content/dataset/images/train/Ox bone soup_Img_136_0002.jpg: ignoring corrupt image/label: invalid image format GIF. Supported formats are:\n",
            "images: {'tif', 'jpg', 'webp', 'mpo', 'png', 'tiff', 'pfm', 'bmp', 'jpeg', 'heic', 'dng'}\n",
            "videos: {'mpg', 'mpeg', 'mov', 'webm', 'avi', 'mkv', 'asf', 'ts', 'mp4', 'wmv', 'gif', 'm4v'}\n",
            "\u001b[34m\u001b[1mtrain: \u001b[0m/content/dataset/images/train/Ox bone soup_Img_136_0003.jpg: corrupt JPEG restored and saved\n",
            "\u001b[34m\u001b[1mtrain: \u001b[0m/content/dataset/images/train/Ox bone soup_Img_136_0229.jpg: ignoring corrupt image/label: invalid image format GIF. Supported formats are:\n",
            "images: {'tif', 'jpg', 'webp', 'mpo', 'png', 'tiff', 'pfm', 'bmp', 'jpeg', 'heic', 'dng'}\n",
            "videos: {'mpg', 'mpeg', 'mov', 'webm', 'avi', 'mkv', 'asf', 'ts', 'mp4', 'wmv', 'gif', 'm4v'}\n",
            "\u001b[34m\u001b[1mtrain: \u001b[0m/content/dataset/images/train/Pickled Perilla Leaves_Img_095_0230.jpg: corrupt JPEG restored and saved\n",
            "\u001b[34m\u001b[1mtrain: \u001b[0m/content/dataset/images/train/Pig feet_Img_131_0006.jpg: corrupt JPEG restored and saved\n",
            "\u001b[34m\u001b[1mtrain: \u001b[0m/content/dataset/images/train/Pig feet_Img_131_0291.jpg: ignoring corrupt image/label: invalid image format GIF. Supported formats are:\n",
            "images: {'tif', 'jpg', 'webp', 'mpo', 'png', 'tiff', 'pfm', 'bmp', 'jpeg', 'heic', 'dng'}\n",
            "videos: {'mpg', 'mpeg', 'mov', 'webm', 'avi', 'mkv', 'asf', 'ts', 'mp4', 'wmv', 'gif', 'm4v'}\n",
            "\u001b[34m\u001b[1mtrain: \u001b[0m/content/dataset/images/train/Pork back-bone stew_Img_135_0089.jpg: corrupt JPEG restored and saved\n",
            "\u001b[34m\u001b[1mtrain: \u001b[0m/content/dataset/images/train/Rice cake-Dumpling soup_Img_015_0062.jpg: corrupt JPEG restored and saved\n",
            "\u001b[34m\u001b[1mtrain: \u001b[0m/content/dataset/images/train/Scallion Pancake_Img_103_0032.jpg: ignoring corrupt image/label: invalid image format GIF. Supported formats are:\n",
            "images: {'tif', 'jpg', 'webp', 'mpo', 'png', 'tiff', 'pfm', 'bmp', 'jpeg', 'heic', 'dng'}\n",
            "videos: {'mpg', 'mpeg', 'mov', 'webm', 'avi', 'mkv', 'asf', 'ts', 'mp4', 'wmv', 'gif', 'm4v'}\n",
            "\u001b[34m\u001b[1mtrain: \u001b[0m/content/dataset/images/train/Scallion Pancake_Img_103_0082.jpg: corrupt JPEG restored and saved\n",
            "\u001b[34m\u001b[1mtrain: \u001b[0m/content/dataset/images/train/Seasoned bean sprouts_Img_066_0075.jpg: corrupt JPEG restored and saved\n",
            "\u001b[34m\u001b[1mtrain: \u001b[0m/content/dataset/images/train/Seasoned chicken_Img_023_0073.jpg: ignoring corrupt image/label: invalid image format GIF. Supported formats are:\n",
            "images: {'tif', 'jpg', 'webp', 'mpo', 'png', 'tiff', 'pfm', 'bmp', 'jpeg', 'heic', 'dng'}\n",
            "videos: {'mpg', 'mpeg', 'mov', 'webm', 'avi', 'mkv', 'asf', 'ts', 'mp4', 'wmv', 'gif', 'm4v'}\n",
            "\u001b[34m\u001b[1mtrain: \u001b[0m/content/dataset/images/train/Seasoned chicken_Img_023_0079.jpg: corrupt JPEG restored and saved\n",
            "\u001b[34m\u001b[1mtrain: \u001b[0m/content/dataset/images/train/Seasoned chicken_Img_023_0080.jpg: corrupt JPEG restored and saved\n",
            "\u001b[34m\u001b[1mtrain: \u001b[0m/content/dataset/images/train/Seasoned chicken_Img_023_0081.jpg: corrupt JPEG restored and saved\n",
            "\u001b[34m\u001b[1mtrain: \u001b[0m/content/dataset/images/train/Seasoned fernbrake_Img_041_0024.jpg: corrupt JPEG restored and saved\n",
            "\u001b[34m\u001b[1mtrain: \u001b[0m/content/dataset/images/train/Seasoned fernbrake_Img_041_0040.jpg: corrupt JPEG restored and saved\n",
            "\u001b[34m\u001b[1mtrain: \u001b[0m/content/dataset/images/train/Seasoned fernbrake_Img_041_0085.jpg: ignoring corrupt image/label: invalid image format GIF. Supported formats are:\n",
            "images: {'tif', 'jpg', 'webp', 'mpo', 'png', 'tiff', 'pfm', 'bmp', 'jpeg', 'heic', 'dng'}\n",
            "videos: {'mpg', 'mpeg', 'mov', 'webm', 'avi', 'mkv', 'asf', 'ts', 'mp4', 'wmv', 'gif', 'm4v'}\n",
            "\u001b[34m\u001b[1mtrain: \u001b[0m/content/dataset/images/train/Seasoned fernbrake_Img_041_0088.jpg: corrupt JPEG restored and saved\n",
            "\u001b[34m\u001b[1mtrain: \u001b[0m/content/dataset/images/train/Seasoned fernbrake_Img_041_0096.jpg: corrupt JPEG restored and saved\n",
            "\u001b[34m\u001b[1mtrain: \u001b[0m/content/dataset/images/train/Seasoned soybean sprouts_Img_043_0010.jpg: ignoring corrupt image/label: invalid image format GIF. Supported formats are:\n",
            "images: {'tif', 'jpg', 'webp', 'mpo', 'png', 'tiff', 'pfm', 'bmp', 'jpeg', 'heic', 'dng'}\n",
            "videos: {'mpg', 'mpeg', 'mov', 'webm', 'avi', 'mkv', 'asf', 'ts', 'mp4', 'wmv', 'gif', 'm4v'}\n",
            "\u001b[34m\u001b[1mtrain: \u001b[0m/content/dataset/images/train/Seasoned soybean sprouts_Img_043_0014.jpg: ignoring corrupt image/label: invalid image format GIF. Supported formats are:\n",
            "images: {'tif', 'jpg', 'webp', 'mpo', 'png', 'tiff', 'pfm', 'bmp', 'jpeg', 'heic', 'dng'}\n",
            "videos: {'mpg', 'mpeg', 'mov', 'webm', 'avi', 'mkv', 'asf', 'ts', 'mp4', 'wmv', 'gif', 'm4v'}\n",
            "\u001b[34m\u001b[1mtrain: \u001b[0m/content/dataset/images/train/Seasoned soybean sprouts_Img_043_0062.jpg: corrupt JPEG restored and saved\n",
            "\u001b[34m\u001b[1mtrain: \u001b[0m/content/dataset/images/train/Seasoned soybean sprouts_Img_043_0063.jpg: ignoring corrupt image/label: invalid image format GIF. Supported formats are:\n",
            "images: {'tif', 'jpg', 'webp', 'mpo', 'png', 'tiff', 'pfm', 'bmp', 'jpeg', 'heic', 'dng'}\n",
            "videos: {'mpg', 'mpeg', 'mov', 'webm', 'avi', 'mkv', 'asf', 'ts', 'mp4', 'wmv', 'gif', 'm4v'}\n",
            "\u001b[34m\u001b[1mtrain: \u001b[0m/content/dataset/images/train/Seasoned soybean sprouts_Img_043_0070.jpg: ignoring corrupt image/label: invalid image format GIF. Supported formats are:\n",
            "images: {'tif', 'jpg', 'webp', 'mpo', 'png', 'tiff', 'pfm', 'bmp', 'jpeg', 'heic', 'dng'}\n",
            "videos: {'mpg', 'mpeg', 'mov', 'webm', 'avi', 'mkv', 'asf', 'ts', 'mp4', 'wmv', 'gif', 'm4v'}\n",
            "\u001b[34m\u001b[1mtrain: \u001b[0m/content/dataset/images/train/Short rib soup_Img_134_0007.jpg: corrupt JPEG restored and saved\n",
            "\u001b[34m\u001b[1mtrain: \u001b[0m/content/dataset/images/train/Short rib soup_Img_134_0088.jpg: corrupt JPEG restored and saved\n",
            "\u001b[34m\u001b[1mtrain: \u001b[0m/content/dataset/images/train/Short rib soup_Img_134_0100.jpg: corrupt JPEG restored and saved\n",
            "\u001b[34m\u001b[1mtrain: \u001b[0m/content/dataset/images/train/Sliced boiled meat_Img_026_0003.jpg: ignoring corrupt image/label: invalid image format GIF. Supported formats are:\n",
            "images: {'tif', 'jpg', 'webp', 'mpo', 'png', 'tiff', 'pfm', 'bmp', 'jpeg', 'heic', 'dng'}\n",
            "videos: {'mpg', 'mpeg', 'mov', 'webm', 'avi', 'mkv', 'asf', 'ts', 'mp4', 'wmv', 'gif', 'm4v'}\n",
            "\u001b[34m\u001b[1mtrain: \u001b[0m/content/dataset/images/train/Sliced boiled meat_Img_026_0012.jpg: ignoring corrupt image/label: invalid image format GIF. Supported formats are:\n",
            "images: {'tif', 'jpg', 'webp', 'mpo', 'png', 'tiff', 'pfm', 'bmp', 'jpeg', 'heic', 'dng'}\n",
            "videos: {'mpg', 'mpeg', 'mov', 'webm', 'avi', 'mkv', 'asf', 'ts', 'mp4', 'wmv', 'gif', 'm4v'}\n",
            "\u001b[34m\u001b[1mtrain: \u001b[0m/content/dataset/images/train/Sliced radish kimchi_Img_030_0007.jpg: corrupt JPEG restored and saved\n",
            "\u001b[34m\u001b[1mtrain: \u001b[0m/content/dataset/images/train/Sliced radish kimchi_Img_030_0050.jpg: corrupt JPEG restored and saved\n",
            "\u001b[34m\u001b[1mtrain: \u001b[0m/content/dataset/images/train/Sliced radish kimchi_Img_030_0054.jpg: corrupt JPEG restored and saved\n",
            "\u001b[34m\u001b[1mtrain: \u001b[0m/content/dataset/images/train/Soft tofu stew_Img_123_0028.jpg: corrupt JPEG restored and saved\n",
            "\u001b[34m\u001b[1mtrain: \u001b[0m/content/dataset/images/train/Soy Sauce Marinated Crab_Img_093_0011.jpg: corrupt JPEG restored and saved\n",
            "\u001b[34m\u001b[1mtrain: \u001b[0m/content/dataset/images/train/Soy Sauce Marinated Crab_Img_093_0013.jpg: corrupt JPEG restored and saved\n",
            "\u001b[34m\u001b[1mtrain: \u001b[0m/content/dataset/images/train/Soy braised soybeans_Img_111_0027.jpg: corrupt JPEG restored and saved\n",
            "\u001b[34m\u001b[1mtrain: \u001b[0m/content/dataset/images/train/Soy braised soybeans_Img_111_0032.jpg: corrupt JPEG restored and saved\n",
            "\u001b[34m\u001b[1mtrain: \u001b[0m/content/dataset/images/train/Soy braised soybeans_Img_111_0039.jpg: corrupt JPEG restored and saved\n",
            "\u001b[34m\u001b[1mtrain: \u001b[0m/content/dataset/images/train/Soy braised soybeans_Img_111_0048.jpg: corrupt JPEG restored and saved\n",
            "\u001b[34m\u001b[1mtrain: \u001b[0m/content/dataset/images/train/Soy braised soybeans_Img_111_0058.jpg: corrupt JPEG restored and saved\n",
            "\u001b[34m\u001b[1mtrain: \u001b[0m/content/dataset/images/train/Soybean paste soup_Img_019_0027.jpg: corrupt JPEG restored and saved\n",
            "\u001b[34m\u001b[1mtrain: \u001b[0m/content/dataset/images/train/Soybean paste soup_Img_019_0066.jpg: corrupt JPEG restored and saved\n",
            "\u001b[34m\u001b[1mtrain: \u001b[0m/content/dataset/images/train/Soybean paste soup_Img_019_0086.jpg: corrupt JPEG restored and saved\n",
            "\u001b[34m\u001b[1mtrain: \u001b[0m/content/dataset/images/train/Soybean paste stew_Img_122_0043.jpg: corrupt JPEG restored and saved\n",
            "\u001b[34m\u001b[1mtrain: \u001b[0m/content/dataset/images/train/Soybean paste stew_Img_122_0056.jpg: ignoring corrupt image/label: invalid image format GIF. Supported formats are:\n",
            "images: {'tif', 'jpg', 'webp', 'mpo', 'png', 'tiff', 'pfm', 'bmp', 'jpeg', 'heic', 'dng'}\n",
            "videos: {'mpg', 'mpeg', 'mov', 'webm', 'avi', 'mkv', 'asf', 'ts', 'mp4', 'wmv', 'gif', 'm4v'}\n",
            "\u001b[34m\u001b[1mtrain: \u001b[0m/content/dataset/images/train/Spicy Braised Chicken_Img_128_0009.jpg: corrupt JPEG restored and saved\n",
            "\u001b[34m\u001b[1mtrain: \u001b[0m/content/dataset/images/train/Spicy Braised Seafood_Img_133_0092.jpg: ignoring corrupt image/label: invalid image format GIF. Supported formats are:\n",
            "images: {'tif', 'jpg', 'webp', 'mpo', 'png', 'tiff', 'pfm', 'bmp', 'jpeg', 'heic', 'dng'}\n",
            "videos: {'mpg', 'mpeg', 'mov', 'webm', 'avi', 'mkv', 'asf', 'ts', 'mp4', 'wmv', 'gif', 'm4v'}\n",
            "\u001b[34m\u001b[1mtrain: \u001b[0m/content/dataset/images/train/Spicy fish stew_Img_137_0073.jpg: ignoring corrupt image/label: invalid image format GIF. Supported formats are:\n",
            "images: {'tif', 'jpg', 'webp', 'mpo', 'png', 'tiff', 'pfm', 'bmp', 'jpeg', 'heic', 'dng'}\n",
            "videos: {'mpg', 'mpeg', 'mov', 'webm', 'avi', 'mkv', 'asf', 'ts', 'mp4', 'wmv', 'gif', 'm4v'}\n",
            "\u001b[34m\u001b[1mtrain: \u001b[0m/content/dataset/images/train/Spicy fish stew_Img_137_0097.jpg: corrupt JPEG restored and saved\n",
            "\u001b[34m\u001b[1mtrain: \u001b[0m/content/dataset/images/train/Spicy rice cake_Img_082_0030.jpg: corrupt JPEG restored and saved\n",
            "\u001b[34m\u001b[1mtrain: \u001b[0m/content/dataset/images/train/Spicy seafood noodle soup_Img_058_0030.jpg: corrupt JPEG restored and saved\n",
            "\u001b[34m\u001b[1mtrain: \u001b[0m/content/dataset/images/train/Spicy seafood noodle soup_Img_058_0032.jpg: corrupt JPEG restored and saved\n",
            "\u001b[34m\u001b[1mtrain: \u001b[0m/content/dataset/images/train/Spicy seafood noodle soup_Img_058_0090.jpg: ignoring corrupt image/label: invalid image format GIF. Supported formats are:\n",
            "images: {'tif', 'jpg', 'webp', 'mpo', 'png', 'tiff', 'pfm', 'bmp', 'jpeg', 'heic', 'dng'}\n",
            "videos: {'mpg', 'mpeg', 'mov', 'webm', 'avi', 'mkv', 'asf', 'ts', 'mp4', 'wmv', 'gif', 'm4v'}\n",
            "\u001b[34m\u001b[1mtrain: \u001b[0m/content/dataset/images/train/Spicy stir fried pork_Img_088_0032.jpg: corrupt JPEG restored and saved\n",
            "\u001b[34m\u001b[1mtrain: \u001b[0m/content/dataset/images/train/Spicy stir fried pork_Img_088_0060.jpg: corrupt JPEG restored and saved\n",
            "\u001b[34m\u001b[1mtrain: \u001b[0m/content/dataset/images/train/Steamed eggs_Img_125_0095.jpg: ignoring corrupt image/label: invalid image format GIF. Supported formats are:\n",
            "images: {'tif', 'jpg', 'webp', 'mpo', 'png', 'tiff', 'pfm', 'bmp', 'jpeg', 'heic', 'dng'}\n",
            "videos: {'mpg', 'mpeg', 'mov', 'webm', 'avi', 'mkv', 'asf', 'ts', 'mp4', 'wmv', 'gif', 'm4v'}\n",
            "\u001b[34m\u001b[1mtrain: \u001b[0m/content/dataset/images/train/Steamed eggs_Img_125_0099.jpg: corrupt JPEG restored and saved\n",
            "\u001b[34m\u001b[1mtrain: \u001b[0m/content/dataset/images/train/Stir fried anchovies_Img_084_0095.jpg: corrupt JPEG restored and saved\n",
            "\u001b[34m\u001b[1mtrain: \u001b[0m/content/dataset/images/train/Stir fried sausage_Img_085_0072.jpg: corrupt JPEG restored and saved\n",
            "\u001b[34m\u001b[1mtrain: \u001b[0m/content/dataset/images/train/Stir fried seaweed stems_Img_042_0012.jpg: corrupt JPEG restored and saved\n",
            "\u001b[34m\u001b[1mtrain: \u001b[0m/content/dataset/images/train/Stir fried seaweed stems_Img_042_0062.jpg: corrupt JPEG restored and saved\n",
            "\u001b[34m\u001b[1mtrain: \u001b[0m/content/dataset/images/train/Stir fried seaweed stems_Img_042_0063.jpg: corrupt JPEG restored and saved\n",
            "\u001b[34m\u001b[1mtrain: \u001b[0m/content/dataset/images/train/Stir fried seaweed stems_Img_042_0066.jpg: corrupt JPEG restored and saved\n",
            "\u001b[34m\u001b[1mtrain: \u001b[0m/content/dataset/images/train/Stir fried seaweed stems_Img_042_0069.jpg: corrupt JPEG restored and saved\n",
            "\u001b[34m\u001b[1mtrain: \u001b[0m/content/dataset/images/train/Stir fried seaweed stems_Img_042_0072.jpg: corrupt JPEG restored and saved\n",
            "\u001b[34m\u001b[1mtrain: \u001b[0m/content/dataset/images/train/Stir fried seaweed stems_Img_042_0075.jpg: corrupt JPEG restored and saved\n",
            "\u001b[34m\u001b[1mtrain: \u001b[0m/content/dataset/images/train/Stir fried seaweed stems_Img_042_0081.jpg: corrupt JPEG restored and saved\n",
            "\u001b[34m\u001b[1mtrain: \u001b[0m/content/dataset/images/train/Stir fried seaweed stems_Img_042_0082.jpg: corrupt JPEG restored and saved\n",
            "\u001b[34m\u001b[1mtrain: \u001b[0m/content/dataset/images/train/Stir fried shredded squid_Img_087_0007.jpg: corrupt JPEG restored and saved\n",
            "\u001b[34m\u001b[1mtrain: \u001b[0m/content/dataset/images/train/Stir fried shredded squid_Img_087_0079.jpg: corrupt JPEG restored and saved\n",
            "\u001b[34m\u001b[1mtrain: \u001b[0m/content/dataset/images/train/Stir fried spicy seasoned dried squid_Img_080_0017.jpg: corrupt JPEG restored and saved\n",
            "\u001b[34m\u001b[1mtrain: \u001b[0m/content/dataset/images/train/Stir fried spicy seasoned dried squid_Img_080_0035.jpg: corrupt JPEG restored and saved\n",
            "\u001b[34m\u001b[1mtrain: \u001b[0m/content/dataset/images/train/Stir fried spicy seasoned dried squid_Img_080_0038.jpg: corrupt JPEG restored and saved\n",
            "\u001b[34m\u001b[1mtrain: \u001b[0m/content/dataset/images/train/Stir fried spicy seasoned dried squid_Img_080_0092.jpg: corrupt JPEG restored and saved\n",
            "\u001b[34m\u001b[1mtrain: \u001b[0m/content/dataset/images/train/Stir fried spicy seasoned dried squid_Img_080_0094.jpg: corrupt JPEG restored and saved\n",
            "\u001b[34m\u001b[1mtrain: \u001b[0m/content/dataset/images/train/Stir fried spicy seasoned dried squid_Img_080_0097.jpg: corrupt JPEG restored and saved\n",
            "\u001b[34m\u001b[1mtrain: \u001b[0m/content/dataset/images/train/Stir-fried chili peppers_Img_062_0031.jpg: corrupt JPEG restored and saved\n",
            "\u001b[34m\u001b[1mtrain: \u001b[0m/content/dataset/images/train/Stir-fried shredded potatoes_Img_078_0006.jpg: corrupt JPEG restored and saved\n",
            "\u001b[34m\u001b[1mtrain: \u001b[0m/content/dataset/images/train/Stir-fried shredded potatoes_Img_078_0035.jpg: corrupt JPEG restored and saved\n",
            "\u001b[34m\u001b[1mtrain: \u001b[0m/content/dataset/images/train/Sweet rice balls_Img_046_0094.jpg: corrupt JPEG restored and saved\n",
            "\u001b[34m\u001b[1mtrain: \u001b[0m/content/dataset/images/train/Sweet rice drink_Img_092_0015.jpg: corrupt JPEG restored and saved\n",
            "\u001b[34m\u001b[1mtrain: \u001b[0m/content/dataset/images/train/Sweet rice drink_Img_092_0081.jpg: ignoring corrupt image/label: invalid image format GIF. Supported formats are:\n",
            "images: {'tif', 'jpg', 'webp', 'mpo', 'png', 'tiff', 'pfm', 'bmp', 'jpeg', 'heic', 'dng'}\n",
            "videos: {'mpg', 'mpeg', 'mov', 'webm', 'avi', 'mkv', 'asf', 'ts', 'mp4', 'wmv', 'gif', 'm4v'}\n"
          ]
        },
        {
          "output_type": "stream",
          "name": "stderr",
          "text": [
            "\n"
          ]
        },
        {
          "output_type": "stream",
          "name": "stdout",
          "text": [
            "Plotting labels to /content/drive/MyDrive/prometheus/models/yolov8_all_labeled2_resume3/labels.jpg... \n",
            "\u001b[34m\u001b[1moptimizer:\u001b[0m 'optimizer=auto' found, ignoring 'lr0=0.01' and 'momentum=0.937' and determining best 'optimizer', 'lr0' and 'momentum' automatically... \n",
            "\u001b[34m\u001b[1moptimizer:\u001b[0m AdamW(lr=9.8e-05, momentum=0.9) with parameter groups 57 weight(decay=0.0), 64 weight(decay=0.0005), 63 bias(decay=0.0)\n",
            "Image sizes 640 train, 640 val\n",
            "Using 2 dataloader workers\n",
            "Logging results to \u001b[1m/content/drive/MyDrive/prometheus/models/yolov8_all_labeled2_resume3\u001b[0m\n",
            "Starting training for 10 epochs...\n",
            "Closing dataloader mosaic\n",
            "\u001b[34m\u001b[1malbumentations: \u001b[0mBlur(p=0.01, blur_limit=(3, 7)), MedianBlur(p=0.01, blur_limit=(3, 7)), ToGray(p=0.01, method='weighted_average', num_output_channels=3), CLAHE(p=0.01, clip_limit=(1.0, 4.0), tile_grid_size=(8, 8))\n",
            "\n",
            "      Epoch    GPU_mem   box_loss   cls_loss   dfl_loss  Instances       Size\n"
          ]
        },
        {
          "output_type": "stream",
          "name": "stderr",
          "text": [
            "       1/10      3.78G     0.4674      0.282      1.058         15        640:   1%|          | 3/577 [00:04<11:16,  1.18s/it]"
          ]
        },
        {
          "output_type": "stream",
          "name": "stdout",
          "text": [
            "Downloading https://ultralytics.com/assets/Arial.ttf to '/root/.config/Ultralytics/Arial.ttf'...\n"
          ]
        },
        {
          "output_type": "stream",
          "name": "stderr",
          "text": [
            "       1/10      3.81G     0.4698     0.2709      1.063         16        640:   1%|          | 4/577 [00:05<10:01,  1.05s/it]\n",
            "100%|██████████| 755k/755k [00:00<00:00, 17.5MB/s]\n",
            "       1/10      3.92G     0.4713     0.2953      1.053         16        640: 100%|██████████| 577/577 [03:29<00:00,  2.76it/s]\n",
            "                 Class     Images  Instances      Box(P          R      mAP50  mAP50-95): 100%|██████████| 289/289 [01:33<00:00,  3.08it/s]\n"
          ]
        },
        {
          "output_type": "stream",
          "name": "stdout",
          "text": [
            "                   all       9232       9432      0.992       0.99      0.994      0.906\n",
            "\n",
            "      Epoch    GPU_mem   box_loss   cls_loss   dfl_loss  Instances       Size\n"
          ]
        },
        {
          "output_type": "stream",
          "name": "stderr",
          "text": [
            "       2/10      6.68G     0.4798     0.3055      1.057         16        640: 100%|██████████| 577/577 [03:20<00:00,  2.87it/s]\n",
            "                 Class     Images  Instances      Box(P          R      mAP50  mAP50-95): 100%|██████████| 289/289 [01:32<00:00,  3.14it/s]\n"
          ]
        },
        {
          "output_type": "stream",
          "name": "stdout",
          "text": [
            "                   all       9232       9432      0.989      0.991      0.993      0.902\n",
            "\n",
            "      Epoch    GPU_mem   box_loss   cls_loss   dfl_loss  Instances       Size\n"
          ]
        },
        {
          "output_type": "stream",
          "name": "stderr",
          "text": [
            "       3/10      6.71G     0.4846     0.3055      1.062         19        640: 100%|██████████| 577/577 [03:22<00:00,  2.84it/s]\n",
            "                 Class     Images  Instances      Box(P          R      mAP50  mAP50-95): 100%|██████████| 289/289 [01:37<00:00,  2.97it/s]"
          ]
        },
        {
          "output_type": "stream",
          "name": "stdout",
          "text": [
            "                   all       9232       9432      0.989       0.99      0.993      0.903\n"
          ]
        },
        {
          "output_type": "stream",
          "name": "stderr",
          "text": [
            "\n"
          ]
        },
        {
          "output_type": "stream",
          "name": "stdout",
          "text": [
            "\n",
            "      Epoch    GPU_mem   box_loss   cls_loss   dfl_loss  Instances       Size\n"
          ]
        },
        {
          "output_type": "stream",
          "name": "stderr",
          "text": [
            "       4/10      6.71G      0.483     0.3069      1.058         16        640: 100%|██████████| 577/577 [03:18<00:00,  2.91it/s]\n",
            "                 Class     Images  Instances      Box(P          R      mAP50  mAP50-95): 100%|██████████| 289/289 [01:33<00:00,  3.08it/s]\n"
          ]
        },
        {
          "output_type": "stream",
          "name": "stdout",
          "text": [
            "                   all       9232       9432      0.992       0.99      0.994      0.906\n",
            "\n",
            "      Epoch    GPU_mem   box_loss   cls_loss   dfl_loss  Instances       Size\n"
          ]
        },
        {
          "output_type": "stream",
          "name": "stderr",
          "text": [
            "       5/10      6.71G     0.4749     0.2979      1.053         17        640: 100%|██████████| 577/577 [03:25<00:00,  2.81it/s]\n",
            "                 Class     Images  Instances      Box(P          R      mAP50  mAP50-95): 100%|██████████| 289/289 [01:39<00:00,  2.90it/s]\n"
          ]
        },
        {
          "output_type": "stream",
          "name": "stdout",
          "text": [
            "                   all       9232       9432      0.992      0.991      0.994      0.909\n",
            "\n",
            "      Epoch    GPU_mem   box_loss   cls_loss   dfl_loss  Instances       Size\n"
          ]
        },
        {
          "output_type": "stream",
          "name": "stderr",
          "text": [
            "       6/10      6.75G     0.4711     0.2966       1.05         16        640: 100%|██████████| 577/577 [03:23<00:00,  2.83it/s]\n",
            "                 Class     Images  Instances      Box(P          R      mAP50  mAP50-95): 100%|██████████| 289/289 [01:35<00:00,  3.03it/s]\n"
          ]
        },
        {
          "output_type": "stream",
          "name": "stdout",
          "text": [
            "                   all       9232       9432      0.993      0.992      0.994       0.91\n",
            "\n",
            "      Epoch    GPU_mem   box_loss   cls_loss   dfl_loss  Instances       Size\n"
          ]
        },
        {
          "output_type": "stream",
          "name": "stderr",
          "text": [
            "       7/10      6.75G     0.4648     0.2882      1.042         16        640: 100%|██████████| 577/577 [03:26<00:00,  2.80it/s]\n",
            "                 Class     Images  Instances      Box(P          R      mAP50  mAP50-95): 100%|██████████| 289/289 [01:35<00:00,  3.03it/s]\n"
          ]
        },
        {
          "output_type": "stream",
          "name": "stdout",
          "text": [
            "                   all       9232       9432      0.993      0.992      0.994      0.915\n",
            "\n",
            "      Epoch    GPU_mem   box_loss   cls_loss   dfl_loss  Instances       Size\n"
          ]
        },
        {
          "output_type": "stream",
          "name": "stderr",
          "text": [
            "       8/10      6.75G     0.4569     0.2808      1.038         17        640: 100%|██████████| 577/577 [03:19<00:00,  2.89it/s]\n",
            "                 Class     Images  Instances      Box(P          R      mAP50  mAP50-95): 100%|██████████| 289/289 [01:36<00:00,  2.99it/s]\n"
          ]
        },
        {
          "output_type": "stream",
          "name": "stdout",
          "text": [
            "                   all       9232       9432      0.994      0.993      0.994      0.916\n",
            "\n",
            "      Epoch    GPU_mem   box_loss   cls_loss   dfl_loss  Instances       Size\n"
          ]
        },
        {
          "output_type": "stream",
          "name": "stderr",
          "text": [
            "       9/10      6.75G     0.4486     0.2781      1.032         16        640: 100%|██████████| 577/577 [03:25<00:00,  2.81it/s]\n",
            "                 Class     Images  Instances      Box(P          R      mAP50  mAP50-95): 100%|██████████| 289/289 [01:37<00:00,  2.96it/s]\n"
          ]
        },
        {
          "output_type": "stream",
          "name": "stdout",
          "text": [
            "                   all       9232       9432      0.995      0.993      0.994      0.917\n",
            "\n",
            "      Epoch    GPU_mem   box_loss   cls_loss   dfl_loss  Instances       Size\n"
          ]
        },
        {
          "output_type": "stream",
          "name": "stderr",
          "text": [
            "      10/10      6.75G     0.4424     0.2718      1.025         16        640: 100%|██████████| 577/577 [03:23<00:00,  2.84it/s]\n",
            "                 Class     Images  Instances      Box(P          R      mAP50  mAP50-95): 100%|██████████| 289/289 [01:33<00:00,  3.09it/s]\n"
          ]
        },
        {
          "output_type": "stream",
          "name": "stdout",
          "text": [
            "                   all       9232       9432      0.994      0.994      0.994      0.919\n",
            "\n",
            "10 epochs completed in 0.833 hours.\n",
            "Optimizer stripped from /content/drive/MyDrive/prometheus/models/yolov8_all_labeled2_resume3/weights/last.pt, 22.6MB\n",
            "Optimizer stripped from /content/drive/MyDrive/prometheus/models/yolov8_all_labeled2_resume3/weights/best.pt, 22.6MB\n",
            "\n",
            "Validating /content/drive/MyDrive/prometheus/models/yolov8_all_labeled2_resume3/weights/best.pt...\n",
            "Ultralytics 8.3.161 🚀 Python-3.11.13 torch-2.6.0+cu124 CUDA:0 (Tesla T4, 15095MiB)\n",
            "Model summary (fused): 72 layers, 11,163,510 parameters, 0 gradients, 28.6 GFLOPs\n"
          ]
        },
        {
          "output_type": "stream",
          "name": "stderr",
          "text": [
            "                 Class     Images  Instances      Box(P          R      mAP50  mAP50-95): 100%|██████████| 289/289 [01:38<00:00,  2.93it/s]\n"
          ]
        },
        {
          "output_type": "stream",
          "name": "stdout",
          "text": [
            "                   all       9232       9432      0.995      0.994      0.994      0.919\n",
            "                   전복죽        103        107          1      0.995      0.995      0.907\n",
            "               도토리묵 무침        101        102      0.999       0.99      0.995       0.91\n",
            "                  콩나물국        101        101       0.99      0.983      0.995      0.904\n",
            "                 소곱창전골        105        105      0.998          1      0.995      0.906\n",
            "                   짜장면         99         99      0.998          1      0.995      0.916\n",
            "                  수육 쌈        103        105      0.999      0.981      0.995      0.892\n",
            "                  갈치조림        102        110      0.991       0.99      0.995      0.915\n",
            "                 고등어조림        173        177      0.999      0.994      0.995      0.913\n",
            "                  꽁치조림         92         93          1      0.994      0.995      0.895\n",
            "                  두부조림        102        103       0.99       0.99      0.995      0.918\n",
            "                   김치찜         26         29      0.966      0.993      0.994       0.92\n",
            "                  감자조림        107        108      0.998          1      0.995      0.908\n",
            "                   갈비찜         99         99      0.998          1      0.995       0.93\n",
            "                  메밀국수        104        108      0.997      0.991      0.995      0.922\n",
            "                  배추김치         94         96      0.988          1      0.995      0.914\n",
            "                    쫄면        105        107          1      0.996      0.995      0.924\n",
            "                    냉면         91         92      0.989      0.977      0.994      0.918\n",
            "                    만두        106        111      0.992          1      0.995      0.923\n",
            "                   계란국        104        106      0.998          1      0.995      0.898\n",
            "                  잔치국수        104        105      0.998          1      0.995      0.914\n",
            "                   생선전        100        101      0.998       0.98      0.995      0.898\n",
            "                    치킨         97         98      0.997       0.99       0.99      0.917\n",
            "                 계란후라이        100        110      0.994          1      0.995      0.893\n",
            "                  고추튀김        103        104      0.992      0.981      0.995      0.873\n",
            "                  새우튀김        105        109      0.991      0.985      0.995      0.908\n",
            "                 오징어튀김        105        108      0.998          1      0.995      0.875\n",
            "                   삼계탕        104        105       0.99       0.99      0.995      0.915\n",
            "                   수제비         99        101      0.997          1      0.995      0.895\n",
            "                    약과        100        102      0.997          1      0.995      0.915\n",
            "                    약밥        100        156      0.999      0.987      0.995      0.851\n",
            "                   육개장        102        107          1      0.987      0.995      0.886\n",
            "                  김치찌개         99        100       0.99       0.98      0.989      0.908\n",
            "                   김치전        100        101      0.989          1      0.995      0.921\n",
            "                   칼국수        100        102          1      0.994      0.995      0.891\n",
            "                  동그랑땡        101        102          1      0.988      0.995      0.903\n",
            "                  닭볶음탕        100        100      0.998          1      0.995      0.925\n",
            "                   반달떡        102        108      0.998          1      0.995      0.918\n",
            "                  계란말이         99        103      0.998          1      0.995      0.923\n",
            "                    약밥         92         95          1          1      0.995      0.912\n",
            "                    한과        102        117      0.997          1      0.995      0.935\n",
            "                   추어탕         92         93          1      0.993      0.995      0.899\n",
            "                  비빔냉면         99        108       0.98      0.926      0.992      0.898\n",
            "                   설렁탕         97         97      0.999          1      0.995      0.926\n",
            "                 깻잎장아찌         92         94      0.998          1      0.995      0.933\n",
            "                    족발         94         95          1      0.943      0.985       0.88\n",
            "                  동태찌개        100        102      0.997          1      0.995      0.945\n",
            "                   감자탕         88         88      0.991          1      0.995      0.932\n",
            "                   감자전         93         93      0.993          1      0.995       0.93\n",
            "                   호박전         81         81      0.985          1      0.995      0.935\n",
            "                   호박죽        101        103      0.998          1      0.995       0.91\n",
            "                  떡만두국         91         92      0.982      0.989      0.995      0.921\n",
            "                   떡꼬치        101        105      0.999          1      0.995      0.944\n",
            "                    파전         71         72      0.995          1      0.995      0.936\n",
            "                 콩나물무침         74         75      0.974          1      0.995      0.927\n",
            "                   닭무침         93         93      0.989      0.991      0.995      0.907\n",
            "                  꼬막무침        101        101      0.998          1      0.995      0.951\n",
            "                 고사리나물         73         74      0.992      0.986      0.988      0.932\n",
            "                  숙주나물         83         83      0.996          1      0.995      0.921\n",
            "                   갈비탕         95         95      0.993          1      0.995      0.931\n",
            "                   무생채         84         84      0.995          1      0.995      0.922\n",
            "                    편육         95         95      0.997          1      0.995      0.912\n",
            "                   깍두기         92         92          1      0.996      0.995      0.947\n",
            "                 순두부찌개         79         79      0.998          1      0.995      0.933\n",
            "                  간장게장         93         93      0.998          1      0.995      0.928\n",
            "                   콩자반        101        102      0.998          1      0.995      0.927\n",
            "                   콩국수         96         96      0.994      0.979      0.995      0.928\n",
            "                   된장국         84         84      0.998          1      0.995      0.922\n",
            "                  된장찌개         87         87      0.975          1      0.983      0.908\n",
            "                  닭도리탕         81         81          1      0.992      0.995       0.93\n",
            "                   해물찜         96         97       0.98          1      0.987      0.927\n",
            "                  양념게장        101        101      0.998          1      0.995       0.93\n",
            "                   닭개장         91         91      0.989      0.969      0.994      0.911\n",
            "                  홍어무침        100        102      0.996       0.99      0.995      0.932\n",
            "                   매운탕         86         86      0.997          1      0.995      0.951\n",
            "                   회무침        101        101      0.994          1      0.995       0.91\n",
            "                   떡볶이         84         84          1      0.967      0.995      0.937\n",
            "                    짬뽕         97         97      0.998          1      0.995       0.94\n",
            "                  제육볶음         74         74      0.986          1      0.995      0.912\n",
            "                   계란찜         86         86      0.993          1      0.995      0.946\n",
            "                  멸치볶음         86         87      0.998          1      0.995      0.926\n",
            "                  가지볶음         91         91      0.997          1      0.995      0.925\n",
            "                  어묵볶음         92         92      0.998          1      0.995      0.946\n",
            "                    잡채         90         93      0.997          1      0.995      0.928\n",
            "                 소시지볶음         89         89      0.996          1      0.995      0.932\n",
            "                미역줄기볶음         70         70      0.997          1      0.995      0.913\n",
            "                오징어채볶음         78         78          1      0.959      0.994      0.915\n",
            "                 진미채볶음         99        100      0.989       0.98      0.994        0.9\n",
            "                 애호박볶음         73         73      0.996          1      0.995      0.939\n",
            "                꽈리고추볶음         82         88       0.99      0.989      0.995      0.925\n",
            "                 감자채볶음         86         86      0.997          1      0.995       0.93\n",
            "                 건새우볶음         80         87      0.998          1      0.995      0.918\n",
            "                    순대         91         94      0.985          1      0.995      0.934\n",
            "                    경단         84         90      0.997          1      0.995      0.943\n",
            "                    식혜         80         84      0.975          1      0.995      0.931\n",
            "                  두부김치        101        101      0.999          1      0.995      0.956\n",
            "                   백김치         94         96      0.999       0.99      0.991      0.932\n",
            "                  열무김치         89         90      0.999          1      0.995      0.922\n",
            "                  열무국수         88         95      0.998      0.989      0.995      0.914\n",
            "Speed: 0.2ms preprocess, 3.2ms inference, 0.0ms loss, 2.0ms postprocess per image\n",
            "Results saved to \u001b[1m/content/drive/MyDrive/prometheus/models/yolov8_all_labeled2_resume3\u001b[0m\n"
          ]
        },
        {
          "output_type": "execute_result",
          "data": {
            "text/plain": [
              "ultralytics.utils.metrics.DetMetrics object with attributes:\n",
              "\n",
              "ap_class_index: array([ 0,  1,  2,  3,  4,  5,  6,  7,  8,  9, 10, 11, 12, 13, 14, 15, 16, 17, 18, 19, 20, 21, 22, 23, 24, 25, 26, 27, 28, 29, 30, 31, 32, 33, 34, 35, 36, 37, 38, 39, 40, 41, 42, 43, 44, 45, 46, 47, 48, 49, 50, 51, 52, 53, 54, 55, 56, 57, 58, 59, 60, 61, 62, 63, 64, 65, 66, 67, 68, 69, 70, 71, 72, 73, 74, 75, 76, 77,\n",
              "       78, 79, 80, 81, 82, 83, 84, 85, 86, 87, 88, 89, 90, 91, 92, 93, 94, 95, 96, 97])\n",
              "box: ultralytics.utils.metrics.Metric object\n",
              "confusion_matrix: <ultralytics.utils.metrics.ConfusionMatrix object at 0x7fc4860b5d10>\n",
              "curves: ['Precision-Recall(B)', 'F1-Confidence(B)', 'Precision-Confidence(B)', 'Recall-Confidence(B)']\n",
              "curves_results: [[array([          0,    0.001001,    0.002002,    0.003003,    0.004004,    0.005005,    0.006006,    0.007007,    0.008008,    0.009009,     0.01001,    0.011011,    0.012012,    0.013013,    0.014014,    0.015015,    0.016016,    0.017017,    0.018018,    0.019019,     0.02002,    0.021021,    0.022022,    0.023023,\n",
              "          0.024024,    0.025025,    0.026026,    0.027027,    0.028028,    0.029029,     0.03003,    0.031031,    0.032032,    0.033033,    0.034034,    0.035035,    0.036036,    0.037037,    0.038038,    0.039039,     0.04004,    0.041041,    0.042042,    0.043043,    0.044044,    0.045045,    0.046046,    0.047047,\n",
              "          0.048048,    0.049049,     0.05005,    0.051051,    0.052052,    0.053053,    0.054054,    0.055055,    0.056056,    0.057057,    0.058058,    0.059059,     0.06006,    0.061061,    0.062062,    0.063063,    0.064064,    0.065065,    0.066066,    0.067067,    0.068068,    0.069069,     0.07007,    0.071071,\n",
              "          0.072072,    0.073073,    0.074074,    0.075075,    0.076076,    0.077077,    0.078078,    0.079079,     0.08008,    0.081081,    0.082082,    0.083083,    0.084084,    0.085085,    0.086086,    0.087087,    0.088088,    0.089089,     0.09009,    0.091091,    0.092092,    0.093093,    0.094094,    0.095095,\n",
              "          0.096096,    0.097097,    0.098098,    0.099099,      0.1001,      0.1011,      0.1021,      0.1031,      0.1041,     0.10511,     0.10611,     0.10711,     0.10811,     0.10911,     0.11011,     0.11111,     0.11211,     0.11311,     0.11411,     0.11512,     0.11612,     0.11712,     0.11812,     0.11912,\n",
              "           0.12012,     0.12112,     0.12212,     0.12312,     0.12412,     0.12513,     0.12613,     0.12713,     0.12813,     0.12913,     0.13013,     0.13113,     0.13213,     0.13313,     0.13413,     0.13514,     0.13614,     0.13714,     0.13814,     0.13914,     0.14014,     0.14114,     0.14214,     0.14314,\n",
              "           0.14414,     0.14515,     0.14615,     0.14715,     0.14815,     0.14915,     0.15015,     0.15115,     0.15215,     0.15315,     0.15415,     0.15516,     0.15616,     0.15716,     0.15816,     0.15916,     0.16016,     0.16116,     0.16216,     0.16316,     0.16416,     0.16517,     0.16617,     0.16717,\n",
              "           0.16817,     0.16917,     0.17017,     0.17117,     0.17217,     0.17317,     0.17417,     0.17518,     0.17618,     0.17718,     0.17818,     0.17918,     0.18018,     0.18118,     0.18218,     0.18318,     0.18418,     0.18519,     0.18619,     0.18719,     0.18819,     0.18919,     0.19019,     0.19119,\n",
              "           0.19219,     0.19319,     0.19419,      0.1952,      0.1962,      0.1972,      0.1982,      0.1992,      0.2002,      0.2012,      0.2022,      0.2032,      0.2042,     0.20521,     0.20621,     0.20721,     0.20821,     0.20921,     0.21021,     0.21121,     0.21221,     0.21321,     0.21421,     0.21522,\n",
              "           0.21622,     0.21722,     0.21822,     0.21922,     0.22022,     0.22122,     0.22222,     0.22322,     0.22422,     0.22523,     0.22623,     0.22723,     0.22823,     0.22923,     0.23023,     0.23123,     0.23223,     0.23323,     0.23423,     0.23524,     0.23624,     0.23724,     0.23824,     0.23924,\n",
              "           0.24024,     0.24124,     0.24224,     0.24324,     0.24424,     0.24525,     0.24625,     0.24725,     0.24825,     0.24925,     0.25025,     0.25125,     0.25225,     0.25325,     0.25425,     0.25526,     0.25626,     0.25726,     0.25826,     0.25926,     0.26026,     0.26126,     0.26226,     0.26326,\n",
              "           0.26426,     0.26527,     0.26627,     0.26727,     0.26827,     0.26927,     0.27027,     0.27127,     0.27227,     0.27327,     0.27427,     0.27528,     0.27628,     0.27728,     0.27828,     0.27928,     0.28028,     0.28128,     0.28228,     0.28328,     0.28428,     0.28529,     0.28629,     0.28729,\n",
              "           0.28829,     0.28929,     0.29029,     0.29129,     0.29229,     0.29329,     0.29429,      0.2953,      0.2963,      0.2973,      0.2983,      0.2993,      0.3003,      0.3013,      0.3023,      0.3033,      0.3043,     0.30531,     0.30631,     0.30731,     0.30831,     0.30931,     0.31031,     0.31131,\n",
              "           0.31231,     0.31331,     0.31431,     0.31532,     0.31632,     0.31732,     0.31832,     0.31932,     0.32032,     0.32132,     0.32232,     0.32332,     0.32432,     0.32533,     0.32633,     0.32733,     0.32833,     0.32933,     0.33033,     0.33133,     0.33233,     0.33333,     0.33433,     0.33534,\n",
              "           0.33634,     0.33734,     0.33834,     0.33934,     0.34034,     0.34134,     0.34234,     0.34334,     0.34434,     0.34535,     0.34635,     0.34735,     0.34835,     0.34935,     0.35035,     0.35135,     0.35235,     0.35335,     0.35435,     0.35536,     0.35636,     0.35736,     0.35836,     0.35936,\n",
              "           0.36036,     0.36136,     0.36236,     0.36336,     0.36436,     0.36537,     0.36637,     0.36737,     0.36837,     0.36937,     0.37037,     0.37137,     0.37237,     0.37337,     0.37437,     0.37538,     0.37638,     0.37738,     0.37838,     0.37938,     0.38038,     0.38138,     0.38238,     0.38338,\n",
              "           0.38438,     0.38539,     0.38639,     0.38739,     0.38839,     0.38939,     0.39039,     0.39139,     0.39239,     0.39339,     0.39439,      0.3954,      0.3964,      0.3974,      0.3984,      0.3994,      0.4004,      0.4014,      0.4024,      0.4034,      0.4044,     0.40541,     0.40641,     0.40741,\n",
              "           0.40841,     0.40941,     0.41041,     0.41141,     0.41241,     0.41341,     0.41441,     0.41542,     0.41642,     0.41742,     0.41842,     0.41942,     0.42042,     0.42142,     0.42242,     0.42342,     0.42442,     0.42543,     0.42643,     0.42743,     0.42843,     0.42943,     0.43043,     0.43143,\n",
              "           0.43243,     0.43343,     0.43443,     0.43544,     0.43644,     0.43744,     0.43844,     0.43944,     0.44044,     0.44144,     0.44244,     0.44344,     0.44444,     0.44545,     0.44645,     0.44745,     0.44845,     0.44945,     0.45045,     0.45145,     0.45245,     0.45345,     0.45445,     0.45546,\n",
              "           0.45646,     0.45746,     0.45846,     0.45946,     0.46046,     0.46146,     0.46246,     0.46346,     0.46446,     0.46547,     0.46647,     0.46747,     0.46847,     0.46947,     0.47047,     0.47147,     0.47247,     0.47347,     0.47447,     0.47548,     0.47648,     0.47748,     0.47848,     0.47948,\n",
              "           0.48048,     0.48148,     0.48248,     0.48348,     0.48448,     0.48549,     0.48649,     0.48749,     0.48849,     0.48949,     0.49049,     0.49149,     0.49249,     0.49349,     0.49449,      0.4955,      0.4965,      0.4975,      0.4985,      0.4995,      0.5005,      0.5015,      0.5025,      0.5035,\n",
              "            0.5045,     0.50551,     0.50651,     0.50751,     0.50851,     0.50951,     0.51051,     0.51151,     0.51251,     0.51351,     0.51451,     0.51552,     0.51652,     0.51752,     0.51852,     0.51952,     0.52052,     0.52152,     0.52252,     0.52352,     0.52452,     0.52553,     0.52653,     0.52753,\n",
              "           0.52853,     0.52953,     0.53053,     0.53153,     0.53253,     0.53353,     0.53453,     0.53554,     0.53654,     0.53754,     0.53854,     0.53954,     0.54054,     0.54154,     0.54254,     0.54354,     0.54454,     0.54555,     0.54655,     0.54755,     0.54855,     0.54955,     0.55055,     0.55155,\n",
              "           0.55255,     0.55355,     0.55455,     0.55556,     0.55656,     0.55756,     0.55856,     0.55956,     0.56056,     0.56156,     0.56256,     0.56356,     0.56456,     0.56557,     0.56657,     0.56757,     0.56857,     0.56957,     0.57057,     0.57157,     0.57257,     0.57357,     0.57457,     0.57558,\n",
              "           0.57658,     0.57758,     0.57858,     0.57958,     0.58058,     0.58158,     0.58258,     0.58358,     0.58458,     0.58559,     0.58659,     0.58759,     0.58859,     0.58959,     0.59059,     0.59159,     0.59259,     0.59359,     0.59459,      0.5956,      0.5966,      0.5976,      0.5986,      0.5996,\n",
              "            0.6006,      0.6016,      0.6026,      0.6036,      0.6046,     0.60561,     0.60661,     0.60761,     0.60861,     0.60961,     0.61061,     0.61161,     0.61261,     0.61361,     0.61461,     0.61562,     0.61662,     0.61762,     0.61862,     0.61962,     0.62062,     0.62162,     0.62262,     0.62362,\n",
              "           0.62462,     0.62563,     0.62663,     0.62763,     0.62863,     0.62963,     0.63063,     0.63163,     0.63263,     0.63363,     0.63463,     0.63564,     0.63664,     0.63764,     0.63864,     0.63964,     0.64064,     0.64164,     0.64264,     0.64364,     0.64464,     0.64565,     0.64665,     0.64765,\n",
              "           0.64865,     0.64965,     0.65065,     0.65165,     0.65265,     0.65365,     0.65465,     0.65566,     0.65666,     0.65766,     0.65866,     0.65966,     0.66066,     0.66166,     0.66266,     0.66366,     0.66466,     0.66567,     0.66667,     0.66767,     0.66867,     0.66967,     0.67067,     0.67167,\n",
              "           0.67267,     0.67367,     0.67467,     0.67568,     0.67668,     0.67768,     0.67868,     0.67968,     0.68068,     0.68168,     0.68268,     0.68368,     0.68468,     0.68569,     0.68669,     0.68769,     0.68869,     0.68969,     0.69069,     0.69169,     0.69269,     0.69369,     0.69469,      0.6957,\n",
              "            0.6967,      0.6977,      0.6987,      0.6997,      0.7007,      0.7017,      0.7027,      0.7037,      0.7047,     0.70571,     0.70671,     0.70771,     0.70871,     0.70971,     0.71071,     0.71171,     0.71271,     0.71371,     0.71471,     0.71572,     0.71672,     0.71772,     0.71872,     0.71972,\n",
              "           0.72072,     0.72172,     0.72272,     0.72372,     0.72472,     0.72573,     0.72673,     0.72773,     0.72873,     0.72973,     0.73073,     0.73173,     0.73273,     0.73373,     0.73473,     0.73574,     0.73674,     0.73774,     0.73874,     0.73974,     0.74074,     0.74174,     0.74274,     0.74374,\n",
              "           0.74474,     0.74575,     0.74675,     0.74775,     0.74875,     0.74975,     0.75075,     0.75175,     0.75275,     0.75375,     0.75475,     0.75576,     0.75676,     0.75776,     0.75876,     0.75976,     0.76076,     0.76176,     0.76276,     0.76376,     0.76476,     0.76577,     0.76677,     0.76777,\n",
              "           0.76877,     0.76977,     0.77077,     0.77177,     0.77277,     0.77377,     0.77477,     0.77578,     0.77678,     0.77778,     0.77878,     0.77978,     0.78078,     0.78178,     0.78278,     0.78378,     0.78478,     0.78579,     0.78679,     0.78779,     0.78879,     0.78979,     0.79079,     0.79179,\n",
              "           0.79279,     0.79379,     0.79479,      0.7958,      0.7968,      0.7978,      0.7988,      0.7998,      0.8008,      0.8018,      0.8028,      0.8038,      0.8048,     0.80581,     0.80681,     0.80781,     0.80881,     0.80981,     0.81081,     0.81181,     0.81281,     0.81381,     0.81481,     0.81582,\n",
              "           0.81682,     0.81782,     0.81882,     0.81982,     0.82082,     0.82182,     0.82282,     0.82382,     0.82482,     0.82583,     0.82683,     0.82783,     0.82883,     0.82983,     0.83083,     0.83183,     0.83283,     0.83383,     0.83483,     0.83584,     0.83684,     0.83784,     0.83884,     0.83984,\n",
              "           0.84084,     0.84184,     0.84284,     0.84384,     0.84484,     0.84585,     0.84685,     0.84785,     0.84885,     0.84985,     0.85085,     0.85185,     0.85285,     0.85385,     0.85485,     0.85586,     0.85686,     0.85786,     0.85886,     0.85986,     0.86086,     0.86186,     0.86286,     0.86386,\n",
              "           0.86486,     0.86587,     0.86687,     0.86787,     0.86887,     0.86987,     0.87087,     0.87187,     0.87287,     0.87387,     0.87487,     0.87588,     0.87688,     0.87788,     0.87888,     0.87988,     0.88088,     0.88188,     0.88288,     0.88388,     0.88488,     0.88589,     0.88689,     0.88789,\n",
              "           0.88889,     0.88989,     0.89089,     0.89189,     0.89289,     0.89389,     0.89489,      0.8959,      0.8969,      0.8979,      0.8989,      0.8999,      0.9009,      0.9019,      0.9029,      0.9039,      0.9049,     0.90591,     0.90691,     0.90791,     0.90891,     0.90991,     0.91091,     0.91191,\n",
              "           0.91291,     0.91391,     0.91491,     0.91592,     0.91692,     0.91792,     0.91892,     0.91992,     0.92092,     0.92192,     0.92292,     0.92392,     0.92492,     0.92593,     0.92693,     0.92793,     0.92893,     0.92993,     0.93093,     0.93193,     0.93293,     0.93393,     0.93493,     0.93594,\n",
              "           0.93694,     0.93794,     0.93894,     0.93994,     0.94094,     0.94194,     0.94294,     0.94394,     0.94494,     0.94595,     0.94695,     0.94795,     0.94895,     0.94995,     0.95095,     0.95195,     0.95295,     0.95395,     0.95495,     0.95596,     0.95696,     0.95796,     0.95896,     0.95996,\n",
              "           0.96096,     0.96196,     0.96296,     0.96396,     0.96496,     0.96597,     0.96697,     0.96797,     0.96897,     0.96997,     0.97097,     0.97197,     0.97297,     0.97397,     0.97497,     0.97598,     0.97698,     0.97798,     0.97898,     0.97998,     0.98098,     0.98198,     0.98298,     0.98398,\n",
              "           0.98498,     0.98599,     0.98699,     0.98799,     0.98899,     0.98999,     0.99099,     0.99199,     0.99299,     0.99399,     0.99499,       0.996,       0.997,       0.998,       0.999,           1]), array([[          1,           1,           1, ...,           1,           1,           0],\n",
              "       [          1,           1,           1, ...,      0.1011,    0.050551,           0],\n",
              "       [          1,           1,           1, ...,     0.98058,     0.98058,           0],\n",
              "       ...,\n",
              "       [          1,           1,           1, ...,     0.11483,    0.057416,           0],\n",
              "       [          1,           1,           1, ...,           1,           1,           0],\n",
              "       [          1,           1,           1, ...,     0.97938,     0.97938,           0]]), 'Recall', 'Precision'], [array([          0,    0.001001,    0.002002,    0.003003,    0.004004,    0.005005,    0.006006,    0.007007,    0.008008,    0.009009,     0.01001,    0.011011,    0.012012,    0.013013,    0.014014,    0.015015,    0.016016,    0.017017,    0.018018,    0.019019,     0.02002,    0.021021,    0.022022,    0.023023,\n",
              "          0.024024,    0.025025,    0.026026,    0.027027,    0.028028,    0.029029,     0.03003,    0.031031,    0.032032,    0.033033,    0.034034,    0.035035,    0.036036,    0.037037,    0.038038,    0.039039,     0.04004,    0.041041,    0.042042,    0.043043,    0.044044,    0.045045,    0.046046,    0.047047,\n",
              "          0.048048,    0.049049,     0.05005,    0.051051,    0.052052,    0.053053,    0.054054,    0.055055,    0.056056,    0.057057,    0.058058,    0.059059,     0.06006,    0.061061,    0.062062,    0.063063,    0.064064,    0.065065,    0.066066,    0.067067,    0.068068,    0.069069,     0.07007,    0.071071,\n",
              "          0.072072,    0.073073,    0.074074,    0.075075,    0.076076,    0.077077,    0.078078,    0.079079,     0.08008,    0.081081,    0.082082,    0.083083,    0.084084,    0.085085,    0.086086,    0.087087,    0.088088,    0.089089,     0.09009,    0.091091,    0.092092,    0.093093,    0.094094,    0.095095,\n",
              "          0.096096,    0.097097,    0.098098,    0.099099,      0.1001,      0.1011,      0.1021,      0.1031,      0.1041,     0.10511,     0.10611,     0.10711,     0.10811,     0.10911,     0.11011,     0.11111,     0.11211,     0.11311,     0.11411,     0.11512,     0.11612,     0.11712,     0.11812,     0.11912,\n",
              "           0.12012,     0.12112,     0.12212,     0.12312,     0.12412,     0.12513,     0.12613,     0.12713,     0.12813,     0.12913,     0.13013,     0.13113,     0.13213,     0.13313,     0.13413,     0.13514,     0.13614,     0.13714,     0.13814,     0.13914,     0.14014,     0.14114,     0.14214,     0.14314,\n",
              "           0.14414,     0.14515,     0.14615,     0.14715,     0.14815,     0.14915,     0.15015,     0.15115,     0.15215,     0.15315,     0.15415,     0.15516,     0.15616,     0.15716,     0.15816,     0.15916,     0.16016,     0.16116,     0.16216,     0.16316,     0.16416,     0.16517,     0.16617,     0.16717,\n",
              "           0.16817,     0.16917,     0.17017,     0.17117,     0.17217,     0.17317,     0.17417,     0.17518,     0.17618,     0.17718,     0.17818,     0.17918,     0.18018,     0.18118,     0.18218,     0.18318,     0.18418,     0.18519,     0.18619,     0.18719,     0.18819,     0.18919,     0.19019,     0.19119,\n",
              "           0.19219,     0.19319,     0.19419,      0.1952,      0.1962,      0.1972,      0.1982,      0.1992,      0.2002,      0.2012,      0.2022,      0.2032,      0.2042,     0.20521,     0.20621,     0.20721,     0.20821,     0.20921,     0.21021,     0.21121,     0.21221,     0.21321,     0.21421,     0.21522,\n",
              "           0.21622,     0.21722,     0.21822,     0.21922,     0.22022,     0.22122,     0.22222,     0.22322,     0.22422,     0.22523,     0.22623,     0.22723,     0.22823,     0.22923,     0.23023,     0.23123,     0.23223,     0.23323,     0.23423,     0.23524,     0.23624,     0.23724,     0.23824,     0.23924,\n",
              "           0.24024,     0.24124,     0.24224,     0.24324,     0.24424,     0.24525,     0.24625,     0.24725,     0.24825,     0.24925,     0.25025,     0.25125,     0.25225,     0.25325,     0.25425,     0.25526,     0.25626,     0.25726,     0.25826,     0.25926,     0.26026,     0.26126,     0.26226,     0.26326,\n",
              "           0.26426,     0.26527,     0.26627,     0.26727,     0.26827,     0.26927,     0.27027,     0.27127,     0.27227,     0.27327,     0.27427,     0.27528,     0.27628,     0.27728,     0.27828,     0.27928,     0.28028,     0.28128,     0.28228,     0.28328,     0.28428,     0.28529,     0.28629,     0.28729,\n",
              "           0.28829,     0.28929,     0.29029,     0.29129,     0.29229,     0.29329,     0.29429,      0.2953,      0.2963,      0.2973,      0.2983,      0.2993,      0.3003,      0.3013,      0.3023,      0.3033,      0.3043,     0.30531,     0.30631,     0.30731,     0.30831,     0.30931,     0.31031,     0.31131,\n",
              "           0.31231,     0.31331,     0.31431,     0.31532,     0.31632,     0.31732,     0.31832,     0.31932,     0.32032,     0.32132,     0.32232,     0.32332,     0.32432,     0.32533,     0.32633,     0.32733,     0.32833,     0.32933,     0.33033,     0.33133,     0.33233,     0.33333,     0.33433,     0.33534,\n",
              "           0.33634,     0.33734,     0.33834,     0.33934,     0.34034,     0.34134,     0.34234,     0.34334,     0.34434,     0.34535,     0.34635,     0.34735,     0.34835,     0.34935,     0.35035,     0.35135,     0.35235,     0.35335,     0.35435,     0.35536,     0.35636,     0.35736,     0.35836,     0.35936,\n",
              "           0.36036,     0.36136,     0.36236,     0.36336,     0.36436,     0.36537,     0.36637,     0.36737,     0.36837,     0.36937,     0.37037,     0.37137,     0.37237,     0.37337,     0.37437,     0.37538,     0.37638,     0.37738,     0.37838,     0.37938,     0.38038,     0.38138,     0.38238,     0.38338,\n",
              "           0.38438,     0.38539,     0.38639,     0.38739,     0.38839,     0.38939,     0.39039,     0.39139,     0.39239,     0.39339,     0.39439,      0.3954,      0.3964,      0.3974,      0.3984,      0.3994,      0.4004,      0.4014,      0.4024,      0.4034,      0.4044,     0.40541,     0.40641,     0.40741,\n",
              "           0.40841,     0.40941,     0.41041,     0.41141,     0.41241,     0.41341,     0.41441,     0.41542,     0.41642,     0.41742,     0.41842,     0.41942,     0.42042,     0.42142,     0.42242,     0.42342,     0.42442,     0.42543,     0.42643,     0.42743,     0.42843,     0.42943,     0.43043,     0.43143,\n",
              "           0.43243,     0.43343,     0.43443,     0.43544,     0.43644,     0.43744,     0.43844,     0.43944,     0.44044,     0.44144,     0.44244,     0.44344,     0.44444,     0.44545,     0.44645,     0.44745,     0.44845,     0.44945,     0.45045,     0.45145,     0.45245,     0.45345,     0.45445,     0.45546,\n",
              "           0.45646,     0.45746,     0.45846,     0.45946,     0.46046,     0.46146,     0.46246,     0.46346,     0.46446,     0.46547,     0.46647,     0.46747,     0.46847,     0.46947,     0.47047,     0.47147,     0.47247,     0.47347,     0.47447,     0.47548,     0.47648,     0.47748,     0.47848,     0.47948,\n",
              "           0.48048,     0.48148,     0.48248,     0.48348,     0.48448,     0.48549,     0.48649,     0.48749,     0.48849,     0.48949,     0.49049,     0.49149,     0.49249,     0.49349,     0.49449,      0.4955,      0.4965,      0.4975,      0.4985,      0.4995,      0.5005,      0.5015,      0.5025,      0.5035,\n",
              "            0.5045,     0.50551,     0.50651,     0.50751,     0.50851,     0.50951,     0.51051,     0.51151,     0.51251,     0.51351,     0.51451,     0.51552,     0.51652,     0.51752,     0.51852,     0.51952,     0.52052,     0.52152,     0.52252,     0.52352,     0.52452,     0.52553,     0.52653,     0.52753,\n",
              "           0.52853,     0.52953,     0.53053,     0.53153,     0.53253,     0.53353,     0.53453,     0.53554,     0.53654,     0.53754,     0.53854,     0.53954,     0.54054,     0.54154,     0.54254,     0.54354,     0.54454,     0.54555,     0.54655,     0.54755,     0.54855,     0.54955,     0.55055,     0.55155,\n",
              "           0.55255,     0.55355,     0.55455,     0.55556,     0.55656,     0.55756,     0.55856,     0.55956,     0.56056,     0.56156,     0.56256,     0.56356,     0.56456,     0.56557,     0.56657,     0.56757,     0.56857,     0.56957,     0.57057,     0.57157,     0.57257,     0.57357,     0.57457,     0.57558,\n",
              "           0.57658,     0.57758,     0.57858,     0.57958,     0.58058,     0.58158,     0.58258,     0.58358,     0.58458,     0.58559,     0.58659,     0.58759,     0.58859,     0.58959,     0.59059,     0.59159,     0.59259,     0.59359,     0.59459,      0.5956,      0.5966,      0.5976,      0.5986,      0.5996,\n",
              "            0.6006,      0.6016,      0.6026,      0.6036,      0.6046,     0.60561,     0.60661,     0.60761,     0.60861,     0.60961,     0.61061,     0.61161,     0.61261,     0.61361,     0.61461,     0.61562,     0.61662,     0.61762,     0.61862,     0.61962,     0.62062,     0.62162,     0.62262,     0.62362,\n",
              "           0.62462,     0.62563,     0.62663,     0.62763,     0.62863,     0.62963,     0.63063,     0.63163,     0.63263,     0.63363,     0.63463,     0.63564,     0.63664,     0.63764,     0.63864,     0.63964,     0.64064,     0.64164,     0.64264,     0.64364,     0.64464,     0.64565,     0.64665,     0.64765,\n",
              "           0.64865,     0.64965,     0.65065,     0.65165,     0.65265,     0.65365,     0.65465,     0.65566,     0.65666,     0.65766,     0.65866,     0.65966,     0.66066,     0.66166,     0.66266,     0.66366,     0.66466,     0.66567,     0.66667,     0.66767,     0.66867,     0.66967,     0.67067,     0.67167,\n",
              "           0.67267,     0.67367,     0.67467,     0.67568,     0.67668,     0.67768,     0.67868,     0.67968,     0.68068,     0.68168,     0.68268,     0.68368,     0.68468,     0.68569,     0.68669,     0.68769,     0.68869,     0.68969,     0.69069,     0.69169,     0.69269,     0.69369,     0.69469,      0.6957,\n",
              "            0.6967,      0.6977,      0.6987,      0.6997,      0.7007,      0.7017,      0.7027,      0.7037,      0.7047,     0.70571,     0.70671,     0.70771,     0.70871,     0.70971,     0.71071,     0.71171,     0.71271,     0.71371,     0.71471,     0.71572,     0.71672,     0.71772,     0.71872,     0.71972,\n",
              "           0.72072,     0.72172,     0.72272,     0.72372,     0.72472,     0.72573,     0.72673,     0.72773,     0.72873,     0.72973,     0.73073,     0.73173,     0.73273,     0.73373,     0.73473,     0.73574,     0.73674,     0.73774,     0.73874,     0.73974,     0.74074,     0.74174,     0.74274,     0.74374,\n",
              "           0.74474,     0.74575,     0.74675,     0.74775,     0.74875,     0.74975,     0.75075,     0.75175,     0.75275,     0.75375,     0.75475,     0.75576,     0.75676,     0.75776,     0.75876,     0.75976,     0.76076,     0.76176,     0.76276,     0.76376,     0.76476,     0.76577,     0.76677,     0.76777,\n",
              "           0.76877,     0.76977,     0.77077,     0.77177,     0.77277,     0.77377,     0.77477,     0.77578,     0.77678,     0.77778,     0.77878,     0.77978,     0.78078,     0.78178,     0.78278,     0.78378,     0.78478,     0.78579,     0.78679,     0.78779,     0.78879,     0.78979,     0.79079,     0.79179,\n",
              "           0.79279,     0.79379,     0.79479,      0.7958,      0.7968,      0.7978,      0.7988,      0.7998,      0.8008,      0.8018,      0.8028,      0.8038,      0.8048,     0.80581,     0.80681,     0.80781,     0.80881,     0.80981,     0.81081,     0.81181,     0.81281,     0.81381,     0.81481,     0.81582,\n",
              "           0.81682,     0.81782,     0.81882,     0.81982,     0.82082,     0.82182,     0.82282,     0.82382,     0.82482,     0.82583,     0.82683,     0.82783,     0.82883,     0.82983,     0.83083,     0.83183,     0.83283,     0.83383,     0.83483,     0.83584,     0.83684,     0.83784,     0.83884,     0.83984,\n",
              "           0.84084,     0.84184,     0.84284,     0.84384,     0.84484,     0.84585,     0.84685,     0.84785,     0.84885,     0.84985,     0.85085,     0.85185,     0.85285,     0.85385,     0.85485,     0.85586,     0.85686,     0.85786,     0.85886,     0.85986,     0.86086,     0.86186,     0.86286,     0.86386,\n",
              "           0.86486,     0.86587,     0.86687,     0.86787,     0.86887,     0.86987,     0.87087,     0.87187,     0.87287,     0.87387,     0.87487,     0.87588,     0.87688,     0.87788,     0.87888,     0.87988,     0.88088,     0.88188,     0.88288,     0.88388,     0.88488,     0.88589,     0.88689,     0.88789,\n",
              "           0.88889,     0.88989,     0.89089,     0.89189,     0.89289,     0.89389,     0.89489,      0.8959,      0.8969,      0.8979,      0.8989,      0.8999,      0.9009,      0.9019,      0.9029,      0.9039,      0.9049,     0.90591,     0.90691,     0.90791,     0.90891,     0.90991,     0.91091,     0.91191,\n",
              "           0.91291,     0.91391,     0.91491,     0.91592,     0.91692,     0.91792,     0.91892,     0.91992,     0.92092,     0.92192,     0.92292,     0.92392,     0.92492,     0.92593,     0.92693,     0.92793,     0.92893,     0.92993,     0.93093,     0.93193,     0.93293,     0.93393,     0.93493,     0.93594,\n",
              "           0.93694,     0.93794,     0.93894,     0.93994,     0.94094,     0.94194,     0.94294,     0.94394,     0.94494,     0.94595,     0.94695,     0.94795,     0.94895,     0.94995,     0.95095,     0.95195,     0.95295,     0.95395,     0.95495,     0.95596,     0.95696,     0.95796,     0.95896,     0.95996,\n",
              "           0.96096,     0.96196,     0.96296,     0.96396,     0.96496,     0.96597,     0.96697,     0.96797,     0.96897,     0.96997,     0.97097,     0.97197,     0.97297,     0.97397,     0.97497,     0.97598,     0.97698,     0.97798,     0.97898,     0.97998,     0.98098,     0.98198,     0.98298,     0.98398,\n",
              "           0.98498,     0.98599,     0.98699,     0.98799,     0.98899,     0.98999,     0.99099,     0.99199,     0.99299,     0.99399,     0.99499,       0.996,       0.997,       0.998,       0.999,           1]), array([[    0.60623,     0.60623,     0.74081, ...,           0,           0,           0],\n",
              "       [    0.66013,     0.66013,     0.79858, ...,           0,           0,           0],\n",
              "       [    0.42437,     0.42437,     0.54479, ...,    0.020094,           0,           0],\n",
              "       ...,\n",
              "       [     0.7451,      0.7451,     0.83205, ...,           0,           0,           0],\n",
              "       [    0.57143,     0.57143,     0.69958, ...,           0,           0,           0],\n",
              "       [    0.43379,     0.43379,     0.57386, ...,           0,           0,           0]]), 'Confidence', 'F1'], [array([          0,    0.001001,    0.002002,    0.003003,    0.004004,    0.005005,    0.006006,    0.007007,    0.008008,    0.009009,     0.01001,    0.011011,    0.012012,    0.013013,    0.014014,    0.015015,    0.016016,    0.017017,    0.018018,    0.019019,     0.02002,    0.021021,    0.022022,    0.023023,\n",
              "          0.024024,    0.025025,    0.026026,    0.027027,    0.028028,    0.029029,     0.03003,    0.031031,    0.032032,    0.033033,    0.034034,    0.035035,    0.036036,    0.037037,    0.038038,    0.039039,     0.04004,    0.041041,    0.042042,    0.043043,    0.044044,    0.045045,    0.046046,    0.047047,\n",
              "          0.048048,    0.049049,     0.05005,    0.051051,    0.052052,    0.053053,    0.054054,    0.055055,    0.056056,    0.057057,    0.058058,    0.059059,     0.06006,    0.061061,    0.062062,    0.063063,    0.064064,    0.065065,    0.066066,    0.067067,    0.068068,    0.069069,     0.07007,    0.071071,\n",
              "          0.072072,    0.073073,    0.074074,    0.075075,    0.076076,    0.077077,    0.078078,    0.079079,     0.08008,    0.081081,    0.082082,    0.083083,    0.084084,    0.085085,    0.086086,    0.087087,    0.088088,    0.089089,     0.09009,    0.091091,    0.092092,    0.093093,    0.094094,    0.095095,\n",
              "          0.096096,    0.097097,    0.098098,    0.099099,      0.1001,      0.1011,      0.1021,      0.1031,      0.1041,     0.10511,     0.10611,     0.10711,     0.10811,     0.10911,     0.11011,     0.11111,     0.11211,     0.11311,     0.11411,     0.11512,     0.11612,     0.11712,     0.11812,     0.11912,\n",
              "           0.12012,     0.12112,     0.12212,     0.12312,     0.12412,     0.12513,     0.12613,     0.12713,     0.12813,     0.12913,     0.13013,     0.13113,     0.13213,     0.13313,     0.13413,     0.13514,     0.13614,     0.13714,     0.13814,     0.13914,     0.14014,     0.14114,     0.14214,     0.14314,\n",
              "           0.14414,     0.14515,     0.14615,     0.14715,     0.14815,     0.14915,     0.15015,     0.15115,     0.15215,     0.15315,     0.15415,     0.15516,     0.15616,     0.15716,     0.15816,     0.15916,     0.16016,     0.16116,     0.16216,     0.16316,     0.16416,     0.16517,     0.16617,     0.16717,\n",
              "           0.16817,     0.16917,     0.17017,     0.17117,     0.17217,     0.17317,     0.17417,     0.17518,     0.17618,     0.17718,     0.17818,     0.17918,     0.18018,     0.18118,     0.18218,     0.18318,     0.18418,     0.18519,     0.18619,     0.18719,     0.18819,     0.18919,     0.19019,     0.19119,\n",
              "           0.19219,     0.19319,     0.19419,      0.1952,      0.1962,      0.1972,      0.1982,      0.1992,      0.2002,      0.2012,      0.2022,      0.2032,      0.2042,     0.20521,     0.20621,     0.20721,     0.20821,     0.20921,     0.21021,     0.21121,     0.21221,     0.21321,     0.21421,     0.21522,\n",
              "           0.21622,     0.21722,     0.21822,     0.21922,     0.22022,     0.22122,     0.22222,     0.22322,     0.22422,     0.22523,     0.22623,     0.22723,     0.22823,     0.22923,     0.23023,     0.23123,     0.23223,     0.23323,     0.23423,     0.23524,     0.23624,     0.23724,     0.23824,     0.23924,\n",
              "           0.24024,     0.24124,     0.24224,     0.24324,     0.24424,     0.24525,     0.24625,     0.24725,     0.24825,     0.24925,     0.25025,     0.25125,     0.25225,     0.25325,     0.25425,     0.25526,     0.25626,     0.25726,     0.25826,     0.25926,     0.26026,     0.26126,     0.26226,     0.26326,\n",
              "           0.26426,     0.26527,     0.26627,     0.26727,     0.26827,     0.26927,     0.27027,     0.27127,     0.27227,     0.27327,     0.27427,     0.27528,     0.27628,     0.27728,     0.27828,     0.27928,     0.28028,     0.28128,     0.28228,     0.28328,     0.28428,     0.28529,     0.28629,     0.28729,\n",
              "           0.28829,     0.28929,     0.29029,     0.29129,     0.29229,     0.29329,     0.29429,      0.2953,      0.2963,      0.2973,      0.2983,      0.2993,      0.3003,      0.3013,      0.3023,      0.3033,      0.3043,     0.30531,     0.30631,     0.30731,     0.30831,     0.30931,     0.31031,     0.31131,\n",
              "           0.31231,     0.31331,     0.31431,     0.31532,     0.31632,     0.31732,     0.31832,     0.31932,     0.32032,     0.32132,     0.32232,     0.32332,     0.32432,     0.32533,     0.32633,     0.32733,     0.32833,     0.32933,     0.33033,     0.33133,     0.33233,     0.33333,     0.33433,     0.33534,\n",
              "           0.33634,     0.33734,     0.33834,     0.33934,     0.34034,     0.34134,     0.34234,     0.34334,     0.34434,     0.34535,     0.34635,     0.34735,     0.34835,     0.34935,     0.35035,     0.35135,     0.35235,     0.35335,     0.35435,     0.35536,     0.35636,     0.35736,     0.35836,     0.35936,\n",
              "           0.36036,     0.36136,     0.36236,     0.36336,     0.36436,     0.36537,     0.36637,     0.36737,     0.36837,     0.36937,     0.37037,     0.37137,     0.37237,     0.37337,     0.37437,     0.37538,     0.37638,     0.37738,     0.37838,     0.37938,     0.38038,     0.38138,     0.38238,     0.38338,\n",
              "           0.38438,     0.38539,     0.38639,     0.38739,     0.38839,     0.38939,     0.39039,     0.39139,     0.39239,     0.39339,     0.39439,      0.3954,      0.3964,      0.3974,      0.3984,      0.3994,      0.4004,      0.4014,      0.4024,      0.4034,      0.4044,     0.40541,     0.40641,     0.40741,\n",
              "           0.40841,     0.40941,     0.41041,     0.41141,     0.41241,     0.41341,     0.41441,     0.41542,     0.41642,     0.41742,     0.41842,     0.41942,     0.42042,     0.42142,     0.42242,     0.42342,     0.42442,     0.42543,     0.42643,     0.42743,     0.42843,     0.42943,     0.43043,     0.43143,\n",
              "           0.43243,     0.43343,     0.43443,     0.43544,     0.43644,     0.43744,     0.43844,     0.43944,     0.44044,     0.44144,     0.44244,     0.44344,     0.44444,     0.44545,     0.44645,     0.44745,     0.44845,     0.44945,     0.45045,     0.45145,     0.45245,     0.45345,     0.45445,     0.45546,\n",
              "           0.45646,     0.45746,     0.45846,     0.45946,     0.46046,     0.46146,     0.46246,     0.46346,     0.46446,     0.46547,     0.46647,     0.46747,     0.46847,     0.46947,     0.47047,     0.47147,     0.47247,     0.47347,     0.47447,     0.47548,     0.47648,     0.47748,     0.47848,     0.47948,\n",
              "           0.48048,     0.48148,     0.48248,     0.48348,     0.48448,     0.48549,     0.48649,     0.48749,     0.48849,     0.48949,     0.49049,     0.49149,     0.49249,     0.49349,     0.49449,      0.4955,      0.4965,      0.4975,      0.4985,      0.4995,      0.5005,      0.5015,      0.5025,      0.5035,\n",
              "            0.5045,     0.50551,     0.50651,     0.50751,     0.50851,     0.50951,     0.51051,     0.51151,     0.51251,     0.51351,     0.51451,     0.51552,     0.51652,     0.51752,     0.51852,     0.51952,     0.52052,     0.52152,     0.52252,     0.52352,     0.52452,     0.52553,     0.52653,     0.52753,\n",
              "           0.52853,     0.52953,     0.53053,     0.53153,     0.53253,     0.53353,     0.53453,     0.53554,     0.53654,     0.53754,     0.53854,     0.53954,     0.54054,     0.54154,     0.54254,     0.54354,     0.54454,     0.54555,     0.54655,     0.54755,     0.54855,     0.54955,     0.55055,     0.55155,\n",
              "           0.55255,     0.55355,     0.55455,     0.55556,     0.55656,     0.55756,     0.55856,     0.55956,     0.56056,     0.56156,     0.56256,     0.56356,     0.56456,     0.56557,     0.56657,     0.56757,     0.56857,     0.56957,     0.57057,     0.57157,     0.57257,     0.57357,     0.57457,     0.57558,\n",
              "           0.57658,     0.57758,     0.57858,     0.57958,     0.58058,     0.58158,     0.58258,     0.58358,     0.58458,     0.58559,     0.58659,     0.58759,     0.58859,     0.58959,     0.59059,     0.59159,     0.59259,     0.59359,     0.59459,      0.5956,      0.5966,      0.5976,      0.5986,      0.5996,\n",
              "            0.6006,      0.6016,      0.6026,      0.6036,      0.6046,     0.60561,     0.60661,     0.60761,     0.60861,     0.60961,     0.61061,     0.61161,     0.61261,     0.61361,     0.61461,     0.61562,     0.61662,     0.61762,     0.61862,     0.61962,     0.62062,     0.62162,     0.62262,     0.62362,\n",
              "           0.62462,     0.62563,     0.62663,     0.62763,     0.62863,     0.62963,     0.63063,     0.63163,     0.63263,     0.63363,     0.63463,     0.63564,     0.63664,     0.63764,     0.63864,     0.63964,     0.64064,     0.64164,     0.64264,     0.64364,     0.64464,     0.64565,     0.64665,     0.64765,\n",
              "           0.64865,     0.64965,     0.65065,     0.65165,     0.65265,     0.65365,     0.65465,     0.65566,     0.65666,     0.65766,     0.65866,     0.65966,     0.66066,     0.66166,     0.66266,     0.66366,     0.66466,     0.66567,     0.66667,     0.66767,     0.66867,     0.66967,     0.67067,     0.67167,\n",
              "           0.67267,     0.67367,     0.67467,     0.67568,     0.67668,     0.67768,     0.67868,     0.67968,     0.68068,     0.68168,     0.68268,     0.68368,     0.68468,     0.68569,     0.68669,     0.68769,     0.68869,     0.68969,     0.69069,     0.69169,     0.69269,     0.69369,     0.69469,      0.6957,\n",
              "            0.6967,      0.6977,      0.6987,      0.6997,      0.7007,      0.7017,      0.7027,      0.7037,      0.7047,     0.70571,     0.70671,     0.70771,     0.70871,     0.70971,     0.71071,     0.71171,     0.71271,     0.71371,     0.71471,     0.71572,     0.71672,     0.71772,     0.71872,     0.71972,\n",
              "           0.72072,     0.72172,     0.72272,     0.72372,     0.72472,     0.72573,     0.72673,     0.72773,     0.72873,     0.72973,     0.73073,     0.73173,     0.73273,     0.73373,     0.73473,     0.73574,     0.73674,     0.73774,     0.73874,     0.73974,     0.74074,     0.74174,     0.74274,     0.74374,\n",
              "           0.74474,     0.74575,     0.74675,     0.74775,     0.74875,     0.74975,     0.75075,     0.75175,     0.75275,     0.75375,     0.75475,     0.75576,     0.75676,     0.75776,     0.75876,     0.75976,     0.76076,     0.76176,     0.76276,     0.76376,     0.76476,     0.76577,     0.76677,     0.76777,\n",
              "           0.76877,     0.76977,     0.77077,     0.77177,     0.77277,     0.77377,     0.77477,     0.77578,     0.77678,     0.77778,     0.77878,     0.77978,     0.78078,     0.78178,     0.78278,     0.78378,     0.78478,     0.78579,     0.78679,     0.78779,     0.78879,     0.78979,     0.79079,     0.79179,\n",
              "           0.79279,     0.79379,     0.79479,      0.7958,      0.7968,      0.7978,      0.7988,      0.7998,      0.8008,      0.8018,      0.8028,      0.8038,      0.8048,     0.80581,     0.80681,     0.80781,     0.80881,     0.80981,     0.81081,     0.81181,     0.81281,     0.81381,     0.81481,     0.81582,\n",
              "           0.81682,     0.81782,     0.81882,     0.81982,     0.82082,     0.82182,     0.82282,     0.82382,     0.82482,     0.82583,     0.82683,     0.82783,     0.82883,     0.82983,     0.83083,     0.83183,     0.83283,     0.83383,     0.83483,     0.83584,     0.83684,     0.83784,     0.83884,     0.83984,\n",
              "           0.84084,     0.84184,     0.84284,     0.84384,     0.84484,     0.84585,     0.84685,     0.84785,     0.84885,     0.84985,     0.85085,     0.85185,     0.85285,     0.85385,     0.85485,     0.85586,     0.85686,     0.85786,     0.85886,     0.85986,     0.86086,     0.86186,     0.86286,     0.86386,\n",
              "           0.86486,     0.86587,     0.86687,     0.86787,     0.86887,     0.86987,     0.87087,     0.87187,     0.87287,     0.87387,     0.87487,     0.87588,     0.87688,     0.87788,     0.87888,     0.87988,     0.88088,     0.88188,     0.88288,     0.88388,     0.88488,     0.88589,     0.88689,     0.88789,\n",
              "           0.88889,     0.88989,     0.89089,     0.89189,     0.89289,     0.89389,     0.89489,      0.8959,      0.8969,      0.8979,      0.8989,      0.8999,      0.9009,      0.9019,      0.9029,      0.9039,      0.9049,     0.90591,     0.90691,     0.90791,     0.90891,     0.90991,     0.91091,     0.91191,\n",
              "           0.91291,     0.91391,     0.91491,     0.91592,     0.91692,     0.91792,     0.91892,     0.91992,     0.92092,     0.92192,     0.92292,     0.92392,     0.92492,     0.92593,     0.92693,     0.92793,     0.92893,     0.92993,     0.93093,     0.93193,     0.93293,     0.93393,     0.93493,     0.93594,\n",
              "           0.93694,     0.93794,     0.93894,     0.93994,     0.94094,     0.94194,     0.94294,     0.94394,     0.94494,     0.94595,     0.94695,     0.94795,     0.94895,     0.94995,     0.95095,     0.95195,     0.95295,     0.95395,     0.95495,     0.95596,     0.95696,     0.95796,     0.95896,     0.95996,\n",
              "           0.96096,     0.96196,     0.96296,     0.96396,     0.96496,     0.96597,     0.96697,     0.96797,     0.96897,     0.96997,     0.97097,     0.97197,     0.97297,     0.97397,     0.97497,     0.97598,     0.97698,     0.97798,     0.97898,     0.97998,     0.98098,     0.98198,     0.98298,     0.98398,\n",
              "           0.98498,     0.98599,     0.98699,     0.98799,     0.98899,     0.98999,     0.99099,     0.99199,     0.99299,     0.99399,     0.99499,       0.996,       0.997,       0.998,       0.999,           1]), array([[    0.43496,     0.43496,     0.58832, ...,           1,           1,           1],\n",
              "       [     0.4951,      0.4951,      0.6691, ...,           1,           1,           1],\n",
              "       [    0.26933,     0.26933,     0.37437, ...,           1,           1,           1],\n",
              "       ...,\n",
              "       [    0.59748,     0.59748,     0.71778, ...,           1,           1,           1],\n",
              "       [        0.4,         0.4,     0.53797, ...,           1,           1,           1],\n",
              "       [    0.27697,     0.27697,     0.40238, ...,           1,           1,           1]]), 'Confidence', 'Precision'], [array([          0,    0.001001,    0.002002,    0.003003,    0.004004,    0.005005,    0.006006,    0.007007,    0.008008,    0.009009,     0.01001,    0.011011,    0.012012,    0.013013,    0.014014,    0.015015,    0.016016,    0.017017,    0.018018,    0.019019,     0.02002,    0.021021,    0.022022,    0.023023,\n",
              "          0.024024,    0.025025,    0.026026,    0.027027,    0.028028,    0.029029,     0.03003,    0.031031,    0.032032,    0.033033,    0.034034,    0.035035,    0.036036,    0.037037,    0.038038,    0.039039,     0.04004,    0.041041,    0.042042,    0.043043,    0.044044,    0.045045,    0.046046,    0.047047,\n",
              "          0.048048,    0.049049,     0.05005,    0.051051,    0.052052,    0.053053,    0.054054,    0.055055,    0.056056,    0.057057,    0.058058,    0.059059,     0.06006,    0.061061,    0.062062,    0.063063,    0.064064,    0.065065,    0.066066,    0.067067,    0.068068,    0.069069,     0.07007,    0.071071,\n",
              "          0.072072,    0.073073,    0.074074,    0.075075,    0.076076,    0.077077,    0.078078,    0.079079,     0.08008,    0.081081,    0.082082,    0.083083,    0.084084,    0.085085,    0.086086,    0.087087,    0.088088,    0.089089,     0.09009,    0.091091,    0.092092,    0.093093,    0.094094,    0.095095,\n",
              "          0.096096,    0.097097,    0.098098,    0.099099,      0.1001,      0.1011,      0.1021,      0.1031,      0.1041,     0.10511,     0.10611,     0.10711,     0.10811,     0.10911,     0.11011,     0.11111,     0.11211,     0.11311,     0.11411,     0.11512,     0.11612,     0.11712,     0.11812,     0.11912,\n",
              "           0.12012,     0.12112,     0.12212,     0.12312,     0.12412,     0.12513,     0.12613,     0.12713,     0.12813,     0.12913,     0.13013,     0.13113,     0.13213,     0.13313,     0.13413,     0.13514,     0.13614,     0.13714,     0.13814,     0.13914,     0.14014,     0.14114,     0.14214,     0.14314,\n",
              "           0.14414,     0.14515,     0.14615,     0.14715,     0.14815,     0.14915,     0.15015,     0.15115,     0.15215,     0.15315,     0.15415,     0.15516,     0.15616,     0.15716,     0.15816,     0.15916,     0.16016,     0.16116,     0.16216,     0.16316,     0.16416,     0.16517,     0.16617,     0.16717,\n",
              "           0.16817,     0.16917,     0.17017,     0.17117,     0.17217,     0.17317,     0.17417,     0.17518,     0.17618,     0.17718,     0.17818,     0.17918,     0.18018,     0.18118,     0.18218,     0.18318,     0.18418,     0.18519,     0.18619,     0.18719,     0.18819,     0.18919,     0.19019,     0.19119,\n",
              "           0.19219,     0.19319,     0.19419,      0.1952,      0.1962,      0.1972,      0.1982,      0.1992,      0.2002,      0.2012,      0.2022,      0.2032,      0.2042,     0.20521,     0.20621,     0.20721,     0.20821,     0.20921,     0.21021,     0.21121,     0.21221,     0.21321,     0.21421,     0.21522,\n",
              "           0.21622,     0.21722,     0.21822,     0.21922,     0.22022,     0.22122,     0.22222,     0.22322,     0.22422,     0.22523,     0.22623,     0.22723,     0.22823,     0.22923,     0.23023,     0.23123,     0.23223,     0.23323,     0.23423,     0.23524,     0.23624,     0.23724,     0.23824,     0.23924,\n",
              "           0.24024,     0.24124,     0.24224,     0.24324,     0.24424,     0.24525,     0.24625,     0.24725,     0.24825,     0.24925,     0.25025,     0.25125,     0.25225,     0.25325,     0.25425,     0.25526,     0.25626,     0.25726,     0.25826,     0.25926,     0.26026,     0.26126,     0.26226,     0.26326,\n",
              "           0.26426,     0.26527,     0.26627,     0.26727,     0.26827,     0.26927,     0.27027,     0.27127,     0.27227,     0.27327,     0.27427,     0.27528,     0.27628,     0.27728,     0.27828,     0.27928,     0.28028,     0.28128,     0.28228,     0.28328,     0.28428,     0.28529,     0.28629,     0.28729,\n",
              "           0.28829,     0.28929,     0.29029,     0.29129,     0.29229,     0.29329,     0.29429,      0.2953,      0.2963,      0.2973,      0.2983,      0.2993,      0.3003,      0.3013,      0.3023,      0.3033,      0.3043,     0.30531,     0.30631,     0.30731,     0.30831,     0.30931,     0.31031,     0.31131,\n",
              "           0.31231,     0.31331,     0.31431,     0.31532,     0.31632,     0.31732,     0.31832,     0.31932,     0.32032,     0.32132,     0.32232,     0.32332,     0.32432,     0.32533,     0.32633,     0.32733,     0.32833,     0.32933,     0.33033,     0.33133,     0.33233,     0.33333,     0.33433,     0.33534,\n",
              "           0.33634,     0.33734,     0.33834,     0.33934,     0.34034,     0.34134,     0.34234,     0.34334,     0.34434,     0.34535,     0.34635,     0.34735,     0.34835,     0.34935,     0.35035,     0.35135,     0.35235,     0.35335,     0.35435,     0.35536,     0.35636,     0.35736,     0.35836,     0.35936,\n",
              "           0.36036,     0.36136,     0.36236,     0.36336,     0.36436,     0.36537,     0.36637,     0.36737,     0.36837,     0.36937,     0.37037,     0.37137,     0.37237,     0.37337,     0.37437,     0.37538,     0.37638,     0.37738,     0.37838,     0.37938,     0.38038,     0.38138,     0.38238,     0.38338,\n",
              "           0.38438,     0.38539,     0.38639,     0.38739,     0.38839,     0.38939,     0.39039,     0.39139,     0.39239,     0.39339,     0.39439,      0.3954,      0.3964,      0.3974,      0.3984,      0.3994,      0.4004,      0.4014,      0.4024,      0.4034,      0.4044,     0.40541,     0.40641,     0.40741,\n",
              "           0.40841,     0.40941,     0.41041,     0.41141,     0.41241,     0.41341,     0.41441,     0.41542,     0.41642,     0.41742,     0.41842,     0.41942,     0.42042,     0.42142,     0.42242,     0.42342,     0.42442,     0.42543,     0.42643,     0.42743,     0.42843,     0.42943,     0.43043,     0.43143,\n",
              "           0.43243,     0.43343,     0.43443,     0.43544,     0.43644,     0.43744,     0.43844,     0.43944,     0.44044,     0.44144,     0.44244,     0.44344,     0.44444,     0.44545,     0.44645,     0.44745,     0.44845,     0.44945,     0.45045,     0.45145,     0.45245,     0.45345,     0.45445,     0.45546,\n",
              "           0.45646,     0.45746,     0.45846,     0.45946,     0.46046,     0.46146,     0.46246,     0.46346,     0.46446,     0.46547,     0.46647,     0.46747,     0.46847,     0.46947,     0.47047,     0.47147,     0.47247,     0.47347,     0.47447,     0.47548,     0.47648,     0.47748,     0.47848,     0.47948,\n",
              "           0.48048,     0.48148,     0.48248,     0.48348,     0.48448,     0.48549,     0.48649,     0.48749,     0.48849,     0.48949,     0.49049,     0.49149,     0.49249,     0.49349,     0.49449,      0.4955,      0.4965,      0.4975,      0.4985,      0.4995,      0.5005,      0.5015,      0.5025,      0.5035,\n",
              "            0.5045,     0.50551,     0.50651,     0.50751,     0.50851,     0.50951,     0.51051,     0.51151,     0.51251,     0.51351,     0.51451,     0.51552,     0.51652,     0.51752,     0.51852,     0.51952,     0.52052,     0.52152,     0.52252,     0.52352,     0.52452,     0.52553,     0.52653,     0.52753,\n",
              "           0.52853,     0.52953,     0.53053,     0.53153,     0.53253,     0.53353,     0.53453,     0.53554,     0.53654,     0.53754,     0.53854,     0.53954,     0.54054,     0.54154,     0.54254,     0.54354,     0.54454,     0.54555,     0.54655,     0.54755,     0.54855,     0.54955,     0.55055,     0.55155,\n",
              "           0.55255,     0.55355,     0.55455,     0.55556,     0.55656,     0.55756,     0.55856,     0.55956,     0.56056,     0.56156,     0.56256,     0.56356,     0.56456,     0.56557,     0.56657,     0.56757,     0.56857,     0.56957,     0.57057,     0.57157,     0.57257,     0.57357,     0.57457,     0.57558,\n",
              "           0.57658,     0.57758,     0.57858,     0.57958,     0.58058,     0.58158,     0.58258,     0.58358,     0.58458,     0.58559,     0.58659,     0.58759,     0.58859,     0.58959,     0.59059,     0.59159,     0.59259,     0.59359,     0.59459,      0.5956,      0.5966,      0.5976,      0.5986,      0.5996,\n",
              "            0.6006,      0.6016,      0.6026,      0.6036,      0.6046,     0.60561,     0.60661,     0.60761,     0.60861,     0.60961,     0.61061,     0.61161,     0.61261,     0.61361,     0.61461,     0.61562,     0.61662,     0.61762,     0.61862,     0.61962,     0.62062,     0.62162,     0.62262,     0.62362,\n",
              "           0.62462,     0.62563,     0.62663,     0.62763,     0.62863,     0.62963,     0.63063,     0.63163,     0.63263,     0.63363,     0.63463,     0.63564,     0.63664,     0.63764,     0.63864,     0.63964,     0.64064,     0.64164,     0.64264,     0.64364,     0.64464,     0.64565,     0.64665,     0.64765,\n",
              "           0.64865,     0.64965,     0.65065,     0.65165,     0.65265,     0.65365,     0.65465,     0.65566,     0.65666,     0.65766,     0.65866,     0.65966,     0.66066,     0.66166,     0.66266,     0.66366,     0.66466,     0.66567,     0.66667,     0.66767,     0.66867,     0.66967,     0.67067,     0.67167,\n",
              "           0.67267,     0.67367,     0.67467,     0.67568,     0.67668,     0.67768,     0.67868,     0.67968,     0.68068,     0.68168,     0.68268,     0.68368,     0.68468,     0.68569,     0.68669,     0.68769,     0.68869,     0.68969,     0.69069,     0.69169,     0.69269,     0.69369,     0.69469,      0.6957,\n",
              "            0.6967,      0.6977,      0.6987,      0.6997,      0.7007,      0.7017,      0.7027,      0.7037,      0.7047,     0.70571,     0.70671,     0.70771,     0.70871,     0.70971,     0.71071,     0.71171,     0.71271,     0.71371,     0.71471,     0.71572,     0.71672,     0.71772,     0.71872,     0.71972,\n",
              "           0.72072,     0.72172,     0.72272,     0.72372,     0.72472,     0.72573,     0.72673,     0.72773,     0.72873,     0.72973,     0.73073,     0.73173,     0.73273,     0.73373,     0.73473,     0.73574,     0.73674,     0.73774,     0.73874,     0.73974,     0.74074,     0.74174,     0.74274,     0.74374,\n",
              "           0.74474,     0.74575,     0.74675,     0.74775,     0.74875,     0.74975,     0.75075,     0.75175,     0.75275,     0.75375,     0.75475,     0.75576,     0.75676,     0.75776,     0.75876,     0.75976,     0.76076,     0.76176,     0.76276,     0.76376,     0.76476,     0.76577,     0.76677,     0.76777,\n",
              "           0.76877,     0.76977,     0.77077,     0.77177,     0.77277,     0.77377,     0.77477,     0.77578,     0.77678,     0.77778,     0.77878,     0.77978,     0.78078,     0.78178,     0.78278,     0.78378,     0.78478,     0.78579,     0.78679,     0.78779,     0.78879,     0.78979,     0.79079,     0.79179,\n",
              "           0.79279,     0.79379,     0.79479,      0.7958,      0.7968,      0.7978,      0.7988,      0.7998,      0.8008,      0.8018,      0.8028,      0.8038,      0.8048,     0.80581,     0.80681,     0.80781,     0.80881,     0.80981,     0.81081,     0.81181,     0.81281,     0.81381,     0.81481,     0.81582,\n",
              "           0.81682,     0.81782,     0.81882,     0.81982,     0.82082,     0.82182,     0.82282,     0.82382,     0.82482,     0.82583,     0.82683,     0.82783,     0.82883,     0.82983,     0.83083,     0.83183,     0.83283,     0.83383,     0.83483,     0.83584,     0.83684,     0.83784,     0.83884,     0.83984,\n",
              "           0.84084,     0.84184,     0.84284,     0.84384,     0.84484,     0.84585,     0.84685,     0.84785,     0.84885,     0.84985,     0.85085,     0.85185,     0.85285,     0.85385,     0.85485,     0.85586,     0.85686,     0.85786,     0.85886,     0.85986,     0.86086,     0.86186,     0.86286,     0.86386,\n",
              "           0.86486,     0.86587,     0.86687,     0.86787,     0.86887,     0.86987,     0.87087,     0.87187,     0.87287,     0.87387,     0.87487,     0.87588,     0.87688,     0.87788,     0.87888,     0.87988,     0.88088,     0.88188,     0.88288,     0.88388,     0.88488,     0.88589,     0.88689,     0.88789,\n",
              "           0.88889,     0.88989,     0.89089,     0.89189,     0.89289,     0.89389,     0.89489,      0.8959,      0.8969,      0.8979,      0.8989,      0.8999,      0.9009,      0.9019,      0.9029,      0.9039,      0.9049,     0.90591,     0.90691,     0.90791,     0.90891,     0.90991,     0.91091,     0.91191,\n",
              "           0.91291,     0.91391,     0.91491,     0.91592,     0.91692,     0.91792,     0.91892,     0.91992,     0.92092,     0.92192,     0.92292,     0.92392,     0.92492,     0.92593,     0.92693,     0.92793,     0.92893,     0.92993,     0.93093,     0.93193,     0.93293,     0.93393,     0.93493,     0.93594,\n",
              "           0.93694,     0.93794,     0.93894,     0.93994,     0.94094,     0.94194,     0.94294,     0.94394,     0.94494,     0.94595,     0.94695,     0.94795,     0.94895,     0.94995,     0.95095,     0.95195,     0.95295,     0.95395,     0.95495,     0.95596,     0.95696,     0.95796,     0.95896,     0.95996,\n",
              "           0.96096,     0.96196,     0.96296,     0.96396,     0.96496,     0.96597,     0.96697,     0.96797,     0.96897,     0.96997,     0.97097,     0.97197,     0.97297,     0.97397,     0.97497,     0.97598,     0.97698,     0.97798,     0.97898,     0.97998,     0.98098,     0.98198,     0.98298,     0.98398,\n",
              "           0.98498,     0.98599,     0.98699,     0.98799,     0.98899,     0.98999,     0.99099,     0.99199,     0.99299,     0.99399,     0.99499,       0.996,       0.997,       0.998,       0.999,           1]), array([[          1,           1,           1, ...,           0,           0,           0],\n",
              "       [     0.9902,      0.9902,      0.9902, ...,           0,           0,           0],\n",
              "       [          1,           1,           1, ...,    0.010149,           0,           0],\n",
              "       ...,\n",
              "       [    0.98958,     0.98958,     0.98958, ...,           0,           0,           0],\n",
              "       [          1,           1,           1, ...,           0,           0,           0],\n",
              "       [          1,           1,           1, ...,           0,           0,           0]]), 'Confidence', 'Recall']]\n",
              "fitness: np.float64(0.9264474498087468)\n",
              "keys: ['metrics/precision(B)', 'metrics/recall(B)', 'metrics/mAP50(B)', 'metrics/mAP50-95(B)']\n",
              "maps: array([    0.90684,      0.9098,     0.90373,     0.90583,     0.91561,     0.89197,     0.91454,     0.91347,     0.89549,     0.91781,     0.92043,     0.90835,     0.92987,     0.92193,     0.91367,     0.92408,     0.91812,     0.92338,      0.8984,     0.91426,     0.89843,     0.91697,     0.89324,     0.87333,\n",
              "           0.90795,     0.87479,     0.91483,      0.8954,     0.91533,     0.85076,     0.88636,     0.90829,      0.9211,     0.89088,     0.90294,     0.92496,     0.91785,     0.92304,     0.91194,     0.93482,     0.89945,      0.8984,     0.92637,     0.93253,     0.87985,     0.94537,     0.93184,     0.93025,\n",
              "            0.9346,     0.91021,     0.92071,     0.94382,     0.93649,     0.92706,     0.90659,     0.95092,     0.93227,     0.92134,     0.93067,     0.92176,     0.91208,     0.94738,      0.9331,     0.92762,     0.92719,     0.92793,     0.92236,     0.90804,     0.92981,     0.92713,     0.92975,     0.91095,\n",
              "            0.9321,     0.95089,     0.91044,     0.93663,     0.93983,     0.91192,     0.94562,     0.92642,     0.92539,     0.94571,     0.92828,     0.93236,     0.91257,      0.9152,     0.90028,     0.93921,     0.92462,     0.92967,     0.91774,     0.93418,     0.94342,      0.9314,     0.95648,      0.9317,\n",
              "           0.92169,     0.91399])\n",
              "names: {0: '전복죽', 1: '도토리묵 무침', 2: '콩나물국', 3: '소곱창전골', 4: '짜장면', 5: '수육 쌈', 6: '갈치조림', 7: '고등어조림', 8: '꽁치조림', 9: '두부조림', 10: '김치찜', 11: '감자조림', 12: '갈비찜', 13: '메밀국수', 14: '배추김치', 15: '쫄면', 16: '냉면', 17: '만두', 18: '계란국', 19: '잔치국수', 20: '생선전', 21: '치킨', 22: '계란후라이', 23: '고추튀김', 24: '새우튀김', 25: '오징어튀김', 26: '삼계탕', 27: '수제비', 28: '약과', 29: '약밥', 30: '육개장', 31: '김치찌개', 32: '김치전', 33: '칼국수', 34: '동그랑땡', 35: '닭볶음탕', 36: '반달떡', 37: '계란말이', 38: '약밥', 39: '한과', 40: '추어탕', 41: '비빔냉면', 42: '설렁탕', 43: '깻잎장아찌', 44: '족발', 45: '동태찌개', 46: '감자탕', 47: '감자전', 48: '호박전', 49: '호박죽', 50: '떡만두국', 51: '떡꼬치', 52: '파전', 53: '콩나물무침', 54: '닭무침', 55: '꼬막무침', 56: '고사리나물', 57: '숙주나물', 58: '갈비탕', 59: '무생채', 60: '편육', 61: '깍두기', 62: '순두부찌개', 63: '간장게장', 64: '콩자반', 65: '콩국수', 66: '된장국', 67: '된장찌개', 68: '닭도리탕', 69: '해물찜', 70: '양념게장', 71: '닭개장', 72: '홍어무침', 73: '매운탕', 74: '회무침', 75: '떡볶이', 76: '짬뽕', 77: '제육볶음', 78: '계란찜', 79: '멸치볶음', 80: '가지볶음', 81: '어묵볶음', 82: '잡채', 83: '소시지볶음', 84: '미역줄기볶음', 85: '오징어채볶음', 86: '진미채볶음', 87: '애호박볶음', 88: '꽈리고추볶음', 89: '감자채볶음', 90: '건새우볶음', 91: '순대', 92: '경단', 93: '식혜', 94: '두부김치', 95: '백김치', 96: '열무김치', 97: '열무국수'}\n",
              "nt_per_class: array([107, 102, 101, 105,  99, 105, 110, 177,  93, 103,  29, 108,  99, 108,  96, 107,  92, 111, 106, 105, 101,  98, 110, 104, 109, 108, 105, 101, 102, 156, 107, 100, 101, 102, 102, 100, 108, 103,  95, 117,  93, 108,  97,  94,  95, 102,  88,  93,  81, 103,  92, 105,  72,  75,  93, 101,  74,  83,  95,  84,  95,  92,\n",
              "        79,  93, 102,  96,  84,  87,  81,  97, 101,  91, 102,  86, 101,  84,  97,  74,  86,  87,  91,  92,  93,  89,  70,  78, 100,  73,  88,  86,  87,  94,  90,  84, 101,  96,  90,  95])\n",
              "nt_per_image: array([103, 101, 101, 105,  99, 103, 102, 173,  92, 102,  26, 107,  99, 104,  94, 105,  91, 106, 104, 104, 100,  97, 100, 103, 105, 105, 104,  99, 100, 100, 102,  99, 100, 100, 101, 100, 102,  99,  92, 102,  92,  99,  97,  92,  94, 100,  88,  93,  81, 101,  91, 101,  71,  74,  93, 101,  73,  83,  95,  84,  95,  92,\n",
              "        79,  93, 101,  96,  84,  87,  81,  96, 101,  91, 100,  86, 101,  84,  97,  74,  86,  86,  91,  92,  90,  89,  70,  78,  99,  73,  82,  86,  80,  91,  84,  80, 101,  94,  89,  88])\n",
              "results_dict: {'metrics/precision(B)': np.float64(0.9945007023335737), 'metrics/recall(B)': np.float64(0.993520834730679), 'metrics/mAP50(B)': np.float64(0.9943572961128724), 'metrics/mAP50-95(B)': np.float64(0.9189019113305107), 'fitness': np.float64(0.9264474498087468)}\n",
              "save_dir: PosixPath('/content/drive/MyDrive/prometheus/models/yolov8_all_labeled2_resume3')\n",
              "speed: {'preprocess': 0.19567144421637117, 'inference': 3.2217054051125085, 'loss': 0.0010095657502574597, 'postprocess': 1.9921799786605066}\n",
              "stats: {'tp': [], 'conf': [], 'pred_cls': [], 'target_cls': [], 'target_img': []}\n",
              "task: 'detect'"
            ]
          },
          "metadata": {},
          "execution_count": 16
        }
      ]
    },
    {
      "cell_type": "code",
      "source": [
        "from ultralytics import YOLO\n",
        "\n",
        "# 학습이 끝난 최신 best.pt 경로\n",
        "model_path = '/content/drive/MyDrive/prometheus/models/yolov8_all_labeled2_resume3/weights/best.pt'\n",
        "\n",
        "# 모델 로드\n",
        "model = YOLO(model_path)\n",
        "\n",
        "# 클래스명 출력\n",
        "print(\"✅ 모델에 저장된 클래스명:\")\n",
        "print(model.names)\n"
      ],
      "metadata": {
        "colab": {
          "base_uri": "https://localhost:8080/"
        },
        "id": "uaJeb_WfyaeB",
        "outputId": "ca012894-29fa-4c6c-b373-03cfb268428e"
      },
      "execution_count": 18,
      "outputs": [
        {
          "output_type": "stream",
          "name": "stdout",
          "text": [
            "✅ 모델에 저장된 클래스명:\n",
            "{0: '전복죽', 1: '도토리묵 무침', 2: '콩나물국', 3: '소곱창전골', 4: '짜장면', 5: '수육 쌈', 6: '갈치조림', 7: '고등어조림', 8: '꽁치조림', 9: '두부조림', 10: '김치찜', 11: '감자조림', 12: '갈비찜', 13: '메밀국수', 14: '배추김치', 15: '쫄면', 16: '냉면', 17: '만두', 18: '계란국', 19: '잔치국수', 20: '생선전', 21: '치킨', 22: '계란후라이', 23: '고추튀김', 24: '새우튀김', 25: '오징어튀김', 26: '삼계탕', 27: '수제비', 28: '약과', 29: '약밥', 30: '육개장', 31: '김치찌개', 32: '김치전', 33: '칼국수', 34: '동그랑땡', 35: '닭볶음탕', 36: '반달떡', 37: '계란말이', 38: '약밥', 39: '한과', 40: '추어탕', 41: '비빔냉면', 42: '설렁탕', 43: '깻잎장아찌', 44: '족발', 45: '동태찌개', 46: '감자탕', 47: '감자전', 48: '호박전', 49: '호박죽', 50: '떡만두국', 51: '떡꼬치', 52: '파전', 53: '콩나물무침', 54: '닭무침', 55: '꼬막무침', 56: '고사리나물', 57: '숙주나물', 58: '갈비탕', 59: '무생채', 60: '편육', 61: '깍두기', 62: '순두부찌개', 63: '간장게장', 64: '콩자반', 65: '콩국수', 66: '된장국', 67: '된장찌개', 68: '닭도리탕', 69: '해물찜', 70: '양념게장', 71: '닭개장', 72: '홍어무침', 73: '매운탕', 74: '회무침', 75: '떡볶이', 76: '짬뽕', 77: '제육볶음', 78: '계란찜', 79: '멸치볶음', 80: '가지볶음', 81: '어묵볶음', 82: '잡채', 83: '소시지볶음', 84: '미역줄기볶음', 85: '오징어채볶음', 86: '진미채볶음', 87: '애호박볶음', 88: '꽈리고추볶음', 89: '감자채볶음', 90: '건새우볶음', 91: '순대', 92: '경단', 93: '식혜', 94: '두부김치', 95: '백김치', 96: '열무김치', 97: '열무국수'}\n"
          ]
        }
      ]
    }
  ]
}