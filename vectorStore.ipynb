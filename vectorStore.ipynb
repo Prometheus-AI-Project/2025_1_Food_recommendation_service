{
 "cells": [
  {
   "cell_type": "markdown",
   "id": "42362419",
   "metadata": {},
   "source": [
    "LLM은 직접 엑셀 표를 검색하거나 벡터화 불가\n",
    "\n",
    "엑셀 데이터를 JSON 형식으로 구조화 -> 벡터화"
   ]
  },
  {
   "cell_type": "code",
   "execution_count": 2,
   "id": "7269d452",
   "metadata": {},
   "outputs": [
    {
     "name": "stdout",
     "output_type": "stream",
     "text": [
      "['밥류' '빵 및 과자류' '면 및 만두류' '죽 및 스프류' '국 및 탕류' '찌개 및 전골류' '찜류' '구이류'\n",
      " '전·적 및 부침류' '볶음류' '조림류' '튀김류' '나물·숙채류' '생채·무침류' '김치류' '젓갈류' '장아찌·절임류'\n",
      " '음료 및 차류' '수·조·어·육류' '유제품류 및 빙과류']\n"
     ]
    }
   ],
   "source": [
    "# 식품대분류명 컬럼의 고유값(종류) 출력\n",
    "import pandas as pd\n",
    "\n",
    "EXCEL_PATH = r\"C:\\Users\\thdwo\\OneDrive\\바탕 화면\\프메 프젝\\db\\filtered_db.xlsx\"\n",
    "db = pd.read_excel(EXCEL_PATH)\n",
    "\n",
    "print(db['식품대분류명'].unique())"
   ]
  },
  {
   "cell_type": "markdown",
   "id": "db56a63e",
   "metadata": {},
   "source": [
    "카테고리 칼럼 추가"
   ]
  },
  {
   "cell_type": "code",
   "execution_count": null,
   "id": "db17edfd",
   "metadata": {},
   "outputs": [],
   "source": [
    "import pandas as pd\n",
    "\n",
    "# 카테고리 분류 함수 정의\n",
    "def assign_category(row):\n",
    "    category = row['식품대분류명']\n",
    "    name = str(row['식품명'])  # 음식명에서 키워드 검색 시 사용\n",
    "\n",
    "    if category == '밥류':\n",
    "        return '밥'\n",
    "    elif category in ['죽 및 스프류', '국 및 탕류', '찌개 및 전골류']:\n",
    "        return '국'\n",
    "    elif category in [\n",
    "        '찜류', '구이류', '전·적 및 부침류', '볶음류', '조림류',\n",
    "        '튀김류', '나물·숙채류', '생채·무침류', '김치류', '젓갈류',\n",
    "        '장아찌·절임류', '수·조·어·육류'\n",
    "    ]:\n",
    "        return '반찬'\n",
    "    elif category == '면 및 만두류':\n",
    "        if '만두' in name:\n",
    "            return '반찬'\n",
    "        else:\n",
    "            return '면'\n",
    "    elif any(word in name.lower() for word in ['버거', '피자', '핫도그']):\n",
    "        return '양식'\n",
    "    elif category in ['빵 및 과자류', '음료 및 차류', '유제품류 및 빙과류']:\n",
    "        return '디저트 & 빵'\n",
    "    else:\n",
    "        return '기타'\n",
    "\n",
    "# 카테고리 열 채우기\n",
    "df['카테고리'] = df.apply(assign_category, axis=1)\n",
    "\n",
    "# 저장\n",
    "df.to_excel(r\"C:\\Users\\thdwo\\OneDrive\\바탕 화면\\프메 프젝\\db\\filtered_db_add_cate.xlsx\", index=False)\n",
    "\n",
    "print(\"카테고리 열이 채워졌고, 파일이 저장되었습니다.\")"
   ]
  },
  {
   "cell_type": "markdown",
   "id": "8aff23d6",
   "metadata": {},
   "source": [
    "RAG vectorstore 저장"
   ]
  },
  {
   "cell_type": "code",
   "execution_count": 1,
   "id": "8f08eea5",
   "metadata": {},
   "outputs": [
    {
     "name": "stderr",
     "output_type": "stream",
     "text": [
      "C:\\Users\\thdwo\\AppData\\Local\\Temp\\ipykernel_44572\\3349078971.py:26: LangChainDeprecationWarning: The class `HuggingFaceEmbeddings` was deprecated in LangChain 0.2.2 and will be removed in 1.0. An updated version of the class exists in the :class:`~langchain-huggingface package and should be used instead. To use it run `pip install -U :class:`~langchain-huggingface` and import as `from :class:`~langchain_huggingface import HuggingFaceEmbeddings``.\n",
      "  embedding_model = HuggingFaceEmbeddings(model_name=\"sentence-transformers/all-MiniLM-L6-v2\")\n"
     ]
    },
    {
     "name": "stdout",
     "output_type": "stream",
     "text": [
      "✅ 벡터스토어 저장 완료!\n"
     ]
    }
   ],
   "source": [
    "# 🔧 FAISS 및 임베딩 로드 예시\n",
    "from langchain_community.embeddings import HuggingFaceEmbeddings\n",
    "from langchain_community.vectorstores import FAISS\n",
    "import pandas as pd\n",
    "import json\n",
    "\n",
    "# 🔗 파일 경로 설정\n",
    "EXCEL_PATH = r\"C:\\Users\\thdwo\\OneDrive\\바탕 화면\\프메 프젝\\db\\filtered_db_add_cate.xlsx\"\n",
    "VECTORSTORE_DIR = \"./vectorstore_json\"\n",
    "\n",
    "# ✅ 엑셀 파일 로드\n",
    "df = pd.read_excel(EXCEL_PATH)\n",
    "\n",
    "# 🚫 '영양성분함량기준량' 열 제외\n",
    "if '영양성분함량기준량' in df.columns:\n",
    "    df = df.drop(columns=['영양성분함량기준량'])\n",
    "\n",
    "# 🔄 각 행을 JSON 형태로 변환\n",
    "def row_to_json(row):\n",
    "    return json.dumps(row.to_dict(), ensure_ascii=False)\n",
    "\n",
    "# 📜 전체 문서 리스트 생성\n",
    "docs = df.apply(row_to_json, axis=1).tolist()\n",
    "\n",
    "# 🧠 임베딩 모델 로드\n",
    "embedding_model = HuggingFaceEmbeddings(model_name=\"sentence-transformers/all-MiniLM-L6-v2\")\n",
    "\n",
    "# 🗂️ FAISS 벡터스토어 생성\n",
    "vectorstore = FAISS.from_texts(docs, embedding_model)\n",
    "\n",
    "# 💾 벡터스토어 저장\n",
    "vectorstore.save_local(VECTORSTORE_DIR)\n",
    "\n",
    "print(\"✅ 벡터스토어 저장 완료!\")\n"
   ]
  }
 ],
 "metadata": {
  "kernelspec": {
   "display_name": "base",
   "language": "python",
   "name": "python3"
  },
  "language_info": {
   "codemirror_mode": {
    "name": "ipython",
    "version": 3
   },
   "file_extension": ".py",
   "mimetype": "text/x-python",
   "name": "python",
   "nbconvert_exporter": "python",
   "pygments_lexer": "ipython3",
   "version": "3.11.7"
  }
 },
 "nbformat": 4,
 "nbformat_minor": 5
}
