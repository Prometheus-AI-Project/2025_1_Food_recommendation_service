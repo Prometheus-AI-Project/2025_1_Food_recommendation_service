{
 "cells": [
  {
   "cell_type": "code",
   "execution_count": null,
   "id": "24f72035",
   "metadata": {},
   "outputs": [],
   "source": [
    "import pandas as pd\n",
    "from langchain_community.embeddings import HuggingFaceEmbeddings\n",
    "from langchain_community.vectorstores import FAISS\n",
    "from openai import OpenAI\n",
    "import re\n",
    "\n",
    "# 파일 경로를 정확하게 지정 (카테고리 열이 추가된 파일 사용)\n",
    "EXCEL_PATH = \"filtered_db_add_cate.xlsx\"\n",
    "\n",
    "# 데이터 로드\n",
    "db = pd.read_excel(EXCEL_PATH)"
   ]
  },
  {
   "cell_type": "markdown",
   "id": "d6e54aaf",
   "metadata": {},
   "source": [
    "1차적으로 탄단지 비율만을 기준으로 후보 음식군 추출 함수"
   ]
  },
  {
   "cell_type": "code",
   "execution_count": null,
   "id": "63780814",
   "metadata": {},
   "outputs": [],
   "source": [
    "def filter_by_nutrition(\n",
    "    input_food_name, input_carb, input_protein, input_fat, input_serving,\n",
    "    db, target_ratio=(5, 3, 2), tolerance=0.05\n",
    "):\n",
    "    \"\"\"\n",
    "    ✅ 입력값\n",
    "    - input_food_name: 입력 음식명 (string)\n",
    "    - input_carb, input_protein, input_fat: 탄단지 (100g 기준)\n",
    "    - input_serving: 입력 음식 1회 제공량 (g)\n",
    "    - db: 영양소 데이터프레임\n",
    "    - target_ratio: 최적 탄단지 비율 (default 5:3:2)\n",
    "    - tolerance: 허용 오차 (default 3%)\n",
    "\n",
    "    ✅ 반환값\n",
    "    - 조건에 맞는 음식 후보 DataFrame\n",
    "    \"\"\"\n",
    "\n",
    "    # 🔸 입력 음식의 절대 탄단지 양 (1회 제공량 기준)\n",
    "    input_carb_total = input_carb * (input_serving / 100)\n",
    "    input_protein_total = input_protein * (input_serving / 100)\n",
    "    input_fat_total = input_fat * (input_serving / 100)\n",
    "\n",
    "    # 🔸 데이터프레임 복사\n",
    "    df = db.copy()\n",
    "\n",
    "    # 🔸 DB 음식 각각 절대 탄단지 양 계산\n",
    "    df['절대_탄수화물'] = df['탄수화물(g)'] * (df['식품중량'] / 100)\n",
    "    df['절대_단백질'] = df['단백질(g)'] * (df['식품중량'] / 100)\n",
    "    df['절대_지방'] = df['지방(g)'] * (df['식품중량'] / 100)\n",
    "\n",
    "    # 🔸 입력 음식과 DB 음식 합산 탄단지\n",
    "    df['합_탄수화물'] = df['절대_탄수화물'] + input_carb_total\n",
    "    df['합_단백질'] = df['절대_단백질'] + input_protein_total\n",
    "    df['합_지방'] = df['절대_지방'] + input_fat_total\n",
    "\n",
    "    # 🔸 합산 탄단지 비율 계산\n",
    "    total = df['합_탄수화물'] + df['합_단백질'] + df['합_지방']\n",
    "    df['비율_탄수화물'] = df['합_탄수화물'] / total\n",
    "    df['비율_단백질'] = df['합_단백질'] / total\n",
    "    df['비율_지방'] = df['합_지방'] / total\n",
    "\n",
    "    # 🔸 타겟 비율 계산\n",
    "    ratio_sum = sum(target_ratio)\n",
    "    target_carb = target_ratio[0] / ratio_sum\n",
    "    target_protein = target_ratio[1] / ratio_sum\n",
    "    target_fat = target_ratio[2] / ratio_sum\n",
    "\n",
    "    # 🔸 허용 오차 조건\n",
    "    conditions = (\n",
    "        (abs(df['비율_탄수화물'] - target_carb) <= tolerance) &\n",
    "        (abs(df['비율_단백질'] - target_protein) <= tolerance) &\n",
    "        (abs(df['비율_지방'] - target_fat) <= tolerance)\n",
    "    )\n",
    "\n",
    "    filtered = df[conditions].reset_index(drop=True)\n",
    "\n",
    "    return filtered[['식품명', '식품대분류명', '합_탄수화물', '합_단백질', '합_지방',\n",
    "                     '비율_탄수화물', '비율_단백질', '비율_지방', '식품중량']]\n"
   ]
  },
  {
   "cell_type": "markdown",
   "id": "dfd11fd9",
   "metadata": {},
   "source": [
    "벡터스토어 로드"
   ]
  },
  {
   "cell_type": "code",
   "execution_count": 33,
   "id": "3eee739c",
   "metadata": {},
   "outputs": [],
   "source": [
    "# 벡터 임베딩 모델 및 벡터스토어 로드\n",
    "\n",
    "VECTORSTORE_DIR = \"./vectorstore_json\"\n",
    "embedding_model = HuggingFaceEmbeddings(model_name=\"sentence-transformers/all-MiniLM-L6-v2\")\n",
    "\n",
    "vectorstore = FAISS.load_local(\n",
    "    VECTORSTORE_DIR,\n",
    "    embedding_model,\n",
    "    allow_dangerous_deserialization=True\n",
    ")"
   ]
  },
  {
   "cell_type": "markdown",
   "id": "57eaa257",
   "metadata": {},
   "source": [
    "프롬프트 생성 코드\n",
    "\n",
    "필터링된 음식 후보 + 벡터스토어 + 사용자의 음식 선호 프롬프트 -> LLM에 전달할 프롬프트 문자열 생성"
   ]
  },
  {
   "cell_type": "code",
   "execution_count": 34,
   "id": "2e9c55ba",
   "metadata": {},
   "outputs": [],
   "source": [
    "def generate_prompt_with_nutrition(candidates_df, user_preference=None):\n",
    "\n",
    "    # 음식 이름 리스트만 추출\n",
    "    candidate_text = \"\\n\".join([\n",
    "        f\"- {row['식품명']}\"\n",
    "        for _, row in candidates_df.iterrows()\n",
    "    ])\n",
    "\n",
    "    # 사용자 선호 문장 처리\n",
    "    preference_text = f\"\\n\\n사용자 선호: {user_preference.strip()}\" if user_preference else \"\"\n",
    "\n",
    "    # 프롬프트 구성\n",
    "    prompt = f\"\"\"\n",
    "    당신은 음식 추천 전문가입니다.\n",
    "\n",
    "    다음은 추천 가능한 음식 후보 목록입니다.\n",
    "    후보 음식 목록:\n",
    "    {candidate_text}\n",
    "\n",
    "    중요한 것은 음식의 풍미, 조화로움, 식감, 향, 조리 방식 등이며,\n",
    "    사용자가 좋아하는 맛 또는 피하고 싶은 요소를 반영해 추천해 주세요.\n",
    "    사용자 정보:\n",
    "    {preference_text}\n",
    "\n",
    "    **각 음식의 맛의 특성과 사용자 기호만을 기준으로** 가장 어울리는 음식 3가지를 선택해 주세요.\n",
    "\n",
    "    다음 형식으로 **가장 적절한 3가지 음식**을 골라주세요:\n",
    "\n",
    "    1. 음식명: [예시]  \n",
    "    추천 이유: [맛과 사용자의 선호도 측면에서 구체적인 설명]\n",
    "\n",
    "    2. 음식명: ...  \n",
    "    추천 이유: ...\n",
    "\n",
    "    3. 음식명: ...  \n",
    "    추천 이유: ...\n",
    "    \"\"\"\n",
    "\n",
    "\n",
    "    return prompt\n"
   ]
  },
  {
   "cell_type": "markdown",
   "id": "c43ce761",
   "metadata": {},
   "source": [
    "사용자가 입력한 음식명으로 db에서 영양 정보를 가져오는 함수"
   ]
  },
  {
   "cell_type": "code",
   "execution_count": 35,
   "id": "e4db9d7f",
   "metadata": {},
   "outputs": [],
   "source": [
    "def get_nutrition_info(food_name: str, db: pd.DataFrame):\n",
    "    matched = db[db[\"식품명\"] == food_name]\n",
    "    if matched.empty:\n",
    "        raise ValueError(f\"입력한 음식 '{food_name}'을(를) 데이터베이스에서 찾을 수 없습니다.\")\n",
    "    \n",
    "    row = matched.iloc[0]\n",
    "    return {\n",
    "        \"carb\": row[\"탄수화물(g)\"],\n",
    "        \"protein\": row[\"단백질(g)\"],\n",
    "        \"fat\": row[\"지방(g)\"],\n",
    "        \"serving\": row[\"식품중량\"]\n",
    "    }"
   ]
  },
  {
   "cell_type": "markdown",
   "id": "de344312",
   "metadata": {},
   "source": [
    "사용자 입력\n",
    "- 음식 이름\n",
    "- 추천받을 음식 카테고리\n",
    "- 사용자 기호 프롬프트\n",
    "\n",
    "\n",
    "카테고리 종류\n",
    "밥, 국, 반찬, 면, 양식, 디저트\n"
   ]
  },
  {
   "cell_type": "code",
   "execution_count": 39,
   "id": "cf60684c",
   "metadata": {},
   "outputs": [],
   "source": [
    "# 입력 음식 정보\n",
    "input_food_name = \"알밥\"     # 기준 음식\n",
    "input_category = \"밥\"      # 추천받고 싶은 음식 카테고리\n",
    "\n",
    "# 사용자 기호 입력\n",
    "preference = \"\"\"\n",
    "    저는 매운 음식을 좋아합니다. \n",
    "\"\"\"\n",
    "\n",
    "# 입력 음식의 영양 정보 조회\n",
    "info = get_nutrition_info(input_food_name, db)\n",
    "\n",
    "# 추천받고자 하는 카테고리 음식 필터링\n",
    "filtered_db = db[db[\"카테고리\"] == input_category]\n",
    "\n",
    "# 탄단지 비율 기반 후보 필터링\n",
    "result = filter_by_nutrition(\n",
    "    input_food_name,\n",
    "    info[\"carb\"],\n",
    "    info[\"protein\"],\n",
    "    info[\"fat\"],\n",
    "    info[\"serving\"],\n",
    "    filtered_db\n",
    ")\n",
    "\n"
   ]
  },
  {
   "cell_type": "code",
   "execution_count": 40,
   "id": "96e12522",
   "metadata": {},
   "outputs": [
    {
     "name": "stdout",
     "output_type": "stream",
     "text": [
      "\n",
      "    당신은 음식 추천 전문가입니다.\n",
      "\n",
      "    다음은 추천 가능한 음식 후보 목록입니다.\n",
      "    후보 음식 목록:\n",
      "    - 돼지고기 국밥\n",
      "- 돼지불백 깍둑볶음 누룽지밥\n",
      "- 갑오징어 알뚝밥\n",
      "\n",
      "    중요한 것은 음식의 풍미, 조화로움, 식감, 향, 조리 방식 등이며,\n",
      "    사용자가 좋아하는 맛 또는 피하고 싶은 요소를 반영해 추천해 주세요.\n",
      "    사용자 정보:\n",
      "    \n",
      "\n",
      "사용자 선호: 저는 매운 음식을 좋아합니다.\n",
      "\n",
      "    **각 음식의 맛의 특성과 사용자 기호만을 기준으로** 가장 어울리는 음식 3가지를 선택해 주세요.\n",
      "\n",
      "    다음 형식으로 **가장 적절한 3가지 음식**을 골라주세요:\n",
      "\n",
      "    1. 음식명: [예시]  \n",
      "    추천 이유: [맛과 사용자의 선호도 측면에서 구체적인 설명]\n",
      "\n",
      "    2. 음식명: ...  \n",
      "    추천 이유: ...\n",
      "\n",
      "    3. 음식명: ...  \n",
      "    추천 이유: ...\n",
      "    \n"
     ]
    }
   ],
   "source": [
    "#프롬프트 생성\n",
    "prompt = generate_prompt_with_nutrition(\n",
    "    candidates_df=result,\n",
    "    user_preference=preference\n",
    ")\n",
    "\n",
    "print(prompt)"
   ]
  },
  {
   "cell_type": "code",
   "execution_count": null,
   "id": "77a98d8f",
   "metadata": {},
   "outputs": [
    {
     "name": "stdout",
     "output_type": "stream",
     "text": [
      "1. 음식명: 돼지불백 깍둑볶음 누룽지밥  \n",
      "   추천 이유: 돼지불백 깍둑볶음은 매콤한 양념으로 돼지고기를 맛있게 볶아낸 음식으로, 매운 음식을 좋아하는 사용자에게 잘 맞습니다. 고기의 풍미와 매콤한 소스가 조화롭게 어우러져 누룽지밥과 함께 먹으면 고소한 식감과 매콤한 맛을 동시에 즐길 수 있습니다.\n",
      "\n",
      "2. 음식명: 갑오징어 알뚝밥  \n",
      "   추천 이유: 갑오징어 알뚝밥은 매콤한 소스를 사용하여 조리된 해산물 요리로, 매운 음식을 선호하는 사용자에게 적합합니다. 오징어의 쫄깃한 식감과 매콤한 양념이 잘 어울려 입맛을 돋우며, 다양한 재료가 조화롭게 어우러져 풍부한 맛을 제공합니다.\n",
      "\n",
      "3. 음식명: 돼지고기 국밥  \n",
      "   추천 이유: 돼지고기 국밥은 매콤한 고추장을 첨가하여 얼큰하게 즐길 수 있는 국물 요리로, 매운 맛을 좋아하는 사용자에게 잘 맞습니다. 고기와 국물의 조화로운 풍미가 일품이며, 매콤한 국물은 속을 따뜻하게 해주어 만족감을 줍니다.\n"
     ]
    }
   ],
   "source": [
    "client = OpenAI(\n",
    "    api_key=\"\"\n",
    ")\n",
    "\n",
    "response = client.chat.completions.create(\n",
    "    model=\"gpt-4o\",   # 또는 \"gpt-4\", \"gpt-3.5-turbo\"\n",
    "    messages=[\n",
    "        {\"role\": \"user\", \"content\": prompt}\n",
    "    ],\n",
    "    temperature=0.7,\n",
    ")\n",
    "\n",
    "text = response.choices[0].message.content\n",
    "\n",
    "food_names = re.findall(r'음식명:\\s*([^\\n]+)', text)\n",
    "\n",
    "with open('recommended_food.txt', 'w', encoding='utf-8') as f:\n",
    "    for food in food_names:\n",
    "        f.write(f\"{food}\\n\")"
   ]
  }
 ],
 "metadata": {
  "kernelspec": {
   "display_name": "base",
   "language": "python",
   "name": "python3"
  },
  "language_info": {
   "codemirror_mode": {
    "name": "ipython",
    "version": 3
   },
   "file_extension": ".py",
   "mimetype": "text/x-python",
   "name": "python",
   "nbconvert_exporter": "python",
   "pygments_lexer": "ipython3",
   "version": "3.11.7"
  }
 },
 "nbformat": 4,
 "nbformat_minor": 5
}
